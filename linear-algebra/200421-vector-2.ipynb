{
 "cells": [
  {
   "cell_type": "markdown",
   "metadata": {},
   "source": [
    "### 벡터의 내적과 삼각함수\n",
    "두 벡터의 내적은 다음처럼 벡터의 길이   $ \\lVert a \\rVert ,  \\lVert b \\rVert $ 와\n",
    "두 벡터 사이의 각도 $ \\theta $ 의 코싸인 함수값으로 계산할 수 있다.\n",
    "#  \n",
    "<center> \n",
    "$ a^Tb = \\lVert a \\rVert   \\lVert b \\rVert cos\\theta $\n",
    "<center>"
   ]
  },
  {
   "cell_type": "markdown",
   "metadata": {},
   "source": [
    "####  \n",
    "### 직교\n"
   ]
  },
  {
   "cell_type": "markdown",
   "metadata": {},
   "source": [
    "두 벡터 $ a $ 와 $ b $ 가 이루는 각이 $ 45^\\circ $ 이면 서로 **직교** 라 하며 $ a \\perp b $ 로 표시한다.\n",
    "$ cos90^\\circ = 0 $ 이므로 서로 직교인 두 벡터의 내적은 $ 0 $ 이 된다."
   ]
  },
  {
   "cell_type": "markdown",
   "metadata": {},
   "source": [
    "\n",
    "<center> $ a \\perp b = b \\perp a = 0  \\longleftrightarrow a \\perp b $ <center>"
   ]
  },
  {
   "cell_type": "markdown",
   "metadata": {},
   "source": [
    "### 정규 직교\n",
    "만약 $ N $ 개의 단위벡터 $ v_1 , v_2 , ... ,v_N $ 가 서로 직교하면 **정규직교** 라고 한다."
   ]
  },
  {
   "cell_type": "markdown",
   "metadata": {},
   "source": [
    "<center> $ \\lVert V_i \\rVert = 1 \\longleftrightarrow V_i^TV_i = 1 $ <center>"
   ]
  },
  {
   "cell_type": "markdown",
   "metadata": {},
   "source": [
    "<center> $ V_i^TV_j = 0 ( i \\neq j ) $ <center>"
   ]
  },
  {
   "cell_type": "markdown",
   "metadata": {},
   "source": [
    "### 코싸인 유사도"
   ]
  },
  {
   "cell_type": "markdown",
   "metadata": {},
   "source": [
    "두 벡터의 방향이 비슷할수록 벡터가 비슷하다고 간주하여 두 벡터 사이의 각의 코싸인 값을 **코싸인 유사도** 라고 한다. 코싸인 값은 각도가 0일때 가장 커지므로 두 벡터가 같은 방향을 가르키고 있으면 코싸인 유사도가 최대값 1을 가진다."
   ]
  },
  {
   "cell_type": "markdown",
   "metadata": {},
   "source": [
    "<center> $ cosine   similarity = cos \\theta =  \\frac{x^Ty}{\\lVert x \\rVert \\lVert y \\rVert} $ <center>"
   ]
  },
  {
   "cell_type": "code",
   "execution_count": null,
   "metadata": {},
   "outputs": [],
   "source": []
  }
 ],
 "metadata": {
  "kernelspec": {
   "display_name": "Python 3",
   "language": "python",
   "name": "python3"
  },
  "language_info": {
   "codemirror_mode": {
    "name": "ipython",
    "version": 3
   },
   "file_extension": ".py",
   "mimetype": "text/x-python",
   "name": "python",
   "nbconvert_exporter": "python",
   "pygments_lexer": "ipython3",
   "version": "3.7.4"
  }
 },
 "nbformat": 4,
 "nbformat_minor": 2
}
