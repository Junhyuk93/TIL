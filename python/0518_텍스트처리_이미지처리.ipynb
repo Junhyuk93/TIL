{
 "cells": [
  {
   "cell_type": "markdown",
   "metadata": {},
   "source": [
    "## NLTK 자연어 처리 패키지\n",
    "\n",
    "NLTK 패키지는 교육용으로 개발된 자연어 처리 및 문서분석용 파이썬 패키지이다."
   ]
  },
  {
   "cell_type": "markdown",
   "metadata": {},
   "source": [
    "- 말뭉치\n",
    "- 토큰화\n",
    "- 정규화\n",
    "- 빈도 분석\n",
    "- 워드 클라우드\n",
    "- 한글 형태소 분석\n",
    "- 확률론적 언어 모형\n",
    "- Bag of Words\n",
    "- TF-IDF"
   ]
  },
  {
   "cell_type": "markdown",
   "metadata": {},
   "source": [
    "### 말뭉치\n",
    "\n",
    "말뭉치는 자연어 분석 작업을 위해 만든 샘플 문서 집합을 말한다. 텍스트 분석에 필요한 텍스트 데이터\n",
    "\n",
    "웹크롤링 등으로 수집\n"
   ]
  },
  {
   "cell_type": "code",
   "execution_count": 1,
   "metadata": {},
   "outputs": [
    {
     "name": "stderr",
     "output_type": "stream",
     "text": [
      "[nltk_data] Downloading collection 'book'\n",
      "[nltk_data]    | \n",
      "[nltk_data]    | Downloading package abc to\n",
      "[nltk_data]    |     C:\\Users\\82109\\AppData\\Roaming\\nltk_data...\n",
      "[nltk_data]    |   Package abc is already up-to-date!\n",
      "[nltk_data]    | Downloading package brown to\n",
      "[nltk_data]    |     C:\\Users\\82109\\AppData\\Roaming\\nltk_data...\n",
      "[nltk_data]    |   Package brown is already up-to-date!\n",
      "[nltk_data]    | Downloading package chat80 to\n",
      "[nltk_data]    |     C:\\Users\\82109\\AppData\\Roaming\\nltk_data...\n",
      "[nltk_data]    |   Package chat80 is already up-to-date!\n",
      "[nltk_data]    | Downloading package cmudict to\n",
      "[nltk_data]    |     C:\\Users\\82109\\AppData\\Roaming\\nltk_data...\n",
      "[nltk_data]    |   Package cmudict is already up-to-date!\n",
      "[nltk_data]    | Downloading package conll2000 to\n",
      "[nltk_data]    |     C:\\Users\\82109\\AppData\\Roaming\\nltk_data...\n",
      "[nltk_data]    |   Package conll2000 is already up-to-date!\n",
      "[nltk_data]    | Downloading package conll2002 to\n",
      "[nltk_data]    |     C:\\Users\\82109\\AppData\\Roaming\\nltk_data...\n",
      "[nltk_data]    |   Package conll2002 is already up-to-date!\n",
      "[nltk_data]    | Downloading package dependency_treebank to\n",
      "[nltk_data]    |     C:\\Users\\82109\\AppData\\Roaming\\nltk_data...\n",
      "[nltk_data]    |   Package dependency_treebank is already up-to-date!\n",
      "[nltk_data]    | Downloading package genesis to\n",
      "[nltk_data]    |     C:\\Users\\82109\\AppData\\Roaming\\nltk_data...\n",
      "[nltk_data]    |   Package genesis is already up-to-date!\n",
      "[nltk_data]    | Downloading package gutenberg to\n",
      "[nltk_data]    |     C:\\Users\\82109\\AppData\\Roaming\\nltk_data...\n",
      "[nltk_data]    |   Package gutenberg is already up-to-date!\n",
      "[nltk_data]    | Downloading package ieer to\n",
      "[nltk_data]    |     C:\\Users\\82109\\AppData\\Roaming\\nltk_data...\n",
      "[nltk_data]    |   Package ieer is already up-to-date!\n",
      "[nltk_data]    | Downloading package inaugural to\n",
      "[nltk_data]    |     C:\\Users\\82109\\AppData\\Roaming\\nltk_data...\n",
      "[nltk_data]    |   Package inaugural is already up-to-date!\n",
      "[nltk_data]    | Downloading package movie_reviews to\n",
      "[nltk_data]    |     C:\\Users\\82109\\AppData\\Roaming\\nltk_data...\n",
      "[nltk_data]    |   Package movie_reviews is already up-to-date!\n",
      "[nltk_data]    | Downloading package nps_chat to\n",
      "[nltk_data]    |     C:\\Users\\82109\\AppData\\Roaming\\nltk_data...\n",
      "[nltk_data]    |   Package nps_chat is already up-to-date!\n",
      "[nltk_data]    | Downloading package names to\n",
      "[nltk_data]    |     C:\\Users\\82109\\AppData\\Roaming\\nltk_data...\n",
      "[nltk_data]    |   Package names is already up-to-date!\n",
      "[nltk_data]    | Downloading package ppattach to\n",
      "[nltk_data]    |     C:\\Users\\82109\\AppData\\Roaming\\nltk_data...\n",
      "[nltk_data]    |   Package ppattach is already up-to-date!\n",
      "[nltk_data]    | Downloading package reuters to\n",
      "[nltk_data]    |     C:\\Users\\82109\\AppData\\Roaming\\nltk_data...\n",
      "[nltk_data]    |   Package reuters is already up-to-date!\n",
      "[nltk_data]    | Downloading package senseval to\n",
      "[nltk_data]    |     C:\\Users\\82109\\AppData\\Roaming\\nltk_data...\n",
      "[nltk_data]    |   Package senseval is already up-to-date!\n",
      "[nltk_data]    | Downloading package state_union to\n",
      "[nltk_data]    |     C:\\Users\\82109\\AppData\\Roaming\\nltk_data...\n",
      "[nltk_data]    |   Package state_union is already up-to-date!\n",
      "[nltk_data]    | Downloading package stopwords to\n",
      "[nltk_data]    |     C:\\Users\\82109\\AppData\\Roaming\\nltk_data...\n",
      "[nltk_data]    |   Package stopwords is already up-to-date!\n",
      "[nltk_data]    | Downloading package swadesh to\n",
      "[nltk_data]    |     C:\\Users\\82109\\AppData\\Roaming\\nltk_data...\n",
      "[nltk_data]    |   Package swadesh is already up-to-date!\n",
      "[nltk_data]    | Downloading package timit to\n",
      "[nltk_data]    |     C:\\Users\\82109\\AppData\\Roaming\\nltk_data...\n",
      "[nltk_data]    |   Package timit is already up-to-date!\n",
      "[nltk_data]    | Downloading package treebank to\n",
      "[nltk_data]    |     C:\\Users\\82109\\AppData\\Roaming\\nltk_data...\n",
      "[nltk_data]    |   Package treebank is already up-to-date!\n",
      "[nltk_data]    | Downloading package toolbox to\n",
      "[nltk_data]    |     C:\\Users\\82109\\AppData\\Roaming\\nltk_data...\n",
      "[nltk_data]    |   Package toolbox is already up-to-date!\n",
      "[nltk_data]    | Downloading package udhr to\n",
      "[nltk_data]    |     C:\\Users\\82109\\AppData\\Roaming\\nltk_data...\n",
      "[nltk_data]    |   Package udhr is already up-to-date!\n",
      "[nltk_data]    | Downloading package udhr2 to\n",
      "[nltk_data]    |     C:\\Users\\82109\\AppData\\Roaming\\nltk_data...\n",
      "[nltk_data]    |   Package udhr2 is already up-to-date!\n",
      "[nltk_data]    | Downloading package unicode_samples to\n",
      "[nltk_data]    |     C:\\Users\\82109\\AppData\\Roaming\\nltk_data...\n",
      "[nltk_data]    |   Package unicode_samples is already up-to-date!\n",
      "[nltk_data]    | Downloading package webtext to\n",
      "[nltk_data]    |     C:\\Users\\82109\\AppData\\Roaming\\nltk_data...\n",
      "[nltk_data]    |   Package webtext is already up-to-date!\n",
      "[nltk_data]    | Downloading package wordnet to\n",
      "[nltk_data]    |     C:\\Users\\82109\\AppData\\Roaming\\nltk_data...\n",
      "[nltk_data]    |   Package wordnet is already up-to-date!\n",
      "[nltk_data]    | Downloading package wordnet_ic to\n",
      "[nltk_data]    |     C:\\Users\\82109\\AppData\\Roaming\\nltk_data...\n",
      "[nltk_data]    |   Package wordnet_ic is already up-to-date!\n",
      "[nltk_data]    | Downloading package words to\n",
      "[nltk_data]    |     C:\\Users\\82109\\AppData\\Roaming\\nltk_data...\n",
      "[nltk_data]    |   Package words is already up-to-date!\n",
      "[nltk_data]    | Downloading package maxent_treebank_pos_tagger to\n",
      "[nltk_data]    |     C:\\Users\\82109\\AppData\\Roaming\\nltk_data...\n",
      "[nltk_data]    |   Package maxent_treebank_pos_tagger is already up-\n",
      "[nltk_data]    |       to-date!\n",
      "[nltk_data]    | Downloading package maxent_ne_chunker to\n",
      "[nltk_data]    |     C:\\Users\\82109\\AppData\\Roaming\\nltk_data...\n",
      "[nltk_data]    |   Package maxent_ne_chunker is already up-to-date!\n",
      "[nltk_data]    | Downloading package universal_tagset to\n",
      "[nltk_data]    |     C:\\Users\\82109\\AppData\\Roaming\\nltk_data...\n",
      "[nltk_data]    |   Package universal_tagset is already up-to-date!\n",
      "[nltk_data]    | Downloading package punkt to\n",
      "[nltk_data]    |     C:\\Users\\82109\\AppData\\Roaming\\nltk_data...\n"
     ]
    },
    {
     "name": "stdout",
     "output_type": "stream",
     "text": [
      "Wall time: 4.05 s\n"
     ]
    },
    {
     "name": "stderr",
     "output_type": "stream",
     "text": [
      "[nltk_data]    |   Package punkt is already up-to-date!\n",
      "[nltk_data]    | Downloading package book_grammars to\n",
      "[nltk_data]    |     C:\\Users\\82109\\AppData\\Roaming\\nltk_data...\n",
      "[nltk_data]    |   Package book_grammars is already up-to-date!\n",
      "[nltk_data]    | Downloading package city_database to\n",
      "[nltk_data]    |     C:\\Users\\82109\\AppData\\Roaming\\nltk_data...\n",
      "[nltk_data]    |   Package city_database is already up-to-date!\n",
      "[nltk_data]    | Downloading package tagsets to\n",
      "[nltk_data]    |     C:\\Users\\82109\\AppData\\Roaming\\nltk_data...\n",
      "[nltk_data]    |   Package tagsets is already up-to-date!\n",
      "[nltk_data]    | Downloading package panlex_swadesh to\n",
      "[nltk_data]    |     C:\\Users\\82109\\AppData\\Roaming\\nltk_data...\n",
      "[nltk_data]    |   Package panlex_swadesh is already up-to-date!\n",
      "[nltk_data]    | Downloading package averaged_perceptron_tagger to\n",
      "[nltk_data]    |     C:\\Users\\82109\\AppData\\Roaming\\nltk_data...\n",
      "[nltk_data]    |   Package averaged_perceptron_tagger is already up-\n",
      "[nltk_data]    |       to-date!\n",
      "[nltk_data]    | \n",
      "[nltk_data]  Done downloading collection book\n",
      "[nltk_data] Downloading package movie_reviews to\n",
      "[nltk_data]     C:\\Users\\82109\\AppData\\Roaming\\nltk_data...\n",
      "[nltk_data]   Package movie_reviews is already up-to-date!\n",
      "[nltk_data] Downloading package punkt to\n",
      "[nltk_data]     C:\\Users\\82109\\AppData\\Roaming\\nltk_data...\n",
      "[nltk_data]   Package punkt is already up-to-date!\n",
      "[nltk_data] Downloading package stopwords to\n",
      "[nltk_data]     C:\\Users\\82109\\AppData\\Roaming\\nltk_data...\n",
      "[nltk_data]   Package stopwords is already up-to-date!\n"
     ]
    },
    {
     "data": {
      "text/plain": [
       "True"
      ]
     },
     "execution_count": 1,
     "metadata": {},
     "output_type": "execute_result"
    }
   ],
   "source": [
    "%%time\n",
    "import nltk\n",
    "nltk.download('book')\n",
    "nltk.download('movie_reviews')\n",
    "nltk.download('punkt')\n",
    "nltk.download('stopwords')"
   ]
  },
  {
   "cell_type": "code",
   "execution_count": 2,
   "metadata": {},
   "outputs": [
    {
     "data": {
      "text/plain": [
       "['austen-emma.txt',\n",
       " 'austen-persuasion.txt',\n",
       " 'austen-sense.txt',\n",
       " 'bible-kjv.txt',\n",
       " 'blake-poems.txt',\n",
       " 'bryant-stories.txt',\n",
       " 'burgess-busterbrown.txt',\n",
       " 'carroll-alice.txt',\n",
       " 'chesterton-ball.txt',\n",
       " 'chesterton-brown.txt',\n",
       " 'chesterton-thursday.txt',\n",
       " 'edgeworth-parents.txt',\n",
       " 'melville-moby_dick.txt',\n",
       " 'milton-paradise.txt',\n",
       " 'shakespeare-caesar.txt',\n",
       " 'shakespeare-hamlet.txt',\n",
       " 'shakespeare-macbeth.txt',\n",
       " 'whitman-leaves.txt']"
      ]
     },
     "execution_count": 2,
     "metadata": {},
     "output_type": "execute_result"
    }
   ],
   "source": [
    "nltk.corpus.gutenberg.fileids()"
   ]
  },
  {
   "cell_type": "code",
   "execution_count": 3,
   "metadata": {
    "scrolled": true
   },
   "outputs": [
    {
     "name": "stdout",
     "output_type": "stream",
     "text": [
      "[Emma by Jane Austen 1816]\n",
      "\n",
      "VOLUME I\n",
      "\n",
      "CHAPTER I\n",
      "\n",
      "\n",
      "Emma Woodhouse, handsome, clever, and rich, with a comfortable home\n",
      "and happy disposition, seemed to unite some of the best blessings\n",
      "of existence; and had lived nearly twenty-one years in the world\n",
      "with very little to distress or vex her.\n",
      "\n",
      "She was the youngest of the two daughters of a most affectionate,\n",
      "indulgent father; and had, in consequence of her sister's marriage,\n",
      "been mistress of his house from a very early period.  Her mother\n",
      "had died too long ago for her to have more than an indistinct\n",
      "remembrance of her caresses; and her place had been supplied\n",
      "by an excellent woman as governess, who had fallen little short\n",
      "of a mother in affection.\n",
      "\n",
      "Sixteen years had Miss Taylor been in Mr. Woodhouse's family,\n",
      "less as a governess than a friend, very fond of both daughters,\n",
      "but particularly of Emma.  Between _them_ it was more the intimacy\n",
      "of sisters.  Even before Miss Taylor had ceased to hold the nominal\n",
      "office of governess, the mildness of her temper had hardly allowed\n",
      "her to impose any restraint; and the shadow of authority being\n",
      "now long passed away, they had been living together as friend and\n",
      "friend very mutually attached, and Emma doing just what she liked;\n",
      "highly esteeming Miss Taylor's judgment, but directed chiefly by\n",
      "her own.\n",
      "\n"
     ]
    }
   ],
   "source": [
    "emma_raw = nltk.corpus.gutenberg.raw('austen-emma.txt')\n",
    "\n",
    "\n",
    "print(emma_raw[:1302])"
   ]
  },
  {
   "cell_type": "markdown",
   "metadata": {},
   "source": [
    "### 토근화\n",
    "\n",
    "- 토큰화\n",
    "    - 말뭉치(텍스트 데이터)를 '토큰'이라고 불리는 작은 단위로 나누는 행위\n",
    "    \n",
    "- 토큰\n",
    "    - 문장 , 단어 ,형태소 등 분석에 있어서 의미를 가지는 단위\n",
    "    \n",
    "- 토큰의 명칭\n",
    "    - 토큰의 이름은 실제 토근의 활용과 관계가 없다.\n",
    "    - 숫자 혹은 기호를 나타내거나 품사 등을 덧붙여서 쓰는 경우도 있음"
   ]
  },
  {
   "cell_type": "markdown",
   "metadata": {},
   "source": [
    "####  토큰의 종류\n",
    "    - 영어 : 의미가 같은 정규화된 단어\n",
    "    - 한국어 : 의미가 같은 정규화된 형태소"
   ]
  },
  {
   "cell_type": "markdown",
   "metadata": {},
   "source": [
    "### 정규화\n",
    "\n",
    "정규화(Normalization)\n",
    "    - 의미와 쓰임이 같은 단어를 같은 토큰으로 표시\n",
    "\n",
    "- 대소문자 통합 (case removal)\n",
    "- 어간 추출 (stemming)\n",
    "- 표제어 추출 (lemmaization)\n",
    "- 품사 부착 (Part-Of-Speech tagging)\n",
    "- 불용어 (stopwords)"
   ]
  },
  {
   "cell_type": "markdown",
   "metadata": {},
   "source": [
    "### 어간 추출\n",
    "\n",
    "- 어간 추출 (stemming)\n",
    "    - 단어를 어간과 접사로 분리하여 단순히 접사를 삭제하거나 교체\n",
    "        - 어간(stem): 단어의 의미를 담고 있는 핵심 부분\n",
    "        - 접사(affix): 단어에 부가적인 의미를 주는 부분\n",
    "        \n",
    "- 단순 알고리즘 사용\n",
    "    - 포터(Porter) 알고리즘\n",
    "    - 랭케스터(Lancaster) 알고리즘"
   ]
  },
  {
   "cell_type": "markdown",
   "metadata": {},
   "source": [
    "### 표제어 추출\n",
    "\n",
    "- 표제어 추출 (Lemmatization)\n",
    "    - 기본 사전형 단어로 변형\n",
    "    - am,is,are,was,were,been => be\n",
    "    - has,had => have   - 사전(WordNet)정보 사용"
   ]
  },
  {
   "cell_type": "markdown",
   "metadata": {},
   "source": [
    "### 품사 부착\n",
    "- 품사 (POS :part of Speech)\n",
    "    - 단어의 쓰임에 따른 구분\n",
    "    \n",
    "- 동일한 철자의 단어가 다른 의미나 다른 품사로 쓰이는 경우\n",
    "    - 다른 토큰으로 토큰화 해야 한다.\n",
    "    \n",
    "- 예 :\n",
    "    - Permit:허락하다(동사) , 허가증(명사)"
   ]
  },
  {
   "cell_type": "markdown",
   "metadata": {},
   "source": [
    "### 불용어\n",
    "\n",
    "- 불용어(Stop-Words)\n",
    "    - 분석의 필요성이 없는 단어\n",
    "    - 모든 문서에서 너무 자주 쓰이는 단어\n",
    "    - 너무 드물게 나타나는 단어"
   ]
  },
  {
   "cell_type": "markdown",
   "metadata": {},
   "source": [
    "#### Step1: 토큰화\n"
   ]
  },
  {
   "cell_type": "markdown",
   "metadata": {},
   "source": [
    "word tokenize 사용"
   ]
  },
  {
   "cell_type": "code",
   "execution_count": 4,
   "metadata": {},
   "outputs": [
    {
     "name": "stdout",
     "output_type": "stream",
     "text": [
      "Emma Woodhouse, handsome, clever, and rich, with a comfortable home\n",
      "and happy disposition, seemed to unite some of the best blessings\n",
      "of existence\n"
     ]
    }
   ],
   "source": [
    "sent = emma_raw[50:196]\n",
    "print(sent)"
   ]
  },
  {
   "cell_type": "code",
   "execution_count": 5,
   "metadata": {},
   "outputs": [
    {
     "data": {
      "text/plain": [
       "['Emma',\n",
       " 'Woodhouse',\n",
       " ',',\n",
       " 'handsome',\n",
       " ',',\n",
       " 'clever',\n",
       " ',',\n",
       " 'and',\n",
       " 'rich',\n",
       " ',',\n",
       " 'with',\n",
       " 'a',\n",
       " 'comfortable',\n",
       " 'home',\n",
       " 'and',\n",
       " 'happy',\n",
       " 'disposition',\n",
       " ',',\n",
       " 'seemed',\n",
       " 'to',\n",
       " 'unite',\n",
       " 'some',\n",
       " 'of',\n",
       " 'the',\n",
       " 'best',\n",
       " 'blessings',\n",
       " 'of',\n",
       " 'existence']"
      ]
     },
     "execution_count": 5,
     "metadata": {},
     "output_type": "execute_result"
    }
   ],
   "source": [
    "from nltk.tokenize import word_tokenize\n",
    "word_tokenize(sent)"
   ]
  },
  {
   "cell_type": "markdown",
   "metadata": {},
   "source": [
    "#### step2: 어간추출\n"
   ]
  },
  {
   "cell_type": "code",
   "execution_count": 6,
   "metadata": {},
   "outputs": [],
   "source": [
    "from nltk.stem import PorterStemmer, LancasterStemmer"
   ]
  },
  {
   "cell_type": "code",
   "execution_count": 7,
   "metadata": {},
   "outputs": [],
   "source": [
    "st1 = PorterStemmer()\n",
    "st2 = LancasterStemmer()\n"
   ]
  },
  {
   "cell_type": "code",
   "execution_count": 8,
   "metadata": {},
   "outputs": [
    {
     "name": "stdout",
     "output_type": "stream",
     "text": [
      "Porter Stemmer : ['fli', 'fli', 'fli', 'flew', 'flown']\n",
      "Lancaster Stemmer : ['fly', 'fli', 'fly', 'flew', 'flown']\n"
     ]
    }
   ],
   "source": [
    "words = ['fly','flies','flying','flew','flown']\n",
    "print('Porter Stemmer :',[st1.stem(w) for w in words])\n",
    "print('Lancaster Stemmer :',[st2.stem(w) for w in words])"
   ]
  },
  {
   "cell_type": "markdown",
   "metadata": {},
   "source": [
    "####  step3: 표제어 추출\n",
    "\n",
    "WordNetLemmatizer 사용"
   ]
  },
  {
   "cell_type": "code",
   "execution_count": 9,
   "metadata": {},
   "outputs": [
    {
     "name": "stdout",
     "output_type": "stream",
     "text": [
      "Wall time: 1.98 s\n"
     ]
    },
    {
     "data": {
      "text/plain": [
       "['fly', 'fly', 'fly', 'fly', 'fly']"
      ]
     },
     "execution_count": 9,
     "metadata": {},
     "output_type": "execute_result"
    }
   ],
   "source": [
    "%%time\n",
    "from nltk.stem import WordNetLemmatizer\n",
    "\n",
    "lm = WordNetLemmatizer()\n",
    "\n",
    "[lm.lemmatize(w,pos='v') for w in words]\n",
    "\n",
    "# 텍스트가 길어지면 오래걸림"
   ]
  },
  {
   "cell_type": "code",
   "execution_count": 10,
   "metadata": {},
   "outputs": [
    {
     "data": {
      "text/plain": [
       "[('Emma', 'NNP'),\n",
       " ('refused', 'VBD'),\n",
       " ('to', 'TO'),\n",
       " ('permit', 'VB'),\n",
       " ('us', 'PRP'),\n",
       " ('to', 'TO'),\n",
       " ('obtain', 'VB'),\n",
       " ('the', 'DT'),\n",
       " ('refuse', 'NN'),\n",
       " ('permit', 'NN')]"
      ]
     },
     "execution_count": 10,
     "metadata": {},
     "output_type": "execute_result"
    }
   ],
   "source": [
    "from nltk.tag import pos_tag\n",
    "\n",
    "sentence = 'Emma refused to permit us to obtain the refuse permit'\n",
    "\n",
    "tagged_list = pos_tag(word_tokenize(sentence))\n",
    "tagged_list\n",
    "\n",
    "# 튜플의 리스트로 출력됩니다"
   ]
  },
  {
   "cell_type": "code",
   "execution_count": 11,
   "metadata": {},
   "outputs": [
    {
     "data": {
      "text/plain": [
       "['Emma/NNP',\n",
       " 'refused/VBD',\n",
       " 'to/TO',\n",
       " 'permit/VB',\n",
       " 'us/PRP',\n",
       " 'to/TO',\n",
       " 'obtain/VB',\n",
       " 'the/DT',\n",
       " 'refuse/NN',\n",
       " 'permit/NN']"
      ]
     },
     "execution_count": 11,
     "metadata": {},
     "output_type": "execute_result"
    }
   ],
   "source": [
    "def tokenizer(doc):\n",
    "    return ['/'.join(p) for p in tagged_list]\n",
    "\n",
    "tokenizer(sentence)"
   ]
  },
  {
   "cell_type": "code",
   "execution_count": 12,
   "metadata": {},
   "outputs": [
    {
     "data": {
      "text/plain": [
       "['i',\n",
       " 'me',\n",
       " 'my',\n",
       " 'myself',\n",
       " 'we',\n",
       " 'our',\n",
       " 'ours',\n",
       " 'ourselves',\n",
       " 'you',\n",
       " \"you're\",\n",
       " \"you've\",\n",
       " \"you'll\",\n",
       " \"you'd\",\n",
       " 'your',\n",
       " 'yours',\n",
       " 'yourself',\n",
       " 'yourselves',\n",
       " 'he',\n",
       " 'him',\n",
       " 'his']"
      ]
     },
     "execution_count": 12,
     "metadata": {},
     "output_type": "execute_result"
    }
   ],
   "source": [
    "from nltk.corpus import stopwords\n",
    "\n",
    "stopwords.words('english')[:20]"
   ]
  },
  {
   "cell_type": "markdown",
   "metadata": {},
   "source": [
    "### NLTK 의 빈도 분석\n",
    "\n",
    "- 두 가지 클래스 사용\n",
    "    - Text 클래스\n",
    "    - FreqDist 클래스"
   ]
  },
  {
   "cell_type": "markdown",
   "metadata": {},
   "source": [
    "####  Text 클래스\n",
    "\n",
    "NLTK 의 Text 클래스는 문서 분석에 유용한 여러가지 메서드를 제공한다.\n",
    "\n",
    "- plot : 단어 빈도 그래프\n",
    "- dispersion_plot : 단어 위치 그래프\n",
    "- concordance : 단어 문맥 인쇄\n",
    "- similar : 유사 단어 검색\n",
    "- plot: 빈도 그래프"
   ]
  },
  {
   "cell_type": "code",
   "execution_count": 13,
   "metadata": {},
   "outputs": [],
   "source": [
    "from nltk import Text\n",
    "text = Text(word_tokenize(emma_raw))\n"
   ]
  },
  {
   "cell_type": "code",
   "execution_count": 14,
   "metadata": {},
   "outputs": [
    {
     "data": {
      "text/plain": [
       "<Figure size 640x480 with 1 Axes>"
      ]
     },
     "metadata": {},
     "output_type": "display_data"
    }
   ],
   "source": [
    "import matplotlib.pyplot as plt\n",
    "text.plot(20)\n",
    "plt.show()"
   ]
  },
  {
   "cell_type": "code",
   "execution_count": 15,
   "metadata": {},
   "outputs": [],
   "source": [
    "# python -m pip install -U pip\n",
    "# python -m pip install -U matplotlib"
   ]
  },
  {
   "cell_type": "code",
   "execution_count": 16,
   "metadata": {},
   "outputs": [
    {
     "data": {
      "image/png": "[encoded data removed]",
      "text/plain": [
       "<Figure size 432x288 with 1 Axes>"
      ]
     },
     "metadata": {
      "needs_background": "light"
     },
     "output_type": "display_data"
    }
   ],
   "source": [
    "text.dispersion_plot(['Emma','Knightley','Frank','Jane','Harriet','Robert'])"
   ]
  },
  {
   "cell_type": "markdown",
   "metadata": {},
   "source": [
    "####  단어 문맥 인쇄\n",
    "\n",
    "concordance 메서드로 단어가 사용된 위치를 직접 표시하면 문맥(context)이 어떤지 볼수 있다."
   ]
  },
  {
   "cell_type": "code",
   "execution_count": 17,
   "metadata": {},
   "outputs": [
    {
     "name": "stdout",
     "output_type": "stream",
     "text": [
      "Displaying 25 of 855 matches:\n",
      "[ Emma by Jane Austen 1816 ] VOLUME I CHAPT\n",
      "ane Austen 1816 ] VOLUME I CHAPTER I Emma Woodhouse , handsome , clever , and \n",
      "both daughters , but particularly of Emma . Between _them_ it was more the int\n",
      " friend very mutually attached , and Emma doing just what she liked ; highly e\n",
      "r own . The real evils , indeed , of Emma 's situation were the power of havin\n",
      "ding-day of this beloved friend that Emma first sat in mournful thought of any\n",
      "ing only half a mile from them ; but Emma was aware that great must be the dif\n",
      "y . It was a melancholy change ; and Emma could not but sigh over it , and wis\n",
      " the rest of her life at Hartfield . Emma smiled and chatted as cheerfully as \n",
      "able to tell her how we all are . '' Emma spared no exertions to maintain this\n",
      " ' I have a great regard for you and Emma ; but when it comes to the question \n",
      "ful , troublesome creature ! '' said Emma playfully . `` That is what you have\n",
      "e few people who could see faults in Emma Woodhouse , and the only one who eve\n",
      "is was not particularly agreeable to Emma herself , she knew it would be so mu\n",
      "g thought perfect by every body . `` Emma knows I never flatter her , '' said \n",
      "t be a gainer . '' `` Well , '' said Emma , willing to let it pass -- '' you w\n",
      "re of meeting every day . '' `` Dear Emma bears every thing so well , '' said \n",
      "ss her more than she thinks for . '' Emma turned away her head , divided betwe\n",
      "nd smiles . `` It is impossible that Emma should not miss such a companion , '\n",
      "en one matter of joy to me , '' said Emma , '' and a very considerable one -- \n",
      "od to them , by interference . '' `` Emma never thinks of herself , if she can\n",
      "etter thing . Invite him to dinner , Emma , and help him to the best of the fi\n",
      " could not think , without pain , of Emma 's losing a single pleasure , or suf\n",
      " of her companionableness : but dear Emma was of no feeble character ; she was\n",
      ", was so just and so apparent , that Emma , well as she knew her father , was \n"
     ]
    }
   ],
   "source": [
    "text.concordance('Emma')"
   ]
  },
  {
   "cell_type": "markdown",
   "metadata": {},
   "source": [
    "####  유사 단어 검색\n",
    "\n",
    "similar 메서드는 같은 문맥에서 주어진 단어 대신 사용된 횟수가 높은 단어들을 찾는다."
   ]
  },
  {
   "cell_type": "code",
   "execution_count": 18,
   "metadata": {},
   "outputs": [
    {
     "name": "stdout",
     "output_type": "stream",
     "text": [
      "she\n"
     ]
    }
   ],
   "source": [
    "text.similar('Emma',1)"
   ]
  },
  {
   "cell_type": "code",
   "execution_count": 19,
   "metadata": {},
   "outputs": [
    {
     "name": "stdout",
     "output_type": "stream",
     "text": [
      "but_was\n"
     ]
    }
   ],
   "source": [
    "text.common_contexts(['Emma','she'],1)\n"
   ]
  },
  {
   "cell_type": "markdown",
   "metadata": {},
   "source": [
    "###  FreqDist 클래스\n",
    "\n",
    "- FreqDist 클래스는 문서에 사용된 단어의 사용빈도 정보를 담는 클래스다.\n",
    "\n",
    "- Text 클래스의 vocab 메서드로 추출할 수 있다.\n",
    "\n",
    "- 토큰 리스트를 넣어서 직접 만들수도 있다\n",
    "\n",
    "- 빈도 분석에 유용한 여러가지 메서드를 제공한다.\n",
    "\n",
    "    - N: 빈도(횟수)\n",
    "    - freq: 빈도(퍼센트)\n",
    "    - most_coomon : 가장 많이 나오는 단어\n",
    "    - plot : 가장 많이 나오는 단어 플롯\n"
   ]
  },
  {
   "cell_type": "code",
   "execution_count": 20,
   "metadata": {},
   "outputs": [
    {
     "data": {
      "text/plain": [
       "nltk.probability.FreqDist"
      ]
     },
     "execution_count": 20,
     "metadata": {},
     "output_type": "execute_result"
    }
   ],
   "source": [
    "fd = text.vocab()\n",
    "type(fd)"
   ]
  },
  {
   "cell_type": "markdown",
   "metadata": {},
   "source": [
    "####  토큰 리스트에서 생성\n",
    "\n",
    "- 다음코드는 Emma 말뭉치에서 사람의 이름(NNP)만 모아서 FreqDist 클래스 객체를 만들었다.\n",
    "\n",
    "- 품사 태그에서 NNP(고유대명사)이면서 필요없는 단어(stop words)는 제거하였다."
   ]
  },
  {
   "cell_type": "code",
   "execution_count": 21,
   "metadata": {},
   "outputs": [],
   "source": [
    "from nltk import FreqDist\n",
    "\n",
    "stopwords = ['Mr.','Mrs.','Miss','Mr','Mrs','Dear']\n",
    "emma_tokens = pos_tag(word_tokenize(emma_raw))\n",
    "names_list = [t[0] for t in emma_tokens if t[1] == 'NNP' and t[0] not in stopwords]\n",
    "fd_names = FreqDist(names_list)"
   ]
  },
  {
   "cell_type": "code",
   "execution_count": 22,
   "metadata": {},
   "outputs": [],
   "source": [
    "emma_tokens = pos_tag(word_tokenize(emma_raw))\n",
    "stopwords = ['Mr.','Mrs','Miss','Mr','Mrs','Dear']\n",
    "names_list = [t[0] for t in emma_tokens if t[1] == 'NNP' and t[0] not in stopwords]\n",
    "fd_names = FreqDist(names_list)"
   ]
  },
  {
   "cell_type": "markdown",
   "metadata": {},
   "source": [
    "####  단어 빈도 분석\n",
    "\n",
    "FreqDist 클래스는 단어를 키(Key), 출현 빈도를 값(value)으로 가지는 사전 자료형과 유사하다. 다음 코드는 전체 단어의 수, 'Emma'라는 단어의 출현 횟수, 확률을 각각 계산한다."
   ]
  },
  {
   "cell_type": "code",
   "execution_count": 23,
   "metadata": {},
   "outputs": [
    {
     "data": {
      "text/plain": [
       "(7592, 829, 0.10919388830347734)"
      ]
     },
     "execution_count": 23,
     "metadata": {},
     "output_type": "execute_result"
    }
   ],
   "source": [
    "fd_names.N(), fd_names['Emma'],fd_names.freq('Emma')"
   ]
  },
  {
   "cell_type": "markdown",
   "metadata": {},
   "source": [
    "most_common 메서드를 사용하면 가장 출현 횟수가 높은단어를 찾는다."
   ]
  },
  {
   "cell_type": "code",
   "execution_count": 24,
   "metadata": {},
   "outputs": [
    {
     "data": {
      "text/plain": [
       "[('Emma', 829),\n",
       " ('Mrs.', 668),\n",
       " ('Harriet', 477),\n",
       " ('Weston', 429),\n",
       " ('Elton', 374)]"
      ]
     },
     "execution_count": 24,
     "metadata": {},
     "output_type": "execute_result"
    }
   ],
   "source": [
    "fd_names.most_common(5)"
   ]
  },
  {
   "cell_type": "code",
   "execution_count": 25,
   "metadata": {},
   "outputs": [
    {
     "data": {
      "image/png": "[encoded data removed]",
      "text/plain": [
       "<Figure size 432x288 with 1 Axes>"
      ]
     },
     "metadata": {
      "needs_background": "light"
     },
     "output_type": "display_data"
    },
    {
     "data": {
      "text/plain": [
       "<matplotlib.axes._subplots.AxesSubplot at 0x133dd547c88>"
      ]
     },
     "execution_count": 25,
     "metadata": {},
     "output_type": "execute_result"
    }
   ],
   "source": [
    "fd_names.plot(20)"
   ]
  },
  {
   "cell_type": "markdown",
   "metadata": {},
   "source": [
    "####  워드 클라우드"
   ]
  },
  {
   "cell_type": "code",
   "execution_count": 26,
   "metadata": {},
   "outputs": [],
   "source": [
    "# !pip uninstall pillow\n",
    "# !pip install --no-cache-dir pillow"
   ]
  },
  {
   "cell_type": "code",
   "execution_count": 27,
   "metadata": {},
   "outputs": [
    {
     "data": {
      "image/png": "[encoded data removed]",
      "text/plain": [
       "<Figure size 432x288 with 1 Axes>"
      ]
     },
     "metadata": {
      "needs_background": "light"
     },
     "output_type": "display_data"
    }
   ],
   "source": [
    "from wordcloud import WordCloud\n",
    "import matplotlib.pyplot as plt\n",
    "wc = WordCloud(width=1000, height=600, background_color='white', random_state=0)\n",
    "plt.imshow(wc.generate_from_frequencies(fd_names))\n",
    "plt.axis('off')\n",
    "plt.show()"
   ]
  },
  {
   "cell_type": "code",
   "execution_count": 28,
   "metadata": {},
   "outputs": [
    {
     "name": "stdout",
     "output_type": "stream",
     "text": [
      "Requirement already satisfied: wordcloud in c:\\users\\82109\\anaconda3\\lib\\site-packages (1.6.0)\n",
      "Requirement already satisfied: matplotlib in c:\\users\\82109\\anaconda3\\lib\\site-packages (from wordcloud) (3.2.1)\n",
      "Requirement already satisfied: numpy>=1.6.1 in c:\\users\\82109\\anaconda3\\lib\\site-packages (from wordcloud) (1.16.5)\n",
      "Requirement already satisfied: pillow in c:\\users\\82109\\anaconda3\\lib\\site-packages (from wordcloud) (7.1.2)\n",
      "Requirement already satisfied: pyparsing!=2.0.4,!=2.1.2,!=2.1.6,>=2.0.1 in c:\\users\\82109\\anaconda3\\lib\\site-packages (from matplotlib->wordcloud) (2.4.2)\n",
      "Requirement already satisfied: cycler>=0.10 in c:\\users\\82109\\anaconda3\\lib\\site-packages (from matplotlib->wordcloud) (0.10.0)\n",
      "Requirement already satisfied: python-dateutil>=2.1 in c:\\users\\82109\\anaconda3\\lib\\site-packages (from matplotlib->wordcloud) (2.8.0)\n",
      "Requirement already satisfied: kiwisolver>=1.0.1 in c:\\users\\82109\\anaconda3\\lib\\site-packages (from matplotlib->wordcloud) (1.1.0)\n",
      "Requirement already satisfied: six in c:\\users\\82109\\anaconda3\\lib\\site-packages (from cycler>=0.10->matplotlib->wordcloud) (1.12.0)\n",
      "Requirement already satisfied: setuptools in c:\\users\\82109\\anaconda3\\lib\\site-packages (from kiwisolver>=1.0.1->matplotlib->wordcloud) (41.4.0)\n",
      "Note: you may need to restart the kernel to use updated packages.\n"
     ]
    }
   ],
   "source": [
    "pip install wordcloud"
   ]
  },
  {
   "cell_type": "code",
   "execution_count": 29,
   "metadata": {},
   "outputs": [
    {
     "data": {
      "text/plain": [
       "'[Alice\\'s Adventures in Wonderland by Lewis Carroll 1865]\\n\\nCHAPTER I. Down the Rabbit-Hole\\n\\nAlice was beginning to get very tired of sitting by her sister on the\\nbank, and of having nothing to do: once or twice she had peeped into the\\nbook her sister was reading, but it had no pictures or conversations in\\nit, \\'and what is the use of a book,\\' thought Alice \\'without pictures or\\nconversation?\\'\\n\\nSo she was considering in her own mind (as well as she could, for the\\nhot day made her feel very sleepy and stupid), whether the pleasure\\nof making a daisy-chain would be worth the trouble of getting up and\\npicking the daisies, when suddenly a White Rabbit with pink eyes ran\\nclose by her.\\n\\nThere was nothing so VERY remarkable in that; nor did Alice think it so\\nVERY much out of the way to hear the Rabbit say to itself, \\'Oh dear!\\nOh dear! I shall be late!\\' (when she thought it over afterwards, it\\noccurred to her that she ought to have wondered at this, but at the time\\nit all seemed quite natural); but when the Rabbit actually TOOK A WATCH\\nOUT OF ITS WAISTCOAT-POCKET, and looked at it, and then hurried on,\\nAlice started to her feet, for it flashed across her mind that she had\\nnever before seen a rabbit with either a waistcoat-pocket, or a watch\\nto take out of it, and burning with curiosity, she ran across the field\\nafter it, and fortunately was just in time to see it pop down a large\\nrabbit-hole under the hedge.\\n\\nIn another moment down went Alice after it, never once considering how\\nin the world she was to get out again.\\n\\nThe rabbit-hole went straight on like a tunnel for some way, and then\\ndipped suddenly down, so suddenly that Alice had not a moment to think\\nabout stopping herself before she found herself falling down a very deep\\nwell.\\n\\nEither the well was very deep, or she fell very slowly, for she had\\nplenty of time as she went down to look about her and to wonder what was\\ngoing to happen next. First, she tried to look down and make out what\\nshe was coming to, but it was too dark to see anything; then she\\nlooked at the sides of the well, and noticed that they were filled with\\ncupboards and book-shelves; here and there she saw maps and pictures\\nhung upon pegs. She took down a jar from one of the shelves as\\nshe passed; it was labelled \\'ORANGE MARMALADE\\', but to her great\\ndisappointment it was empty: she did not like to drop the jar for fear\\nof killing somebody, so managed to put it into one of the cupboards as\\nshe fell past it.\\n\\n\\'Well!\\' thought Alice to herself, \\'after such a fall as this, I shall\\nthink nothing of tumbling down stairs! How brave they\\'ll all think me at\\nhome! Why, I wouldn\\'t say anything about it, even if I fell off the top\\nof the house!\\' (Which was very likely true.)\\n\\nDown, down, down. Would the fall NEVER come to an end! \\'I wonder how\\nmany miles I\\'ve fallen by this time?\\' she said aloud. \\'I must be getting\\nsomewhere near the centre of the earth. Let me see: that would be four\\nthousand miles down, I think--\\' (for, you see, Alice had learnt several\\nthings of this sort in her lessons in the schoolroom, and though this\\nwas not a VERY good opportunity for showing off her knowledge, as there\\nwas no one to listen to her, still it was good practice to say it over)\\n\\'--yes, that\\'s about the right distance--but then I wonder what Latitude\\nor Longitude I\\'ve got to?\\' (Alice had no idea what Latitude was, or\\nLongitude either, but thought they were nice grand words to say.)\\n\\nPresently she began again. \\'I wonder if I shall fall right THROUGH the\\nearth! How funny it\\'ll seem to come out among the people that walk with\\ntheir heads downward! The Antipathies, I think--\\' (she was rather glad\\nthere WAS no one listening, this time, as it didn\\'t sound at all the\\nright word) \\'--but I shall have to ask them what the name of the country\\nis, you know. Please, Ma\\'am, is this New Zealand or Australia?\\' (and\\nshe tried to curtsey as she spoke--fancy CURTSEYING as you\\'re falling\\nthrough the air! Do you think you could manage it?) \\'And what an\\nignorant little girl she\\'ll think me for asking! No, it\\'ll never do to\\nask: perhaps I shall see it written up somewhere.\\'\\n\\nDown, down, down. There was nothing else to do, so Alice soon began\\ntalking again. \\'Dinah\\'ll miss me very much to-night, I should think!\\'\\n(Dinah was the cat.) \\'I hope they\\'ll remember her saucer of milk at\\ntea-time. Dinah my dear! I wish you were down here with me! There are no\\nmice in the air, I\\'m afraid, but you might catch a bat, and that\\'s very\\nlike a mouse, you know. But do cats eat bats, I wonder?\\' And here Alice\\nbegan to get rather sleepy, and went on saying to herself, in a dreamy\\nsort of way, \\'Do cats eat bats? Do cats eat bats?\\' and sometimes, \\'Do\\nbats eat cats?\\' for, you see, as she couldn\\'t answer either question,\\nit didn\\'t much matter which way she put it. She felt that she was dozing\\noff, and had just begun to dream that she was walking hand in hand with\\nDinah, and saying to her very earnestly, \\'Now, Dinah, tell me the truth:\\ndid you ever eat a bat?\\' when suddenly, thump! thump! down she came upon\\na heap of sticks and dry leaves, and the fall was over.\\n\\nAlice was not a bit hurt, and she jumped up on to her feet in a moment:\\nshe looked up, but it was all dark overhead; before her was another\\nlong passage, and the White Rabbit was still in sight, hurrying down it.\\nThere was not a moment to be lost: away went Alice like the wind, and\\nwas just in time to hear it say, as it turned a corner, \\'Oh my ears\\nand whiskers, how late it\\'s getting!\\' She was close behind it when she\\nturned the corner, but the Rabbit was no longer to be seen: she found\\nherself in a long, low hall, which was lit up by a row of lamps hanging\\nfrom the roof.\\n\\nThere were doors all round the hall, but they were all locked; and when\\nAlice had been all the way down one side and up the other, trying every\\ndoor, she walked sadly down the middle, wondering how she was ever to\\nget out again.\\n\\nSuddenly she came upon a little three-legged table, all made of solid\\nglass; there was nothing on it except a tiny golden key, and Alice\\'s\\nfirst thought was that it might belong to one of the doors of the hall;\\nbut, alas! either the locks were too large, or the key was too small,\\nbut at any rate it would not open any of them. However, on the second\\ntime round, she came upon a low curtain she had not noticed before, and\\nbehind it was a little door about fifteen inches high: she tried the\\nlittle golden key in the lock, and to her great delight it fitted!\\n\\nAlice opened the door and found that it led into a small passage, not\\nmuch larger than a rat-hole: she knelt down and looked along the passage\\ninto the loveliest garden you ever saw. How she longed to get out of\\nthat dark hall, and wander about among those beds of bright flowers and\\nthose cool fountains, but she could not even get her head through the\\ndoorway; \\'and even if my head would go through,\\' thought poor Alice, \\'it\\nwould be of very little use without my shoulders. Oh, how I wish I could\\nshut up like a telescope! I think I could, if I only know how to begin.\\'\\nFor, you see, so many out-of-the-way things had happened lately,\\nthat Alice had begun to think that very few things indeed were really\\nimpossible.\\n\\nThere seemed to be no use in waiting by the little door, so she went\\nback to the table, half hoping she might find another key on it, or at\\nany rate a book of rules for shutting people up like telescopes: this\\ntime she found a little bottle on it, (\\'which certainly was not here\\nbefore,\\' said Alice,) and round the neck of the bottle was a paper\\nlabel, with the words \\'DRINK ME\\' beautifully printed on it in large\\nletters.\\n\\nIt was all very well to say \\'Drink me,\\' but the wise little Alice was\\nnot going to do THAT in a hurry. \\'No, I\\'ll look first,\\' she said, \\'and\\nsee whether it\\'s marked \"poison\" or not\\'; for she had read several nice\\nlittle histories about children who had got burnt, and eaten up by wild\\nbeasts and other unpleasant things, all because they WOULD not remember\\nthe simple rules their friends had taught them: such as, that a red-hot\\npoker will burn you if you hold it too long; and that if you cut your\\nfinger VERY deeply with a knife, it usually bleeds; and she had never\\nforgotten that, if you drink much from a bottle marked \\'poison,\\' it is\\nalmost certain to disagree with you, sooner or later.\\n\\nHowever, this bottle was NOT marked \\'poison,\\' so Alice ventured to taste\\nit, and finding it very nice, (it had, in fact, a sort of mixed flavour\\nof cherry-tart, custard, pine-apple, roast turkey, toffee, and hot\\nbuttered toast,) she very soon finished it off.\\n\\n  *    *    *    *    *    *    *\\n\\n    *    *    *    *    *    *\\n\\n  *    *    *    *    *    *    *\\n\\n\\'What a curious feeling!\\' said Alice; \\'I must be shutting up like a\\ntelescope.\\'\\n\\nAnd so it was indeed: she was now only ten inches high, and her face\\nbrightened up at the thought that she was now the right size for going\\nthrough the little door into that lovely garden. First, however, she\\nwaited for a few minutes to see if she was going to shrink any further:\\nshe felt a little nervous about this; \\'for it might end, you know,\\' said\\nAlice to herself, \\'in my going out altogether, like a candle. I wonder\\nwhat I should be like then?\\' And she tried to fancy what the flame of a\\ncandle is like after the candle is blown out, for she could not remember\\never having seen such a thing.\\n\\nAfter a while, finding that nothing more happened, she decided on going\\ninto the garden at once; but, alas for poor Alice! when she got to the\\ndoor, she found she had forgotten the little golden key, and when she\\nwent back to the table for it, she found she could not possibly reach\\nit: she could see it quite plainly through the glass, and she tried her\\nbest to climb up one of the legs of the table, but it was too slippery;\\nand when she had tired herself out with trying, the poor little thing\\nsat down and cried.\\n\\n\\'Come, there\\'s no use in crying like that!\\' said Alice to herself,\\nrather sharply; \\'I advise you to leave off this minute!\\' She generally\\ngave herself very good advice, (though she very seldom followed it),\\nand sometimes she scolded herself so severely as to bring tears into\\nher eyes; and once she remembered trying to box her own ears for having\\ncheated herself in a game of croquet she was playing against herself,\\nfor this curious child was very fond of pretending to be two people.\\n\\'But it\\'s no use now,\\' thought poor Alice, \\'to pretend to be two people!\\nWhy, there\\'s hardly enough of me left to make ONE respectable person!\\'\\n\\nSoon her eye fell on a little glass box that was lying under the table:\\nshe opened it, and found in it a very small cake, on which the words\\n\\'EAT ME\\' were beautifully marked in currants. \\'Well, I\\'ll eat it,\\' said\\nAlice, \\'and if it makes me grow larger, I can reach the key; and if it\\nmakes me grow smaller, I can creep under the door; so either way I\\'ll\\nget into the garden, and I don\\'t care which happens!\\'\\n\\nShe ate a little bit, and said anxiously to herself, \\'Which way? Which\\nway?\\', holding her hand on the top of her head to feel which way it was\\ngrowing, and she was quite surprised to find that she remained the same\\nsize: to be sure, this generally happens when one eats cake, but Alice\\nhad got so much into the way of expecting nothing but out-of-the-way\\nthings to happen, that it seemed quite dull and stupid for life to go on\\nin the common way.\\n\\nSo she set to work, and very soon finished off the cake.\\n\\n  *    *    *    *    *    *    *\\n\\n    *    *    *    *    *    *\\n\\n  *    *    *    *    *    *    *\\n\\n\\n\\n\\nCHAPTER II. The Pool of Tears\\n\\n\\'Curiouser and curiouser!\\' cried Alice (she was so much surprised, that\\nfor the moment she quite forgot how to speak good English); \\'now I\\'m\\nopening out like the largest telescope that ever was! Good-bye, feet!\\'\\n(for when she looked down at her feet, they seemed to be almost out of\\nsight, they were getting so far off). \\'Oh, my poor little feet, I wonder\\nwho will put on your shoes and stockings for you now, dears? I\\'m sure\\n_I_ shan\\'t be able! I shall be a great deal too far off to trouble\\nmyself about you: you must manage the best way you can;--but I must be\\nkind to them,\\' thought Alice, \\'or perhaps they won\\'t walk the way I want\\nto go! Let me see: I\\'ll give them a new pair of boots every Christmas.\\'\\n\\nAnd she went on planning to herself how she would manage it. \\'They must\\ngo by the carrier,\\' she thought; \\'and how funny it\\'ll seem, sending\\npresents to one\\'s own feet! And how odd the directions will look!\\n\\n     ALICE\\'S RIGHT FOOT, ESQ.\\n       HEARTHRUG,\\n         NEAR THE FENDER,\\n           (WITH ALICE\\'S LOVE).\\n\\nOh dear, what nonsense I\\'m talking!\\'\\n\\nJust then her head struck against the roof of the hall: in fact she was\\nnow more than nine feet high, and she at once took up the little golden\\nkey and hurried off to the garden door.\\n\\nPoor Alice! It was as much as she could do, lying down on one side, to\\nlook through into the garden with one eye; but to get through was more\\nhopeless than ever: she sat down and began to cry again.\\n\\n\\'You ought to be ashamed of yourself,\\' said Alice, \\'a great girl like\\nyou,\\' (she might well say this), \\'to go on crying in this way! Stop this\\nmoment, I tell you!\\' But she went on all the same, shedding gallons of\\ntears, until there was a large pool all round her, about four inches\\ndeep and reaching half down the hall.\\n\\nAfter a time she heard a little pattering of feet in the distance, and\\nshe hastily dried her eyes to see what was coming. It was the White\\nRabbit returning, splendidly dressed, with a pair of white kid gloves in\\none hand and a large fan in the other: he came trotting along in a great\\nhurry, muttering to himself as he came, \\'Oh! the Duchess, the Duchess!\\nOh! won\\'t she be savage if I\\'ve kept her waiting!\\' Alice felt so\\ndesperate that she was ready to ask help of any one; so, when the Rabbit\\ncame near her, she began, in a low, timid voice, \\'If you please, sir--\\'\\nThe Rabbit started violently, dropped the white kid gloves and the fan,\\nand skurried away into the darkness as hard as he could go.\\n\\nAlice took up the fan and gloves, and, as the hall was very hot, she\\nkept fanning herself all the time she went on talking: \\'Dear, dear! How\\nqueer everything is to-day! And yesterday things went on just as usual.\\nI wonder if I\\'ve been changed in the night? Let me think: was I the\\nsame when I got up this morning? I almost think I can remember feeling a\\nlittle different. But if I\\'m not the same, the next question is, Who\\nin the world am I? Ah, THAT\\'S the great puzzle!\\' And she began thinking\\nover all the children she knew that were of the same age as herself, to\\nsee if she could have been changed for any of them.\\n\\n\\'I\\'m sure I\\'m not Ada,\\' she said, \\'for her hair goes in such long\\nringlets, and mine doesn\\'t go in ringlets at all; and I\\'m sure I can\\'t\\nbe Mabel, for I know all sorts of things, and she, oh! she knows such a\\nvery little! Besides, SHE\\'S she, and I\\'m I, and--oh dear, how puzzling\\nit all is! I\\'ll try if I know all the things I used to know. Let me\\nsee: four times five is twelve, and four times six is thirteen, and\\nfour times seven is--oh dear! I shall never get to twenty at that rate!\\nHowever, the Multiplication Table doesn\\'t signify: let\\'s try Geography.\\nLondon is the capital of Paris, and Paris is the capital of Rome, and\\nRome--no, THAT\\'S all wrong, I\\'m certain! I must have been changed for\\nMabel! I\\'ll try and say \"How doth the little--\"\\' and she crossed her\\nhands on her lap as if she were saying lessons, and began to repeat it,\\nbut her voice sounded hoarse and strange, and the words did not come the\\nsame as they used to do:--\\n\\n     \\'How doth the little crocodile\\n      Improve his shining tail,\\n     And pour the waters of the Nile\\n      On every golden scale!\\n\\n     \\'How cheerfully he seems to grin,\\n      How neatly spread his claws,\\n     And welcome little fishes in\\n      With gently smiling jaws!\\'\\n\\n\\'I\\'m sure those are not the right words,\\' said poor Alice, and her eyes\\nfilled with tears again as she went on, \\'I must be Mabel after all, and\\nI shall have to go and live in that poky little house, and have next to\\nno toys to play with, and oh! ever so many lessons to learn! No, I\\'ve\\nmade up my mind about it; if I\\'m Mabel, I\\'ll stay down here! It\\'ll be no\\nuse their putting their heads down and saying \"Come up again, dear!\" I\\nshall only look up and say \"Who am I then? Tell me that first, and then,\\nif I like being that person, I\\'ll come up: if not, I\\'ll stay down here\\ntill I\\'m somebody else\"--but, oh dear!\\' cried Alice, with a sudden burst\\nof tears, \\'I do wish they WOULD put their heads down! I am so VERY tired\\nof being all alone here!\\'\\n\\nAs she said this she looked down at her hands, and was surprised to see\\nthat she had put on one of the Rabbit\\'s little white kid gloves while\\nshe was talking. \\'How CAN I have done that?\\' she thought. \\'I must\\nbe growing small again.\\' She got up and went to the table to measure\\nherself by it, and found that, as nearly as she could guess, she was now\\nabout two feet high, and was going on shrinking rapidly: she soon found\\nout that the cause of this was the fan she was holding, and she dropped\\nit hastily, just in time to avoid shrinking away altogether.\\n\\n\\'That WAS a narrow escape!\\' said Alice, a good deal frightened at the\\nsudden change, but very glad to find herself still in existence; \\'and\\nnow for the garden!\\' and she ran with all speed back to the little door:\\nbut, alas! the little door was shut again, and the little golden key was\\nlying on the glass table as before, \\'and things are worse than ever,\\'\\nthought the poor child, \\'for I never was so small as this before, never!\\nAnd I declare it\\'s too bad, that it is!\\'\\n\\nAs she said these words her foot slipped, and in another moment, splash!\\nshe was up to her chin in salt water. Her first idea was that she\\nhad somehow fallen into the sea, \\'and in that case I can go back by\\nrailway,\\' she said to herself. (Alice had been to the seaside once in\\nher life, and had come to the general conclusion, that wherever you go\\nto on the English coast you find a number of bathing machines in the\\nsea, some children digging in the sand with wooden spades, then a row\\nof lodging houses, and behind them a railway station.) However, she soon\\nmade out that she was in the pool of tears which she had wept when she\\nwas nine feet high.\\n\\n\\'I wish I hadn\\'t cried so much!\\' said Alice, as she swam about, trying\\nto find her way out. \\'I shall be punished for it now, I suppose, by\\nbeing drowned in my own tears! That WILL be a queer thing, to be sure!\\nHowever, everything is queer to-day.\\'\\n\\nJust then she heard something splashing about in the pool a little way\\noff, and she swam nearer to make out what it was: at first she thought\\nit must be a walrus or hippopotamus, but then she remembered how small\\nshe was now, and she soon made out that it was only a mouse that had\\nslipped in like herself.\\n\\n\\'Would it be of any use, now,\\' thought Alice, \\'to speak to this mouse?\\nEverything is so out-of-the-way down here, that I should think very\\nlikely it can talk: at any rate, there\\'s no harm in trying.\\' So she\\nbegan: \\'O Mouse, do you know the way out of this pool? I am very tired\\nof swimming about here, O Mouse!\\' (Alice thought this must be the right\\nway of speaking to a mouse: she had never done such a thing before, but\\nshe remembered having seen in her brother\\'s Latin Grammar, \\'A mouse--of\\na mouse--to a mouse--a mouse--O mouse!\\') The Mouse looked at her rather\\ninquisitively, and seemed to her to wink with one of its little eyes,\\nbut it said nothing.\\n\\n\\'Perhaps it doesn\\'t understand English,\\' thought Alice; \\'I daresay it\\'s\\na French mouse, come over with William the Conqueror.\\' (For, with all\\nher knowledge of history, Alice had no very clear notion how long ago\\nanything had happened.) So she began again: \\'Ou est ma chatte?\\' which\\nwas the first sentence in her French lesson-book. The Mouse gave a\\nsudden leap out of the water, and seemed to quiver all over with fright.\\n\\'Oh, I beg your pardon!\\' cried Alice hastily, afraid that she had hurt\\nthe poor animal\\'s feelings. \\'I quite forgot you didn\\'t like cats.\\'\\n\\n\\'Not like cats!\\' cried the Mouse, in a shrill, passionate voice. \\'Would\\nYOU like cats if you were me?\\'\\n\\n\\'Well, perhaps not,\\' said Alice in a soothing tone: \\'don\\'t be angry\\nabout it. And yet I wish I could show you our cat Dinah: I think you\\'d\\ntake a fancy to cats if you could only see her. She is such a dear quiet\\nthing,\\' Alice went on, half to herself, as she swam lazily about in the\\npool, \\'and she sits purring so nicely by the fire, licking her paws and\\nwashing her face--and she is such a nice soft thing to nurse--and she\\'s\\nsuch a capital one for catching mice--oh, I beg your pardon!\\' cried\\nAlice again, for this time the Mouse was bristling all over, and she\\nfelt certain it must be really offended. \\'We won\\'t talk about her any\\nmore if you\\'d rather not.\\'\\n\\n\\'We indeed!\\' cried the Mouse, who was trembling down to the end of his\\ntail. \\'As if I would talk on such a subject! Our family always HATED\\ncats: nasty, low, vulgar things! Don\\'t let me hear the name again!\\'\\n\\n\\'I won\\'t indeed!\\' said Alice, in a great hurry to change the subject of\\nconversation. \\'Are you--are you fond--of--of dogs?\\' The Mouse did not\\nanswer, so Alice went on eagerly: \\'There is such a nice little dog near\\nour house I should like to show you! A little bright-eyed terrier, you\\nknow, with oh, such long curly brown hair! And it\\'ll fetch things when\\nyou throw them, and it\\'ll sit up and beg for its dinner, and all sorts\\nof things--I can\\'t remember half of them--and it belongs to a farmer,\\nyou know, and he says it\\'s so useful, it\\'s worth a hundred pounds! He\\nsays it kills all the rats and--oh dear!\\' cried Alice in a sorrowful\\ntone, \\'I\\'m afraid I\\'ve offended it again!\\' For the Mouse was swimming\\naway from her as hard as it could go, and making quite a commotion in\\nthe pool as it went.\\n\\nSo she called softly after it, \\'Mouse dear! Do come back again, and we\\nwon\\'t talk about cats or dogs either, if you don\\'t like them!\\' When the\\nMouse heard this, it turned round and swam slowly back to her: its\\nface was quite pale (with passion, Alice thought), and it said in a low\\ntrembling voice, \\'Let us get to the shore, and then I\\'ll tell you my\\nhistory, and you\\'ll understand why it is I hate cats and dogs.\\'\\n\\nIt was high time to go, for the pool was getting quite crowded with the\\nbirds and animals that had fallen into it: there were a Duck and a Dodo,\\na Lory and an Eaglet, and several other curious creatures. Alice led the\\nway, and the whole party swam to the shore.\\n\\n\\n\\n\\nCHAPTER III. A Caucus-Race and a Long Tale\\n\\nThey were indeed a queer-looking party that assembled on the bank--the\\nbirds with draggled feathers, the animals with their fur clinging close\\nto them, and all dripping wet, cross, and uncomfortable.\\n\\nThe first question of course was, how to get dry again: they had a\\nconsultation about this, and after a few minutes it seemed quite natural\\nto Alice to find herself talking familiarly with them, as if she had\\nknown them all her life. Indeed, she had quite a long argument with the\\nLory, who at last turned sulky, and would only say, \\'I am older than\\nyou, and must know better\\'; and this Alice would not allow without\\nknowing how old it was, and, as the Lory positively refused to tell its\\nage, there was no more to be said.\\n\\nAt last the Mouse, who seemed to be a person of authority among them,\\ncalled out, \\'Sit down, all of you, and listen to me! I\\'LL soon make you\\ndry enough!\\' They all sat down at once, in a large ring, with the Mouse\\nin the middle. Alice kept her eyes anxiously fixed on it, for she felt\\nsure she would catch a bad cold if she did not get dry very soon.\\n\\n\\'Ahem!\\' said the Mouse with an important air, \\'are you all ready? This\\nis the driest thing I know. Silence all round, if you please! \"William\\nthe Conqueror, whose cause was favoured by the pope, was soon submitted\\nto by the English, who wanted leaders, and had been of late much\\naccustomed to usurpation and conquest. Edwin and Morcar, the earls of\\nMercia and Northumbria--\"\\'\\n\\n\\'Ugh!\\' said the Lory, with a shiver.\\n\\n\\'I beg your pardon!\\' said the Mouse, frowning, but very politely: \\'Did\\nyou speak?\\'\\n\\n\\'Not I!\\' said the Lory hastily.\\n\\n\\'I thought you did,\\' said the Mouse. \\'--I proceed. \"Edwin and Morcar,\\nthe earls of Mercia and Northumbria, declared for him: and even Stigand,\\nthe patriotic archbishop of Canterbury, found it advisable--\"\\'\\n\\n\\'Found WHAT?\\' said the Duck.\\n\\n\\'Found IT,\\' the Mouse replied rather crossly: \\'of course you know what\\n\"it\" means.\\'\\n\\n\\'I know what \"it\" means well enough, when I find a thing,\\' said the\\nDuck: \\'it\\'s generally a frog or a worm. The question is, what did the\\narchbishop find?\\'\\n\\nThe Mouse did not notice this question, but hurriedly went on, \\'\"--found\\nit advisable to go with Edgar Atheling to meet William and offer him the\\ncrown. William\\'s conduct at first was moderate. But the insolence of his\\nNormans--\" How are you getting on now, my dear?\\' it continued, turning\\nto Alice as it spoke.\\n\\n\\'As wet as ever,\\' said Alice in a melancholy tone: \\'it doesn\\'t seem to\\ndry me at all.\\'\\n\\n\\'In that case,\\' said the Dodo solemnly, rising to its feet, \\'I move\\nthat the meeting adjourn, for the immediate adoption of more energetic\\nremedies--\\'\\n\\n\\'Speak English!\\' said the Eaglet. \\'I don\\'t know the meaning of half\\nthose long words, and, what\\'s more, I don\\'t believe you do either!\\' And\\nthe Eaglet bent down its head to hide a smile: some of the other birds\\ntittered audibly.\\n\\n\\'What I was going to say,\\' said the Dodo in an offended tone, \\'was, that\\nthe best thing to get us dry would be a Caucus-race.\\'\\n\\n\\'What IS a Caucus-race?\\' said Alice; not that she wanted much to know,\\nbut the Dodo had paused as if it thought that SOMEBODY ought to speak,\\nand no one else seemed inclined to say anything.\\n\\n\\'Why,\\' said the Dodo, \\'the best way to explain it is to do it.\\' (And, as\\nyou might like to try the thing yourself, some winter day, I will tell\\nyou how the Dodo managed it.)\\n\\nFirst it marked out a race-course, in a sort of circle, (\\'the exact\\nshape doesn\\'t matter,\\' it said,) and then all the party were placed\\nalong the course, here and there. There was no \\'One, two, three, and\\naway,\\' but they began running when they liked, and left off when they\\nliked, so that it was not easy to know when the race was over. However,\\nwhen they had been running half an hour or so, and were quite dry again,\\nthe Dodo suddenly called out \\'The race is over!\\' and they all crowded\\nround it, panting, and asking, \\'But who has won?\\'\\n\\nThis question the Dodo could not answer without a great deal of thought,\\nand it sat for a long time with one finger pressed upon its forehead\\n(the position in which you usually see Shakespeare, in the pictures\\nof him), while the rest waited in silence. At last the Dodo said,\\n\\'EVERYBODY has won, and all must have prizes.\\'\\n\\n\\'But who is to give the prizes?\\' quite a chorus of voices asked.\\n\\n\\'Why, SHE, of course,\\' said the Dodo, pointing to Alice with one finger;\\nand the whole party at once crowded round her, calling out in a confused\\nway, \\'Prizes! Prizes!\\'\\n\\nAlice had no idea what to do, and in despair she put her hand in her\\npocket, and pulled out a box of comfits, (luckily the salt water had\\nnot got into it), and handed them round as prizes. There was exactly one\\na-piece all round.\\n\\n\\'But she must have a prize herself, you know,\\' said the Mouse.\\n\\n\\'Of course,\\' the Dodo replied very gravely. \\'What else have you got in\\nyour pocket?\\' he went on, turning to Alice.\\n\\n\\'Only a thimble,\\' said Alice sadly.\\n\\n\\'Hand it over here,\\' said the Dodo.\\n\\nThen they all crowded round her once more, while the Dodo solemnly\\npresented the thimble, saying \\'We beg your acceptance of this elegant\\nthimble\\'; and, when it had finished this short speech, they all cheered.\\n\\nAlice thought the whole thing very absurd, but they all looked so grave\\nthat she did not dare to laugh; and, as she could not think of anything\\nto say, she simply bowed, and took the thimble, looking as solemn as she\\ncould.\\n\\nThe next thing was to eat the comfits: this caused some noise and\\nconfusion, as the large birds complained that they could not taste\\ntheirs, and the small ones choked and had to be patted on the back.\\nHowever, it was over at last, and they sat down again in a ring, and\\nbegged the Mouse to tell them something more.\\n\\n\\'You promised to tell me your history, you know,\\' said Alice, \\'and why\\nit is you hate--C and D,\\' she added in a whisper, half afraid that it\\nwould be offended again.\\n\\n\\'Mine is a long and a sad tale!\\' said the Mouse, turning to Alice, and\\nsighing.\\n\\n\\'It IS a long tail, certainly,\\' said Alice, looking down with wonder at\\nthe Mouse\\'s tail; \\'but why do you call it sad?\\' And she kept on puzzling\\nabout it while the Mouse was speaking, so that her idea of the tale was\\nsomething like this:--\\n\\n         \\'Fury said to a\\n         mouse, That he\\n        met in the\\n       house,\\n     \"Let us\\n      both go to\\n       law: I will\\n        prosecute\\n         YOU.--Come,\\n           I\\'ll take no\\n           denial; We\\n          must have a\\n        trial: For\\n      really this\\n     morning I\\'ve\\n    nothing\\n    to do.\"\\n     Said the\\n      mouse to the\\n       cur, \"Such\\n        a trial,\\n         dear Sir,\\n            With\\n          no jury\\n        or judge,\\n       would be\\n      wasting\\n      our\\n      breath.\"\\n       \"I\\'ll be\\n        judge, I\\'ll\\n         be jury,\"\\n            Said\\n         cunning\\n          old Fury:\\n          \"I\\'ll\\n          try the\\n            whole\\n            cause,\\n              and\\n           condemn\\n           you\\n          to\\n           death.\"\\'\\n\\n\\n\\'You are not attending!\\' said the Mouse to Alice severely. \\'What are you\\nthinking of?\\'\\n\\n\\'I beg your pardon,\\' said Alice very humbly: \\'you had got to the fifth\\nbend, I think?\\'\\n\\n\\'I had NOT!\\' cried the Mouse, sharply and very angrily.\\n\\n\\'A knot!\\' said Alice, always ready to make herself useful, and looking\\nanxiously about her. \\'Oh, do let me help to undo it!\\'\\n\\n\\'I shall do nothing of the sort,\\' said the Mouse, getting up and walking\\naway. \\'You insult me by talking such nonsense!\\'\\n\\n\\'I didn\\'t mean it!\\' pleaded poor Alice. \\'But you\\'re so easily offended,\\nyou know!\\'\\n\\nThe Mouse only growled in reply.\\n\\n\\'Please come back and finish your story!\\' Alice called after it; and the\\nothers all joined in chorus, \\'Yes, please do!\\' but the Mouse only shook\\nits head impatiently, and walked a little quicker.\\n\\n\\'What a pity it wouldn\\'t stay!\\' sighed the Lory, as soon as it was quite\\nout of sight; and an old Crab took the opportunity of saying to her\\ndaughter \\'Ah, my dear! Let this be a lesson to you never to lose\\nYOUR temper!\\' \\'Hold your tongue, Ma!\\' said the young Crab, a little\\nsnappishly. \\'You\\'re enough to try the patience of an oyster!\\'\\n\\n\\'I wish I had our Dinah here, I know I do!\\' said Alice aloud, addressing\\nnobody in particular. \\'She\\'d soon fetch it back!\\'\\n\\n\\'And who is Dinah, if I might venture to ask the question?\\' said the\\nLory.\\n\\nAlice replied eagerly, for she was always ready to talk about her pet:\\n\\'Dinah\\'s our cat. And she\\'s such a capital one for catching mice you\\ncan\\'t think! And oh, I wish you could see her after the birds! Why,\\nshe\\'ll eat a little bird as soon as look at it!\\'\\n\\nThis speech caused a remarkable sensation among the party. Some of the\\nbirds hurried off at once: one old Magpie began wrapping itself up very\\ncarefully, remarking, \\'I really must be getting home; the night-air\\ndoesn\\'t suit my throat!\\' and a Canary called out in a trembling voice to\\nits children, \\'Come away, my dears! It\\'s high time you were all in bed!\\'\\nOn various pretexts they all moved off, and Alice was soon left alone.\\n\\n\\'I wish I hadn\\'t mentioned Dinah!\\' she said to herself in a melancholy\\ntone. \\'Nobody seems to like her, down here, and I\\'m sure she\\'s the best\\ncat in the world! Oh, my dear Dinah! I wonder if I shall ever see you\\nany more!\\' And here poor Alice began to cry again, for she felt very\\nlonely and low-spirited. In a little while, however, she again heard\\na little pattering of footsteps in the distance, and she looked up\\neagerly, half hoping that the Mouse had changed his mind, and was coming\\nback to finish his story.\\n\\n\\n\\n\\nCHAPTER IV. The Rabbit Sends in a Little Bill\\n\\nIt was the White Rabbit, trotting slowly back again, and looking\\nanxiously about as it went, as if it had lost something; and she heard\\nit muttering to itself \\'The Duchess! The Duchess! Oh my dear paws! Oh\\nmy fur and whiskers! She\\'ll get me executed, as sure as ferrets are\\nferrets! Where CAN I have dropped them, I wonder?\\' Alice guessed in a\\nmoment that it was looking for the fan and the pair of white kid gloves,\\nand she very good-naturedly began hunting about for them, but they were\\nnowhere to be seen--everything seemed to have changed since her swim in\\nthe pool, and the great hall, with the glass table and the little door,\\nhad vanished completely.\\n\\nVery soon the Rabbit noticed Alice, as she went hunting about, and\\ncalled out to her in an angry tone, \\'Why, Mary Ann, what ARE you doing\\nout here? Run home this moment, and fetch me a pair of gloves and a fan!\\nQuick, now!\\' And Alice was so much frightened that she ran off at once\\nin the direction it pointed to, without trying to explain the mistake it\\nhad made.\\n\\n\\'He took me for his housemaid,\\' she said to herself as she ran. \\'How\\nsurprised he\\'ll be when he finds out who I am! But I\\'d better take him\\nhis fan and gloves--that is, if I can find them.\\' As she said this, she\\ncame upon a neat little house, on the door of which was a bright brass\\nplate with the name \\'W. RABBIT\\' engraved upon it. She went in without\\nknocking, and hurried upstairs, in great fear lest she should meet the\\nreal Mary Ann, and be turned out of the house before she had found the\\nfan and gloves.\\n\\n\\'How queer it seems,\\' Alice said to herself, \\'to be going messages for\\na rabbit! I suppose Dinah\\'ll be sending me on messages next!\\' And she\\nbegan fancying the sort of thing that would happen: \\'\"Miss Alice! Come\\nhere directly, and get ready for your walk!\" \"Coming in a minute,\\nnurse! But I\\'ve got to see that the mouse doesn\\'t get out.\" Only I don\\'t\\nthink,\\' Alice went on, \\'that they\\'d let Dinah stop in the house if it\\nbegan ordering people about like that!\\'\\n\\nBy this time she had found her way into a tidy little room with a table\\nin the window, and on it (as she had hoped) a fan and two or three pairs\\nof tiny white kid gloves: she took up the fan and a pair of the gloves,\\nand was just going to leave the room, when her eye fell upon a little\\nbottle that stood near the looking-glass. There was no label this time\\nwith the words \\'DRINK ME,\\' but nevertheless she uncorked it and put it\\nto her lips. \\'I know SOMETHING interesting is sure to happen,\\' she said\\nto herself, \\'whenever I eat or drink anything; so I\\'ll just see what\\nthis bottle does. I do hope it\\'ll make me grow large again, for really\\nI\\'m quite tired of being such a tiny little thing!\\'\\n\\nIt did so indeed, and much sooner than she had expected: before she had\\ndrunk half the bottle, she found her head pressing against the ceiling,\\nand had to stoop to save her neck from being broken. She hastily put\\ndown the bottle, saying to herself \\'That\\'s quite enough--I hope I shan\\'t\\ngrow any more--As it is, I can\\'t get out at the door--I do wish I hadn\\'t\\ndrunk quite so much!\\'\\n\\nAlas! it was too late to wish that! She went on growing, and growing,\\nand very soon had to kneel down on the floor: in another minute there\\nwas not even room for this, and she tried the effect of lying down with\\none elbow against the door, and the other arm curled round her head.\\nStill she went on growing, and, as a last resource, she put one arm out\\nof the window, and one foot up the chimney, and said to herself \\'Now I\\ncan do no more, whatever happens. What WILL become of me?\\'\\n\\nLuckily for Alice, the little magic bottle had now had its full effect,\\nand she grew no larger: still it was very uncomfortable, and, as there\\nseemed to be no sort of chance of her ever getting out of the room\\nagain, no wonder she felt unhappy.\\n\\n\\'It was much pleasanter at home,\\' thought poor Alice, \\'when one wasn\\'t\\nalways growing larger and smaller, and being ordered about by mice and\\nrabbits. I almost wish I hadn\\'t gone down that rabbit-hole--and yet--and\\nyet--it\\'s rather curious, you know, this sort of life! I do wonder what\\nCAN have happened to me! When I used to read fairy-tales, I fancied that\\nkind of thing never happened, and now here I am in the middle of one!\\nThere ought to be a book written about me, that there ought! And when I\\ngrow up, I\\'ll write one--but I\\'m grown up now,\\' she added in a sorrowful\\ntone; \\'at least there\\'s no room to grow up any more HERE.\\'\\n\\n\\'But then,\\' thought Alice, \\'shall I NEVER get any older than I am\\nnow? That\\'ll be a comfort, one way--never to be an old woman--but\\nthen--always to have lessons to learn! Oh, I shouldn\\'t like THAT!\\'\\n\\n\\'Oh, you foolish Alice!\\' she answered herself. \\'How can you learn\\nlessons in here? Why, there\\'s hardly room for YOU, and no room at all\\nfor any lesson-books!\\'\\n\\nAnd so she went on, taking first one side and then the other, and making\\nquite a conversation of it altogether; but after a few minutes she heard\\na voice outside, and stopped to listen.\\n\\n\\'Mary Ann! Mary Ann!\\' said the voice. \\'Fetch me my gloves this moment!\\'\\nThen came a little pattering of feet on the stairs. Alice knew it was\\nthe Rabbit coming to look for her, and she trembled till she shook the\\nhouse, quite forgetting that she was now about a thousand times as large\\nas the Rabbit, and had no reason to be afraid of it.\\n\\nPresently the Rabbit came up to the door, and tried to open it; but, as\\nthe door opened inwards, and Alice\\'s elbow was pressed hard against it,\\nthat attempt proved a failure. Alice heard it say to itself \\'Then I\\'ll\\ngo round and get in at the window.\\'\\n\\n\\'THAT you won\\'t\\' thought Alice, and, after waiting till she fancied\\nshe heard the Rabbit just under the window, she suddenly spread out her\\nhand, and made a snatch in the air. She did not get hold of anything,\\nbut she heard a little shriek and a fall, and a crash of broken glass,\\nfrom which she concluded that it was just possible it had fallen into a\\ncucumber-frame, or something of the sort.\\n\\nNext came an angry voice--the Rabbit\\'s--\\'Pat! Pat! Where are you?\\' And\\nthen a voice she had never heard before, \\'Sure then I\\'m here! Digging\\nfor apples, yer honour!\\'\\n\\n\\'Digging for apples, indeed!\\' said the Rabbit angrily. \\'Here! Come and\\nhelp me out of THIS!\\' (Sounds of more broken glass.)\\n\\n\\'Now tell me, Pat, what\\'s that in the window?\\'\\n\\n\\'Sure, it\\'s an arm, yer honour!\\' (He pronounced it \\'arrum.\\')\\n\\n\\'An arm, you goose! Who ever saw one that size? Why, it fills the whole\\nwindow!\\'\\n\\n\\'Sure, it does, yer honour: but it\\'s an arm for all that.\\'\\n\\n\\'Well, it\\'s got no business there, at any rate: go and take it away!\\'\\n\\nThere was a long silence after this, and Alice could only hear whispers\\nnow and then; such as, \\'Sure, I don\\'t like it, yer honour, at all, at\\nall!\\' \\'Do as I tell you, you coward!\\' and at last she spread out her\\nhand again, and made another snatch in the air. This time there were\\nTWO little shrieks, and more sounds of broken glass. \\'What a number of\\ncucumber-frames there must be!\\' thought Alice. \\'I wonder what they\\'ll do\\nnext! As for pulling me out of the window, I only wish they COULD! I\\'m\\nsure I don\\'t want to stay in here any longer!\\'\\n\\nShe waited for some time without hearing anything more: at last came a\\nrumbling of little cartwheels, and the sound of a good many voices\\nall talking together: she made out the words: \\'Where\\'s the other\\nladder?--Why, I hadn\\'t to bring but one; Bill\\'s got the other--Bill!\\nfetch it here, lad!--Here, put \\'em up at this corner--No, tie \\'em\\ntogether first--they don\\'t reach half high enough yet--Oh! they\\'ll\\ndo well enough; don\\'t be particular--Here, Bill! catch hold of this\\nrope--Will the roof bear?--Mind that loose slate--Oh, it\\'s coming\\ndown! Heads below!\\' (a loud crash)--\\'Now, who did that?--It was Bill, I\\nfancy--Who\\'s to go down the chimney?--Nay, I shan\\'t! YOU do it!--That I\\nwon\\'t, then!--Bill\\'s to go down--Here, Bill! the master says you\\'re to\\ngo down the chimney!\\'\\n\\n\\'Oh! So Bill\\'s got to come down the chimney, has he?\\' said Alice to\\nherself. \\'Shy, they seem to put everything upon Bill! I wouldn\\'t be in\\nBill\\'s place for a good deal: this fireplace is narrow, to be sure; but\\nI THINK I can kick a little!\\'\\n\\nShe drew her foot as far down the chimney as she could, and waited\\ntill she heard a little animal (she couldn\\'t guess of what sort it was)\\nscratching and scrambling about in the chimney close above her: then,\\nsaying to herself \\'This is Bill,\\' she gave one sharp kick, and waited to\\nsee what would happen next.\\n\\nThe first thing she heard was a general chorus of \\'There goes Bill!\\'\\nthen the Rabbit\\'s voice along--\\'Catch him, you by the hedge!\\' then\\nsilence, and then another confusion of voices--\\'Hold up his head--Brandy\\nnow--Don\\'t choke him--How was it, old fellow? What happened to you? Tell\\nus all about it!\\'\\n\\nLast came a little feeble, squeaking voice, (\\'That\\'s Bill,\\' thought\\nAlice,) \\'Well, I hardly know--No more, thank ye; I\\'m better now--but I\\'m\\na deal too flustered to tell you--all I know is, something comes at me\\nlike a Jack-in-the-box, and up I goes like a sky-rocket!\\'\\n\\n\\'So you did, old fellow!\\' said the others.\\n\\n\\'We must burn the house down!\\' said the Rabbit\\'s voice; and Alice called\\nout as loud as she could, \\'If you do. I\\'ll set Dinah at you!\\'\\n\\nThere was a dead silence instantly, and Alice thought to herself, \\'I\\nwonder what they WILL do next! If they had any sense, they\\'d take the\\nroof off.\\' After a minute or two, they began moving about again, and\\nAlice heard the Rabbit say, \\'A barrowful will do, to begin with.\\'\\n\\n\\'A barrowful of WHAT?\\' thought Alice; but she had not long to doubt,\\nfor the next moment a shower of little pebbles came rattling in at the\\nwindow, and some of them hit her in the face. \\'I\\'ll put a stop to this,\\'\\nshe said to herself, and shouted out, \\'You\\'d better not do that again!\\'\\nwhich produced another dead silence.\\n\\nAlice noticed with some surprise that the pebbles were all turning into\\nlittle cakes as they lay on the floor, and a bright idea came into her\\nhead. \\'If I eat one of these cakes,\\' she thought, \\'it\\'s sure to make\\nSOME change in my size; and as it can\\'t possibly make me larger, it must\\nmake me smaller, I suppose.\\'\\n\\nSo she swallowed one of the cakes, and was delighted to find that she\\nbegan shrinking directly. As soon as she was small enough to get through\\nthe door, she ran out of the house, and found quite a crowd of little\\nanimals and birds waiting outside. The poor little Lizard, Bill, was\\nin the middle, being held up by two guinea-pigs, who were giving it\\nsomething out of a bottle. They all made a rush at Alice the moment she\\nappeared; but she ran off as hard as she could, and soon found herself\\nsafe in a thick wood.\\n\\n\\'The first thing I\\'ve got to do,\\' said Alice to herself, as she wandered\\nabout in the wood, \\'is to grow to my right size again; and the second\\nthing is to find my way into that lovely garden. I think that will be\\nthe best plan.\\'\\n\\nIt sounded an excellent plan, no doubt, and very neatly and simply\\narranged; the only difficulty was, that she had not the smallest idea\\nhow to set about it; and while she was peering about anxiously among\\nthe trees, a little sharp bark just over her head made her look up in a\\ngreat hurry.\\n\\nAn enormous puppy was looking down at her with large round eyes, and\\nfeebly stretching out one paw, trying to touch her. \\'Poor little thing!\\'\\nsaid Alice, in a coaxing tone, and she tried hard to whistle to it; but\\nshe was terribly frightened all the time at the thought that it might be\\nhungry, in which case it would be very likely to eat her up in spite of\\nall her coaxing.\\n\\nHardly knowing what she did, she picked up a little bit of stick, and\\nheld it out to the puppy; whereupon the puppy jumped into the air off\\nall its feet at once, with a yelp of delight, and rushed at the stick,\\nand made believe to worry it; then Alice dodged behind a great thistle,\\nto keep herself from being run over; and the moment she appeared on the\\nother side, the puppy made another rush at the stick, and tumbled head\\nover heels in its hurry to get hold of it; then Alice, thinking it was\\nvery like having a game of play with a cart-horse, and expecting every\\nmoment to be trampled under its feet, ran round the thistle again; then\\nthe puppy began a series of short charges at the stick, running a very\\nlittle way forwards each time and a long way back, and barking hoarsely\\nall the while, till at last it sat down a good way off, panting, with\\nits tongue hanging out of its mouth, and its great eyes half shut.\\n\\nThis seemed to Alice a good opportunity for making her escape; so she\\nset off at once, and ran till she was quite tired and out of breath, and\\ntill the puppy\\'s bark sounded quite faint in the distance.\\n\\n\\'And yet what a dear little puppy it was!\\' said Alice, as she leant\\nagainst a buttercup to rest herself, and fanned herself with one of the\\nleaves: \\'I should have liked teaching it tricks very much, if--if I\\'d\\nonly been the right size to do it! Oh dear! I\\'d nearly forgotten that\\nI\\'ve got to grow up again! Let me see--how IS it to be managed? I\\nsuppose I ought to eat or drink something or other; but the great\\nquestion is, what?\\'\\n\\nThe great question certainly was, what? Alice looked all round her at\\nthe flowers and the blades of grass, but she did not see anything that\\nlooked like the right thing to eat or drink under the circumstances.\\nThere was a large mushroom growing near her, about the same height as\\nherself; and when she had looked under it, and on both sides of it, and\\nbehind it, it occurred to her that she might as well look and see what\\nwas on the top of it.\\n\\nShe stretched herself up on tiptoe, and peeped over the edge of the\\nmushroom, and her eyes immediately met those of a large caterpillar,\\nthat was sitting on the top with its arms folded, quietly smoking a long\\nhookah, and taking not the smallest notice of her or of anything else.\\n\\n\\n\\n\\nCHAPTER V. Advice from a Caterpillar\\n\\nThe Caterpillar and Alice looked at each other for some time in silence:\\nat last the Caterpillar took the hookah out of its mouth, and addressed\\nher in a languid, sleepy voice.\\n\\n\\'Who are YOU?\\' said the Caterpillar.\\n\\nThis was not an encouraging opening for a conversation. Alice replied,\\nrather shyly, \\'I--I hardly know, sir, just at present--at least I know\\nwho I WAS when I got up this morning, but I think I must have been\\nchanged several times since then.\\'\\n\\n\\'What do you mean by that?\\' said the Caterpillar sternly. \\'Explain\\nyourself!\\'\\n\\n\\'I can\\'t explain MYSELF, I\\'m afraid, sir\\' said Alice, \\'because I\\'m not\\nmyself, you see.\\'\\n\\n\\'I don\\'t see,\\' said the Caterpillar.\\n\\n\\'I\\'m afraid I can\\'t put it more clearly,\\' Alice replied very politely,\\n\\'for I can\\'t understand it myself to begin with; and being so many\\ndifferent sizes in a day is very confusing.\\'\\n\\n\\'It isn\\'t,\\' said the Caterpillar.\\n\\n\\'Well, perhaps you haven\\'t found it so yet,\\' said Alice; \\'but when you\\nhave to turn into a chrysalis--you will some day, you know--and then\\nafter that into a butterfly, I should think you\\'ll feel it a little\\nqueer, won\\'t you?\\'\\n\\n\\'Not a bit,\\' said the Caterpillar.\\n\\n\\'Well, perhaps your feelings may be different,\\' said Alice; \\'all I know\\nis, it would feel very queer to ME.\\'\\n\\n\\'You!\\' said the Caterpillar contemptuously. \\'Who are YOU?\\'\\n\\nWhich brought them back again to the beginning of the conversation.\\nAlice felt a little irritated at the Caterpillar\\'s making such VERY\\nshort remarks, and she drew herself up and said, very gravely, \\'I think,\\nyou ought to tell me who YOU are, first.\\'\\n\\n\\'Why?\\' said the Caterpillar.\\n\\nHere was another puzzling question; and as Alice could not think of any\\ngood reason, and as the Caterpillar seemed to be in a VERY unpleasant\\nstate of mind, she turned away.\\n\\n\\'Come back!\\' the Caterpillar called after her. \\'I\\'ve something important\\nto say!\\'\\n\\nThis sounded promising, certainly: Alice turned and came back again.\\n\\n\\'Keep your temper,\\' said the Caterpillar.\\n\\n\\'Is that all?\\' said Alice, swallowing down her anger as well as she\\ncould.\\n\\n\\'No,\\' said the Caterpillar.\\n\\nAlice thought she might as well wait, as she had nothing else to do, and\\nperhaps after all it might tell her something worth hearing. For some\\nminutes it puffed away without speaking, but at last it unfolded its\\narms, took the hookah out of its mouth again, and said, \\'So you think\\nyou\\'re changed, do you?\\'\\n\\n\\'I\\'m afraid I am, sir,\\' said Alice; \\'I can\\'t remember things as I\\nused--and I don\\'t keep the same size for ten minutes together!\\'\\n\\n\\'Can\\'t remember WHAT things?\\' said the Caterpillar.\\n\\n\\'Well, I\\'ve tried to say \"HOW DOTH THE LITTLE BUSY BEE,\" but it all came\\ndifferent!\\' Alice replied in a very melancholy voice.\\n\\n\\'Repeat, \"YOU ARE OLD, FATHER WILLIAM,\"\\' said the Caterpillar.\\n\\nAlice folded her hands, and began:--\\n\\n   \\'You are old, Father William,\\' the young man said,\\n    \\'And your hair has become very white;\\n   And yet you incessantly stand on your head--\\n    Do you think, at your age, it is right?\\'\\n\\n   \\'In my youth,\\' Father William replied to his son,\\n    \\'I feared it might injure the brain;\\n   But, now that I\\'m perfectly sure I have none,\\n    Why, I do it again and again.\\'\\n\\n   \\'You are old,\\' said the youth, \\'as I mentioned before,\\n    And have grown most uncommonly fat;\\n   Yet you turned a back-somersault in at the door--\\n    Pray, what is the reason of that?\\'\\n\\n   \\'In my youth,\\' said the sage, as he shook his grey locks,\\n    \\'I kept all my limbs very supple\\n   By the use of this ointment--one shilling the box--\\n    Allow me to sell you a couple?\\'\\n\\n   \\'You are old,\\' said the youth, \\'and your jaws are too weak\\n    For anything tougher than suet;\\n   Yet you finished the goose, with the bones and the beak--\\n    Pray how did you manage to do it?\\'\\n\\n   \\'In my youth,\\' said his father, \\'I took to the law,\\n    And argued each case with my wife;\\n   And the muscular strength, which it gave to my jaw,\\n    Has lasted the rest of my life.\\'\\n\\n   \\'You are old,\\' said the youth, \\'one would hardly suppose\\n    That your eye was as steady as ever;\\n   Yet you balanced an eel on the end of your nose--\\n    What made you so awfully clever?\\'\\n\\n   \\'I have answered three questions, and that is enough,\\'\\n    Said his father; \\'don\\'t give yourself airs!\\n   Do you think I can listen all day to such stuff?\\n    Be off, or I\\'ll kick you down stairs!\\'\\n\\n\\n\\'That is not said right,\\' said the Caterpillar.\\n\\n\\'Not QUITE right, I\\'m afraid,\\' said Alice, timidly; \\'some of the words\\nhave got altered.\\'\\n\\n\\'It is wrong from beginning to end,\\' said the Caterpillar decidedly, and\\nthere was silence for some minutes.\\n\\nThe Caterpillar was the first to speak.\\n\\n\\'What size do you want to be?\\' it asked.\\n\\n\\'Oh, I\\'m not particular as to size,\\' Alice hastily replied; \\'only one\\ndoesn\\'t like changing so often, you know.\\'\\n\\n\\'I DON\\'T know,\\' said the Caterpillar.\\n\\nAlice said nothing: she had never been so much contradicted in her life\\nbefore, and she felt that she was losing her temper.\\n\\n\\'Are you content now?\\' said the Caterpillar.\\n\\n\\'Well, I should like to be a LITTLE larger, sir, if you wouldn\\'t mind,\\'\\nsaid Alice: \\'three inches is such a wretched height to be.\\'\\n\\n\\'It is a very good height indeed!\\' said the Caterpillar angrily, rearing\\nitself upright as it spoke (it was exactly three inches high).\\n\\n\\'But I\\'m not used to it!\\' pleaded poor Alice in a piteous tone. And\\nshe thought of herself, \\'I wish the creatures wouldn\\'t be so easily\\noffended!\\'\\n\\n\\'You\\'ll get used to it in time,\\' said the Caterpillar; and it put the\\nhookah into its mouth and began smoking again.\\n\\nThis time Alice waited patiently until it chose to speak again. In\\na minute or two the Caterpillar took the hookah out of its mouth\\nand yawned once or twice, and shook itself. Then it got down off the\\nmushroom, and crawled away in the grass, merely remarking as it went,\\n\\'One side will make you grow taller, and the other side will make you\\ngrow shorter.\\'\\n\\n\\'One side of WHAT? The other side of WHAT?\\' thought Alice to herself.\\n\\n\\'Of the mushroom,\\' said the Caterpillar, just as if she had asked it\\naloud; and in another moment it was out of sight.\\n\\nAlice remained looking thoughtfully at the mushroom for a minute, trying\\nto make out which were the two sides of it; and as it was perfectly\\nround, she found this a very difficult question. However, at last she\\nstretched her arms round it as far as they would go, and broke off a bit\\nof the edge with each hand.\\n\\n\\'And now which is which?\\' she said to herself, and nibbled a little of\\nthe right-hand bit to try the effect: the next moment she felt a violent\\nblow underneath her chin: it had struck her foot!\\n\\nShe was a good deal frightened by this very sudden change, but she felt\\nthat there was no time to be lost, as she was shrinking rapidly; so she\\nset to work at once to eat some of the other bit. Her chin was pressed\\nso closely against her foot, that there was hardly room to open her\\nmouth; but she did it at last, and managed to swallow a morsel of the\\nlefthand bit.\\n\\n\\n  *    *    *    *    *    *    *\\n\\n    *    *    *    *    *    *\\n\\n  *    *    *    *    *    *    *\\n\\n\\'Come, my head\\'s free at last!\\' said Alice in a tone of delight, which\\nchanged into alarm in another moment, when she found that her shoulders\\nwere nowhere to be found: all she could see, when she looked down, was\\nan immense length of neck, which seemed to rise like a stalk out of a\\nsea of green leaves that lay far below her.\\n\\n\\'What CAN all that green stuff be?\\' said Alice. \\'And where HAVE my\\nshoulders got to? And oh, my poor hands, how is it I can\\'t see you?\\'\\nShe was moving them about as she spoke, but no result seemed to follow,\\nexcept a little shaking among the distant green leaves.\\n\\nAs there seemed to be no chance of getting her hands up to her head, she\\ntried to get her head down to them, and was delighted to find that her\\nneck would bend about easily in any direction, like a serpent. She had\\njust succeeded in curving it down into a graceful zigzag, and was going\\nto dive in among the leaves, which she found to be nothing but the tops\\nof the trees under which she had been wandering, when a sharp hiss made\\nher draw back in a hurry: a large pigeon had flown into her face, and\\nwas beating her violently with its wings.\\n\\n\\'Serpent!\\' screamed the Pigeon.\\n\\n\\'I\\'m NOT a serpent!\\' said Alice indignantly. \\'Let me alone!\\'\\n\\n\\'Serpent, I say again!\\' repeated the Pigeon, but in a more subdued tone,\\nand added with a kind of sob, \\'I\\'ve tried every way, and nothing seems\\nto suit them!\\'\\n\\n\\'I haven\\'t the least idea what you\\'re talking about,\\' said Alice.\\n\\n\\'I\\'ve tried the roots of trees, and I\\'ve tried banks, and I\\'ve tried\\nhedges,\\' the Pigeon went on, without attending to her; \\'but those\\nserpents! There\\'s no pleasing them!\\'\\n\\nAlice was more and more puzzled, but she thought there was no use in\\nsaying anything more till the Pigeon had finished.\\n\\n\\'As if it wasn\\'t trouble enough hatching the eggs,\\' said the Pigeon;\\n\\'but I must be on the look-out for serpents night and day! Why, I\\nhaven\\'t had a wink of sleep these three weeks!\\'\\n\\n\\'I\\'m very sorry you\\'ve been annoyed,\\' said Alice, who was beginning to\\nsee its meaning.\\n\\n\\'And just as I\\'d taken the highest tree in the wood,\\' continued the\\nPigeon, raising its voice to a shriek, \\'and just as I was thinking I\\nshould be free of them at last, they must needs come wriggling down from\\nthe sky! Ugh, Serpent!\\'\\n\\n\\'But I\\'m NOT a serpent, I tell you!\\' said Alice. \\'I\\'m a--I\\'m a--\\'\\n\\n\\'Well! WHAT are you?\\' said the Pigeon. \\'I can see you\\'re trying to\\ninvent something!\\'\\n\\n\\'I--I\\'m a little girl,\\' said Alice, rather doubtfully, as she remembered\\nthe number of changes she had gone through that day.\\n\\n\\'A likely story indeed!\\' said the Pigeon in a tone of the deepest\\ncontempt. \\'I\\'ve seen a good many little girls in my time, but never ONE\\nwith such a neck as that! No, no! You\\'re a serpent; and there\\'s no use\\ndenying it. I suppose you\\'ll be telling me next that you never tasted an\\negg!\\'\\n\\n\\'I HAVE tasted eggs, certainly,\\' said Alice, who was a very truthful\\nchild; \\'but little girls eat eggs quite as much as serpents do, you\\nknow.\\'\\n\\n\\'I don\\'t believe it,\\' said the Pigeon; \\'but if they do, why then they\\'re\\na kind of serpent, that\\'s all I can say.\\'\\n\\nThis was such a new idea to Alice, that she was quite silent for a\\nminute or two, which gave the Pigeon the opportunity of adding, \\'You\\'re\\nlooking for eggs, I know THAT well enough; and what does it matter to me\\nwhether you\\'re a little girl or a serpent?\\'\\n\\n\\'It matters a good deal to ME,\\' said Alice hastily; \\'but I\\'m not looking\\nfor eggs, as it happens; and if I was, I shouldn\\'t want YOURS: I don\\'t\\nlike them raw.\\'\\n\\n\\'Well, be off, then!\\' said the Pigeon in a sulky tone, as it settled\\ndown again into its nest. Alice crouched down among the trees as well as\\nshe could, for her neck kept getting entangled among the branches, and\\nevery now and then she had to stop and untwist it. After a while she\\nremembered that she still held the pieces of mushroom in her hands, and\\nshe set to work very carefully, nibbling first at one and then at the\\nother, and growing sometimes taller and sometimes shorter, until she had\\nsucceeded in bringing herself down to her usual height.\\n\\nIt was so long since she had been anything near the right size, that it\\nfelt quite strange at first; but she got used to it in a few minutes,\\nand began talking to herself, as usual. \\'Come, there\\'s half my plan done\\nnow! How puzzling all these changes are! I\\'m never sure what I\\'m going\\nto be, from one minute to another! However, I\\'ve got back to my right\\nsize: the next thing is, to get into that beautiful garden--how IS that\\nto be done, I wonder?\\' As she said this, she came suddenly upon an open\\nplace, with a little house in it about four feet high. \\'Whoever lives\\nthere,\\' thought Alice, \\'it\\'ll never do to come upon them THIS size: why,\\nI should frighten them out of their wits!\\' So she began nibbling at the\\nrighthand bit again, and did not venture to go near the house till she\\nhad brought herself down to nine inches high.\\n\\n\\n\\n\\nCHAPTER VI. Pig and Pepper\\n\\nFor a minute or two she stood looking at the house, and wondering what\\nto do next, when suddenly a footman in livery came running out of the\\nwood--(she considered him to be a footman because he was in livery:\\notherwise, judging by his face only, she would have called him a\\nfish)--and rapped loudly at the door with his knuckles. It was opened\\nby another footman in livery, with a round face, and large eyes like a\\nfrog; and both footmen, Alice noticed, had powdered hair that curled all\\nover their heads. She felt very curious to know what it was all about,\\nand crept a little way out of the wood to listen.\\n\\nThe Fish-Footman began by producing from under his arm a great letter,\\nnearly as large as himself, and this he handed over to the other,\\nsaying, in a solemn tone, \\'For the Duchess. An invitation from the Queen\\nto play croquet.\\' The Frog-Footman repeated, in the same solemn tone,\\nonly changing the order of the words a little, \\'From the Queen. An\\ninvitation for the Duchess to play croquet.\\'\\n\\nThen they both bowed low, and their curls got entangled together.\\n\\nAlice laughed so much at this, that she had to run back into the\\nwood for fear of their hearing her; and when she next peeped out the\\nFish-Footman was gone, and the other was sitting on the ground near the\\ndoor, staring stupidly up into the sky.\\n\\nAlice went timidly up to the door, and knocked.\\n\\n\\'There\\'s no sort of use in knocking,\\' said the Footman, \\'and that for\\ntwo reasons. First, because I\\'m on the same side of the door as you\\nare; secondly, because they\\'re making such a noise inside, no one could\\npossibly hear you.\\' And certainly there was a most extraordinary noise\\ngoing on within--a constant howling and sneezing, and every now and then\\na great crash, as if a dish or kettle had been broken to pieces.\\n\\n\\'Please, then,\\' said Alice, \\'how am I to get in?\\'\\n\\n\\'There might be some sense in your knocking,\\' the Footman went on\\nwithout attending to her, \\'if we had the door between us. For instance,\\nif you were INSIDE, you might knock, and I could let you out, you know.\\'\\nHe was looking up into the sky all the time he was speaking, and this\\nAlice thought decidedly uncivil. \\'But perhaps he can\\'t help it,\\' she\\nsaid to herself; \\'his eyes are so VERY nearly at the top of his head.\\nBut at any rate he might answer questions.--How am I to get in?\\' she\\nrepeated, aloud.\\n\\n\\'I shall sit here,\\' the Footman remarked, \\'till tomorrow--\\'\\n\\nAt this moment the door of the house opened, and a large plate came\\nskimming out, straight at the Footman\\'s head: it just grazed his nose,\\nand broke to pieces against one of the trees behind him.\\n\\n\\'--or next day, maybe,\\' the Footman continued in the same tone, exactly\\nas if nothing had happened.\\n\\n\\'How am I to get in?\\' asked Alice again, in a louder tone.\\n\\n\\'ARE you to get in at all?\\' said the Footman. \\'That\\'s the first\\nquestion, you know.\\'\\n\\nIt was, no doubt: only Alice did not like to be told so. \\'It\\'s really\\ndreadful,\\' she muttered to herself, \\'the way all the creatures argue.\\nIt\\'s enough to drive one crazy!\\'\\n\\nThe Footman seemed to think this a good opportunity for repeating his\\nremark, with variations. \\'I shall sit here,\\' he said, \\'on and off, for\\ndays and days.\\'\\n\\n\\'But what am I to do?\\' said Alice.\\n\\n\\'Anything you like,\\' said the Footman, and began whistling.\\n\\n\\'Oh, there\\'s no use in talking to him,\\' said Alice desperately: \\'he\\'s\\nperfectly idiotic!\\' And she opened the door and went in.\\n\\nThe door led right into a large kitchen, which was full of smoke from\\none end to the other: the Duchess was sitting on a three-legged stool in\\nthe middle, nursing a baby; the cook was leaning over the fire, stirring\\na large cauldron which seemed to be full of soup.\\n\\n\\'There\\'s certainly too much pepper in that soup!\\' Alice said to herself,\\nas well as she could for sneezing.\\n\\nThere was certainly too much of it in the air. Even the Duchess\\nsneezed occasionally; and as for the baby, it was sneezing and howling\\nalternately without a moment\\'s pause. The only things in the kitchen\\nthat did not sneeze, were the cook, and a large cat which was sitting on\\nthe hearth and grinning from ear to ear.\\n\\n\\'Please would you tell me,\\' said Alice, a little timidly, for she was\\nnot quite sure whether it was good manners for her to speak first, \\'why\\nyour cat grins like that?\\'\\n\\n\\'It\\'s a Cheshire cat,\\' said the Duchess, \\'and that\\'s why. Pig!\\'\\n\\nShe said the last word with such sudden violence that Alice quite\\njumped; but she saw in another moment that it was addressed to the baby,\\nand not to her, so she took courage, and went on again:--\\n\\n\\'I didn\\'t know that Cheshire cats always grinned; in fact, I didn\\'t know\\nthat cats COULD grin.\\'\\n\\n\\'They all can,\\' said the Duchess; \\'and most of \\'em do.\\'\\n\\n\\'I don\\'t know of any that do,\\' Alice said very politely, feeling quite\\npleased to have got into a conversation.\\n\\n\\'You don\\'t know much,\\' said the Duchess; \\'and that\\'s a fact.\\'\\n\\nAlice did not at all like the tone of this remark, and thought it would\\nbe as well to introduce some other subject of conversation. While she\\nwas trying to fix on one, the cook took the cauldron of soup off the\\nfire, and at once set to work throwing everything within her reach at\\nthe Duchess and the baby--the fire-irons came first; then followed a\\nshower of saucepans, plates, and dishes. The Duchess took no notice of\\nthem even when they hit her; and the baby was howling so much already,\\nthat it was quite impossible to say whether the blows hurt it or not.\\n\\n\\'Oh, PLEASE mind what you\\'re doing!\\' cried Alice, jumping up and down in\\nan agony of terror. \\'Oh, there goes his PRECIOUS nose\\'; as an unusually\\nlarge saucepan flew close by it, and very nearly carried it off.\\n\\n\\'If everybody minded their own business,\\' the Duchess said in a hoarse\\ngrowl, \\'the world would go round a deal faster than it does.\\'\\n\\n\\'Which would NOT be an advantage,\\' said Alice, who felt very glad to get\\nan opportunity of showing off a little of her knowledge. \\'Just think of\\nwhat work it would make with the day and night! You see the earth takes\\ntwenty-four hours to turn round on its axis--\\'\\n\\n\\'Talking of axes,\\' said the Duchess, \\'chop off her head!\\'\\n\\nAlice glanced rather anxiously at the cook, to see if she meant to take\\nthe hint; but the cook was busily stirring the soup, and seemed not to\\nbe listening, so she went on again: \\'Twenty-four hours, I THINK; or is\\nit twelve? I--\\'\\n\\n\\'Oh, don\\'t bother ME,\\' said the Duchess; \\'I never could abide figures!\\'\\nAnd with that she began nursing her child again, singing a sort of\\nlullaby to it as she did so, and giving it a violent shake at the end of\\nevery line:\\n\\n   \\'Speak roughly to your little boy,\\n    And beat him when he sneezes:\\n   He only does it to annoy,\\n    Because he knows it teases.\\'\\n\\n         CHORUS.\\n\\n (In which the cook and the baby joined):--\\n\\n       \\'Wow! wow! wow!\\'\\n\\nWhile the Duchess sang the second verse of the song, she kept tossing\\nthe baby violently up and down, and the poor little thing howled so,\\nthat Alice could hardly hear the words:--\\n\\n   \\'I speak severely to my boy,\\n    I beat him when he sneezes;\\n   For he can thoroughly enjoy\\n    The pepper when he pleases!\\'\\n\\n         CHORUS.\\n\\n       \\'Wow! wow! wow!\\'\\n\\n\\'Here! you may nurse it a bit, if you like!\\' the Duchess said to Alice,\\nflinging the baby at her as she spoke. \\'I must go and get ready to play\\ncroquet with the Queen,\\' and she hurried out of the room. The cook threw\\na frying-pan after her as she went out, but it just missed her.\\n\\nAlice caught the baby with some difficulty, as it was a queer-shaped\\nlittle creature, and held out its arms and legs in all directions, \\'just\\nlike a star-fish,\\' thought Alice. The poor little thing was snorting\\nlike a steam-engine when she caught it, and kept doubling itself up and\\nstraightening itself out again, so that altogether, for the first minute\\nor two, it was as much as she could do to hold it.\\n\\nAs soon as she had made out the proper way of nursing it, (which was to\\ntwist it up into a sort of knot, and then keep tight hold of its right\\near and left foot, so as to prevent its undoing itself,) she carried\\nit out into the open air. \\'IF I don\\'t take this child away with me,\\'\\nthought Alice, \\'they\\'re sure to kill it in a day or two: wouldn\\'t it be\\nmurder to leave it behind?\\' She said the last words out loud, and the\\nlittle thing grunted in reply (it had left off sneezing by this time).\\n\\'Don\\'t grunt,\\' said Alice; \\'that\\'s not at all a proper way of expressing\\nyourself.\\'\\n\\nThe baby grunted again, and Alice looked very anxiously into its face to\\nsee what was the matter with it. There could be no doubt that it had\\na VERY turn-up nose, much more like a snout than a real nose; also its\\neyes were getting extremely small for a baby: altogether Alice did not\\nlike the look of the thing at all. \\'But perhaps it was only sobbing,\\'\\nshe thought, and looked into its eyes again, to see if there were any\\ntears.\\n\\nNo, there were no tears. \\'If you\\'re going to turn into a pig, my dear,\\'\\nsaid Alice, seriously, \\'I\\'ll have nothing more to do with you. Mind\\nnow!\\' The poor little thing sobbed again (or grunted, it was impossible\\nto say which), and they went on for some while in silence.\\n\\nAlice was just beginning to think to herself, \\'Now, what am I to do with\\nthis creature when I get it home?\\' when it grunted again, so violently,\\nthat she looked down into its face in some alarm. This time there could\\nbe NO mistake about it: it was neither more nor less than a pig, and she\\nfelt that it would be quite absurd for her to carry it further.\\n\\nSo she set the little creature down, and felt quite relieved to see\\nit trot away quietly into the wood. \\'If it had grown up,\\' she said\\nto herself, \\'it would have made a dreadfully ugly child: but it makes\\nrather a handsome pig, I think.\\' And she began thinking over other\\nchildren she knew, who might do very well as pigs, and was just saying\\nto herself, \\'if one only knew the right way to change them--\\' when she\\nwas a little startled by seeing the Cheshire Cat sitting on a bough of a\\ntree a few yards off.\\n\\nThe Cat only grinned when it saw Alice. It looked good-natured, she\\nthought: still it had VERY long claws and a great many teeth, so she\\nfelt that it ought to be treated with respect.\\n\\n\\'Cheshire Puss,\\' she began, rather timidly, as she did not at all know\\nwhether it would like the name: however, it only grinned a little wider.\\n\\'Come, it\\'s pleased so far,\\' thought Alice, and she went on. \\'Would you\\ntell me, please, which way I ought to go from here?\\'\\n\\n\\'That depends a good deal on where you want to get to,\\' said the Cat.\\n\\n\\'I don\\'t much care where--\\' said Alice.\\n\\n\\'Then it doesn\\'t matter which way you go,\\' said the Cat.\\n\\n\\'--so long as I get SOMEWHERE,\\' Alice added as an explanation.\\n\\n\\'Oh, you\\'re sure to do that,\\' said the Cat, \\'if you only walk long\\nenough.\\'\\n\\nAlice felt that this could not be denied, so she tried another question.\\n\\'What sort of people live about here?\\'\\n\\n\\'In THAT direction,\\' the Cat said, waving its right paw round, \\'lives\\na Hatter: and in THAT direction,\\' waving the other paw, \\'lives a March\\nHare. Visit either you like: they\\'re both mad.\\'\\n\\n\\'But I don\\'t want to go among mad people,\\' Alice remarked.\\n\\n\\'Oh, you can\\'t help that,\\' said the Cat: \\'we\\'re all mad here. I\\'m mad.\\nYou\\'re mad.\\'\\n\\n\\'How do you know I\\'m mad?\\' said Alice.\\n\\n\\'You must be,\\' said the Cat, \\'or you wouldn\\'t have come here.\\'\\n\\nAlice didn\\'t think that proved it at all; however, she went on \\'And how\\ndo you know that you\\'re mad?\\'\\n\\n\\'To begin with,\\' said the Cat, \\'a dog\\'s not mad. You grant that?\\'\\n\\n\\'I suppose so,\\' said Alice.\\n\\n\\'Well, then,\\' the Cat went on, \\'you see, a dog growls when it\\'s angry,\\nand wags its tail when it\\'s pleased. Now I growl when I\\'m pleased, and\\nwag my tail when I\\'m angry. Therefore I\\'m mad.\\'\\n\\n\\'I call it purring, not growling,\\' said Alice.\\n\\n\\'Call it what you like,\\' said the Cat. \\'Do you play croquet with the\\nQueen to-day?\\'\\n\\n\\'I should like it very much,\\' said Alice, \\'but I haven\\'t been invited\\nyet.\\'\\n\\n\\'You\\'ll see me there,\\' said the Cat, and vanished.\\n\\nAlice was not much surprised at this, she was getting so used to queer\\nthings happening. While she was looking at the place where it had been,\\nit suddenly appeared again.\\n\\n\\'By-the-bye, what became of the baby?\\' said the Cat. \\'I\\'d nearly\\nforgotten to ask.\\'\\n\\n\\'It turned into a pig,\\' Alice quietly said, just as if it had come back\\nin a natural way.\\n\\n\\'I thought it would,\\' said the Cat, and vanished again.\\n\\nAlice waited a little, half expecting to see it again, but it did not\\nappear, and after a minute or two she walked on in the direction in\\nwhich the March Hare was said to live. \\'I\\'ve seen hatters before,\\' she\\nsaid to herself; \\'the March Hare will be much the most interesting, and\\nperhaps as this is May it won\\'t be raving mad--at least not so mad as\\nit was in March.\\' As she said this, she looked up, and there was the Cat\\nagain, sitting on a branch of a tree.\\n\\n\\'Did you say pig, or fig?\\' said the Cat.\\n\\n\\'I said pig,\\' replied Alice; \\'and I wish you wouldn\\'t keep appearing and\\nvanishing so suddenly: you make one quite giddy.\\'\\n\\n\\'All right,\\' said the Cat; and this time it vanished quite slowly,\\nbeginning with the end of the tail, and ending with the grin, which\\nremained some time after the rest of it had gone.\\n\\n\\'Well! I\\'ve often seen a cat without a grin,\\' thought Alice; \\'but a grin\\nwithout a cat! It\\'s the most curious thing I ever saw in my life!\\'\\n\\nShe had not gone much farther before she came in sight of the house\\nof the March Hare: she thought it must be the right house, because the\\nchimneys were shaped like ears and the roof was thatched with fur. It\\nwas so large a house, that she did not like to go nearer till she had\\nnibbled some more of the lefthand bit of mushroom, and raised herself to\\nabout two feet high: even then she walked up towards it rather timidly,\\nsaying to herself \\'Suppose it should be raving mad after all! I almost\\nwish I\\'d gone to see the Hatter instead!\\'\\n\\n\\n\\n\\nCHAPTER VII. A Mad Tea-Party\\n\\nThere was a table set out under a tree in front of the house, and the\\nMarch Hare and the Hatter were having tea at it: a Dormouse was sitting\\nbetween them, fast asleep, and the other two were using it as a\\ncushion, resting their elbows on it, and talking over its head. \\'Very\\nuncomfortable for the Dormouse,\\' thought Alice; \\'only, as it\\'s asleep, I\\nsuppose it doesn\\'t mind.\\'\\n\\nThe table was a large one, but the three were all crowded together at\\none corner of it: \\'No room! No room!\\' they cried out when they saw Alice\\ncoming. \\'There\\'s PLENTY of room!\\' said Alice indignantly, and she sat\\ndown in a large arm-chair at one end of the table.\\n\\n\\'Have some wine,\\' the March Hare said in an encouraging tone.\\n\\nAlice looked all round the table, but there was nothing on it but tea.\\n\\'I don\\'t see any wine,\\' she remarked.\\n\\n\\'There isn\\'t any,\\' said the March Hare.\\n\\n\\'Then it wasn\\'t very civil of you to offer it,\\' said Alice angrily.\\n\\n\\'It wasn\\'t very civil of you to sit down without being invited,\\' said\\nthe March Hare.\\n\\n\\'I didn\\'t know it was YOUR table,\\' said Alice; \\'it\\'s laid for a great\\nmany more than three.\\'\\n\\n\\'Your hair wants cutting,\\' said the Hatter. He had been looking at Alice\\nfor some time with great curiosity, and this was his first speech.\\n\\n\\'You should learn not to make personal remarks,\\' Alice said with some\\nseverity; \\'it\\'s very rude.\\'\\n\\nThe Hatter opened his eyes very wide on hearing this; but all he SAID\\nwas, \\'Why is a raven like a writing-desk?\\'\\n\\n\\'Come, we shall have some fun now!\\' thought Alice. \\'I\\'m glad they\\'ve\\nbegun asking riddles.--I believe I can guess that,\\' she added aloud.\\n\\n\\'Do you mean that you think you can find out the answer to it?\\' said the\\nMarch Hare.\\n\\n\\'Exactly so,\\' said Alice.\\n\\n\\'Then you should say what you mean,\\' the March Hare went on.\\n\\n\\'I do,\\' Alice hastily replied; \\'at least--at least I mean what I\\nsay--that\\'s the same thing, you know.\\'\\n\\n\\'Not the same thing a bit!\\' said the Hatter. \\'You might just as well say\\nthat \"I see what I eat\" is the same thing as \"I eat what I see\"!\\'\\n\\n\\'You might just as well say,\\' added the March Hare, \\'that \"I like what I\\nget\" is the same thing as \"I get what I like\"!\\'\\n\\n\\'You might just as well say,\\' added the Dormouse, who seemed to be\\ntalking in his sleep, \\'that \"I breathe when I sleep\" is the same thing\\nas \"I sleep when I breathe\"!\\'\\n\\n\\'It IS the same thing with you,\\' said the Hatter, and here the\\nconversation dropped, and the party sat silent for a minute, while Alice\\nthought over all she could remember about ravens and writing-desks,\\nwhich wasn\\'t much.\\n\\nThe Hatter was the first to break the silence. \\'What day of the month\\nis it?\\' he said, turning to Alice: he had taken his watch out of his\\npocket, and was looking at it uneasily, shaking it every now and then,\\nand holding it to his ear.\\n\\nAlice considered a little, and then said \\'The fourth.\\'\\n\\n\\'Two days wrong!\\' sighed the Hatter. \\'I told you butter wouldn\\'t suit\\nthe works!\\' he added looking angrily at the March Hare.\\n\\n\\'It was the BEST butter,\\' the March Hare meekly replied.\\n\\n\\'Yes, but some crumbs must have got in as well,\\' the Hatter grumbled:\\n\\'you shouldn\\'t have put it in with the bread-knife.\\'\\n\\nThe March Hare took the watch and looked at it gloomily: then he dipped\\nit into his cup of tea, and looked at it again: but he could think of\\nnothing better to say than his first remark, \\'It was the BEST butter,\\nyou know.\\'\\n\\nAlice had been looking over his shoulder with some curiosity. \\'What a\\nfunny watch!\\' she remarked. \\'It tells the day of the month, and doesn\\'t\\ntell what o\\'clock it is!\\'\\n\\n\\'Why should it?\\' muttered the Hatter. \\'Does YOUR watch tell you what\\nyear it is?\\'\\n\\n\\'Of course not,\\' Alice replied very readily: \\'but that\\'s because it\\nstays the same year for such a long time together.\\'\\n\\n\\'Which is just the case with MINE,\\' said the Hatter.\\n\\nAlice felt dreadfully puzzled. The Hatter\\'s remark seemed to have no\\nsort of meaning in it, and yet it was certainly English. \\'I don\\'t quite\\nunderstand you,\\' she said, as politely as she could.\\n\\n\\'The Dormouse is asleep again,\\' said the Hatter, and he poured a little\\nhot tea upon its nose.\\n\\nThe Dormouse shook its head impatiently, and said, without opening its\\neyes, \\'Of course, of course; just what I was going to remark myself.\\'\\n\\n\\'Have you guessed the riddle yet?\\' the Hatter said, turning to Alice\\nagain.\\n\\n\\'No, I give it up,\\' Alice replied: \\'what\\'s the answer?\\'\\n\\n\\'I haven\\'t the slightest idea,\\' said the Hatter.\\n\\n\\'Nor I,\\' said the March Hare.\\n\\nAlice sighed wearily. \\'I think you might do something better with the\\ntime,\\' she said, \\'than waste it in asking riddles that have no answers.\\'\\n\\n\\'If you knew Time as well as I do,\\' said the Hatter, \\'you wouldn\\'t talk\\nabout wasting IT. It\\'s HIM.\\'\\n\\n\\'I don\\'t know what you mean,\\' said Alice.\\n\\n\\'Of course you don\\'t!\\' the Hatter said, tossing his head contemptuously.\\n\\'I dare say you never even spoke to Time!\\'\\n\\n\\'Perhaps not,\\' Alice cautiously replied: \\'but I know I have to beat time\\nwhen I learn music.\\'\\n\\n\\'Ah! that accounts for it,\\' said the Hatter. \\'He won\\'t stand beating.\\nNow, if you only kept on good terms with him, he\\'d do almost anything\\nyou liked with the clock. For instance, suppose it were nine o\\'clock in\\nthe morning, just time to begin lessons: you\\'d only have to whisper a\\nhint to Time, and round goes the clock in a twinkling! Half-past one,\\ntime for dinner!\\'\\n\\n(\\'I only wish it was,\\' the March Hare said to itself in a whisper.)\\n\\n\\'That would be grand, certainly,\\' said Alice thoughtfully: \\'but then--I\\nshouldn\\'t be hungry for it, you know.\\'\\n\\n\\'Not at first, perhaps,\\' said the Hatter: \\'but you could keep it to\\nhalf-past one as long as you liked.\\'\\n\\n\\'Is that the way YOU manage?\\' Alice asked.\\n\\nThe Hatter shook his head mournfully. \\'Not I!\\' he replied. \\'We\\nquarrelled last March--just before HE went mad, you know--\\' (pointing\\nwith his tea spoon at the March Hare,) \\'--it was at the great concert\\ngiven by the Queen of Hearts, and I had to sing\\n\\n     \"Twinkle, twinkle, little bat!\\n     How I wonder what you\\'re at!\"\\n\\nYou know the song, perhaps?\\'\\n\\n\\'I\\'ve heard something like it,\\' said Alice.\\n\\n\\'It goes on, you know,\\' the Hatter continued, \\'in this way:--\\n\\n     \"Up above the world you fly,\\n     Like a tea-tray in the sky.\\n         Twinkle, twinkle--\"\\'\\n\\nHere the Dormouse shook itself, and began singing in its sleep \\'Twinkle,\\ntwinkle, twinkle, twinkle--\\' and went on so long that they had to pinch\\nit to make it stop.\\n\\n\\'Well, I\\'d hardly finished the first verse,\\' said the Hatter, \\'when the\\nQueen jumped up and bawled out, \"He\\'s murdering the time! Off with his\\nhead!\"\\'\\n\\n\\'How dreadfully savage!\\' exclaimed Alice.\\n\\n\\'And ever since that,\\' the Hatter went on in a mournful tone, \\'he won\\'t\\ndo a thing I ask! It\\'s always six o\\'clock now.\\'\\n\\nA bright idea came into Alice\\'s head. \\'Is that the reason so many\\ntea-things are put out here?\\' she asked.\\n\\n\\'Yes, that\\'s it,\\' said the Hatter with a sigh: \\'it\\'s always tea-time,\\nand we\\'ve no time to wash the things between whiles.\\'\\n\\n\\'Then you keep moving round, I suppose?\\' said Alice.\\n\\n\\'Exactly so,\\' said the Hatter: \\'as the things get used up.\\'\\n\\n\\'But what happens when you come to the beginning again?\\' Alice ventured\\nto ask.\\n\\n\\'Suppose we change the subject,\\' the March Hare interrupted, yawning.\\n\\'I\\'m getting tired of this. I vote the young lady tells us a story.\\'\\n\\n\\'I\\'m afraid I don\\'t know one,\\' said Alice, rather alarmed at the\\nproposal.\\n\\n\\'Then the Dormouse shall!\\' they both cried. \\'Wake up, Dormouse!\\' And\\nthey pinched it on both sides at once.\\n\\nThe Dormouse slowly opened his eyes. \\'I wasn\\'t asleep,\\' he said in a\\nhoarse, feeble voice: \\'I heard every word you fellows were saying.\\'\\n\\n\\'Tell us a story!\\' said the March Hare.\\n\\n\\'Yes, please do!\\' pleaded Alice.\\n\\n\\'And be quick about it,\\' added the Hatter, \\'or you\\'ll be asleep again\\nbefore it\\'s done.\\'\\n\\n\\'Once upon a time there were three little sisters,\\' the Dormouse began\\nin a great hurry; \\'and their names were Elsie, Lacie, and Tillie; and\\nthey lived at the bottom of a well--\\'\\n\\n\\'What did they live on?\\' said Alice, who always took a great interest in\\nquestions of eating and drinking.\\n\\n\\'They lived on treacle,\\' said the Dormouse, after thinking a minute or\\ntwo.\\n\\n\\'They couldn\\'t have done that, you know,\\' Alice gently remarked; \\'they\\'d\\nhave been ill.\\'\\n\\n\\'So they were,\\' said the Dormouse; \\'VERY ill.\\'\\n\\nAlice tried to fancy to herself what such an extraordinary ways of\\nliving would be like, but it puzzled her too much, so she went on: \\'But\\nwhy did they live at the bottom of a well?\\'\\n\\n\\'Take some more tea,\\' the March Hare said to Alice, very earnestly.\\n\\n\\'I\\'ve had nothing yet,\\' Alice replied in an offended tone, \\'so I can\\'t\\ntake more.\\'\\n\\n\\'You mean you can\\'t take LESS,\\' said the Hatter: \\'it\\'s very easy to take\\nMORE than nothing.\\'\\n\\n\\'Nobody asked YOUR opinion,\\' said Alice.\\n\\n\\'Who\\'s making personal remarks now?\\' the Hatter asked triumphantly.\\n\\nAlice did not quite know what to say to this: so she helped herself\\nto some tea and bread-and-butter, and then turned to the Dormouse, and\\nrepeated her question. \\'Why did they live at the bottom of a well?\\'\\n\\nThe Dormouse again took a minute or two to think about it, and then\\nsaid, \\'It was a treacle-well.\\'\\n\\n\\'There\\'s no such thing!\\' Alice was beginning very angrily, but the\\nHatter and the March Hare went \\'Sh! sh!\\' and the Dormouse sulkily\\nremarked, \\'If you can\\'t be civil, you\\'d better finish the story for\\nyourself.\\'\\n\\n\\'No, please go on!\\' Alice said very humbly; \\'I won\\'t interrupt again. I\\ndare say there may be ONE.\\'\\n\\n\\'One, indeed!\\' said the Dormouse indignantly. However, he consented to\\ngo on. \\'And so these three little sisters--they were learning to draw,\\nyou know--\\'\\n\\n\\'What did they draw?\\' said Alice, quite forgetting her promise.\\n\\n\\'Treacle,\\' said the Dormouse, without considering at all this time.\\n\\n\\'I want a clean cup,\\' interrupted the Hatter: \\'let\\'s all move one place\\non.\\'\\n\\nHe moved on as he spoke, and the Dormouse followed him: the March Hare\\nmoved into the Dormouse\\'s place, and Alice rather unwillingly took\\nthe place of the March Hare. The Hatter was the only one who got any\\nadvantage from the change: and Alice was a good deal worse off than\\nbefore, as the March Hare had just upset the milk-jug into his plate.\\n\\nAlice did not wish to offend the Dormouse again, so she began very\\ncautiously: \\'But I don\\'t understand. Where did they draw the treacle\\nfrom?\\'\\n\\n\\'You can draw water out of a water-well,\\' said the Hatter; \\'so I should\\nthink you could draw treacle out of a treacle-well--eh, stupid?\\'\\n\\n\\'But they were IN the well,\\' Alice said to the Dormouse, not choosing to\\nnotice this last remark.\\n\\n\\'Of course they were\\', said the Dormouse; \\'--well in.\\'\\n\\nThis answer so confused poor Alice, that she let the Dormouse go on for\\nsome time without interrupting it.\\n\\n\\'They were learning to draw,\\' the Dormouse went on, yawning and rubbing\\nits eyes, for it was getting very sleepy; \\'and they drew all manner of\\nthings--everything that begins with an M--\\'\\n\\n\\'Why with an M?\\' said Alice.\\n\\n\\'Why not?\\' said the March Hare.\\n\\nAlice was silent.\\n\\nThe Dormouse had closed its eyes by this time, and was going off into\\na doze; but, on being pinched by the Hatter, it woke up again with\\na little shriek, and went on: \\'--that begins with an M, such as\\nmouse-traps, and the moon, and memory, and muchness--you know you say\\nthings are \"much of a muchness\"--did you ever see such a thing as a\\ndrawing of a muchness?\\'\\n\\n\\'Really, now you ask me,\\' said Alice, very much confused, \\'I don\\'t\\nthink--\\'\\n\\n\\'Then you shouldn\\'t talk,\\' said the Hatter.\\n\\nThis piece of rudeness was more than Alice could bear: she got up in\\ngreat disgust, and walked off; the Dormouse fell asleep instantly, and\\nneither of the others took the least notice of her going, though she\\nlooked back once or twice, half hoping that they would call after her:\\nthe last time she saw them, they were trying to put the Dormouse into\\nthe teapot.\\n\\n\\'At any rate I\\'ll never go THERE again!\\' said Alice as she picked her\\nway through the wood. \\'It\\'s the stupidest tea-party I ever was at in all\\nmy life!\\'\\n\\nJust as she said this, she noticed that one of the trees had a door\\nleading right into it. \\'That\\'s very curious!\\' she thought. \\'But\\neverything\\'s curious today. I think I may as well go in at once.\\' And in\\nshe went.\\n\\nOnce more she found herself in the long hall, and close to the little\\nglass table. \\'Now, I\\'ll manage better this time,\\' she said to herself,\\nand began by taking the little golden key, and unlocking the door that\\nled into the garden. Then she went to work nibbling at the mushroom (she\\nhad kept a piece of it in her pocket) till she was about a foot high:\\nthen she walked down the little passage: and THEN--she found herself at\\nlast in the beautiful garden, among the bright flower-beds and the cool\\nfountains.\\n\\n\\n\\n\\nCHAPTER VIII. The Queen\\'s Croquet-Ground\\n\\nA large rose-tree stood near the entrance of the garden: the roses\\ngrowing on it were white, but there were three gardeners at it, busily\\npainting them red. Alice thought this a very curious thing, and she went\\nnearer to watch them, and just as she came up to them she heard one of\\nthem say, \\'Look out now, Five! Don\\'t go splashing paint over me like\\nthat!\\'\\n\\n\\'I couldn\\'t help it,\\' said Five, in a sulky tone; \\'Seven jogged my\\nelbow.\\'\\n\\nOn which Seven looked up and said, \\'That\\'s right, Five! Always lay the\\nblame on others!\\'\\n\\n\\'YOU\\'D better not talk!\\' said Five. \\'I heard the Queen say only\\nyesterday you deserved to be beheaded!\\'\\n\\n\\'What for?\\' said the one who had spoken first.\\n\\n\\'That\\'s none of YOUR business, Two!\\' said Seven.\\n\\n\\'Yes, it IS his business!\\' said Five, \\'and I\\'ll tell him--it was for\\nbringing the cook tulip-roots instead of onions.\\'\\n\\nSeven flung down his brush, and had just begun \\'Well, of all the unjust\\nthings--\\' when his eye chanced to fall upon Alice, as she stood watching\\nthem, and he checked himself suddenly: the others looked round also, and\\nall of them bowed low.\\n\\n\\'Would you tell me,\\' said Alice, a little timidly, \\'why you are painting\\nthose roses?\\'\\n\\nFive and Seven said nothing, but looked at Two. Two began in a low\\nvoice, \\'Why the fact is, you see, Miss, this here ought to have been a\\nRED rose-tree, and we put a white one in by mistake; and if the Queen\\nwas to find it out, we should all have our heads cut off, you know.\\nSo you see, Miss, we\\'re doing our best, afore she comes, to--\\' At this\\nmoment Five, who had been anxiously looking across the garden, called\\nout \\'The Queen! The Queen!\\' and the three gardeners instantly threw\\nthemselves flat upon their faces. There was a sound of many footsteps,\\nand Alice looked round, eager to see the Queen.\\n\\nFirst came ten soldiers carrying clubs; these were all shaped like\\nthe three gardeners, oblong and flat, with their hands and feet at the\\ncorners: next the ten courtiers; these were ornamented all over with\\ndiamonds, and walked two and two, as the soldiers did. After these came\\nthe royal children; there were ten of them, and the little dears came\\njumping merrily along hand in hand, in couples: they were all ornamented\\nwith hearts. Next came the guests, mostly Kings and Queens, and among\\nthem Alice recognised the White Rabbit: it was talking in a hurried\\nnervous manner, smiling at everything that was said, and went by without\\nnoticing her. Then followed the Knave of Hearts, carrying the King\\'s\\ncrown on a crimson velvet cushion; and, last of all this grand\\nprocession, came THE KING AND QUEEN OF HEARTS.\\n\\nAlice was rather doubtful whether she ought not to lie down on her face\\nlike the three gardeners, but she could not remember ever having heard\\nof such a rule at processions; \\'and besides, what would be the use of\\na procession,\\' thought she, \\'if people had all to lie down upon their\\nfaces, so that they couldn\\'t see it?\\' So she stood still where she was,\\nand waited.\\n\\nWhen the procession came opposite to Alice, they all stopped and looked\\nat her, and the Queen said severely \\'Who is this?\\' She said it to the\\nKnave of Hearts, who only bowed and smiled in reply.\\n\\n\\'Idiot!\\' said the Queen, tossing her head impatiently; and, turning to\\nAlice, she went on, \\'What\\'s your name, child?\\'\\n\\n\\'My name is Alice, so please your Majesty,\\' said Alice very politely;\\nbut she added, to herself, \\'Why, they\\'re only a pack of cards, after\\nall. I needn\\'t be afraid of them!\\'\\n\\n\\'And who are THESE?\\' said the Queen, pointing to the three gardeners who\\nwere lying round the rosetree; for, you see, as they were lying on their\\nfaces, and the pattern on their backs was the same as the rest of the\\npack, she could not tell whether they were gardeners, or soldiers, or\\ncourtiers, or three of her own children.\\n\\n\\'How should I know?\\' said Alice, surprised at her own courage. \\'It\\'s no\\nbusiness of MINE.\\'\\n\\nThe Queen turned crimson with fury, and, after glaring at her for a\\nmoment like a wild beast, screamed \\'Off with her head! Off--\\'\\n\\n\\'Nonsense!\\' said Alice, very loudly and decidedly, and the Queen was\\nsilent.\\n\\nThe King laid his hand upon her arm, and timidly said \\'Consider, my\\ndear: she is only a child!\\'\\n\\nThe Queen turned angrily away from him, and said to the Knave \\'Turn them\\nover!\\'\\n\\nThe Knave did so, very carefully, with one foot.\\n\\n\\'Get up!\\' said the Queen, in a shrill, loud voice, and the three\\ngardeners instantly jumped up, and began bowing to the King, the Queen,\\nthe royal children, and everybody else.\\n\\n\\'Leave off that!\\' screamed the Queen. \\'You make me giddy.\\' And then,\\nturning to the rose-tree, she went on, \\'What HAVE you been doing here?\\'\\n\\n\\'May it please your Majesty,\\' said Two, in a very humble tone, going\\ndown on one knee as he spoke, \\'we were trying--\\'\\n\\n\\'I see!\\' said the Queen, who had meanwhile been examining the roses.\\n\\'Off with their heads!\\' and the procession moved on, three of the\\nsoldiers remaining behind to execute the unfortunate gardeners, who ran\\nto Alice for protection.\\n\\n\\'You shan\\'t be beheaded!\\' said Alice, and she put them into a large\\nflower-pot that stood near. The three soldiers wandered about for a\\nminute or two, looking for them, and then quietly marched off after the\\nothers.\\n\\n\\'Are their heads off?\\' shouted the Queen.\\n\\n\\'Their heads are gone, if it please your Majesty!\\' the soldiers shouted\\nin reply.\\n\\n\\'That\\'s right!\\' shouted the Queen. \\'Can you play croquet?\\'\\n\\nThe soldiers were silent, and looked at Alice, as the question was\\nevidently meant for her.\\n\\n\\'Yes!\\' shouted Alice.\\n\\n\\'Come on, then!\\' roared the Queen, and Alice joined the procession,\\nwondering very much what would happen next.\\n\\n\\'It\\'s--it\\'s a very fine day!\\' said a timid voice at her side. She was\\nwalking by the White Rabbit, who was peeping anxiously into her face.\\n\\n\\'Very,\\' said Alice: \\'--where\\'s the Duchess?\\'\\n\\n\\'Hush! Hush!\\' said the Rabbit in a low, hurried tone. He looked\\nanxiously over his shoulder as he spoke, and then raised himself upon\\ntiptoe, put his mouth close to her ear, and whispered \\'She\\'s under\\nsentence of execution.\\'\\n\\n\\'What for?\\' said Alice.\\n\\n\\'Did you say \"What a pity!\"?\\' the Rabbit asked.\\n\\n\\'No, I didn\\'t,\\' said Alice: \\'I don\\'t think it\\'s at all a pity. I said\\n\"What for?\"\\'\\n\\n\\'She boxed the Queen\\'s ears--\\' the Rabbit began. Alice gave a little\\nscream of laughter. \\'Oh, hush!\\' the Rabbit whispered in a frightened\\ntone. \\'The Queen will hear you! You see, she came rather late, and the\\nQueen said--\\'\\n\\n\\'Get to your places!\\' shouted the Queen in a voice of thunder, and\\npeople began running about in all directions, tumbling up against each\\nother; however, they got settled down in a minute or two, and the game\\nbegan. Alice thought she had never seen such a curious croquet-ground in\\nher life; it was all ridges and furrows; the balls were live hedgehogs,\\nthe mallets live flamingoes, and the soldiers had to double themselves\\nup and to stand on their hands and feet, to make the arches.\\n\\nThe chief difficulty Alice found at first was in managing her flamingo:\\nshe succeeded in getting its body tucked away, comfortably enough, under\\nher arm, with its legs hanging down, but generally, just as she had got\\nits neck nicely straightened out, and was going to give the hedgehog a\\nblow with its head, it WOULD twist itself round and look up in her face,\\nwith such a puzzled expression that she could not help bursting out\\nlaughing: and when she had got its head down, and was going to begin\\nagain, it was very provoking to find that the hedgehog had unrolled\\nitself, and was in the act of crawling away: besides all this, there was\\ngenerally a ridge or furrow in the way wherever she wanted to send the\\nhedgehog to, and, as the doubled-up soldiers were always getting up\\nand walking off to other parts of the ground, Alice soon came to the\\nconclusion that it was a very difficult game indeed.\\n\\nThe players all played at once without waiting for turns, quarrelling\\nall the while, and fighting for the hedgehogs; and in a very short\\ntime the Queen was in a furious passion, and went stamping about, and\\nshouting \\'Off with his head!\\' or \\'Off with her head!\\' about once in a\\nminute.\\n\\nAlice began to feel very uneasy: to be sure, she had not as yet had any\\ndispute with the Queen, but she knew that it might happen any minute,\\n\\'and then,\\' thought she, \\'what would become of me? They\\'re dreadfully\\nfond of beheading people here; the great wonder is, that there\\'s any one\\nleft alive!\\'\\n\\nShe was looking about for some way of escape, and wondering whether she\\ncould get away without being seen, when she noticed a curious appearance\\nin the air: it puzzled her very much at first, but, after watching it\\na minute or two, she made it out to be a grin, and she said to herself\\n\\'It\\'s the Cheshire Cat: now I shall have somebody to talk to.\\'\\n\\n\\'How are you getting on?\\' said the Cat, as soon as there was mouth\\nenough for it to speak with.\\n\\nAlice waited till the eyes appeared, and then nodded. \\'It\\'s no use\\nspeaking to it,\\' she thought, \\'till its ears have come, or at least one\\nof them.\\' In another minute the whole head appeared, and then Alice put\\ndown her flamingo, and began an account of the game, feeling very glad\\nshe had someone to listen to her. The Cat seemed to think that there was\\nenough of it now in sight, and no more of it appeared.\\n\\n\\'I don\\'t think they play at all fairly,\\' Alice began, in rather a\\ncomplaining tone, \\'and they all quarrel so dreadfully one can\\'t hear\\noneself speak--and they don\\'t seem to have any rules in particular;\\nat least, if there are, nobody attends to them--and you\\'ve no idea how\\nconfusing it is all the things being alive; for instance, there\\'s the\\narch I\\'ve got to go through next walking about at the other end of the\\nground--and I should have croqueted the Queen\\'s hedgehog just now, only\\nit ran away when it saw mine coming!\\'\\n\\n\\'How do you like the Queen?\\' said the Cat in a low voice.\\n\\n\\'Not at all,\\' said Alice: \\'she\\'s so extremely--\\' Just then she noticed\\nthat the Queen was close behind her, listening: so she went on,\\n\\'--likely to win, that it\\'s hardly worth while finishing the game.\\'\\n\\nThe Queen smiled and passed on.\\n\\n\\'Who ARE you talking to?\\' said the King, going up to Alice, and looking\\nat the Cat\\'s head with great curiosity.\\n\\n\\'It\\'s a friend of mine--a Cheshire Cat,\\' said Alice: \\'allow me to\\nintroduce it.\\'\\n\\n\\'I don\\'t like the look of it at all,\\' said the King: \\'however, it may\\nkiss my hand if it likes.\\'\\n\\n\\'I\\'d rather not,\\' the Cat remarked.\\n\\n\\'Don\\'t be impertinent,\\' said the King, \\'and don\\'t look at me like that!\\'\\nHe got behind Alice as he spoke.\\n\\n\\'A cat may look at a king,\\' said Alice. \\'I\\'ve read that in some book,\\nbut I don\\'t remember where.\\'\\n\\n\\'Well, it must be removed,\\' said the King very decidedly, and he called\\nthe Queen, who was passing at the moment, \\'My dear! I wish you would\\nhave this cat removed!\\'\\n\\nThe Queen had only one way of settling all difficulties, great or small.\\n\\'Off with his head!\\' she said, without even looking round.\\n\\n\\'I\\'ll fetch the executioner myself,\\' said the King eagerly, and he\\nhurried off.\\n\\nAlice thought she might as well go back, and see how the game was going\\non, as she heard the Queen\\'s voice in the distance, screaming with\\npassion. She had already heard her sentence three of the players to be\\nexecuted for having missed their turns, and she did not like the look\\nof things at all, as the game was in such confusion that she never knew\\nwhether it was her turn or not. So she went in search of her hedgehog.\\n\\nThe hedgehog was engaged in a fight with another hedgehog, which seemed\\nto Alice an excellent opportunity for croqueting one of them with the\\nother: the only difficulty was, that her flamingo was gone across to the\\nother side of the garden, where Alice could see it trying in a helpless\\nsort of way to fly up into a tree.\\n\\nBy the time she had caught the flamingo and brought it back, the fight\\nwas over, and both the hedgehogs were out of sight: \\'but it doesn\\'t\\nmatter much,\\' thought Alice, \\'as all the arches are gone from this side\\nof the ground.\\' So she tucked it away under her arm, that it might not\\nescape again, and went back for a little more conversation with her\\nfriend.\\n\\nWhen she got back to the Cheshire Cat, she was surprised to find quite a\\nlarge crowd collected round it: there was a dispute going on between\\nthe executioner, the King, and the Queen, who were all talking at once,\\nwhile all the rest were quite silent, and looked very uncomfortable.\\n\\nThe moment Alice appeared, she was appealed to by all three to settle\\nthe question, and they repeated their arguments to her, though, as they\\nall spoke at once, she found it very hard indeed to make out exactly\\nwhat they said.\\n\\nThe executioner\\'s argument was, that you couldn\\'t cut off a head unless\\nthere was a body to cut it off from: that he had never had to do such a\\nthing before, and he wasn\\'t going to begin at HIS time of life.\\n\\nThe King\\'s argument was, that anything that had a head could be\\nbeheaded, and that you weren\\'t to talk nonsense.\\n\\nThe Queen\\'s argument was, that if something wasn\\'t done about it in less\\nthan no time she\\'d have everybody executed, all round. (It was this last\\nremark that had made the whole party look so grave and anxious.)\\n\\nAlice could think of nothing else to say but \\'It belongs to the Duchess:\\nyou\\'d better ask HER about it.\\'\\n\\n\\'She\\'s in prison,\\' the Queen said to the executioner: \\'fetch her here.\\'\\nAnd the executioner went off like an arrow.\\n\\n The Cat\\'s head began fading away the moment he was gone, and,\\nby the time he had come back with the Duchess, it had entirely\\ndisappeared; so the King and the executioner ran wildly up and down\\nlooking for it, while the rest of the party went back to the game.\\n\\n\\n\\n\\nCHAPTER IX. The Mock Turtle\\'s Story\\n\\n\\'You can\\'t think how glad I am to see you again, you dear old thing!\\'\\nsaid the Duchess, as she tucked her arm affectionately into Alice\\'s, and\\nthey walked off together.\\n\\nAlice was very glad to find her in such a pleasant temper, and thought\\nto herself that perhaps it was only the pepper that had made her so\\nsavage when they met in the kitchen.\\n\\n\\'When I\\'M a Duchess,\\' she said to herself, (not in a very hopeful tone\\nthough), \\'I won\\'t have any pepper in my kitchen AT ALL. Soup does very\\nwell without--Maybe it\\'s always pepper that makes people hot-tempered,\\'\\nshe went on, very much pleased at having found out a new kind of\\nrule, \\'and vinegar that makes them sour--and camomile that makes\\nthem bitter--and--and barley-sugar and such things that make children\\nsweet-tempered. I only wish people knew that: then they wouldn\\'t be so\\nstingy about it, you know--\\'\\n\\nShe had quite forgotten the Duchess by this time, and was a little\\nstartled when she heard her voice close to her ear. \\'You\\'re thinking\\nabout something, my dear, and that makes you forget to talk. I can\\'t\\ntell you just now what the moral of that is, but I shall remember it in\\na bit.\\'\\n\\n\\'Perhaps it hasn\\'t one,\\' Alice ventured to remark.\\n\\n\\'Tut, tut, child!\\' said the Duchess. \\'Everything\\'s got a moral, if only\\nyou can find it.\\' And she squeezed herself up closer to Alice\\'s side as\\nshe spoke.\\n\\nAlice did not much like keeping so close to her: first, because the\\nDuchess was VERY ugly; and secondly, because she was exactly the\\nright height to rest her chin upon Alice\\'s shoulder, and it was an\\nuncomfortably sharp chin. However, she did not like to be rude, so she\\nbore it as well as she could.\\n\\n\\'The game\\'s going on rather better now,\\' she said, by way of keeping up\\nthe conversation a little.\\n\\n\\'\\'Tis so,\\' said the Duchess: \\'and the moral of that is--\"Oh, \\'tis love,\\n\\'tis love, that makes the world go round!\"\\'\\n\\n\\'Somebody said,\\' Alice whispered, \\'that it\\'s done by everybody minding\\ntheir own business!\\'\\n\\n\\'Ah, well! It means much the same thing,\\' said the Duchess, digging her\\nsharp little chin into Alice\\'s shoulder as she added, \\'and the moral\\nof THAT is--\"Take care of the sense, and the sounds will take care of\\nthemselves.\"\\'\\n\\n\\'How fond she is of finding morals in things!\\' Alice thought to herself.\\n\\n\\'I dare say you\\'re wondering why I don\\'t put my arm round your waist,\\'\\nthe Duchess said after a pause: \\'the reason is, that I\\'m doubtful about\\nthe temper of your flamingo. Shall I try the experiment?\\'\\n\\n\\'HE might bite,\\' Alice cautiously replied, not feeling at all anxious to\\nhave the experiment tried.\\n\\n\\'Very true,\\' said the Duchess: \\'flamingoes and mustard both bite. And\\nthe moral of that is--\"Birds of a feather flock together.\"\\'\\n\\n\\'Only mustard isn\\'t a bird,\\' Alice remarked.\\n\\n\\'Right, as usual,\\' said the Duchess: \\'what a clear way you have of\\nputting things!\\'\\n\\n\\'It\\'s a mineral, I THINK,\\' said Alice.\\n\\n\\'Of course it is,\\' said the Duchess, who seemed ready to agree to\\neverything that Alice said; \\'there\\'s a large mustard-mine near here. And\\nthe moral of that is--\"The more there is of mine, the less there is of\\nyours.\"\\'\\n\\n\\'Oh, I know!\\' exclaimed Alice, who had not attended to this last remark,\\n\\'it\\'s a vegetable. It doesn\\'t look like one, but it is.\\'\\n\\n\\'I quite agree with you,\\' said the Duchess; \\'and the moral of that\\nis--\"Be what you would seem to be\"--or if you\\'d like it put more\\nsimply--\"Never imagine yourself not to be otherwise than what it might\\nappear to others that what you were or might have been was not otherwise\\nthan what you had been would have appeared to them to be otherwise.\"\\'\\n\\n\\'I think I should understand that better,\\' Alice said very politely, \\'if\\nI had it written down: but I can\\'t quite follow it as you say it.\\'\\n\\n\\'That\\'s nothing to what I could say if I chose,\\' the Duchess replied, in\\na pleased tone.\\n\\n\\'Pray don\\'t trouble yourself to say it any longer than that,\\' said\\nAlice.\\n\\n\\'Oh, don\\'t talk about trouble!\\' said the Duchess. \\'I make you a present\\nof everything I\\'ve said as yet.\\'\\n\\n\\'A cheap sort of present!\\' thought Alice. \\'I\\'m glad they don\\'t give\\nbirthday presents like that!\\' But she did not venture to say it out\\nloud.\\n\\n\\'Thinking again?\\' the Duchess asked, with another dig of her sharp\\nlittle chin.\\n\\n\\'I\\'ve a right to think,\\' said Alice sharply, for she was beginning to\\nfeel a little worried.\\n\\n\\'Just about as much right,\\' said the Duchess, \\'as pigs have to fly; and\\nthe m--\\'\\n\\nBut here, to Alice\\'s great surprise, the Duchess\\'s voice died away, even\\nin the middle of her favourite word \\'moral,\\' and the arm that was linked\\ninto hers began to tremble. Alice looked up, and there stood the Queen\\nin front of them, with her arms folded, frowning like a thunderstorm.\\n\\n\\'A fine day, your Majesty!\\' the Duchess began in a low, weak voice.\\n\\n\\'Now, I give you fair warning,\\' shouted the Queen, stamping on the\\nground as she spoke; \\'either you or your head must be off, and that in\\nabout half no time! Take your choice!\\'\\n\\nThe Duchess took her choice, and was gone in a moment.\\n\\n\\'Let\\'s go on with the game,\\' the Queen said to Alice; and Alice was\\ntoo much frightened to say a word, but slowly followed her back to the\\ncroquet-ground.\\n\\nThe other guests had taken advantage of the Queen\\'s absence, and were\\nresting in the shade: however, the moment they saw her, they hurried\\nback to the game, the Queen merely remarking that a moment\\'s delay would\\ncost them their lives.\\n\\nAll the time they were playing the Queen never left off quarrelling with\\nthe other players, and shouting \\'Off with his head!\\' or \\'Off with her\\nhead!\\' Those whom she sentenced were taken into custody by the soldiers,\\nwho of course had to leave off being arches to do this, so that by\\nthe end of half an hour or so there were no arches left, and all the\\nplayers, except the King, the Queen, and Alice, were in custody and\\nunder sentence of execution.\\n\\nThen the Queen left off, quite out of breath, and said to Alice, \\'Have\\nyou seen the Mock Turtle yet?\\'\\n\\n\\'No,\\' said Alice. \\'I don\\'t even know what a Mock Turtle is.\\'\\n\\n\\'It\\'s the thing Mock Turtle Soup is made from,\\' said the Queen.\\n\\n\\'I never saw one, or heard of one,\\' said Alice.\\n\\n\\'Come on, then,\\' said the Queen, \\'and he shall tell you his history,\\'\\n\\nAs they walked off together, Alice heard the King say in a low voice,\\nto the company generally, \\'You are all pardoned.\\' \\'Come, THAT\\'S a good\\nthing!\\' she said to herself, for she had felt quite unhappy at the\\nnumber of executions the Queen had ordered.\\n\\nThey very soon came upon a Gryphon, lying fast asleep in the sun.\\n(IF you don\\'t know what a Gryphon is, look at the picture.) \\'Up, lazy\\nthing!\\' said the Queen, \\'and take this young lady to see the Mock\\nTurtle, and to hear his history. I must go back and see after some\\nexecutions I have ordered\\'; and she walked off, leaving Alice alone with\\nthe Gryphon. Alice did not quite like the look of the creature, but on\\nthe whole she thought it would be quite as safe to stay with it as to go\\nafter that savage Queen: so she waited.\\n\\nThe Gryphon sat up and rubbed its eyes: then it watched the Queen till\\nshe was out of sight: then it chuckled. \\'What fun!\\' said the Gryphon,\\nhalf to itself, half to Alice.\\n\\n\\'What IS the fun?\\' said Alice.\\n\\n\\'Why, SHE,\\' said the Gryphon. \\'It\\'s all her fancy, that: they never\\nexecutes nobody, you know. Come on!\\'\\n\\n\\'Everybody says \"come on!\" here,\\' thought Alice, as she went slowly\\nafter it: \\'I never was so ordered about in all my life, never!\\'\\n\\nThey had not gone far before they saw the Mock Turtle in the distance,\\nsitting sad and lonely on a little ledge of rock, and, as they came\\nnearer, Alice could hear him sighing as if his heart would break. She\\npitied him deeply. \\'What is his sorrow?\\' she asked the Gryphon, and the\\nGryphon answered, very nearly in the same words as before, \\'It\\'s all his\\nfancy, that: he hasn\\'t got no sorrow, you know. Come on!\\'\\n\\nSo they went up to the Mock Turtle, who looked at them with large eyes\\nfull of tears, but said nothing.\\n\\n\\'This here young lady,\\' said the Gryphon, \\'she wants for to know your\\nhistory, she do.\\'\\n\\n\\'I\\'ll tell it her,\\' said the Mock Turtle in a deep, hollow tone: \\'sit\\ndown, both of you, and don\\'t speak a word till I\\'ve finished.\\'\\n\\nSo they sat down, and nobody spoke for some minutes. Alice thought to\\nherself, \\'I don\\'t see how he can EVEN finish, if he doesn\\'t begin.\\' But\\nshe waited patiently.\\n\\n\\'Once,\\' said the Mock Turtle at last, with a deep sigh, \\'I was a real\\nTurtle.\\'\\n\\nThese words were followed by a very long silence, broken only by an\\noccasional exclamation of \\'Hjckrrh!\\' from the Gryphon, and the constant\\nheavy sobbing of the Mock Turtle. Alice was very nearly getting up and\\nsaying, \\'Thank you, sir, for your interesting story,\\' but she could\\nnot help thinking there MUST be more to come, so she sat still and said\\nnothing.\\n\\n\\'When we were little,\\' the Mock Turtle went on at last, more calmly,\\nthough still sobbing a little now and then, \\'we went to school in the\\nsea. The master was an old Turtle--we used to call him Tortoise--\\'\\n\\n\\'Why did you call him Tortoise, if he wasn\\'t one?\\' Alice asked.\\n\\n\\'We called him Tortoise because he taught us,\\' said the Mock Turtle\\nangrily: \\'really you are very dull!\\'\\n\\n\\'You ought to be ashamed of yourself for asking such a simple question,\\'\\nadded the Gryphon; and then they both sat silent and looked at poor\\nAlice, who felt ready to sink into the earth. At last the Gryphon said\\nto the Mock Turtle, \\'Drive on, old fellow! Don\\'t be all day about it!\\'\\nand he went on in these words:\\n\\n\\'Yes, we went to school in the sea, though you mayn\\'t believe it--\\'\\n\\n\\'I never said I didn\\'t!\\' interrupted Alice.\\n\\n\\'You did,\\' said the Mock Turtle.\\n\\n\\'Hold your tongue!\\' added the Gryphon, before Alice could speak again.\\nThe Mock Turtle went on.\\n\\n\\'We had the best of educations--in fact, we went to school every day--\\'\\n\\n\\'I\\'VE been to a day-school, too,\\' said Alice; \\'you needn\\'t be so proud\\nas all that.\\'\\n\\n\\'With extras?\\' asked the Mock Turtle a little anxiously.\\n\\n\\'Yes,\\' said Alice, \\'we learned French and music.\\'\\n\\n\\'And washing?\\' said the Mock Turtle.\\n\\n\\'Certainly not!\\' said Alice indignantly.\\n\\n\\'Ah! then yours wasn\\'t a really good school,\\' said the Mock Turtle in\\na tone of great relief. \\'Now at OURS they had at the end of the bill,\\n\"French, music, AND WASHING--extra.\"\\'\\n\\n\\'You couldn\\'t have wanted it much,\\' said Alice; \\'living at the bottom of\\nthe sea.\\'\\n\\n\\'I couldn\\'t afford to learn it.\\' said the Mock Turtle with a sigh. \\'I\\nonly took the regular course.\\'\\n\\n\\'What was that?\\' inquired Alice.\\n\\n\\'Reeling and Writhing, of course, to begin with,\\' the Mock Turtle\\nreplied; \\'and then the different branches of Arithmetic--Ambition,\\nDistraction, Uglification, and Derision.\\'\\n\\n\\'I never heard of \"Uglification,\"\\' Alice ventured to say. \\'What is it?\\'\\n\\nThe Gryphon lifted up both its paws in surprise. \\'What! Never heard of\\nuglifying!\\' it exclaimed. \\'You know what to beautify is, I suppose?\\'\\n\\n\\'Yes,\\' said Alice doubtfully: \\'it means--to--make--anything--prettier.\\'\\n\\n\\'Well, then,\\' the Gryphon went on, \\'if you don\\'t know what to uglify is,\\nyou ARE a simpleton.\\'\\n\\nAlice did not feel encouraged to ask any more questions about it, so she\\nturned to the Mock Turtle, and said \\'What else had you to learn?\\'\\n\\n\\'Well, there was Mystery,\\' the Mock Turtle replied, counting off\\nthe subjects on his flappers, \\'--Mystery, ancient and modern, with\\nSeaography: then Drawling--the Drawling-master was an old conger-eel,\\nthat used to come once a week: HE taught us Drawling, Stretching, and\\nFainting in Coils.\\'\\n\\n\\'What was THAT like?\\' said Alice.\\n\\n\\'Well, I can\\'t show it you myself,\\' the Mock Turtle said: \\'I\\'m too\\nstiff. And the Gryphon never learnt it.\\'\\n\\n\\'Hadn\\'t time,\\' said the Gryphon: \\'I went to the Classics master, though.\\nHe was an old crab, HE was.\\'\\n\\n\\'I never went to him,\\' the Mock Turtle said with a sigh: \\'he taught\\nLaughing and Grief, they used to say.\\'\\n\\n\\'So he did, so he did,\\' said the Gryphon, sighing in his turn; and both\\ncreatures hid their faces in their paws.\\n\\n\\'And how many hours a day did you do lessons?\\' said Alice, in a hurry to\\nchange the subject.\\n\\n\\'Ten hours the first day,\\' said the Mock Turtle: \\'nine the next, and so\\non.\\'\\n\\n\\'What a curious plan!\\' exclaimed Alice.\\n\\n\\'That\\'s the reason they\\'re called lessons,\\' the Gryphon remarked:\\n\\'because they lessen from day to day.\\'\\n\\nThis was quite a new idea to Alice, and she thought it over a little\\nbefore she made her next remark. \\'Then the eleventh day must have been a\\nholiday?\\'\\n\\n\\'Of course it was,\\' said the Mock Turtle.\\n\\n\\'And how did you manage on the twelfth?\\' Alice went on eagerly.\\n\\n\\'That\\'s enough about lessons,\\' the Gryphon interrupted in a very decided\\ntone: \\'tell her something about the games now.\\'\\n\\n\\n\\n\\nCHAPTER X. The Lobster Quadrille\\n\\nThe Mock Turtle sighed deeply, and drew the back of one flapper across\\nhis eyes. He looked at Alice, and tried to speak, but for a minute or\\ntwo sobs choked his voice. \\'Same as if he had a bone in his throat,\\'\\nsaid the Gryphon: and it set to work shaking him and punching him in\\nthe back. At last the Mock Turtle recovered his voice, and, with tears\\nrunning down his cheeks, he went on again:--\\n\\n\\'You may not have lived much under the sea--\\' (\\'I haven\\'t,\\' said\\nAlice)--\\'and perhaps you were never even introduced to a lobster--\\'\\n(Alice began to say \\'I once tasted--\\' but checked herself hastily, and\\nsaid \\'No, never\\') \\'--so you can have no idea what a delightful thing a\\nLobster Quadrille is!\\'\\n\\n\\'No, indeed,\\' said Alice. \\'What sort of a dance is it?\\'\\n\\n\\'Why,\\' said the Gryphon, \\'you first form into a line along the\\nsea-shore--\\'\\n\\n\\'Two lines!\\' cried the Mock Turtle. \\'Seals, turtles, salmon, and so on;\\nthen, when you\\'ve cleared all the jelly-fish out of the way--\\'\\n\\n\\'THAT generally takes some time,\\' interrupted the Gryphon.\\n\\n\\'--you advance twice--\\'\\n\\n\\'Each with a lobster as a partner!\\' cried the Gryphon.\\n\\n\\'Of course,\\' the Mock Turtle said: \\'advance twice, set to partners--\\'\\n\\n\\'--change lobsters, and retire in same order,\\' continued the Gryphon.\\n\\n\\'Then, you know,\\' the Mock Turtle went on, \\'you throw the--\\'\\n\\n\\'The lobsters!\\' shouted the Gryphon, with a bound into the air.\\n\\n\\'--as far out to sea as you can--\\'\\n\\n\\'Swim after them!\\' screamed the Gryphon.\\n\\n\\'Turn a somersault in the sea!\\' cried the Mock Turtle, capering wildly\\nabout.\\n\\n\\'Change lobsters again!\\' yelled the Gryphon at the top of its voice.\\n\\n\\'Back to land again, and that\\'s all the first figure,\\' said the Mock\\nTurtle, suddenly dropping his voice; and the two creatures, who had been\\njumping about like mad things all this time, sat down again very sadly\\nand quietly, and looked at Alice.\\n\\n\\'It must be a very pretty dance,\\' said Alice timidly.\\n\\n\\'Would you like to see a little of it?\\' said the Mock Turtle.\\n\\n\\'Very much indeed,\\' said Alice.\\n\\n\\'Come, let\\'s try the first figure!\\' said the Mock Turtle to the Gryphon.\\n\\'We can do without lobsters, you know. Which shall sing?\\'\\n\\n\\'Oh, YOU sing,\\' said the Gryphon. \\'I\\'ve forgotten the words.\\'\\n\\nSo they began solemnly dancing round and round Alice, every now and\\nthen treading on her toes when they passed too close, and waving their\\nforepaws to mark the time, while the Mock Turtle sang this, very slowly\\nand sadly:--\\n\\n \\'\"Will you walk a little faster?\" said a whiting to a snail.\\n \"There\\'s a porpoise close behind us, and he\\'s treading on my tail.\\n\\n See how eagerly the lobsters and the turtles all advance!\\n They are waiting on the shingle--will you come and join the dance?\\n\\n Will you, won\\'t you, will you, won\\'t you, will you join the dance?\\n Will you, won\\'t you, will you, won\\'t you, won\\'t you join the dance?\\n\\n \"You can really have no notion how delightful it will be\\n When they take us up and throw us, with the lobsters, out to sea!\"\\n But the snail replied \"Too far, too far!\" and gave a look askance--\\n Said he thanked the whiting kindly, but he would not join the dance.\\n\\n Would not, could not, would not, could not, would not join the dance.\\n Would not, could not, would not, could not, could not join the dance.\\n\\n \\'\"What matters it how far we go?\" his scaly friend replied.\\n \"There is another shore, you know, upon the other side.\\n The further off from England the nearer is to France--\\n Then turn not pale, beloved snail, but come and join the dance.\\n\\n Will you, won\\'t you, will you, won\\'t you, will you join the dance?\\n Will you, won\\'t you, will you, won\\'t you, won\\'t you join the dance?\"\\'\\n\\n\\'Thank you, it\\'s a very interesting dance to watch,\\' said Alice, feeling\\nvery glad that it was over at last: \\'and I do so like that curious song\\nabout the whiting!\\'\\n\\n\\'Oh, as to the whiting,\\' said the Mock Turtle, \\'they--you\\'ve seen them,\\nof course?\\'\\n\\n\\'Yes,\\' said Alice, \\'I\\'ve often seen them at dinn--\\' she checked herself\\nhastily.\\n\\n\\'I don\\'t know where Dinn may be,\\' said the Mock Turtle, \\'but if you\\'ve\\nseen them so often, of course you know what they\\'re like.\\'\\n\\n\\'I believe so,\\' Alice replied thoughtfully. \\'They have their tails in\\ntheir mouths--and they\\'re all over crumbs.\\'\\n\\n\\'You\\'re wrong about the crumbs,\\' said the Mock Turtle: \\'crumbs would all\\nwash off in the sea. But they HAVE their tails in their mouths; and the\\nreason is--\\' here the Mock Turtle yawned and shut his eyes.--\\'Tell her\\nabout the reason and all that,\\' he said to the Gryphon.\\n\\n\\'The reason is,\\' said the Gryphon, \\'that they WOULD go with the lobsters\\nto the dance. So they got thrown out to sea. So they had to fall a long\\nway. So they got their tails fast in their mouths. So they couldn\\'t get\\nthem out again. That\\'s all.\\'\\n\\n\\'Thank you,\\' said Alice, \\'it\\'s very interesting. I never knew so much\\nabout a whiting before.\\'\\n\\n\\'I can tell you more than that, if you like,\\' said the Gryphon. \\'Do you\\nknow why it\\'s called a whiting?\\'\\n\\n\\'I never thought about it,\\' said Alice. \\'Why?\\'\\n\\n\\'IT DOES THE BOOTS AND SHOES.\\' the Gryphon replied very solemnly.\\n\\nAlice was thoroughly puzzled. \\'Does the boots and shoes!\\' she repeated\\nin a wondering tone.\\n\\n\\'Why, what are YOUR shoes done with?\\' said the Gryphon. \\'I mean, what\\nmakes them so shiny?\\'\\n\\nAlice looked down at them, and considered a little before she gave her\\nanswer. \\'They\\'re done with blacking, I believe.\\'\\n\\n\\'Boots and shoes under the sea,\\' the Gryphon went on in a deep voice,\\n\\'are done with a whiting. Now you know.\\'\\n\\n\\'And what are they made of?\\' Alice asked in a tone of great curiosity.\\n\\n\\'Soles and eels, of course,\\' the Gryphon replied rather impatiently:\\n\\'any shrimp could have told you that.\\'\\n\\n\\'If I\\'d been the whiting,\\' said Alice, whose thoughts were still running\\non the song, \\'I\\'d have said to the porpoise, \"Keep back, please: we\\ndon\\'t want YOU with us!\"\\'\\n\\n\\'They were obliged to have him with them,\\' the Mock Turtle said: \\'no\\nwise fish would go anywhere without a porpoise.\\'\\n\\n\\'Wouldn\\'t it really?\\' said Alice in a tone of great surprise.\\n\\n\\'Of course not,\\' said the Mock Turtle: \\'why, if a fish came to ME, and\\ntold me he was going a journey, I should say \"With what porpoise?\"\\'\\n\\n\\'Don\\'t you mean \"purpose\"?\\' said Alice.\\n\\n\\'I mean what I say,\\' the Mock Turtle replied in an offended tone. And\\nthe Gryphon added \\'Come, let\\'s hear some of YOUR adventures.\\'\\n\\n\\'I could tell you my adventures--beginning from this morning,\\' said\\nAlice a little timidly: \\'but it\\'s no use going back to yesterday,\\nbecause I was a different person then.\\'\\n\\n\\'Explain all that,\\' said the Mock Turtle.\\n\\n\\'No, no! The adventures first,\\' said the Gryphon in an impatient tone:\\n\\'explanations take such a dreadful time.\\'\\n\\nSo Alice began telling them her adventures from the time when she first\\nsaw the White Rabbit. She was a little nervous about it just at first,\\nthe two creatures got so close to her, one on each side, and opened\\ntheir eyes and mouths so VERY wide, but she gained courage as she went\\non. Her listeners were perfectly quiet till she got to the part about\\nher repeating \\'YOU ARE OLD, FATHER WILLIAM,\\' to the Caterpillar, and the\\nwords all coming different, and then the Mock Turtle drew a long breath,\\nand said \\'That\\'s very curious.\\'\\n\\n\\'It\\'s all about as curious as it can be,\\' said the Gryphon.\\n\\n\\'It all came different!\\' the Mock Turtle repeated thoughtfully. \\'I\\nshould like to hear her try and repeat something now. Tell her to\\nbegin.\\' He looked at the Gryphon as if he thought it had some kind of\\nauthority over Alice.\\n\\n\\'Stand up and repeat \"\\'TIS THE VOICE OF THE SLUGGARD,\"\\' said the\\nGryphon.\\n\\n\\'How the creatures order one about, and make one repeat lessons!\\'\\nthought Alice; \\'I might as well be at school at once.\\' However, she\\ngot up, and began to repeat it, but her head was so full of the Lobster\\nQuadrille, that she hardly knew what she was saying, and the words came\\nvery queer indeed:--\\n\\n  \\'\\'Tis the voice of the Lobster; I heard him declare,\\n  \"You have baked me too brown, I must sugar my hair.\"\\n  As a duck with its eyelids, so he with his nose\\n  Trims his belt and his buttons, and turns out his toes.\\'\\n\\n       [later editions continued as follows\\n  When the sands are all dry, he is gay as a lark,\\n  And will talk in contemptuous tones of the Shark,\\n  But, when the tide rises and sharks are around,\\n  His voice has a timid and tremulous sound.]\\n\\n\\'That\\'s different from what I used to say when I was a child,\\' said the\\nGryphon.\\n\\n\\'Well, I never heard it before,\\' said the Mock Turtle; \\'but it sounds\\nuncommon nonsense.\\'\\n\\nAlice said nothing; she had sat down with her face in her hands,\\nwondering if anything would EVER happen in a natural way again.\\n\\n\\'I should like to have it explained,\\' said the Mock Turtle.\\n\\n\\'She can\\'t explain it,\\' said the Gryphon hastily. \\'Go on with the next\\nverse.\\'\\n\\n\\'But about his toes?\\' the Mock Turtle persisted. \\'How COULD he turn them\\nout with his nose, you know?\\'\\n\\n\\'It\\'s the first position in dancing.\\' Alice said; but was dreadfully\\npuzzled by the whole thing, and longed to change the subject.\\n\\n\\'Go on with the next verse,\\' the Gryphon repeated impatiently: \\'it\\nbegins \"I passed by his garden.\"\\'\\n\\nAlice did not dare to disobey, though she felt sure it would all come\\nwrong, and she went on in a trembling voice:--\\n\\n  \\'I passed by his garden, and marked, with one eye,\\n  How the Owl and the Panther were sharing a pie--\\'\\n\\n    [later editions continued as follows\\n  The Panther took pie-crust, and gravy, and meat,\\n  While the Owl had the dish as its share of the treat.\\n  When the pie was all finished, the Owl, as a boon,\\n  Was kindly permitted to pocket the spoon:\\n  While the Panther received knife and fork with a growl,\\n  And concluded the banquet--]\\n\\n\\'What IS the use of repeating all that stuff,\\' the Mock Turtle\\ninterrupted, \\'if you don\\'t explain it as you go on? It\\'s by far the most\\nconfusing thing I ever heard!\\'\\n\\n\\'Yes, I think you\\'d better leave off,\\' said the Gryphon: and Alice was\\nonly too glad to do so.\\n\\n\\'Shall we try another figure of the Lobster Quadrille?\\' the Gryphon went\\non. \\'Or would you like the Mock Turtle to sing you a song?\\'\\n\\n\\'Oh, a song, please, if the Mock Turtle would be so kind,\\' Alice\\nreplied, so eagerly that the Gryphon said, in a rather offended tone,\\n\\'Hm! No accounting for tastes! Sing her \"Turtle Soup,\" will you, old\\nfellow?\\'\\n\\nThe Mock Turtle sighed deeply, and began, in a voice sometimes choked\\nwith sobs, to sing this:--\\n\\n   \\'Beautiful Soup, so rich and green,\\n   Waiting in a hot tureen!\\n   Who for such dainties would not stoop?\\n   Soup of the evening, beautiful Soup!\\n   Soup of the evening, beautiful Soup!\\n     Beau--ootiful Soo--oop!\\n     Beau--ootiful Soo--oop!\\n   Soo--oop of the e--e--evening,\\n     Beautiful, beautiful Soup!\\n\\n   \\'Beautiful Soup! Who cares for fish,\\n   Game, or any other dish?\\n   Who would not give all else for two\\n   Pennyworth only of beautiful Soup?\\n   Pennyworth only of beautiful Soup?\\n     Beau--ootiful Soo--oop!\\n     Beau--ootiful Soo--oop!\\n   Soo--oop of the e--e--evening,\\n     Beautiful, beauti--FUL SOUP!\\'\\n\\n\\'Chorus again!\\' cried the Gryphon, and the Mock Turtle had just begun\\nto repeat it, when a cry of \\'The trial\\'s beginning!\\' was heard in the\\ndistance.\\n\\n\\'Come on!\\' cried the Gryphon, and, taking Alice by the hand, it hurried\\noff, without waiting for the end of the song.\\n\\n\\'What trial is it?\\' Alice panted as she ran; but the Gryphon only\\nanswered \\'Come on!\\' and ran the faster, while more and more faintly\\ncame, carried on the breeze that followed them, the melancholy words:--\\n\\n   \\'Soo--oop of the e--e--evening,\\n     Beautiful, beautiful Soup!\\'\\n\\n\\n\\n\\nCHAPTER XI. Who Stole the Tarts?\\n\\nThe King and Queen of Hearts were seated on their throne when they\\narrived, with a great crowd assembled about them--all sorts of little\\nbirds and beasts, as well as the whole pack of cards: the Knave was\\nstanding before them, in chains, with a soldier on each side to guard\\nhim; and near the King was the White Rabbit, with a trumpet in one hand,\\nand a scroll of parchment in the other. In the very middle of the court\\nwas a table, with a large dish of tarts upon it: they looked so good,\\nthat it made Alice quite hungry to look at them--\\'I wish they\\'d get the\\ntrial done,\\' she thought, \\'and hand round the refreshments!\\' But there\\nseemed to be no chance of this, so she began looking at everything about\\nher, to pass away the time.\\n\\nAlice had never been in a court of justice before, but she had read\\nabout them in books, and she was quite pleased to find that she knew\\nthe name of nearly everything there. \\'That\\'s the judge,\\' she said to\\nherself, \\'because of his great wig.\\'\\n\\nThe judge, by the way, was the King; and as he wore his crown over the\\nwig, (look at the frontispiece if you want to see how he did it,) he did\\nnot look at all comfortable, and it was certainly not becoming.\\n\\n\\'And that\\'s the jury-box,\\' thought Alice, \\'and those twelve creatures,\\'\\n(she was obliged to say \\'creatures,\\' you see, because some of them were\\nanimals, and some were birds,) \\'I suppose they are the jurors.\\' She said\\nthis last word two or three times over to herself, being rather proud of\\nit: for she thought, and rightly too, that very few little girls of her\\nage knew the meaning of it at all. However, \\'jury-men\\' would have done\\njust as well.\\n\\nThe twelve jurors were all writing very busily on slates. \\'What are they\\ndoing?\\' Alice whispered to the Gryphon. \\'They can\\'t have anything to put\\ndown yet, before the trial\\'s begun.\\'\\n\\n\\'They\\'re putting down their names,\\' the Gryphon whispered in reply, \\'for\\nfear they should forget them before the end of the trial.\\'\\n\\n\\'Stupid things!\\' Alice began in a loud, indignant voice, but she stopped\\nhastily, for the White Rabbit cried out, \\'Silence in the court!\\' and the\\nKing put on his spectacles and looked anxiously round, to make out who\\nwas talking.\\n\\nAlice could see, as well as if she were looking over their shoulders,\\nthat all the jurors were writing down \\'stupid things!\\' on their slates,\\nand she could even make out that one of them didn\\'t know how to spell\\n\\'stupid,\\' and that he had to ask his neighbour to tell him. \\'A nice\\nmuddle their slates\\'ll be in before the trial\\'s over!\\' thought Alice.\\n\\nOne of the jurors had a pencil that squeaked. This of course, Alice\\ncould not stand, and she went round the court and got behind him, and\\nvery soon found an opportunity of taking it away. She did it so quickly\\nthat the poor little juror (it was Bill, the Lizard) could not make out\\nat all what had become of it; so, after hunting all about for it, he was\\nobliged to write with one finger for the rest of the day; and this was\\nof very little use, as it left no mark on the slate.\\n\\n\\'Herald, read the accusation!\\' said the King.\\n\\nOn this the White Rabbit blew three blasts on the trumpet, and then\\nunrolled the parchment scroll, and read as follows:--\\n\\n   \\'The Queen of Hearts, she made some tarts,\\n      All on a summer day:\\n    The Knave of Hearts, he stole those tarts,\\n      And took them quite away!\\'\\n\\n\\'Consider your verdict,\\' the King said to the jury.\\n\\n\\'Not yet, not yet!\\' the Rabbit hastily interrupted. \\'There\\'s a great\\ndeal to come before that!\\'\\n\\n\\'Call the first witness,\\' said the King; and the White Rabbit blew three\\nblasts on the trumpet, and called out, \\'First witness!\\'\\n\\nThe first witness was the Hatter. He came in with a teacup in one\\nhand and a piece of bread-and-butter in the other. \\'I beg pardon, your\\nMajesty,\\' he began, \\'for bringing these in: but I hadn\\'t quite finished\\nmy tea when I was sent for.\\'\\n\\n\\'You ought to have finished,\\' said the King. \\'When did you begin?\\'\\n\\nThe Hatter looked at the March Hare, who had followed him into the\\ncourt, arm-in-arm with the Dormouse. \\'Fourteenth of March, I think it\\nwas,\\' he said.\\n\\n\\'Fifteenth,\\' said the March Hare.\\n\\n\\'Sixteenth,\\' added the Dormouse.\\n\\n\\'Write that down,\\' the King said to the jury, and the jury eagerly\\nwrote down all three dates on their slates, and then added them up, and\\nreduced the answer to shillings and pence.\\n\\n\\'Take off your hat,\\' the King said to the Hatter.\\n\\n\\'It isn\\'t mine,\\' said the Hatter.\\n\\n\\'Stolen!\\' the King exclaimed, turning to the jury, who instantly made a\\nmemorandum of the fact.\\n\\n\\'I keep them to sell,\\' the Hatter added as an explanation; \\'I\\'ve none of\\nmy own. I\\'m a hatter.\\'\\n\\nHere the Queen put on her spectacles, and began staring at the Hatter,\\nwho turned pale and fidgeted.\\n\\n\\'Give your evidence,\\' said the King; \\'and don\\'t be nervous, or I\\'ll have\\nyou executed on the spot.\\'\\n\\nThis did not seem to encourage the witness at all: he kept shifting\\nfrom one foot to the other, looking uneasily at the Queen, and in\\nhis confusion he bit a large piece out of his teacup instead of the\\nbread-and-butter.\\n\\nJust at this moment Alice felt a very curious sensation, which puzzled\\nher a good deal until she made out what it was: she was beginning to\\ngrow larger again, and she thought at first she would get up and leave\\nthe court; but on second thoughts she decided to remain where she was as\\nlong as there was room for her.\\n\\n\\'I wish you wouldn\\'t squeeze so.\\' said the Dormouse, who was sitting\\nnext to her. \\'I can hardly breathe.\\'\\n\\n\\'I can\\'t help it,\\' said Alice very meekly: \\'I\\'m growing.\\'\\n\\n\\'You\\'ve no right to grow here,\\' said the Dormouse.\\n\\n\\'Don\\'t talk nonsense,\\' said Alice more boldly: \\'you know you\\'re growing\\ntoo.\\'\\n\\n\\'Yes, but I grow at a reasonable pace,\\' said the Dormouse: \\'not in that\\nridiculous fashion.\\' And he got up very sulkily and crossed over to the\\nother side of the court.\\n\\nAll this time the Queen had never left off staring at the Hatter, and,\\njust as the Dormouse crossed the court, she said to one of the officers\\nof the court, \\'Bring me the list of the singers in the last concert!\\' on\\nwhich the wretched Hatter trembled so, that he shook both his shoes off.\\n\\n\\'Give your evidence,\\' the King repeated angrily, \\'or I\\'ll have you\\nexecuted, whether you\\'re nervous or not.\\'\\n\\n\\'I\\'m a poor man, your Majesty,\\' the Hatter began, in a trembling voice,\\n\\'--and I hadn\\'t begun my tea--not above a week or so--and what with the\\nbread-and-butter getting so thin--and the twinkling of the tea--\\'\\n\\n\\'The twinkling of the what?\\' said the King.\\n\\n\\'It began with the tea,\\' the Hatter replied.\\n\\n\\'Of course twinkling begins with a T!\\' said the King sharply. \\'Do you\\ntake me for a dunce? Go on!\\'\\n\\n\\'I\\'m a poor man,\\' the Hatter went on, \\'and most things twinkled after\\nthat--only the March Hare said--\\'\\n\\n\\'I didn\\'t!\\' the March Hare interrupted in a great hurry.\\n\\n\\'You did!\\' said the Hatter.\\n\\n\\'I deny it!\\' said the March Hare.\\n\\n\\'He denies it,\\' said the King: \\'leave out that part.\\'\\n\\n\\'Well, at any rate, the Dormouse said--\\' the Hatter went on, looking\\nanxiously round to see if he would deny it too: but the Dormouse denied\\nnothing, being fast asleep.\\n\\n\\'After that,\\' continued the Hatter, \\'I cut some more bread-and-butter--\\'\\n\\n\\'But what did the Dormouse say?\\' one of the jury asked.\\n\\n\\'That I can\\'t remember,\\' said the Hatter.\\n\\n\\'You MUST remember,\\' remarked the King, \\'or I\\'ll have you executed.\\'\\n\\nThe miserable Hatter dropped his teacup and bread-and-butter, and went\\ndown on one knee. \\'I\\'m a poor man, your Majesty,\\' he began.\\n\\n\\'You\\'re a very poor speaker,\\' said the King.\\n\\nHere one of the guinea-pigs cheered, and was immediately suppressed by\\nthe officers of the court. (As that is rather a hard word, I will just\\nexplain to you how it was done. They had a large canvas bag, which tied\\nup at the mouth with strings: into this they slipped the guinea-pig,\\nhead first, and then sat upon it.)\\n\\n\\'I\\'m glad I\\'ve seen that done,\\' thought Alice. \\'I\\'ve so often read\\nin the newspapers, at the end of trials, \"There was some attempts\\nat applause, which was immediately suppressed by the officers of the\\ncourt,\" and I never understood what it meant till now.\\'\\n\\n\\'If that\\'s all you know about it, you may stand down,\\' continued the\\nKing.\\n\\n\\'I can\\'t go no lower,\\' said the Hatter: \\'I\\'m on the floor, as it is.\\'\\n\\n\\'Then you may SIT down,\\' the King replied.\\n\\nHere the other guinea-pig cheered, and was suppressed.\\n\\n\\'Come, that finished the guinea-pigs!\\' thought Alice. \\'Now we shall get\\non better.\\'\\n\\n\\'I\\'d rather finish my tea,\\' said the Hatter, with an anxious look at the\\nQueen, who was reading the list of singers.\\n\\n\\'You may go,\\' said the King, and the Hatter hurriedly left the court,\\nwithout even waiting to put his shoes on.\\n\\n\\'--and just take his head off outside,\\' the Queen added to one of the\\nofficers: but the Hatter was out of sight before the officer could get\\nto the door.\\n\\n\\'Call the next witness!\\' said the King.\\n\\nThe next witness was the Duchess\\'s cook. She carried the pepper-box in\\nher hand, and Alice guessed who it was, even before she got into the\\ncourt, by the way the people near the door began sneezing all at once.\\n\\n\\'Give your evidence,\\' said the King.\\n\\n\\'Shan\\'t,\\' said the cook.\\n\\nThe King looked anxiously at the White Rabbit, who said in a low voice,\\n\\'Your Majesty must cross-examine THIS witness.\\'\\n\\n\\'Well, if I must, I must,\\' the King said, with a melancholy air, and,\\nafter folding his arms and frowning at the cook till his eyes were\\nnearly out of sight, he said in a deep voice, \\'What are tarts made of?\\'\\n\\n\\'Pepper, mostly,\\' said the cook.\\n\\n\\'Treacle,\\' said a sleepy voice behind her.\\n\\n\\'Collar that Dormouse,\\' the Queen shrieked out. \\'Behead that Dormouse!\\nTurn that Dormouse out of court! Suppress him! Pinch him! Off with his\\nwhiskers!\\'\\n\\nFor some minutes the whole court was in confusion, getting the Dormouse\\nturned out, and, by the time they had settled down again, the cook had\\ndisappeared.\\n\\n\\'Never mind!\\' said the King, with an air of great relief. \\'Call the next\\nwitness.\\' And he added in an undertone to the Queen, \\'Really, my dear,\\nYOU must cross-examine the next witness. It quite makes my forehead\\nache!\\'\\n\\nAlice watched the White Rabbit as he fumbled over the list, feeling very\\ncurious to see what the next witness would be like, \\'--for they haven\\'t\\ngot much evidence YET,\\' she said to herself. Imagine her surprise, when\\nthe White Rabbit read out, at the top of his shrill little voice, the\\nname \\'Alice!\\'\\n\\n\\n\\n             CHAPTER XII\\n\\n           Alice\\'s Evidence\\n\\n\\n\\'Here!\\' cried Alice, quite forgetting in the flurry of the moment how\\nlarge she had grown in the last few minutes, and she jumped up in such\\na hurry that she tipped over the jury-box with the edge of her skirt,\\nupsetting all the jurymen on to the heads of the crowd below, and there\\nthey lay sprawling about, reminding her very much of a globe of goldfish\\nshe had accidentally upset the week before.\\n\\n\\'Oh, I BEG your pardon!\\' she exclaimed in a tone of great dismay, and\\nbegan picking them up again as quickly as she could, for the accident of\\nthe goldfish kept running in her head, and she had a vague sort of idea\\nthat they must be collected at once and put back into the jury-box, or\\nthey would die.\\n\\n\\'The trial cannot proceed,\\' said the King in a very grave voice, \\'until\\nall the jurymen are back in their proper places--ALL,\\' he repeated with\\ngreat emphasis, looking hard at Alice as he said do.\\n\\nAlice looked at the jury-box, and saw that, in her haste, she had put\\nthe Lizard in head downwards, and the poor little thing was waving its\\ntail about in a melancholy way, being quite unable to move. She soon got\\nit out again, and put it right; \\'not that it signifies much,\\' she said\\nto herself; \\'I should think it would be QUITE as much use in the trial\\none way up as the other.\\'\\n\\nAs soon as the jury had a little recovered from the shock of being\\nupset, and their slates and pencils had been found and handed back to\\nthem, they set to work very diligently to write out a history of the\\naccident, all except the Lizard, who seemed too much overcome to do\\nanything but sit with its mouth open, gazing up into the roof of the\\ncourt.\\n\\n\\'What do you know about this business?\\' the King said to Alice.\\n\\n\\'Nothing,\\' said Alice.\\n\\n\\'Nothing WHATEVER?\\' persisted the King.\\n\\n\\'Nothing whatever,\\' said Alice.\\n\\n\\'That\\'s very important,\\' the King said, turning to the jury. They were\\njust beginning to write this down on their slates, when the White Rabbit\\ninterrupted: \\'UNimportant, your Majesty means, of course,\\' he said in a\\nvery respectful tone, but frowning and making faces at him as he spoke.\\n\\n\\'UNimportant, of course, I meant,\\' the King hastily said, and went on\\nto himself in an undertone,\\n\\n\\'important--unimportant--unimportant--important--\\' as if he were trying\\nwhich word sounded best.\\n\\nSome of the jury wrote it down \\'important,\\' and some \\'unimportant.\\'\\nAlice could see this, as she was near enough to look over their slates;\\n\\'but it doesn\\'t matter a bit,\\' she thought to herself.\\n\\nAt this moment the King, who had been for some time busily writing in\\nhis note-book, cackled out \\'Silence!\\' and read out from his book, \\'Rule\\nForty-two. ALL PERSONS MORE THAN A MILE HIGH TO LEAVE THE COURT.\\'\\n\\nEverybody looked at Alice.\\n\\n\\'I\\'M not a mile high,\\' said Alice.\\n\\n\\'You are,\\' said the King.\\n\\n\\'Nearly two miles high,\\' added the Queen.\\n\\n\\'Well, I shan\\'t go, at any rate,\\' said Alice: \\'besides, that\\'s not a\\nregular rule: you invented it just now.\\'\\n\\n\\'It\\'s the oldest rule in the book,\\' said the King.\\n\\n\\'Then it ought to be Number One,\\' said Alice.\\n\\nThe King turned pale, and shut his note-book hastily. \\'Consider your\\nverdict,\\' he said to the jury, in a low, trembling voice.\\n\\n\\'There\\'s more evidence to come yet, please your Majesty,\\' said the White\\nRabbit, jumping up in a great hurry; \\'this paper has just been picked\\nup.\\'\\n\\n\\'What\\'s in it?\\' said the Queen.\\n\\n\\'I haven\\'t opened it yet,\\' said the White Rabbit, \\'but it seems to be a\\nletter, written by the prisoner to--to somebody.\\'\\n\\n\\'It must have been that,\\' said the King, \\'unless it was written to\\nnobody, which isn\\'t usual, you know.\\'\\n\\n\\'Who is it directed to?\\' said one of the jurymen.\\n\\n\\'It isn\\'t directed at all,\\' said the White Rabbit; \\'in fact, there\\'s\\nnothing written on the OUTSIDE.\\' He unfolded the paper as he spoke, and\\nadded \\'It isn\\'t a letter, after all: it\\'s a set of verses.\\'\\n\\n\\'Are they in the prisoner\\'s handwriting?\\' asked another of the jurymen.\\n\\n\\'No, they\\'re not,\\' said the White Rabbit, \\'and that\\'s the queerest thing\\nabout it.\\' (The jury all looked puzzled.)\\n\\n\\'He must have imitated somebody else\\'s hand,\\' said the King. (The jury\\nall brightened up again.)\\n\\n\\'Please your Majesty,\\' said the Knave, \\'I didn\\'t write it, and they\\ncan\\'t prove I did: there\\'s no name signed at the end.\\'\\n\\n\\'If you didn\\'t sign it,\\' said the King, \\'that only makes the matter\\nworse. You MUST have meant some mischief, or else you\\'d have signed your\\nname like an honest man.\\'\\n\\nThere was a general clapping of hands at this: it was the first really\\nclever thing the King had said that day.\\n\\n\\'That PROVES his guilt,\\' said the Queen.\\n\\n\\'It proves nothing of the sort!\\' said Alice. \\'Why, you don\\'t even know\\nwhat they\\'re about!\\'\\n\\n\\'Read them,\\' said the King.\\n\\nThe White Rabbit put on his spectacles. \\'Where shall I begin, please\\nyour Majesty?\\' he asked.\\n\\n\\'Begin at the beginning,\\' the King said gravely, \\'and go on till you\\ncome to the end: then stop.\\'\\n\\nThese were the verses the White Rabbit read:--\\n\\n   \\'They told me you had been to her,\\n    And mentioned me to him:\\n   She gave me a good character,\\n    But said I could not swim.\\n\\n   He sent them word I had not gone\\n    (We know it to be true):\\n   If she should push the matter on,\\n    What would become of you?\\n\\n   I gave her one, they gave him two,\\n    You gave us three or more;\\n   They all returned from him to you,\\n    Though they were mine before.\\n\\n   If I or she should chance to be\\n    Involved in this affair,\\n   He trusts to you to set them free,\\n    Exactly as we were.\\n\\n   My notion was that you had been\\n    (Before she had this fit)\\n   An obstacle that came between\\n    Him, and ourselves, and it.\\n\\n   Don\\'t let him know she liked them best,\\n    For this must ever be\\n   A secret, kept from all the rest,\\n    Between yourself and me.\\'\\n\\n\\'That\\'s the most important piece of evidence we\\'ve heard yet,\\' said the\\nKing, rubbing his hands; \\'so now let the jury--\\'\\n\\n\\'If any one of them can explain it,\\' said Alice, (she had grown so large\\nin the last few minutes that she wasn\\'t a bit afraid of interrupting\\nhim,) \\'I\\'ll give him sixpence. _I_ don\\'t believe there\\'s an atom of\\nmeaning in it.\\'\\n\\nThe jury all wrote down on their slates, \\'SHE doesn\\'t believe there\\'s an\\natom of meaning in it,\\' but none of them attempted to explain the paper.\\n\\n\\'If there\\'s no meaning in it,\\' said the King, \\'that saves a world of\\ntrouble, you know, as we needn\\'t try to find any. And yet I don\\'t know,\\'\\nhe went on, spreading out the verses on his knee, and looking at them\\nwith one eye; \\'I seem to see some meaning in them, after all. \"--SAID\\nI COULD NOT SWIM--\" you can\\'t swim, can you?\\' he added, turning to the\\nKnave.\\n\\nThe Knave shook his head sadly. \\'Do I look like it?\\' he said. (Which he\\ncertainly did NOT, being made entirely of cardboard.)\\n\\n\\'All right, so far,\\' said the King, and he went on muttering over\\nthe verses to himself: \\'\"WE KNOW IT TO BE TRUE--\" that\\'s the jury, of\\ncourse--\"I GAVE HER ONE, THEY GAVE HIM TWO--\" why, that must be what he\\ndid with the tarts, you know--\\'\\n\\n\\'But, it goes on \"THEY ALL RETURNED FROM HIM TO YOU,\"\\' said Alice.\\n\\n\\'Why, there they are!\\' said the King triumphantly, pointing to the tarts\\non the table. \\'Nothing can be clearer than THAT. Then again--\"BEFORE SHE\\nHAD THIS FIT--\" you never had fits, my dear, I think?\\' he said to the\\nQueen.\\n\\n\\'Never!\\' said the Queen furiously, throwing an inkstand at the Lizard\\nas she spoke. (The unfortunate little Bill had left off writing on his\\nslate with one finger, as he found it made no mark; but he now hastily\\nbegan again, using the ink, that was trickling down his face, as long as\\nit lasted.)\\n\\n\\'Then the words don\\'t FIT you,\\' said the King, looking round the court\\nwith a smile. There was a dead silence.\\n\\n\\'It\\'s a pun!\\' the King added in an offended tone, and everybody laughed,\\n\\'Let the jury consider their verdict,\\' the King said, for about the\\ntwentieth time that day.\\n\\n\\'No, no!\\' said the Queen. \\'Sentence first--verdict afterwards.\\'\\n\\n\\'Stuff and nonsense!\\' said Alice loudly. \\'The idea of having the\\nsentence first!\\'\\n\\n\\'Hold your tongue!\\' said the Queen, turning purple.\\n\\n\\'I won\\'t!\\' said Alice.\\n\\n\\'Off with her head!\\' the Queen shouted at the top of her voice. Nobody\\nmoved.\\n\\n\\'Who cares for you?\\' said Alice, (she had grown to her full size by this\\ntime.) \\'You\\'re nothing but a pack of cards!\\'\\n\\nAt this the whole pack rose up into the air, and came flying down upon\\nher: she gave a little scream, half of fright and half of anger, and\\ntried to beat them off, and found herself lying on the bank, with her\\nhead in the lap of her sister, who was gently brushing away some dead\\nleaves that had fluttered down from the trees upon her face.\\n\\n\\'Wake up, Alice dear!\\' said her sister; \\'Why, what a long sleep you\\'ve\\nhad!\\'\\n\\n\\'Oh, I\\'ve had such a curious dream!\\' said Alice, and she told her\\nsister, as well as she could remember them, all these strange Adventures\\nof hers that you have just been reading about; and when she had\\nfinished, her sister kissed her, and said, \\'It WAS a curious dream,\\ndear, certainly: but now run in to your tea; it\\'s getting late.\\' So\\nAlice got up and ran off, thinking while she ran, as well she might,\\nwhat a wonderful dream it had been.\\n\\nBut her sister sat still just as she left her, leaning her head on her\\nhand, watching the setting sun, and thinking of little Alice and all her\\nwonderful Adventures, till she too began dreaming after a fashion, and\\nthis was her dream:--\\n\\nFirst, she dreamed of little Alice herself, and once again the tiny\\nhands were clasped upon her knee, and the bright eager eyes were looking\\nup into hers--she could hear the very tones of her voice, and see that\\nqueer little toss of her head to keep back the wandering hair that\\nWOULD always get into her eyes--and still as she listened, or seemed to\\nlisten, the whole place around her became alive the strange creatures of\\nher little sister\\'s dream.\\n\\nThe long grass rustled at her feet as the White Rabbit hurried by--the\\nfrightened Mouse splashed his way through the neighbouring pool--she\\ncould hear the rattle of the teacups as the March Hare and his friends\\nshared their never-ending meal, and the shrill voice of the Queen\\nordering off her unfortunate guests to execution--once more the pig-baby\\nwas sneezing on the Duchess\\'s knee, while plates and dishes crashed\\naround it--once more the shriek of the Gryphon, the squeaking of the\\nLizard\\'s slate-pencil, and the choking of the suppressed guinea-pigs,\\nfilled the air, mixed up with the distant sobs of the miserable Mock\\nTurtle.\\n\\nSo she sat on, with closed eyes, and half believed herself in\\nWonderland, though she knew she had but to open them again, and all\\nwould change to dull reality--the grass would be only rustling in the\\nwind, and the pool rippling to the waving of the reeds--the rattling\\nteacups would change to tinkling sheep-bells, and the Queen\\'s shrill\\ncries to the voice of the shepherd boy--and the sneeze of the baby, the\\nshriek of the Gryphon, and all the other queer noises, would change (she\\nknew) to the confused clamour of the busy farm-yard--while the lowing\\nof the cattle in the distance would take the place of the Mock Turtle\\'s\\nheavy sobs.\\n\\nLastly, she pictured to herself how this same little sister of hers\\nwould, in the after-time, be herself a grown woman; and how she would\\nkeep, through all her riper years, the simple and loving heart of her\\nchildhood: and how she would gather about her other little children, and\\nmake THEIR eyes bright and eager with many a strange tale, perhaps even\\nwith the dream of Wonderland of long ago: and how she would feel with\\nall their simple sorrows, and find a pleasure in all their simple joys,\\nremembering her own child-life, and the happy summer days.\\n'"
      ]
     },
     "execution_count": 29,
     "metadata": {},
     "output_type": "execute_result"
    }
   ],
   "source": [
    "carroll_raw = nltk.corpus.gutenberg.raw('carroll-alice.txt') \n",
    "carroll_raw"
   ]
  },
  {
   "cell_type": "code",
   "execution_count": 30,
   "metadata": {},
   "outputs": [],
   "source": [
    "from nltk import FreqDist\n",
    "\n",
    "stopwords = ['Mr.','Mrs.','Miss','Mr','Mrs','Dear']\n",
    "carroll_tokens = pos_tag(word_tokenize(carroll_raw))\n",
    "names_list = [t[0] for t in carroll_tokens if t[1] == 'NNP' and t[0] not in stopwords]\n",
    "fd_names = FreqDist(names_list)"
   ]
  },
  {
   "cell_type": "code",
   "execution_count": 31,
   "metadata": {},
   "outputs": [
    {
     "data": {
      "image/png": "[encoded data removed]",
      "text/plain": [
       "<Figure size 432x288 with 1 Axes>"
      ]
     },
     "metadata": {
      "needs_background": "light"
     },
     "output_type": "display_data"
    },
    {
     "data": {
      "text/plain": [
       "<matplotlib.axes._subplots.AxesSubplot at 0x133d73c2388>"
      ]
     },
     "execution_count": 31,
     "metadata": {},
     "output_type": "execute_result"
    }
   ],
   "source": [
    "fd_names.plot(20)"
   ]
  },
  {
   "cell_type": "code",
   "execution_count": 32,
   "metadata": {},
   "outputs": [
    {
     "data": {
      "image/png": "[encoded data removed]",
      "text/plain": [
       "<Figure size 432x288 with 1 Axes>"
      ]
     },
     "metadata": {
      "needs_background": "light"
     },
     "output_type": "display_data"
    }
   ],
   "source": [
    "from wordcloud import WordCloud\n",
    "\n",
    "wc = WordCloud(width=1000, height=600, background_color='white', random_state=0)\n",
    "plt.imshow(wc.generate_from_frequencies(fd_names))\n",
    "plt.axis('off')\n",
    "plt.show()"
   ]
  },
  {
   "cell_type": "markdown",
   "metadata": {},
   "source": [
    "### 한글 자연어 처리\n",
    "\n",
    "- KoNLPy 패키지 사용"
   ]
  },
  {
   "cell_type": "code",
   "execution_count": 33,
   "metadata": {
    "scrolled": true
   },
   "outputs": [
    {
     "name": "stdout",
     "output_type": "stream",
     "text": [
      "*** Introductory Examples for the NLTK Book ***\n",
      "Loading text1, ..., text9 and sent1, ..., sent9\n",
      "Type the name of the text or sentence to view it.\n",
      "Type: 'texts()' or 'sents()' to list the materials.\n",
      "text1: Moby Dick by Herman Melville 1851\n",
      "text2: Sense and Sensibility by Jane Austen 1811\n",
      "text3: The Book of Genesis\n",
      "text4: Inaugural Address Corpus\n",
      "text5: Chat Corpus\n",
      "text6: Monty Python and the Holy Grail\n",
      "text7: Wall Street Journal\n",
      "text8: Personals Corpus\n",
      "text9: The Man Who Was Thursday by G . K . Chesterton 1908\n"
     ]
    },
    {
     "name": "stderr",
     "output_type": "stream",
     "text": [
      "Exception in Tkinter callback\n",
      "Traceback (most recent call last):\n",
      "  File \"C:\\Users\\82109\\Anaconda3\\lib\\tkinter\\__init__.py\", line 1705, in __call__\n",
      "    return self.func(*args)\n",
      "  File \"C:\\Users\\82109\\Anaconda3\\lib\\tkinter\\__init__.py\", line 749, in callit\n",
      "    func(*args)\n",
      "  File \"C:\\Users\\82109\\Anaconda3\\lib\\site-packages\\matplotlib\\backends\\_backend_tk.py\", line 270, in idle_draw\n",
      "    self.draw()\n",
      "  File \"C:\\Users\\82109\\Anaconda3\\lib\\site-packages\\matplotlib\\backends\\backend_tkagg.py\", line 9, in draw\n",
      "    super(FigureCanvasTkAgg, self).draw()\n",
      "  File \"C:\\Users\\82109\\Anaconda3\\lib\\site-packages\\matplotlib\\backends\\backend_agg.py\", line 393, in draw\n",
      "    self.figure.draw(self.renderer)\n",
      "  File \"C:\\Users\\82109\\Anaconda3\\lib\\site-packages\\matplotlib\\backend_bases.py\", line 1535, in _draw\n",
      "    def _draw(renderer): raise Done(renderer)\n",
      "matplotlib.backend_bases._get_renderer.<locals>.Done: <matplotlib.backends.backend_agg.RendererAgg object at 0x00000133E328C8C8>\n",
      "Exception in Tkinter callback\n",
      "Traceback (most recent call last):\n",
      "  File \"C:\\Users\\82109\\Anaconda3\\lib\\tkinter\\__init__.py\", line 1705, in __call__\n",
      "    return self.func(*args)\n",
      "  File \"C:\\Users\\82109\\Anaconda3\\lib\\site-packages\\matplotlib\\backends\\_backend_tk.py\", line 259, in resize\n",
      "    self.draw()\n",
      "  File \"C:\\Users\\82109\\Anaconda3\\lib\\site-packages\\matplotlib\\backends\\backend_tkagg.py\", line 9, in draw\n",
      "    super(FigureCanvasTkAgg, self).draw()\n",
      "  File \"C:\\Users\\82109\\Anaconda3\\lib\\site-packages\\matplotlib\\backends\\backend_agg.py\", line 393, in draw\n",
      "    self.figure.draw(self.renderer)\n",
      "  File \"C:\\Users\\82109\\Anaconda3\\lib\\site-packages\\matplotlib\\backend_bases.py\", line 1535, in _draw\n",
      "    def _draw(renderer): raise Done(renderer)\n",
      "matplotlib.backend_bases._get_renderer.<locals>.Done: <matplotlib.backends.backend_agg.RendererAgg object at 0x00000133E328C8C8>\n",
      "Exception in Tkinter callback\n",
      "Traceback (most recent call last):\n",
      "  File \"C:\\Users\\82109\\Anaconda3\\lib\\tkinter\\__init__.py\", line 1705, in __call__\n",
      "    return self.func(*args)\n",
      "  File \"C:\\Users\\82109\\Anaconda3\\lib\\tkinter\\__init__.py\", line 749, in callit\n",
      "    func(*args)\n",
      "  File \"C:\\Users\\82109\\Anaconda3\\lib\\site-packages\\matplotlib\\backends\\_backend_tk.py\", line 270, in idle_draw\n",
      "    self.draw()\n",
      "  File \"C:\\Users\\82109\\Anaconda3\\lib\\site-packages\\matplotlib\\backends\\backend_tkagg.py\", line 9, in draw\n",
      "    super(FigureCanvasTkAgg, self).draw()\n",
      "  File \"C:\\Users\\82109\\Anaconda3\\lib\\site-packages\\matplotlib\\backends\\backend_agg.py\", line 393, in draw\n",
      "    self.figure.draw(self.renderer)\n",
      "  File \"C:\\Users\\82109\\Anaconda3\\lib\\site-packages\\matplotlib\\backend_bases.py\", line 1535, in _draw\n",
      "    def _draw(renderer): raise Done(renderer)\n",
      "matplotlib.backend_bases._get_renderer.<locals>.Done: <matplotlib.backends.backend_agg.RendererAgg object at 0x00000133E328C8C8>\n"
     ]
    },
    {
     "data": {
      "image/png": "[encoded data removed]",
      "text/plain": [
       "<Figure size 432x288 with 1 Axes>"
      ]
     },
     "metadata": {
      "needs_background": "light"
     },
     "output_type": "display_data"
    }
   ],
   "source": [
    "from nltk.book import *\n",
    "import matplotlib as mpl\n",
    "mpl.use('TkAgg')\n",
    "text4.dispersion_plot([\"citizens\", \"democracy\", \"freedom\", \"duties\", \"America\"])"
   ]
  },
  {
   "cell_type": "code",
   "execution_count": 34,
   "metadata": {
    "scrolled": true
   },
   "outputs": [
    {
     "name": "stdout",
     "output_type": "stream",
     "text": [
      "Requirement already satisfied: Jpype1 in c:\\users\\82109\\anaconda3\\lib\\site-packages (0.7.1)\n",
      "Note: you may need to restart the kernel to use updated packages.\n"
     ]
    }
   ],
   "source": [
    "# pip install Jpype1"
   ]
  },
  {
   "cell_type": "code",
   "execution_count": 35,
   "metadata": {},
   "outputs": [
    {
     "name": "stdout",
     "output_type": "stream",
     "text": [
      "Requirement already satisfied: konlpy in c:\\users\\82109\\anaconda3\\lib\\site-packages (0.5.2)\n",
      "Requirement already satisfied: JPype1>=0.7.0 in c:\\users\\82109\\anaconda3\\lib\\site-packages (from konlpy) (0.7.1)\n",
      "Requirement already satisfied: lxml>=4.1.0 in c:\\users\\82109\\anaconda3\\lib\\site-packages (from konlpy) (4.4.1)\n",
      "Requirement already satisfied: numpy>=1.6 in c:\\users\\82109\\anaconda3\\lib\\site-packages (from konlpy) (1.16.5)\n",
      "Requirement already satisfied: tweepy>=3.7.0 in c:\\users\\82109\\anaconda3\\lib\\site-packages (from konlpy) (3.8.0)\n",
      "Requirement already satisfied: beautifulsoup4==4.6.0 in c:\\users\\82109\\anaconda3\\lib\\site-packages (from konlpy) (4.6.0)\n",
      "Requirement already satisfied: colorama in c:\\users\\82109\\anaconda3\\lib\\site-packages (from konlpy) (0.4.1)\n",
      "Requirement already satisfied: PySocks>=1.5.7 in c:\\users\\82109\\anaconda3\\lib\\site-packages (from tweepy>=3.7.0->konlpy) (1.7.1)\n",
      "Requirement already satisfied: requests-oauthlib>=0.7.0 in c:\\users\\82109\\anaconda3\\lib\\site-packages (from tweepy>=3.7.0->konlpy) (1.3.0)\n",
      "Requirement already satisfied: requests>=2.11.1 in c:\\users\\82109\\anaconda3\\lib\\site-packages (from tweepy>=3.7.0->konlpy) (2.22.0)\n",
      "Requirement already satisfied: six>=1.10.0 in c:\\users\\82109\\anaconda3\\lib\\site-packages (from tweepy>=3.7.0->konlpy) (1.12.0)\n",
      "Requirement already satisfied: oauthlib>=3.0.0 in c:\\users\\82109\\anaconda3\\lib\\site-packages (from requests-oauthlib>=0.7.0->tweepy>=3.7.0->konlpy) (3.1.0)\n",
      "Requirement already satisfied: chardet<3.1.0,>=3.0.2 in c:\\users\\82109\\anaconda3\\lib\\site-packages (from requests>=2.11.1->tweepy>=3.7.0->konlpy) (3.0.4)\n",
      "Requirement already satisfied: idna<2.9,>=2.5 in c:\\users\\82109\\anaconda3\\lib\\site-packages (from requests>=2.11.1->tweepy>=3.7.0->konlpy) (2.8)\n",
      "Requirement already satisfied: certifi>=2017.4.17 in c:\\users\\82109\\anaconda3\\lib\\site-packages (from requests>=2.11.1->tweepy>=3.7.0->konlpy) (2019.9.11)\n",
      "Requirement already satisfied: urllib3!=1.25.0,!=1.25.1,<1.26,>=1.21.1 in c:\\users\\82109\\anaconda3\\lib\\site-packages (from requests>=2.11.1->tweepy>=3.7.0->konlpy) (1.24.2)\n",
      "Note: you may need to restart the kernel to use updated packages.\n"
     ]
    }
   ],
   "source": [
    "# pip install konlpy"
   ]
  },
  {
   "cell_type": "markdown",
   "metadata": {},
   "source": [
    "### KoNLPy 기능\n",
    "\n",
    "- 샘플 말뭉치\n",
    "    - kolaw: 헌법 말뭉치\n",
    "    - kobill : 법안 말뭉치\n",
    "    \n",
    "- 한글 형태소 분석기\n",
    "    - KoNLPy 는 다양한 형태소 분석, 태깅 라이브러리를 파이썬에서 쉽게 사용할 수 있도록 모아놓았다."
   ]
  },
  {
   "cell_type": "markdown",
   "metadata": {},
   "source": [
    "#### 형태소 분석기능\n",
    "\n",
    "- nouns : 명사 추출\n",
    "- morphs : 형태소 추출\n",
    "- pos : 품사 부착"
   ]
  },
  {
   "cell_type": "code",
   "execution_count": 36,
   "metadata": {},
   "outputs": [
    {
     "data": {
      "text/plain": [
       "['constitution.txt']"
      ]
     },
     "execution_count": 36,
     "metadata": {},
     "output_type": "execute_result"
    }
   ],
   "source": [
    "from konlpy.corpus import kolaw\n",
    "\n",
    "kolaw.fileids()"
   ]
  },
  {
   "cell_type": "code",
   "execution_count": 37,
   "metadata": {},
   "outputs": [
    {
     "name": "stdout",
     "output_type": "stream",
     "text": [
      "대한민국헌법\n",
      "\n",
      "유구한 역사와 전통에 빛나는 우리 대한국민은 3·1운동으로 건립된 대한민국임시정부의 법통과 불의에 항거한 4·19민주이념을 계승하고, 조국의 민주개혁과 평화적 통일의 사명에 입각하여 정의·인도와 동포애로써 민족의 단결을 공고히 하고, 모든 사회적 폐습과 불의를 타파하며, 자율과 조화를 바탕으로 자유민주적 기본질서를 더욱 확고히 하여 정치·경제·사회·문화의 모든 영역에 있어서 각인의 기회를 균등히 하고, 능력을 최고도로 발휘하게 하며, 자유와 권리에 따르는 책임과 의무를 완수하게 하여, 안으로는 국민생활의 균등한 향상을 기하고 밖으로는 항구적인 세계평화와 인류공영에 이바지함으로써 우리들과 우리들의 자손의 안전과 자유와 행복을 영원히 확보할 것을 다짐하면서 1948년 7월 12일에 제정되고 8차에 걸쳐 개정된 헌법을 이제 국회의 의결을 거쳐 국민투표에 의하여 개정한다.\n",
      "\n",
      "       \n"
     ]
    }
   ],
   "source": [
    "c = kolaw.open('constitution.txt').read()\n",
    "print(c[:450])"
   ]
  },
  {
   "cell_type": "code",
   "execution_count": 38,
   "metadata": {},
   "outputs": [
    {
     "data": {
      "text/plain": [
       "['1809890.txt',\n",
       " '1809891.txt',\n",
       " '1809892.txt',\n",
       " '1809893.txt',\n",
       " '1809894.txt',\n",
       " '1809895.txt',\n",
       " '1809896.txt',\n",
       " '1809897.txt',\n",
       " '1809898.txt',\n",
       " '1809899.txt']"
      ]
     },
     "execution_count": 38,
     "metadata": {},
     "output_type": "execute_result"
    }
   ],
   "source": [
    "from konlpy.corpus import kobill\n",
    "kobill.fileids()"
   ]
  },
  {
   "cell_type": "code",
   "execution_count": 39,
   "metadata": {},
   "outputs": [
    {
     "name": "stdout",
     "output_type": "stream",
     "text": [
      "지방공무원법 일부개정법률안\n",
      "\n",
      "(정의화의원 대표발의 )\n",
      "\n",
      " 의 안\n",
      " 번 호\n",
      "\n",
      "9890\n",
      "\n",
      "발의연월일 : 2010.  11.  12.  \n",
      "\n",
      "발  의  자 : 정의화․이명수․김을동 \n",
      "\n",
      "이사철․여상규․안규백\n",
      "\n",
      "황영철․박영아․김정훈\n",
      "\n",
      "김학송 의원(10인)\n",
      "\n",
      "제안이유 및 주요내용\n",
      "\n",
      "  초등학교 저학년의 경우에도 부모의 따뜻한 사랑과 보살핌이 필요\n",
      "\n",
      "한 나이이나, 현재 공무원이 자녀를 양육하기 위하여 육아휴직을 할 \n",
      "\n",
      "수 있는 자녀의 나이는 만 6세 이하로 되어 있어 초등학교 저학년인 \n",
      "\n",
      "자녀를 돌보기 위해서는 해당 부모님은 일자리를 그만 두어야 하고 \n",
      "\n",
      "이는 곧 출산의욕을 저하시키는 문제로 이어질 수 있을 것임.\n",
      "\n",
      "  따라서 육아휴직이 가능한 자녀의 연령을 만 8세 이하로 개정하려\n",
      "\n",
      "는 것임(안 제63조제2항제4호).\n",
      "\n"
     ]
    }
   ],
   "source": [
    "d = kobill.open('1809890.txt').read()\n",
    "print(d[:400])"
   ]
  },
  {
   "cell_type": "code",
   "execution_count": 40,
   "metadata": {},
   "outputs": [
    {
     "ename": "RuntimeError",
     "evalue": "java.lang.ClassNotFoundException: org.jpype.Utility",
     "output_type": "error",
     "traceback": [
      "\u001b[1;31m---------------------------------------------------------------------------\u001b[0m",
      "\u001b[1;31mRuntimeError\u001b[0m                              Traceback (most recent call last)",
      "\u001b[1;32m<ipython-input-40-fafeb5f4e700>\u001b[0m in \u001b[0;36m<module>\u001b[1;34m\u001b[0m\n\u001b[0;32m      1\u001b[0m \u001b[1;32mfrom\u001b[0m \u001b[0mkonlpy\u001b[0m\u001b[1;33m.\u001b[0m\u001b[0mtag\u001b[0m \u001b[1;32mimport\u001b[0m \u001b[1;33m*\u001b[0m\u001b[1;33m\u001b[0m\u001b[1;33m\u001b[0m\u001b[0m\n\u001b[0;32m      2\u001b[0m \u001b[1;33m\u001b[0m\u001b[0m\n\u001b[1;32m----> 3\u001b[1;33m \u001b[0mhannanum\u001b[0m \u001b[1;33m=\u001b[0m \u001b[0mHannanum\u001b[0m\u001b[1;33m(\u001b[0m\u001b[1;33m)\u001b[0m\u001b[1;33m\u001b[0m\u001b[1;33m\u001b[0m\u001b[0m\n\u001b[0m\u001b[0;32m      4\u001b[0m \u001b[0mkkma\u001b[0m \u001b[1;33m=\u001b[0m \u001b[0mKkma\u001b[0m\u001b[1;33m(\u001b[0m\u001b[1;33m)\u001b[0m\u001b[1;33m\u001b[0m\u001b[1;33m\u001b[0m\u001b[0m\n\u001b[0;32m      5\u001b[0m \u001b[0mokt\u001b[0m \u001b[1;33m=\u001b[0m \u001b[0mOkt\u001b[0m\u001b[1;33m(\u001b[0m\u001b[1;33m)\u001b[0m\u001b[1;33m\u001b[0m\u001b[1;33m\u001b[0m\u001b[0m\n",
      "\u001b[1;32m~\\Anaconda3\\lib\\site-packages\\konlpy\\tag\\_hannanum.py\u001b[0m in \u001b[0;36m__init__\u001b[1;34m(self, jvmpath, max_heap_size)\u001b[0m\n\u001b[0;32m    106\u001b[0m     \u001b[1;32mdef\u001b[0m \u001b[0m__init__\u001b[0m\u001b[1;33m(\u001b[0m\u001b[0mself\u001b[0m\u001b[1;33m,\u001b[0m \u001b[0mjvmpath\u001b[0m\u001b[1;33m=\u001b[0m\u001b[1;32mNone\u001b[0m\u001b[1;33m,\u001b[0m \u001b[0mmax_heap_size\u001b[0m\u001b[1;33m=\u001b[0m\u001b[1;36m1024\u001b[0m\u001b[1;33m)\u001b[0m\u001b[1;33m:\u001b[0m\u001b[1;33m\u001b[0m\u001b[1;33m\u001b[0m\u001b[0m\n\u001b[0;32m    107\u001b[0m         \u001b[1;32mif\u001b[0m \u001b[1;32mnot\u001b[0m \u001b[0mjpype\u001b[0m\u001b[1;33m.\u001b[0m\u001b[0misJVMStarted\u001b[0m\u001b[1;33m(\u001b[0m\u001b[1;33m)\u001b[0m\u001b[1;33m:\u001b[0m\u001b[1;33m\u001b[0m\u001b[1;33m\u001b[0m\u001b[0m\n\u001b[1;32m--> 108\u001b[1;33m             \u001b[0mjvm\u001b[0m\u001b[1;33m.\u001b[0m\u001b[0minit_jvm\u001b[0m\u001b[1;33m(\u001b[0m\u001b[0mjvmpath\u001b[0m\u001b[1;33m,\u001b[0m \u001b[0mmax_heap_size\u001b[0m\u001b[1;33m)\u001b[0m\u001b[1;33m\u001b[0m\u001b[1;33m\u001b[0m\u001b[0m\n\u001b[0m\u001b[0;32m    109\u001b[0m \u001b[1;33m\u001b[0m\u001b[0m\n\u001b[0;32m    110\u001b[0m         \u001b[0mjhannanumJavaPackage\u001b[0m \u001b[1;33m=\u001b[0m \u001b[0mjpype\u001b[0m\u001b[1;33m.\u001b[0m\u001b[0mJPackage\u001b[0m\u001b[1;33m(\u001b[0m\u001b[1;34m'kr.lucypark.jhannanum.comm'\u001b[0m\u001b[1;33m)\u001b[0m\u001b[1;33m\u001b[0m\u001b[1;33m\u001b[0m\u001b[0m\n",
      "\u001b[1;32m~\\Anaconda3\\lib\\site-packages\\konlpy\\jvm.py\u001b[0m in \u001b[0;36minit_jvm\u001b[1;34m(jvmpath, max_heap_size)\u001b[0m\n\u001b[0;32m     65\u001b[0m                                 \u001b[1;34m'-Dfile.encoding=UTF8'\u001b[0m\u001b[1;33m,\u001b[0m\u001b[1;33m\u001b[0m\u001b[1;33m\u001b[0m\u001b[0m\n\u001b[0;32m     66\u001b[0m                                 \u001b[1;34m'-ea'\u001b[0m\u001b[1;33m,\u001b[0m \u001b[1;34m'-Xmx{}m'\u001b[0m\u001b[1;33m.\u001b[0m\u001b[0mformat\u001b[0m\u001b[1;33m(\u001b[0m\u001b[0mmax_heap_size\u001b[0m\u001b[1;33m)\u001b[0m\u001b[1;33m,\u001b[0m\u001b[1;33m\u001b[0m\u001b[1;33m\u001b[0m\u001b[0m\n\u001b[1;32m---> 67\u001b[1;33m                                 convertStrings=True)\n\u001b[0m\u001b[0;32m     68\u001b[0m     \u001b[1;32melse\u001b[0m\u001b[1;33m:\u001b[0m\u001b[1;33m\u001b[0m\u001b[1;33m\u001b[0m\u001b[0m\n\u001b[0;32m     69\u001b[0m         \u001b[1;32mraise\u001b[0m \u001b[0mValueError\u001b[0m\u001b[1;33m(\u001b[0m\u001b[1;34m\"Please specify the JVM path.\"\u001b[0m\u001b[1;33m)\u001b[0m\u001b[1;33m\u001b[0m\u001b[1;33m\u001b[0m\u001b[0m\n",
      "\u001b[1;32m~\\Anaconda3\\lib\\site-packages\\jpype\\_core.py\u001b[0m in \u001b[0;36mstartJVM\u001b[1;34m(*args, **kwargs)\u001b[0m\n\u001b[0;32m    225\u001b[0m                         % (','.join([str(i) for i in kwargs])))\n\u001b[0;32m    226\u001b[0m \u001b[1;33m\u001b[0m\u001b[0m\n\u001b[1;32m--> 227\u001b[1;33m     \u001b[0m_jpype\u001b[0m\u001b[1;33m.\u001b[0m\u001b[0mstartup\u001b[0m\u001b[1;33m(\u001b[0m\u001b[0mjvmpath\u001b[0m\u001b[1;33m,\u001b[0m \u001b[0mtuple\u001b[0m\u001b[1;33m(\u001b[0m\u001b[0margs\u001b[0m\u001b[1;33m)\u001b[0m\u001b[1;33m,\u001b[0m \u001b[0mignoreUnrecognized\u001b[0m\u001b[1;33m,\u001b[0m \u001b[0mconvertStrings\u001b[0m\u001b[1;33m)\u001b[0m\u001b[1;33m\u001b[0m\u001b[1;33m\u001b[0m\u001b[0m\n\u001b[0m\u001b[0;32m    228\u001b[0m     \u001b[0m_initialize\u001b[0m\u001b[1;33m(\u001b[0m\u001b[1;33m)\u001b[0m\u001b[1;33m\u001b[0m\u001b[1;33m\u001b[0m\u001b[0m\n\u001b[0;32m    229\u001b[0m \u001b[1;33m\u001b[0m\u001b[0m\n",
      "\u001b[1;31mRuntimeError\u001b[0m: java.lang.ClassNotFoundException: org.jpype.Utility"
     ]
    }
   ],
   "source": [
    "from konlpy.tag import *\n",
    "\n",
    "hannanum = Hannanum()\n",
    "kkma = Kkma()\n",
    "okt = Okt()"
   ]
  },
  {
   "cell_type": "markdown",
   "metadata": {},
   "source": [
    "###  Scikit-Learn. 의 문서 전처리 기능\n",
    "\n",
    "#### BOW 인코딩\n",
    "\n",
    "문서를 숫자 벡터로 변환하는 가장 기본적인 방법은 BOW 인코딩 방법이다."
   ]
  },
  {
   "cell_type": "markdown",
   "metadata": {},
   "source": [
    "$x_{i,j} = \\text{문서 $d_i$내의 단어 $t_j$의 출현 빈도}$"
   ]
  },
  {
   "cell_type": "markdown",
   "metadata": {},
   "source": [
    "$x_{i,j} = \n",
    "\\begin{cases}\n",
    "0, & \\text{만약 단어 $t_j$가 문서 $d_i$ 안에 없으면} \\\\\n",
    "1. & \\text{만약 단어 $t_j$가 문서 $d_i$ 안에 있으면}\n",
    "\\end{cases}$"
   ]
  },
  {
   "cell_type": "markdown",
   "metadata": {},
   "source": [
    "### scikit-Learn 의 BOW 인코더\n",
    "\n",
    "Scikit-Learn 의 feature_extraction 서브패키지와 feature_extraction.text 서브패키지는 다음과 같은 BOW 인코더 클래스 제공"
   ]
  },
  {
   "cell_type": "markdown",
   "metadata": {},
   "source": [
    "- DictVectorizer :\n",
    "     - 각 단어의 수를 세어놓은 사전에서 BOW 벡터를 만든다.\n",
    "     \n",
    "- CounterVectorizer :\n",
    "    - 문서 집합에서 단어 토큰을 생성하고 각 단어의 수를 세어 BOW 인코딩한 벡터를 만든다.\n",
    "    \n",
    "- TfidfVectorizer:\n",
    "    - CounterVectorizer 와 비슷하지만 TF-IDF 방식으로 단어의 가중치를 조정한 BOW 벡터를 만든다.\n",
    "    \n",
    "- HashingVectorizer : \n",
    "    - 해시 함수 (hash function)을 사용하여 적은 메모리와 빠른 속도로 BOW 벡터를 만든다"
   ]
  },
  {
   "cell_type": "code",
   "execution_count": 41,
   "metadata": {},
   "outputs": [
    {
     "data": {
      "text/plain": [
       "array([[1., 2., 0.],\n",
       "       [0., 3., 1.]])"
      ]
     },
     "execution_count": 41,
     "metadata": {},
     "output_type": "execute_result"
    }
   ],
   "source": [
    "from sklearn.feature_extraction import DictVectorizer\n",
    "v = DictVectorizer(sparse=False)\n",
    "D = [{'A' : 1, 'B' : 2}, {'B': 3, 'C': 1}]\n",
    "X = v.fit_transform(D)\n",
    "X"
   ]
  },
  {
   "cell_type": "code",
   "execution_count": 42,
   "metadata": {},
   "outputs": [
    {
     "data": {
      "text/plain": [
       "['A', 'B', 'C']"
      ]
     },
     "execution_count": 42,
     "metadata": {},
     "output_type": "execute_result"
    }
   ],
   "source": [
    "v.feature_names_"
   ]
  },
  {
   "cell_type": "code",
   "execution_count": 43,
   "metadata": {},
   "outputs": [
    {
     "data": {
      "text/plain": [
       "array([[0., 0., 4.]])"
      ]
     },
     "execution_count": 43,
     "metadata": {},
     "output_type": "execute_result"
    }
   ],
   "source": [
    "v.transform({'C':4,'D':3})"
   ]
  },
  {
   "cell_type": "markdown",
   "metadata": {},
   "source": [
    "###  CountVectorizer"
   ]
  },
  {
   "cell_type": "markdown",
   "metadata": {},
   "source": [
    "\n",
    "Counter Vectrizer 는 다음과 같은 작업 수행\n",
    "\n",
    "1. 문서를 토큰 리스트 변환\n",
    "2. 각 문서에서 토큰의 출현 빈도를 센다.\n",
    "3. 각 문서를 BOW 인코딩 벡터로 변환한다.\n"
   ]
  },
  {
   "cell_type": "code",
   "execution_count": 44,
   "metadata": {},
   "outputs": [],
   "source": [
    "from sklearn.feature_extraction.text import CountVectorizer\n",
    "\n",
    "corpus = [\n",
    "    'This is the first document',\n",
    "    'This is the second document',\n",
    "    'And the third one',\n",
    "    'Is this the first document?',\n",
    "    'The last document?',\n",
    "]"
   ]
  },
  {
   "cell_type": "code",
   "execution_count": 45,
   "metadata": {},
   "outputs": [
    {
     "data": {
      "text/plain": [
       "{'this': 9,\n",
       " 'is': 3,\n",
       " 'the': 7,\n",
       " 'first': 2,\n",
       " 'document': 1,\n",
       " 'second': 6,\n",
       " 'and': 0,\n",
       " 'third': 8,\n",
       " 'one': 5,\n",
       " 'last': 4}"
      ]
     },
     "execution_count": 45,
     "metadata": {},
     "output_type": "execute_result"
    }
   ],
   "source": [
    "vect = CountVectorizer()\n",
    "vect.fit(corpus)\n",
    "vect.vocabulary_"
   ]
  },
  {
   "cell_type": "code",
   "execution_count": 46,
   "metadata": {},
   "outputs": [
    {
     "data": {
      "text/plain": [
       "array([[0, 1, 0, 1, 0, 0, 1, 1, 0, 1]], dtype=int64)"
      ]
     },
     "execution_count": 46,
     "metadata": {},
     "output_type": "execute_result"
    }
   ],
   "source": [
    "vect.transform(['This is the second document.']).toarray()"
   ]
  },
  {
   "cell_type": "code",
   "execution_count": 47,
   "metadata": {},
   "outputs": [
    {
     "data": {
      "text/plain": [
       "array([[0, 0, 0, 0, 0, 0, 0, 0, 0, 0]], dtype=int64)"
      ]
     },
     "execution_count": 47,
     "metadata": {},
     "output_type": "execute_result"
    }
   ],
   "source": [
    "vect.transform(['Something completely new.']).toarray()"
   ]
  },
  {
   "cell_type": "markdown",
   "metadata": {},
   "source": [
    "####  Stop Words\n"
   ]
  },
  {
   "cell_type": "code",
   "execution_count": 48,
   "metadata": {},
   "outputs": [
    {
     "data": {
      "text/plain": [
       "{'document': 0, 'second': 1}"
      ]
     },
     "execution_count": 48,
     "metadata": {},
     "output_type": "execute_result"
    }
   ],
   "source": [
    "vect = CountVectorizer(stop_words='english').fit(corpus)\n",
    "vect.vocabulary_"
   ]
  },
  {
   "cell_type": "markdown",
   "metadata": {},
   "source": [
    "### 토큰 "
   ]
  },
  {
   "cell_type": "code",
   "execution_count": 49,
   "metadata": {},
   "outputs": [
    {
     "data": {
      "text/plain": [
       "{'t': 15,\n",
       " 'h': 7,\n",
       " 'i': 8,\n",
       " 's': 14,\n",
       " ' ': 0,\n",
       " 'e': 5,\n",
       " 'f': 6,\n",
       " 'r': 13,\n",
       " 'd': 4,\n",
       " 'o': 12,\n",
       " 'c': 3,\n",
       " 'u': 16,\n",
       " 'm': 10,\n",
       " 'n': 11,\n",
       " 'a': 2,\n",
       " '?': 1,\n",
       " 'l': 9}"
      ]
     },
     "execution_count": 49,
     "metadata": {},
     "output_type": "execute_result"
    }
   ],
   "source": [
    "vect = CountVectorizer(analyzer='char').fit(corpus)\n",
    "vect.vocabulary_"
   ]
  },
  {
   "cell_type": "code",
   "execution_count": 50,
   "metadata": {},
   "outputs": [
    {
     "data": {
      "text/plain": [
       "{'this': 2, 'the': 0, 'third': 1}"
      ]
     },
     "execution_count": 50,
     "metadata": {},
     "output_type": "execute_result"
    }
   ],
   "source": [
    "vect = CountVectorizer(token_pattern='t\\w+').fit(corpus)\n",
    "vect.vocabulary_"
   ]
  },
  {
   "cell_type": "code",
   "execution_count": 51,
   "metadata": {},
   "outputs": [
    {
     "name": "stderr",
     "output_type": "stream",
     "text": [
      "C:\\Users\\82109\\Anaconda3\\lib\\site-packages\\sklearn\\feature_extraction\\text.py:507: UserWarning: The parameter 'token_pattern' will not be used since 'tokenizer' is not None'\n",
      "  warnings.warn(\"The parameter 'token_pattern' will not be used\"\n"
     ]
    },
    {
     "data": {
      "text/plain": [
       "{'this': 10,\n",
       " 'is': 4,\n",
       " 'the': 8,\n",
       " 'first': 3,\n",
       " 'document': 2,\n",
       " 'second': 7,\n",
       " 'and': 1,\n",
       " 'third': 9,\n",
       " 'one': 6,\n",
       " '?': 0,\n",
       " 'last': 5}"
      ]
     },
     "execution_count": 51,
     "metadata": {},
     "output_type": "execute_result"
    }
   ],
   "source": [
    "import nltk\n",
    "\n",
    "vect = CountVectorizer(tokenizer = nltk.word_tokenize).fit(corpus)\n",
    "vect.vocabulary_"
   ]
  },
  {
   "cell_type": "markdown",
   "metadata": {},
   "source": [
    "#### N- 그램\n",
    "\n",
    "n - 그램은 단어장 생성에 사용할 토큰의 크기를 결정한다"
   ]
  },
  {
   "cell_type": "code",
   "execution_count": 52,
   "metadata": {},
   "outputs": [
    {
     "data": {
      "text/plain": [
       "{'this is': 11,\n",
       " 'is the': 2,\n",
       " 'the first': 6,\n",
       " 'first document': 1,\n",
       " 'the second': 8,\n",
       " 'second document': 5,\n",
       " 'and the': 0,\n",
       " 'the third': 9,\n",
       " 'third one': 10,\n",
       " 'is this': 3,\n",
       " 'this the': 12,\n",
       " 'the last': 7,\n",
       " 'last document': 4}"
      ]
     },
     "execution_count": 52,
     "metadata": {},
     "output_type": "execute_result"
    }
   ],
   "source": [
    "vect = CountVectorizer(ngram_range=(2,2)).fit(corpus)\n",
    "vect.vocabulary_"
   ]
  },
  {
   "cell_type": "code",
   "execution_count": 53,
   "metadata": {},
   "outputs": [
    {
     "data": {
      "text/plain": [
       "{'this': 3, 'the': 0, 'this the': 4, 'third': 2, 'the third': 1}"
      ]
     },
     "execution_count": 53,
     "metadata": {},
     "output_type": "execute_result"
    }
   ],
   "source": [
    "vect = CountVectorizer(ngram_range=(1,2),token_pattern='t\\w+').fit(corpus)\n",
    "vect.vocabulary_"
   ]
  },
  {
   "cell_type": "markdown",
   "metadata": {},
   "source": [
    "### 빈도수"
   ]
  },
  {
   "cell_type": "code",
   "execution_count": 54,
   "metadata": {},
   "outputs": [
    {
     "data": {
      "text/plain": [
       "({'this': 3, 'is': 2, 'first': 1, 'document': 0},\n",
       " {'and', 'last', 'one', 'second', 'the', 'third'})"
      ]
     },
     "execution_count": 54,
     "metadata": {},
     "output_type": "execute_result"
    }
   ],
   "source": [
    "vect = CountVectorizer(max_df=4, min_df=2).fit(corpus)\n",
    "vect.vocabulary_, vect.stop_words_"
   ]
  },
  {
   "cell_type": "markdown",
   "metadata": {},
   "source": [
    "###  Vectorize 클래스 사용법\n",
    "\n",
    "1. 클래스 객체 생성\n",
    "2. 말뭉치 넣고 fit 메서드 실행\n",
    "3. vocabulary_ 속성에 단어장이 자동 생성됨\n",
    "4. transform 메서드로 다른 문서를 BOW 인코딩\n",
    "5. BOW 인코딩 결과는 Sparse 행렬로 만들어지므로 toarray 메서드로 보통행렬로 변환"
   ]
  },
  {
   "cell_type": "markdown",
   "metadata": {},
   "source": [
    "###  TF-IDF 인코딩\n",
    "\n",
    "TF-IDF 인코딩은 단어를 갯수 그대로 카운트하지 않고 모든 문서에 공통적으로 들어있는 단어의 경우 문서 구별능력이 떨어진다고 보아 가중치를 축소하는 방법"
   ]
  },
  {
   "cell_type": "code",
   "execution_count": 55,
   "metadata": {},
   "outputs": [
    {
     "ename": "ImportError",
     "evalue": "cannot import name 'TFidVectorizer' from 'sklearn.feature_extraction.text' (C:\\Users\\82109\\Anaconda3\\lib\\site-packages\\sklearn\\feature_extraction\\text.py)",
     "output_type": "error",
     "traceback": [
      "\u001b[1;31m---------------------------------------------------------------------------\u001b[0m",
      "\u001b[1;31mImportError\u001b[0m                               Traceback (most recent call last)",
      "\u001b[1;32m<ipython-input-55-fac9a01e07b5>\u001b[0m in \u001b[0;36m<module>\u001b[1;34m\u001b[0m\n\u001b[1;32m----> 1\u001b[1;33m \u001b[1;32mfrom\u001b[0m \u001b[0msklearn\u001b[0m\u001b[1;33m.\u001b[0m\u001b[0mfeature_extraction\u001b[0m\u001b[1;33m.\u001b[0m\u001b[0mtext\u001b[0m \u001b[1;32mimport\u001b[0m \u001b[0mTFidVectorizer\u001b[0m\u001b[1;33m\u001b[0m\u001b[1;33m\u001b[0m\u001b[0m\n\u001b[0m",
      "\u001b[1;31mImportError\u001b[0m: cannot import name 'TFidVectorizer' from 'sklearn.feature_extraction.text' (C:\\Users\\82109\\Anaconda3\\lib\\site-packages\\sklearn\\feature_extraction\\text.py)"
     ]
    }
   ],
   "source": [
    "from sklearn.feature_extraction.text import TFidVectorizer"
   ]
  },
  {
   "cell_type": "code",
   "execution_count": 56,
   "metadata": {},
   "outputs": [
    {
     "data": {
      "text/plain": [
       "array([[1., 2., 0.],\n",
       "       [0., 3., 1.]])"
      ]
     },
     "execution_count": 56,
     "metadata": {},
     "output_type": "execute_result"
    }
   ],
   "source": [
    "from sklearn.feature_extraction import DictVectorizer\n",
    "v = DictVectorizer(sparse=False)\n",
    "D = [{'A': 1, 'B': 2}, {'B': 3, 'C': 1}]\n",
    "X = v.fit_transform(D)\n",
    "X"
   ]
  },
  {
   "cell_type": "code",
   "execution_count": 57,
   "metadata": {},
   "outputs": [
    {
     "data": {
      "text/plain": [
       "{'this': 9,\n",
       " 'is': 3,\n",
       " 'the': 7,\n",
       " 'first': 2,\n",
       " 'document': 1,\n",
       " 'second': 6,\n",
       " 'and': 0,\n",
       " 'third': 8,\n",
       " 'one': 5,\n",
       " 'last': 4}"
      ]
     },
     "execution_count": 57,
     "metadata": {},
     "output_type": "execute_result"
    }
   ],
   "source": [
    "from sklearn.feature_extraction.text import CountVectorizer\n",
    "corpus = [\n",
    "    'This is the first document.',\n",
    "    'This is the second second document.',\n",
    "    'And the third one.',\n",
    "    'Is this the first document?',\n",
    "    'The last document?',\n",
    "]\n",
    "vect = CountVectorizer()\n",
    "vect.fit(corpus)\n",
    "vect.vocabulary_"
   ]
  },
  {
   "cell_type": "code",
   "execution_count": 58,
   "metadata": {},
   "outputs": [
    {
     "data": {
      "text/plain": [
       "array([[0, 1, 0, 1, 0, 0, 1, 1, 0, 1]], dtype=int64)"
      ]
     },
     "execution_count": 58,
     "metadata": {},
     "output_type": "execute_result"
    }
   ],
   "source": [
    "vect.transform(['This is the second document.']).toarray()"
   ]
  },
  {
   "cell_type": "code",
   "execution_count": 59,
   "metadata": {},
   "outputs": [
    {
     "name": "stdout",
     "output_type": "stream",
     "text": [
      "Requirement already satisfied: gensim in c:\\users\\82109\\anaconda3\\lib\\site-packages (3.8.3)\n",
      "Requirement already satisfied: numpy>=1.11.3 in c:\\users\\82109\\anaconda3\\lib\\site-packages (from gensim) (1.16.5)\n",
      "Requirement already satisfied: smart-open>=1.8.1 in c:\\users\\82109\\anaconda3\\lib\\site-packages (from gensim) (2.0.0)\n",
      "Requirement already satisfied: Cython==0.29.14 in c:\\users\\82109\\anaconda3\\lib\\site-packages (from gensim) (0.29.14)\n",
      "Requirement already satisfied: six>=1.5.0 in c:\\users\\82109\\anaconda3\\lib\\site-packages (from gensim) (1.12.0)\n",
      "Requirement already satisfied: scipy>=0.18.1 in c:\\users\\82109\\anaconda3\\lib\\site-packages (from gensim) (1.3.1)\n",
      "Requirement already satisfied: boto in c:\\users\\82109\\anaconda3\\lib\\site-packages (from smart-open>=1.8.1->gensim) (2.49.0)\n",
      "Requirement already satisfied: boto3 in c:\\users\\82109\\anaconda3\\lib\\site-packages (from smart-open>=1.8.1->gensim) (1.13.11)\n",
      "Requirement already satisfied: requests in c:\\users\\82109\\anaconda3\\lib\\site-packages (from smart-open>=1.8.1->gensim) (2.22.0)\n",
      "Requirement already satisfied: jmespath<1.0.0,>=0.7.1 in c:\\users\\82109\\anaconda3\\lib\\site-packages (from boto3->smart-open>=1.8.1->gensim) (0.10.0)\n",
      "Requirement already satisfied: s3transfer<0.4.0,>=0.3.0 in c:\\users\\82109\\anaconda3\\lib\\site-packages (from boto3->smart-open>=1.8.1->gensim) (0.3.3)\n",
      "Requirement already satisfied: botocore<1.17.0,>=1.16.11 in c:\\users\\82109\\anaconda3\\lib\\site-packages (from boto3->smart-open>=1.8.1->gensim) (1.16.11)\n",
      "Requirement already satisfied: certifi>=2017.4.17 in c:\\users\\82109\\anaconda3\\lib\\site-packages (from requests->smart-open>=1.8.1->gensim) (2019.9.11)\n",
      "Requirement already satisfied: chardet<3.1.0,>=3.0.2 in c:\\users\\82109\\anaconda3\\lib\\site-packages (from requests->smart-open>=1.8.1->gensim) (3.0.4)\n",
      "Requirement already satisfied: urllib3!=1.25.0,!=1.25.1,<1.26,>=1.21.1 in c:\\users\\82109\\anaconda3\\lib\\site-packages (from requests->smart-open>=1.8.1->gensim) (1.24.2)\n",
      "Requirement already satisfied: idna<2.9,>=2.5 in c:\\users\\82109\\anaconda3\\lib\\site-packages (from requests->smart-open>=1.8.1->gensim) (2.8)\n",
      "Requirement already satisfied: docutils<0.16,>=0.10 in c:\\users\\82109\\anaconda3\\lib\\site-packages (from botocore<1.17.0,>=1.16.11->boto3->smart-open>=1.8.1->gensim) (0.15.2)\n",
      "Requirement already satisfied: python-dateutil<3.0.0,>=2.1 in c:\\users\\82109\\anaconda3\\lib\\site-packages (from botocore<1.17.0,>=1.16.11->boto3->smart-open>=1.8.1->gensim) (2.8.0)\n",
      "Note: you may need to restart the kernel to use updated packages.\n"
     ]
    }
   ],
   "source": [
    "pip install gensim"
   ]
  },
  {
   "cell_type": "markdown",
   "metadata": {},
   "source": [
    "###  Gensim 의 BOW 인코딩 기능"
   ]
  },
  {
   "cell_type": "code",
   "execution_count": 60,
   "metadata": {},
   "outputs": [],
   "source": [
    "corpus = [\n",
    "    'This is the first document.',\n",
    "    'This is the second second document.',\n",
    "    'And the third one.',\n",
    "    'Is this the first document?',\n",
    "    'The last documnet?',\n",
    "]"
   ]
  },
  {
   "cell_type": "code",
   "execution_count": 61,
   "metadata": {},
   "outputs": [
    {
     "data": {
      "text/plain": [
       "[['This', 'is', 'the', 'first', 'document.'],\n",
       " ['This', 'is', 'the', 'second', 'second', 'document.'],\n",
       " ['And', 'the', 'third', 'one.'],\n",
       " ['Is', 'this', 'the', 'first', 'document?'],\n",
       " ['The', 'last', 'documnet?']]"
      ]
     },
     "execution_count": 61,
     "metadata": {},
     "output_type": "execute_result"
    }
   ],
   "source": [
    "token_list = [[text for text in doc.split()] for doc in corpus]\n",
    "token_list "
   ]
  },
  {
   "cell_type": "code",
   "execution_count": 62,
   "metadata": {},
   "outputs": [
    {
     "data": {
      "text/plain": [
       "{'This': 0,\n",
       " 'document.': 1,\n",
       " 'first': 2,\n",
       " 'is': 3,\n",
       " 'the': 4,\n",
       " 'second': 5,\n",
       " 'And': 6,\n",
       " 'one.': 7,\n",
       " 'third': 8,\n",
       " 'Is': 9,\n",
       " 'document?': 10,\n",
       " 'this': 11,\n",
       " 'The': 12,\n",
       " 'documnet?': 13,\n",
       " 'last': 14}"
      ]
     },
     "execution_count": 62,
     "metadata": {},
     "output_type": "execute_result"
    }
   ],
   "source": [
    "from gensim.corpora import Dictionary\n",
    "\n",
    "dictionary = Dictionary(token_list)\n",
    "dictionary.token2id"
   ]
  },
  {
   "cell_type": "code",
   "execution_count": 63,
   "metadata": {},
   "outputs": [
    {
     "data": {
      "text/plain": [
       "[[(0, 1), (1, 1), (2, 1), (3, 1), (4, 1)],\n",
       " [(0, 1), (1, 1), (3, 1), (4, 1), (5, 2)],\n",
       " [(4, 1), (6, 1), (7, 1), (8, 1)],\n",
       " [(2, 1), (4, 1), (9, 1), (10, 1), (11, 1)],\n",
       " [(12, 1), (13, 1), (14, 1)]]"
      ]
     },
     "execution_count": 63,
     "metadata": {},
     "output_type": "execute_result"
    }
   ],
   "source": [
    "term_matrix = [dictionary.doc2bow(token) for token in token_list]\n",
    "term_matrix"
   ]
  },
  {
   "cell_type": "code",
   "execution_count": 64,
   "metadata": {},
   "outputs": [
    {
     "name": "stdout",
     "output_type": "stream",
     "text": [
      "doc:\n",
      "0 0.49633406058198626\n",
      "1 0.49633406058198626\n",
      "2 0.49633406058198626\n",
      "3 0.49633406058198626\n",
      "4 0.12087183801361165\n",
      "doc:\n",
      "0 0.25482305694621393\n",
      "1 0.25482305694621393\n",
      "3 0.25482305694621393\n",
      "4 0.0620568558708622\n",
      "5 0.8951785160431313\n",
      "doc:\n",
      "4 0.07979258234193365\n",
      "6 0.5755093812740171\n",
      "7 0.5755093812740171\n",
      "8 0.5755093812740171\n",
      "doc:\n",
      "2 0.3113637188032758\n",
      "4 0.07582615816930939\n",
      "9 0.5469012794372422\n",
      "10 0.5469012794372422\n",
      "11 0.5469012794372422\n",
      "doc:\n",
      "12 0.5773502691896258\n",
      "13 0.5773502691896258\n",
      "14 0.5773502691896258\n"
     ]
    }
   ],
   "source": [
    "from gensim.models import TfidfModel\n",
    "\n",
    "tfidf = TfidfModel(term_matrix)\n",
    "\n",
    "for doc in tfidf[term_matrix]:\n",
    "    print('doc:')\n",
    "    for k,v in doc:\n",
    "        print(k,v)"
   ]
  },
  {
   "cell_type": "markdown",
   "metadata": {},
   "source": [
    "####  토픽 모델링\n",
    "\n",
    "- 토픽(Topic)\n",
    "    - 문서를 구성하는 단어의 비율\n",
    "    - 문서 집합의 추상적인 주체"
   ]
  },
  {
   "cell_type": "markdown",
   "metadata": {},
   "source": [
    "####  텍스트 데이터 다운로드"
   ]
  },
  {
   "cell_type": "code",
   "execution_count": 65,
   "metadata": {},
   "outputs": [],
   "source": [
    "\n",
    "from sklearn.datasets import fetch_20newsgroups\n",
    "newsgroups = fetch_20newsgroups(categories=['comp.graphics','rec.sport.baseball','sci.med'])"
   ]
  },
  {
   "cell_type": "markdown",
   "metadata": {},
   "source": [
    "#### 명사 추출"
   ]
  },
  {
   "cell_type": "code",
   "execution_count": 66,
   "metadata": {},
   "outputs": [
    {
     "name": "stdout",
     "output_type": "stream",
     "text": [
      "Wall time: 33.7 s\n"
     ]
    }
   ],
   "source": [
    "%%time\n",
    "from nltk.tag import pos_tag\n",
    "from nltk.tokenize import word_tokenize\n",
    "\n",
    "tagged_list = [pos_tag(word_tokenize(doc)) for doc in newsgroups.data]\n",
    "nouns_list = [[t[0] for t in doc if t[1].startswith('N')] for doc in tagged_list]"
   ]
  },
  {
   "cell_type": "markdown",
   "metadata": {},
   "source": [
    "#### 표제어 추출"
   ]
  },
  {
   "cell_type": "code",
   "execution_count": 67,
   "metadata": {},
   "outputs": [],
   "source": [
    "from nltk.stem import WordNetLemmatizer\n",
    "\n",
    "lm = WordNetLemmatizer()\n",
    "nouns_list = [[lm.lemmatize(w,pos='n') for w in doc] for doc in nouns_list]"
   ]
  },
  {
   "cell_type": "markdown",
   "metadata": {},
   "source": [
    "#### 불용어 제거"
   ]
  },
  {
   "cell_type": "code",
   "execution_count": 68,
   "metadata": {},
   "outputs": [],
   "source": [
    "import re\n",
    "token_list = [[text.lower() for text in doc] for doc in nouns_list]\n",
    "token_list = [[re.sub(r\"[^A-Za-z]+\", '', word) for word in doc]\n",
    "              for doc in token_list]"
   ]
  },
  {
   "cell_type": "code",
   "execution_count": 69,
   "metadata": {},
   "outputs": [
    {
     "ename": "NameError",
     "evalue": "name 'stop' is not defined",
     "output_type": "error",
     "traceback": [
      "\u001b[1;31m---------------------------------------------------------------------------\u001b[0m",
      "\u001b[1;31mNameError\u001b[0m                                 Traceback (most recent call last)",
      "\u001b[1;32m<ipython-input-69-1f6838983dea>\u001b[0m in \u001b[0;36m<module>\u001b[1;34m\u001b[0m\n\u001b[0;32m      1\u001b[0m \u001b[1;32mfrom\u001b[0m \u001b[0mnltk\u001b[0m\u001b[1;33m.\u001b[0m\u001b[0mcorpus\u001b[0m \u001b[1;32mimport\u001b[0m \u001b[0mstopwords\u001b[0m\u001b[1;33m\u001b[0m\u001b[1;33m\u001b[0m\u001b[0m\n\u001b[0;32m      2\u001b[0m \u001b[1;33m\u001b[0m\u001b[0m\n\u001b[1;32m----> 3\u001b[1;33m \u001b[0mstop_words\u001b[0m \u001b[1;33m=\u001b[0m \u001b[0mstop\u001b[0m\u001b[1;33m\u001b[0m\u001b[1;33m\u001b[0m\u001b[0m\n\u001b[0m",
      "\u001b[1;31mNameError\u001b[0m: name 'stop' is not defined"
     ]
    }
   ],
   "source": [
    "from nltk.corpus import stopwords\n",
    "\n",
    "stop_words = stop"
   ]
  },
  {
   "cell_type": "code",
   "execution_count": 70,
   "metadata": {},
   "outputs": [
    {
     "name": "stderr",
     "output_type": "stream",
     "text": [
      "Exception in Tkinter callback\n",
      "Traceback (most recent call last):\n",
      "  File \"C:\\Users\\82109\\Anaconda3\\lib\\tkinter\\__init__.py\", line 1705, in __call__\n",
      "    return self.func(*args)\n",
      "  File \"C:\\Users\\82109\\Anaconda3\\lib\\tkinter\\__init__.py\", line 749, in callit\n",
      "    func(*args)\n",
      "  File \"C:\\Users\\82109\\Anaconda3\\lib\\site-packages\\matplotlib\\backends\\_backend_tk.py\", line 270, in idle_draw\n",
      "    self.draw()\n",
      "  File \"C:\\Users\\82109\\Anaconda3\\lib\\site-packages\\matplotlib\\backends\\backend_tkagg.py\", line 9, in draw\n",
      "    super(FigureCanvasTkAgg, self).draw()\n",
      "  File \"C:\\Users\\82109\\Anaconda3\\lib\\site-packages\\matplotlib\\backends\\backend_agg.py\", line 393, in draw\n",
      "    self.figure.draw(self.renderer)\n",
      "  File \"C:\\Users\\82109\\Anaconda3\\lib\\site-packages\\matplotlib\\backend_bases.py\", line 1535, in _draw\n",
      "    def _draw(renderer): raise Done(renderer)\n",
      "matplotlib.backend_bases._get_renderer.<locals>.Done: <matplotlib.backends.backend_agg.RendererAgg object at 0x0000013384269388>\n",
      "Exception in Tkinter callback\n",
      "Traceback (most recent call last):\n",
      "  File \"C:\\Users\\82109\\Anaconda3\\lib\\tkinter\\__init__.py\", line 1705, in __call__\n",
      "    return self.func(*args)\n",
      "  File \"C:\\Users\\82109\\Anaconda3\\lib\\site-packages\\matplotlib\\backends\\_backend_tk.py\", line 259, in resize\n",
      "    self.draw()\n",
      "  File \"C:\\Users\\82109\\Anaconda3\\lib\\site-packages\\matplotlib\\backends\\backend_tkagg.py\", line 9, in draw\n",
      "    super(FigureCanvasTkAgg, self).draw()\n",
      "  File \"C:\\Users\\82109\\Anaconda3\\lib\\site-packages\\matplotlib\\backends\\backend_agg.py\", line 393, in draw\n",
      "    self.figure.draw(self.renderer)\n",
      "  File \"C:\\Users\\82109\\Anaconda3\\lib\\site-packages\\matplotlib\\backend_bases.py\", line 1535, in _draw\n",
      "    def _draw(renderer): raise Done(renderer)\n",
      "matplotlib.backend_bases._get_renderer.<locals>.Done: <matplotlib.backends.backend_agg.RendererAgg object at 0x0000013384269388>\n",
      "Exception in Tkinter callback\n",
      "Traceback (most recent call last):\n",
      "  File \"C:\\Users\\82109\\Anaconda3\\lib\\tkinter\\__init__.py\", line 1705, in __call__\n",
      "    return self.func(*args)\n",
      "  File \"C:\\Users\\82109\\Anaconda3\\lib\\tkinter\\__init__.py\", line 749, in callit\n",
      "    func(*args)\n",
      "  File \"C:\\Users\\82109\\Anaconda3\\lib\\site-packages\\matplotlib\\backends\\_backend_tk.py\", line 270, in idle_draw\n",
      "    self.draw()\n",
      "  File \"C:\\Users\\82109\\Anaconda3\\lib\\site-packages\\matplotlib\\backends\\backend_tkagg.py\", line 9, in draw\n",
      "    super(FigureCanvasTkAgg, self).draw()\n",
      "  File \"C:\\Users\\82109\\Anaconda3\\lib\\site-packages\\matplotlib\\backends\\backend_agg.py\", line 393, in draw\n",
      "    self.figure.draw(self.renderer)\n",
      "  File \"C:\\Users\\82109\\Anaconda3\\lib\\site-packages\\matplotlib\\backend_bases.py\", line 1535, in _draw\n",
      "    def _draw(renderer): raise Done(renderer)\n",
      "matplotlib.backend_bases._get_renderer.<locals>.Done: <matplotlib.backends.backend_agg.RendererAgg object at 0x0000013384269388>\n"
     ]
    },
    {
     "data": {
      "image/png": "[encoded data removed]",
      "text/plain": [
       "<Figure size 432x288 with 1 Axes>"
      ]
     },
     "metadata": {
      "needs_background": "light"
     },
     "output_type": "display_data"
    }
   ],
   "source": [
    "import numpy as np\n",
    "def make_regression2(n_sample=100, bias=0, noise=0.3, random_state=0):\n",
    "    np.random.seed(random_state)\n",
    "    x = np.random.rand(n_sample) * 4\n",
    "    epsilon = noise * np.random.randn(n_sample)\n",
    "    y = x ** 2 + bias + epsilon\n",
    "    return x, y\n",
    "\n",
    "\n",
    "x2, y2 = make_regression2()\n",
    "plt.scatter(x2, y2)\n",
    "plt.show()"
   ]
  },
  {
   "cell_type": "code",
   "execution_count": 88,
   "metadata": {},
   "outputs": [
    {
     "ename": "NameError",
     "evalue": "name 'sm' is not defined",
     "output_type": "error",
     "traceback": [
      "\u001b[1;31m---------------------------------------------------------------------------\u001b[0m",
      "\u001b[1;31mNameError\u001b[0m                                 Traceback (most recent call last)",
      "\u001b[1;32m<ipython-input-88-7dfa254a1d04>\u001b[0m in \u001b[0;36m<module>\u001b[1;34m\u001b[0m\n\u001b[0;32m      2\u001b[0m \u001b[1;33m\u001b[0m\u001b[0m\n\u001b[0;32m      3\u001b[0m \u001b[0mdfX20\u001b[0m \u001b[1;33m=\u001b[0m \u001b[0mpd\u001b[0m\u001b[1;33m.\u001b[0m\u001b[0mDataFrame\u001b[0m\u001b[1;33m(\u001b[0m\u001b[0mx2\u001b[0m\u001b[1;33m,\u001b[0m \u001b[0mcolumns\u001b[0m\u001b[1;33m=\u001b[0m\u001b[1;33m[\u001b[0m\u001b[1;34m\"X1\"\u001b[0m\u001b[1;33m]\u001b[0m\u001b[1;33m)\u001b[0m\u001b[1;33m\u001b[0m\u001b[1;33m\u001b[0m\u001b[0m\n\u001b[1;32m----> 4\u001b[1;33m \u001b[0mdfX2\u001b[0m \u001b[1;33m=\u001b[0m \u001b[0msm\u001b[0m\u001b[1;33m.\u001b[0m\u001b[0madd_constant\u001b[0m\u001b[1;33m(\u001b[0m\u001b[0mdfX20\u001b[0m\u001b[1;33m)\u001b[0m\u001b[1;33m\u001b[0m\u001b[1;33m\u001b[0m\u001b[0m\n\u001b[0m\u001b[0;32m      5\u001b[0m \u001b[0mdfy2\u001b[0m \u001b[1;33m=\u001b[0m \u001b[0mpd\u001b[0m\u001b[1;33m.\u001b[0m\u001b[0mDataFrame\u001b[0m\u001b[1;33m(\u001b[0m\u001b[0my2\u001b[0m\u001b[1;33m,\u001b[0m \u001b[0mcolumns\u001b[0m\u001b[1;33m=\u001b[0m\u001b[1;33m[\u001b[0m\u001b[1;34m\"y\"\u001b[0m\u001b[1;33m]\u001b[0m\u001b[1;33m)\u001b[0m\u001b[1;33m\u001b[0m\u001b[1;33m\u001b[0m\u001b[0m\n\u001b[0;32m      6\u001b[0m \u001b[1;33m\u001b[0m\u001b[0m\n",
      "\u001b[1;31mNameError\u001b[0m: name 'sm' is not defined"
     ]
    }
   ],
   "source": [
    "import pandas as pd\n",
    "\n",
    "dfX20 = pd.DataFrame(x2, columns=[\"X1\"])\n",
    "dfX2 = sm.add_constant(dfX20)\n",
    "dfy2 = pd.DataFrame(y2, columns=[\"y\"])\n",
    "\n",
    "model2 = sm.OLS(dfy2, dfX2)\n",
    "result2 = model2.fit()"
   ]
  },
  {
   "cell_type": "code",
   "execution_count": 89,
   "metadata": {},
   "outputs": [],
   "source": [
    "import statsmodels.api as sm\n",
    "import scipy"
   ]
  },
  {
   "cell_type": "code",
   "execution_count": 90,
   "metadata": {},
   "outputs": [
    {
     "ename": "NameError",
     "evalue": "name 'sp' is not defined",
     "output_type": "error",
     "traceback": [
      "\u001b[1;31m---------------------------------------------------------------------------\u001b[0m",
      "\u001b[1;31mNameError\u001b[0m                                 Traceback (most recent call last)",
      "\u001b[1;32m<ipython-input-90-6ec17091102c>\u001b[0m in \u001b[0;36m<module>\u001b[1;34m\u001b[0m\n\u001b[1;32m----> 1\u001b[1;33m \u001b[0msp\u001b[0m\u001b[1;33m.\u001b[0m\u001b[0mstats\u001b[0m\u001b[1;33m.\u001b[0m\u001b[0mprobplot\u001b[0m\u001b[1;33m(\u001b[0m\u001b[0mresult2\u001b[0m\u001b[1;33m.\u001b[0m\u001b[0mresid\u001b[0m\u001b[1;33m,\u001b[0m \u001b[0mplot\u001b[0m\u001b[1;33m=\u001b[0m\u001b[0mplt\u001b[0m\u001b[1;33m)\u001b[0m\u001b[1;33m\u001b[0m\u001b[1;33m\u001b[0m\u001b[0m\n\u001b[0m\u001b[0;32m      2\u001b[0m \u001b[0mplt\u001b[0m\u001b[1;33m.\u001b[0m\u001b[0mshow\u001b[0m\u001b[1;33m(\u001b[0m\u001b[1;33m)\u001b[0m\u001b[1;33m\u001b[0m\u001b[1;33m\u001b[0m\u001b[0m\n",
      "\u001b[1;31mNameError\u001b[0m: name 'sp' is not defined"
     ]
    }
   ],
   "source": [
    "sp.stats.probplot(result2.resid, plot=plt)\n",
    "plt.show()"
   ]
  },
  {
   "cell_type": "code",
   "execution_count": null,
   "metadata": {},
   "outputs": [],
   "source": [
    "test = sm.stats.omni_normtest(result2.resid)\n",
    "for xi in zip(['Chi^2', 'P-value'], test):\n",
    "    print(\"%-12s: %6.3f\" % xi)"
   ]
  },
  {
   "cell_type": "code",
   "execution_count": null,
   "metadata": {},
   "outputs": [],
   "source": [
    "def make_regression3(n_sample=100, bias=0, noise=0.5, random_state=0):\n",
    "    np.random.seed(random_state)\n",
    "    x = np.random.rand(n_sample) * 3 - 1\n",
    "    epsilon = noise * np.random.randn(n_sample)\n",
    "    y = x ** 2 + bias + epsilon\n",
    "    return x, y\n",
    "\n",
    "\n",
    "x3, y3 = make_regression3()\n",
    "plt.scatter(x3, y3)\n",
    "plt.show()\n"
   ]
  },
  {
   "cell_type": "code",
   "execution_count": null,
   "metadata": {},
   "outputs": [],
   "source": [
    "\n",
    "dfX30 = pd.DataFrame(x3, columns=[\"X1\"])\n",
    "dfX3 = sm.add_constant(dfX30)\n",
    "dfy3 = pd.DataFrame(y3, columns=[\"y\"])\n",
    "\n",
    "model3 = sm.OLS(dfy3, dfX3)\n",
    "result3 = model3.fit()"
   ]
  },
  {
   "cell_type": "code",
   "execution_count": null,
   "metadata": {},
   "outputs": [],
   "source": [
    "sp.stats.probplot(result3.resid, plot=plt)\n",
    "plt.show()"
   ]
  },
  {
   "cell_type": "code",
   "execution_count": null,
   "metadata": {},
   "outputs": [],
   "source": [
    "test = sm.stats.omni_normtest(result3.resid)\n",
    "for xi in zip(['Chi^2', 'P-value'], test):\n",
    "    print(\"%-12s: %6.3f\" % xi)"
   ]
  },
  {
   "cell_type": "code",
   "execution_count": 91,
   "metadata": {},
   "outputs": [
    {
     "ename": "NameError",
     "evalue": "name 'x3' is not defined",
     "output_type": "error",
     "traceback": [
      "\u001b[1;31m---------------------------------------------------------------------------\u001b[0m",
      "\u001b[1;31mNameError\u001b[0m                                 Traceback (most recent call last)",
      "\u001b[1;32m<ipython-input-91-64799d405d4e>\u001b[0m in \u001b[0;36m<module>\u001b[1;34m\u001b[0m\n\u001b[1;32m----> 1\u001b[1;33m \u001b[0mplt\u001b[0m\u001b[1;33m.\u001b[0m\u001b[0mplot\u001b[0m\u001b[1;33m(\u001b[0m\u001b[0mx3\u001b[0m\u001b[1;33m,\u001b[0m \u001b[0mresult3\u001b[0m\u001b[1;33m.\u001b[0m\u001b[0mresid\u001b[0m\u001b[1;33m,\u001b[0m \u001b[1;34m'o'\u001b[0m\u001b[1;33m)\u001b[0m\u001b[1;33m\u001b[0m\u001b[1;33m\u001b[0m\u001b[0m\n\u001b[0m\u001b[0;32m      2\u001b[0m \u001b[0mplt\u001b[0m\u001b[1;33m.\u001b[0m\u001b[0maxhline\u001b[0m\u001b[1;33m(\u001b[0m\u001b[0my\u001b[0m\u001b[1;33m=\u001b[0m\u001b[1;36m0\u001b[0m\u001b[1;33m,\u001b[0m \u001b[0mc\u001b[0m\u001b[1;33m=\u001b[0m\u001b[1;34m'k'\u001b[0m\u001b[1;33m)\u001b[0m\u001b[1;33m\u001b[0m\u001b[1;33m\u001b[0m\u001b[0m\n\u001b[0;32m      3\u001b[0m \u001b[0mplt\u001b[0m\u001b[1;33m.\u001b[0m\u001b[0mxlabel\u001b[0m\u001b[1;33m(\u001b[0m\u001b[1;34m\"X1\"\u001b[0m\u001b[1;33m)\u001b[0m\u001b[1;33m\u001b[0m\u001b[1;33m\u001b[0m\u001b[0m\n\u001b[0;32m      4\u001b[0m \u001b[0mplt\u001b[0m\u001b[1;33m.\u001b[0m\u001b[0mylabel\u001b[0m\u001b[1;33m(\u001b[0m\u001b[1;34m\"Residual\"\u001b[0m\u001b[1;33m)\u001b[0m\u001b[1;33m\u001b[0m\u001b[1;33m\u001b[0m\u001b[0m\n\u001b[0;32m      5\u001b[0m \u001b[0mplt\u001b[0m\u001b[1;33m.\u001b[0m\u001b[0mshow\u001b[0m\u001b[1;33m(\u001b[0m\u001b[1;33m)\u001b[0m\u001b[1;33m\u001b[0m\u001b[1;33m\u001b[0m\u001b[0m\n",
      "\u001b[1;31mNameError\u001b[0m: name 'x3' is not defined"
     ]
    }
   ],
   "source": [
    "plt.plot(x3, result3.resid, 'o')\n",
    "plt.axhline(y=0, c='k')\n",
    "plt.xlabel(\"X1\")\n",
    "plt.ylabel(\"Residual\")\n",
    "plt.show()"
   ]
  },
  {
   "cell_type": "code",
   "execution_count": 92,
   "metadata": {},
   "outputs": [
    {
     "name": "stderr",
     "output_type": "stream",
     "text": [
      "Exception in Tkinter callback\n",
      "Traceback (most recent call last):\n",
      "  File \"C:\\Users\\82109\\Anaconda3\\lib\\tkinter\\__init__.py\", line 1705, in __call__\n",
      "    return self.func(*args)\n",
      "  File \"C:\\Users\\82109\\Anaconda3\\lib\\tkinter\\__init__.py\", line 749, in callit\n",
      "    func(*args)\n",
      "  File \"C:\\Users\\82109\\Anaconda3\\lib\\site-packages\\matplotlib\\backends\\_backend_tk.py\", line 270, in idle_draw\n",
      "    self.draw()\n",
      "  File \"C:\\Users\\82109\\Anaconda3\\lib\\site-packages\\matplotlib\\backends\\backend_tkagg.py\", line 9, in draw\n",
      "    super(FigureCanvasTkAgg, self).draw()\n",
      "  File \"C:\\Users\\82109\\Anaconda3\\lib\\site-packages\\matplotlib\\backends\\backend_agg.py\", line 393, in draw\n",
      "    self.figure.draw(self.renderer)\n",
      "  File \"C:\\Users\\82109\\Anaconda3\\lib\\site-packages\\matplotlib\\backend_bases.py\", line 1535, in _draw\n",
      "    def _draw(renderer): raise Done(renderer)\n",
      "matplotlib.backend_bases._get_renderer.<locals>.Done: <matplotlib.backends.backend_agg.RendererAgg object at 0x0000013386295908>\n",
      "Exception in Tkinter callback\n",
      "Traceback (most recent call last):\n",
      "  File \"C:\\Users\\82109\\Anaconda3\\lib\\tkinter\\__init__.py\", line 1705, in __call__\n",
      "    return self.func(*args)\n",
      "  File \"C:\\Users\\82109\\Anaconda3\\lib\\site-packages\\matplotlib\\backends\\_backend_tk.py\", line 259, in resize\n",
      "    self.draw()\n",
      "  File \"C:\\Users\\82109\\Anaconda3\\lib\\site-packages\\matplotlib\\backends\\backend_tkagg.py\", line 9, in draw\n",
      "    super(FigureCanvasTkAgg, self).draw()\n",
      "  File \"C:\\Users\\82109\\Anaconda3\\lib\\site-packages\\matplotlib\\backends\\backend_agg.py\", line 393, in draw\n",
      "    self.figure.draw(self.renderer)\n",
      "  File \"C:\\Users\\82109\\Anaconda3\\lib\\site-packages\\matplotlib\\backend_bases.py\", line 1535, in _draw\n",
      "    def _draw(renderer): raise Done(renderer)\n",
      "matplotlib.backend_bases._get_renderer.<locals>.Done: <matplotlib.backends.backend_agg.RendererAgg object at 0x0000013386295908>\n",
      "Exception in Tkinter callback\n",
      "Traceback (most recent call last):\n",
      "  File \"C:\\Users\\82109\\Anaconda3\\lib\\tkinter\\__init__.py\", line 1705, in __call__\n",
      "    return self.func(*args)\n",
      "  File \"C:\\Users\\82109\\Anaconda3\\lib\\tkinter\\__init__.py\", line 749, in callit\n",
      "    func(*args)\n",
      "  File \"C:\\Users\\82109\\Anaconda3\\lib\\site-packages\\matplotlib\\backends\\_backend_tk.py\", line 270, in idle_draw\n",
      "    self.draw()\n",
      "  File \"C:\\Users\\82109\\Anaconda3\\lib\\site-packages\\matplotlib\\backends\\backend_tkagg.py\", line 9, in draw\n",
      "    super(FigureCanvasTkAgg, self).draw()\n",
      "  File \"C:\\Users\\82109\\Anaconda3\\lib\\site-packages\\matplotlib\\backends\\backend_agg.py\", line 393, in draw\n",
      "    self.figure.draw(self.renderer)\n",
      "  File \"C:\\Users\\82109\\Anaconda3\\lib\\site-packages\\matplotlib\\backend_bases.py\", line 1535, in _draw\n",
      "    def _draw(renderer): raise Done(renderer)\n",
      "matplotlib.backend_bases._get_renderer.<locals>.Done: <matplotlib.backends.backend_agg.RendererAgg object at 0x0000013386295908>\n"
     ]
    },
    {
     "data": {
      "image/png": "[encoded data removed]",
      "text/plain": [
       "<Figure size 432x288 with 1 Axes>"
      ]
     },
     "metadata": {
      "needs_background": "light"
     },
     "output_type": "display_data"
    }
   ],
   "source": [
    "from sklearn.datasets import load_diabetes\n",
    "diabetes = load_diabetes()\n",
    "df = pd.concat([pd.DataFrame(diabetes.data, columns=[\"x%d\" % (i + 1) for i in range(diabetes.data.shape[1])]),\n",
    "                pd.DataFrame(diabetes.target, columns=[\"target\"])],\n",
    "               axis=1)\n",
    "model = sm.OLS.from_formula(\"target ~ x9\", data=df)\n",
    "result = model.fit()\n",
    "plt.scatter(df[\"x9\"], result.resid)\n",
    "plt.show()\n"
   ]
  },
  {
   "cell_type": "code",
   "execution_count": 93,
   "metadata": {},
   "outputs": [
    {
     "name": "stderr",
     "output_type": "stream",
     "text": [
      "Exception in Tkinter callback\n",
      "Traceback (most recent call last):\n",
      "  File \"C:\\Users\\82109\\Anaconda3\\lib\\tkinter\\__init__.py\", line 1705, in __call__\n",
      "    return self.func(*args)\n",
      "  File \"C:\\Users\\82109\\Anaconda3\\lib\\tkinter\\__init__.py\", line 749, in callit\n",
      "    func(*args)\n",
      "  File \"C:\\Users\\82109\\Anaconda3\\lib\\site-packages\\matplotlib\\backends\\_backend_tk.py\", line 270, in idle_draw\n",
      "    self.draw()\n",
      "  File \"C:\\Users\\82109\\Anaconda3\\lib\\site-packages\\matplotlib\\backends\\backend_tkagg.py\", line 9, in draw\n",
      "    super(FigureCanvasTkAgg, self).draw()\n",
      "  File \"C:\\Users\\82109\\Anaconda3\\lib\\site-packages\\matplotlib\\backends\\backend_agg.py\", line 393, in draw\n",
      "    self.figure.draw(self.renderer)\n",
      "  File \"C:\\Users\\82109\\Anaconda3\\lib\\site-packages\\matplotlib\\backend_bases.py\", line 1535, in _draw\n",
      "    def _draw(renderer): raise Done(renderer)\n",
      "matplotlib.backend_bases._get_renderer.<locals>.Done: <matplotlib.backends.backend_agg.RendererAgg object at 0x0000013386250448>\n",
      "Exception in Tkinter callback\n",
      "Traceback (most recent call last):\n",
      "  File \"C:\\Users\\82109\\Anaconda3\\lib\\tkinter\\__init__.py\", line 1705, in __call__\n",
      "    return self.func(*args)\n",
      "  File \"C:\\Users\\82109\\Anaconda3\\lib\\site-packages\\matplotlib\\backends\\_backend_tk.py\", line 259, in resize\n",
      "    self.draw()\n",
      "  File \"C:\\Users\\82109\\Anaconda3\\lib\\site-packages\\matplotlib\\backends\\backend_tkagg.py\", line 9, in draw\n",
      "    super(FigureCanvasTkAgg, self).draw()\n",
      "  File \"C:\\Users\\82109\\Anaconda3\\lib\\site-packages\\matplotlib\\backends\\backend_agg.py\", line 393, in draw\n",
      "    self.figure.draw(self.renderer)\n",
      "  File \"C:\\Users\\82109\\Anaconda3\\lib\\site-packages\\matplotlib\\backend_bases.py\", line 1535, in _draw\n",
      "    def _draw(renderer): raise Done(renderer)\n",
      "matplotlib.backend_bases._get_renderer.<locals>.Done: <matplotlib.backends.backend_agg.RendererAgg object at 0x0000013386250448>\n",
      "Exception in Tkinter callback\n",
      "Traceback (most recent call last):\n",
      "  File \"C:\\Users\\82109\\Anaconda3\\lib\\tkinter\\__init__.py\", line 1705, in __call__\n",
      "    return self.func(*args)\n",
      "  File \"C:\\Users\\82109\\Anaconda3\\lib\\tkinter\\__init__.py\", line 749, in callit\n",
      "    func(*args)\n",
      "  File \"C:\\Users\\82109\\Anaconda3\\lib\\site-packages\\matplotlib\\backends\\_backend_tk.py\", line 270, in idle_draw\n",
      "    self.draw()\n",
      "  File \"C:\\Users\\82109\\Anaconda3\\lib\\site-packages\\matplotlib\\backends\\backend_tkagg.py\", line 9, in draw\n",
      "    super(FigureCanvasTkAgg, self).draw()\n",
      "  File \"C:\\Users\\82109\\Anaconda3\\lib\\site-packages\\matplotlib\\backends\\backend_agg.py\", line 393, in draw\n",
      "    self.figure.draw(self.renderer)\n",
      "  File \"C:\\Users\\82109\\Anaconda3\\lib\\site-packages\\matplotlib\\backend_bases.py\", line 1535, in _draw\n",
      "    def _draw(renderer): raise Done(renderer)\n",
      "matplotlib.backend_bases._get_renderer.<locals>.Done: <matplotlib.backends.backend_agg.RendererAgg object at 0x0000013386250448>\n"
     ]
    },
    {
     "data": {
      "image/png": "[encoded data removed]",
      "text/plain": [
       "<Figure size 432x288 with 1 Axes>"
      ]
     },
     "metadata": {
      "needs_background": "light"
     },
     "output_type": "display_data"
    }
   ],
   "source": [
    "import seaborn as sns\n",
    "from sklearn.datasets import load_boston\n",
    "\n",
    "boston = load_boston()\n",
    "dfX = pd.DataFrame(boston.data, columns=boston.feature_names)\n",
    "dfy = pd.DataFrame(boston.target, columns=[\"MEDV\"])\n",
    "df_boston = pd.concat([dfX, dfy], axis=1)\n",
    "\n",
    "sns.scatterplot(x=\"LSTAT\", y=\"MEDV\", data=df_boston)\n",
    "plt.show()"
   ]
  },
  {
   "cell_type": "code",
   "execution_count": 94,
   "metadata": {},
   "outputs": [
    {
     "name": "stdout",
     "output_type": "stream",
     "text": [
      "                            OLS Regression Results                            \n",
      "==============================================================================\n",
      "Dep. Variable:                   MEDV   R-squared:                       0.544\n",
      "Model:                            OLS   Adj. R-squared:                  0.543\n",
      "Method:                 Least Squares   F-statistic:                     601.6\n",
      "Date:                Tue, 19 May 2020   Prob (F-statistic):           5.08e-88\n",
      "Time:                        16:06:48   Log-Likelihood:                -1641.5\n",
      "No. Observations:                 506   AIC:                             3287.\n",
      "Df Residuals:                     504   BIC:                             3295.\n",
      "Df Model:                           1                                         \n",
      "Covariance Type:            nonrobust                                         \n",
      "==============================================================================\n",
      "                 coef    std err          t      P>|t|      [0.025      0.975]\n",
      "------------------------------------------------------------------------------\n",
      "Intercept     34.5538      0.563     61.415      0.000      33.448      35.659\n",
      "LSTAT         -0.9500      0.039    -24.528      0.000      -1.026      -0.874\n",
      "==============================================================================\n",
      "Omnibus:                      137.043   Durbin-Watson:                   0.892\n",
      "Prob(Omnibus):                  0.000   Jarque-Bera (JB):              291.373\n",
      "Skew:                           1.453   Prob(JB):                     5.36e-64\n",
      "Kurtosis:                       5.319   Cond. No.                         29.7\n",
      "==============================================================================\n",
      "\n",
      "Warnings:\n",
      "[1] Standard Errors assume that the covariance matrix of the errors is correctly specified.\n"
     ]
    }
   ],
   "source": [
    "model1 = sm.OLS.from_formula(\"MEDV ~ LSTAT\", data=df_boston)\n",
    "result1 = model1.fit()\n",
    "print(result1.summary())"
   ]
  },
  {
   "cell_type": "code",
   "execution_count": 95,
   "metadata": {},
   "outputs": [
    {
     "name": "stdout",
     "output_type": "stream",
     "text": [
      "                            OLS Regression Results                            \n",
      "==============================================================================\n",
      "Dep. Variable:                   MEDV   R-squared:                       0.641\n",
      "Model:                            OLS   Adj. R-squared:                  0.639\n",
      "Method:                 Least Squares   F-statistic:                     448.5\n",
      "Date:                Tue, 19 May 2020   Prob (F-statistic):          1.56e-112\n",
      "Time:                        16:06:48   Log-Likelihood:                -1581.3\n",
      "No. Observations:                 506   AIC:                             3169.\n",
      "Df Residuals:                     503   BIC:                             3181.\n",
      "Df Model:                           2                                         \n",
      "Covariance Type:            nonrobust                                         \n",
      "=================================================================================\n",
      "                    coef    std err          t      P>|t|      [0.025      0.975]\n",
      "---------------------------------------------------------------------------------\n",
      "Intercept        42.8620      0.872     49.149      0.000      41.149      44.575\n",
      "LSTAT            -2.3328      0.124    -18.843      0.000      -2.576      -2.090\n",
      "I(LSTAT ** 2)     0.0435      0.004     11.628      0.000       0.036       0.051\n",
      "==============================================================================\n",
      "Omnibus:                      107.006   Durbin-Watson:                   0.921\n",
      "Prob(Omnibus):                  0.000   Jarque-Bera (JB):              228.388\n",
      "Skew:                           1.128   Prob(JB):                     2.55e-50\n",
      "Kurtosis:                       5.397   Cond. No.                     1.13e+03\n",
      "==============================================================================\n",
      "\n",
      "Warnings:\n",
      "[1] Standard Errors assume that the covariance matrix of the errors is correctly specified.\n",
      "[2] The condition number is large, 1.13e+03. This might indicate that there are\n",
      "strong multicollinearity or other numerical problems.\n"
     ]
    }
   ],
   "source": [
    "model2 = sm.OLS.from_formula(\"MEDV ~ LSTAT + I(LSTAT**2)\", data=df_boston)\n",
    "result2 = model2.fit()\n",
    "print(result2.summary())"
   ]
  },
  {
   "cell_type": "code",
   "execution_count": 96,
   "metadata": {},
   "outputs": [
    {
     "name": "stderr",
     "output_type": "stream",
     "text": [
      "Exception in Tkinter callback\n",
      "Traceback (most recent call last):\n",
      "  File \"C:\\Users\\82109\\Anaconda3\\lib\\tkinter\\__init__.py\", line 1705, in __call__\n",
      "    return self.func(*args)\n",
      "  File \"C:\\Users\\82109\\Anaconda3\\lib\\tkinter\\__init__.py\", line 749, in callit\n",
      "    func(*args)\n",
      "  File \"C:\\Users\\82109\\Anaconda3\\lib\\site-packages\\matplotlib\\backends\\_backend_tk.py\", line 270, in idle_draw\n",
      "    self.draw()\n",
      "  File \"C:\\Users\\82109\\Anaconda3\\lib\\site-packages\\matplotlib\\backends\\backend_tkagg.py\", line 9, in draw\n",
      "    super(FigureCanvasTkAgg, self).draw()\n",
      "  File \"C:\\Users\\82109\\Anaconda3\\lib\\site-packages\\matplotlib\\backends\\backend_agg.py\", line 393, in draw\n",
      "    self.figure.draw(self.renderer)\n",
      "  File \"C:\\Users\\82109\\Anaconda3\\lib\\site-packages\\matplotlib\\backend_bases.py\", line 1535, in _draw\n",
      "    def _draw(renderer): raise Done(renderer)\n",
      "matplotlib.backend_bases._get_renderer.<locals>.Done: <matplotlib.backends.backend_agg.RendererAgg object at 0x000001338728C688>\n",
      "Exception in Tkinter callback\n",
      "Traceback (most recent call last):\n",
      "  File \"C:\\Users\\82109\\Anaconda3\\lib\\tkinter\\__init__.py\", line 1705, in __call__\n",
      "    return self.func(*args)\n",
      "  File \"C:\\Users\\82109\\Anaconda3\\lib\\site-packages\\matplotlib\\backends\\_backend_tk.py\", line 259, in resize\n",
      "    self.draw()\n",
      "  File \"C:\\Users\\82109\\Anaconda3\\lib\\site-packages\\matplotlib\\backends\\backend_tkagg.py\", line 9, in draw\n",
      "    super(FigureCanvasTkAgg, self).draw()\n",
      "  File \"C:\\Users\\82109\\Anaconda3\\lib\\site-packages\\matplotlib\\backends\\backend_agg.py\", line 393, in draw\n",
      "    self.figure.draw(self.renderer)\n",
      "  File \"C:\\Users\\82109\\Anaconda3\\lib\\site-packages\\matplotlib\\backend_bases.py\", line 1535, in _draw\n",
      "    def _draw(renderer): raise Done(renderer)\n",
      "matplotlib.backend_bases._get_renderer.<locals>.Done: <matplotlib.backends.backend_agg.RendererAgg object at 0x000001338728C688>\n",
      "Exception in Tkinter callback\n",
      "Traceback (most recent call last):\n",
      "  File \"C:\\Users\\82109\\Anaconda3\\lib\\tkinter\\__init__.py\", line 1705, in __call__\n",
      "    return self.func(*args)\n",
      "  File \"C:\\Users\\82109\\Anaconda3\\lib\\tkinter\\__init__.py\", line 749, in callit\n",
      "    func(*args)\n",
      "  File \"C:\\Users\\82109\\Anaconda3\\lib\\site-packages\\matplotlib\\backends\\_backend_tk.py\", line 270, in idle_draw\n",
      "    self.draw()\n",
      "  File \"C:\\Users\\82109\\Anaconda3\\lib\\site-packages\\matplotlib\\backends\\backend_tkagg.py\", line 9, in draw\n",
      "    super(FigureCanvasTkAgg, self).draw()\n",
      "  File \"C:\\Users\\82109\\Anaconda3\\lib\\site-packages\\matplotlib\\backends\\backend_agg.py\", line 393, in draw\n",
      "    self.figure.draw(self.renderer)\n",
      "  File \"C:\\Users\\82109\\Anaconda3\\lib\\site-packages\\matplotlib\\backend_bases.py\", line 1535, in _draw\n",
      "    def _draw(renderer): raise Done(renderer)\n",
      "matplotlib.backend_bases._get_renderer.<locals>.Done: <matplotlib.backends.backend_agg.RendererAgg object at 0x000001338728C688>\n"
     ]
    },
    {
     "data": {
      "image/png": "[encoded data removed]",
      "text/plain": [
       "<Figure size 432x288 with 1 Axes>"
      ]
     },
     "metadata": {
      "needs_background": "light"
     },
     "output_type": "display_data"
    }
   ],
   "source": [
    "y_hat2 = result2.predict(df_boston)\n",
    "df2 = pd.concat([y_hat2, df_boston.LSTAT], axis=1).sort_values(\"LSTAT\")\n",
    "df2.columns = [\"Prediction\", \"LSTAT\"]\n",
    "df2.plot(x=\"LSTAT\", style=\"r-\", lw=3)\n",
    "plt.plot(df_boston.LSTAT, df_boston.MEDV, \"bo\", alpha=0.5)\n",
    "plt.show()"
   ]
  },
  {
   "cell_type": "code",
   "execution_count": 97,
   "metadata": {},
   "outputs": [
    {
     "name": "stderr",
     "output_type": "stream",
     "text": [
      "Exception in Tkinter callback\n",
      "Traceback (most recent call last):\n",
      "  File \"C:\\Users\\82109\\Anaconda3\\lib\\tkinter\\__init__.py\", line 1705, in __call__\n",
      "    return self.func(*args)\n",
      "  File \"C:\\Users\\82109\\Anaconda3\\lib\\tkinter\\__init__.py\", line 749, in callit\n",
      "    func(*args)\n",
      "  File \"C:\\Users\\82109\\Anaconda3\\lib\\site-packages\\matplotlib\\backends\\_backend_tk.py\", line 270, in idle_draw\n",
      "    self.draw()\n",
      "  File \"C:\\Users\\82109\\Anaconda3\\lib\\site-packages\\matplotlib\\backends\\backend_tkagg.py\", line 9, in draw\n",
      "    super(FigureCanvasTkAgg, self).draw()\n",
      "  File \"C:\\Users\\82109\\Anaconda3\\lib\\site-packages\\matplotlib\\backends\\backend_agg.py\", line 393, in draw\n",
      "    self.figure.draw(self.renderer)\n",
      "  File \"C:\\Users\\82109\\Anaconda3\\lib\\site-packages\\matplotlib\\backend_bases.py\", line 1535, in _draw\n",
      "    def _draw(renderer): raise Done(renderer)\n",
      "matplotlib.backend_bases._get_renderer.<locals>.Done: <matplotlib.backends.backend_agg.RendererAgg object at 0x00000133872D6208>\n",
      "Exception in Tkinter callback\n",
      "Traceback (most recent call last):\n",
      "  File \"C:\\Users\\82109\\Anaconda3\\lib\\tkinter\\__init__.py\", line 1705, in __call__\n",
      "    return self.func(*args)\n",
      "  File \"C:\\Users\\82109\\Anaconda3\\lib\\site-packages\\matplotlib\\backends\\_backend_tk.py\", line 259, in resize\n",
      "    self.draw()\n",
      "  File \"C:\\Users\\82109\\Anaconda3\\lib\\site-packages\\matplotlib\\backends\\backend_tkagg.py\", line 9, in draw\n",
      "    super(FigureCanvasTkAgg, self).draw()\n",
      "  File \"C:\\Users\\82109\\Anaconda3\\lib\\site-packages\\matplotlib\\backends\\backend_agg.py\", line 393, in draw\n",
      "    self.figure.draw(self.renderer)\n",
      "  File \"C:\\Users\\82109\\Anaconda3\\lib\\site-packages\\matplotlib\\backend_bases.py\", line 1535, in _draw\n",
      "    def _draw(renderer): raise Done(renderer)\n",
      "matplotlib.backend_bases._get_renderer.<locals>.Done: <matplotlib.backends.backend_agg.RendererAgg object at 0x00000133872D6208>\n",
      "Exception in Tkinter callback\n",
      "Traceback (most recent call last):\n",
      "  File \"C:\\Users\\82109\\Anaconda3\\lib\\tkinter\\__init__.py\", line 1705, in __call__\n",
      "    return self.func(*args)\n",
      "  File \"C:\\Users\\82109\\Anaconda3\\lib\\tkinter\\__init__.py\", line 749, in callit\n",
      "    func(*args)\n",
      "  File \"C:\\Users\\82109\\Anaconda3\\lib\\site-packages\\matplotlib\\backends\\_backend_tk.py\", line 270, in idle_draw\n",
      "    self.draw()\n",
      "  File \"C:\\Users\\82109\\Anaconda3\\lib\\site-packages\\matplotlib\\backends\\backend_tkagg.py\", line 9, in draw\n",
      "    super(FigureCanvasTkAgg, self).draw()\n",
      "  File \"C:\\Users\\82109\\Anaconda3\\lib\\site-packages\\matplotlib\\backends\\backend_agg.py\", line 393, in draw\n",
      "    self.figure.draw(self.renderer)\n",
      "  File \"C:\\Users\\82109\\Anaconda3\\lib\\site-packages\\matplotlib\\backend_bases.py\", line 1535, in _draw\n",
      "    def _draw(renderer): raise Done(renderer)\n",
      "matplotlib.backend_bases._get_renderer.<locals>.Done: <matplotlib.backends.backend_agg.RendererAgg object at 0x00000133872D6208>\n"
     ]
    },
    {
     "data": {
      "image/png": "[encoded data removed]",
      "text/plain": [
       "<Figure size 432x288 with 1 Axes>"
      ]
     },
     "metadata": {
      "needs_background": "light"
     },
     "output_type": "display_data"
    }
   ],
   "source": [
    "sns.scatterplot(x=\"RM\", y=\"MEDV\", data=df_boston)\n",
    "plt.show()"
   ]
  },
  {
   "cell_type": "code",
   "execution_count": 98,
   "metadata": {},
   "outputs": [
    {
     "name": "stdout",
     "output_type": "stream",
     "text": [
      "                            OLS Regression Results                            \n",
      "==============================================================================\n",
      "Dep. Variable:                   MEDV   R-squared:                       0.484\n",
      "Model:                            OLS   Adj. R-squared:                  0.483\n",
      "Method:                 Least Squares   F-statistic:                     471.8\n",
      "Date:                Tue, 19 May 2020   Prob (F-statistic):           2.49e-74\n",
      "Time:                        16:06:49   Log-Likelihood:                -1673.1\n",
      "No. Observations:                 506   AIC:                             3350.\n",
      "Df Residuals:                     504   BIC:                             3359.\n",
      "Df Model:                           1                                         \n",
      "Covariance Type:            nonrobust                                         \n",
      "==============================================================================\n",
      "                 coef    std err          t      P>|t|      [0.025      0.975]\n",
      "------------------------------------------------------------------------------\n",
      "Intercept    -34.6706      2.650    -13.084      0.000     -39.877     -29.465\n",
      "RM             9.1021      0.419     21.722      0.000       8.279       9.925\n",
      "==============================================================================\n",
      "Omnibus:                      102.585   Durbin-Watson:                   0.684\n",
      "Prob(Omnibus):                  0.000   Jarque-Bera (JB):              612.449\n",
      "Skew:                           0.726   Prob(JB):                    1.02e-133\n",
      "Kurtosis:                       8.190   Cond. No.                         58.4\n",
      "==============================================================================\n",
      "\n",
      "Warnings:\n",
      "[1] Standard Errors assume that the covariance matrix of the errors is correctly specified.\n"
     ]
    }
   ],
   "source": [
    "model3 = sm.OLS.from_formula(\"MEDV ~ RM\", data=df_boston)\n",
    "result3 = model3.fit()\n",
    "print(result3.summary())"
   ]
  },
  {
   "cell_type": "code",
   "execution_count": 99,
   "metadata": {},
   "outputs": [
    {
     "name": "stderr",
     "output_type": "stream",
     "text": [
      "Exception in Tkinter callback\n",
      "Traceback (most recent call last):\n",
      "  File \"C:\\Users\\82109\\Anaconda3\\lib\\tkinter\\__init__.py\", line 1705, in __call__\n",
      "    return self.func(*args)\n",
      "  File \"C:\\Users\\82109\\Anaconda3\\lib\\tkinter\\__init__.py\", line 749, in callit\n",
      "    func(*args)\n",
      "  File \"C:\\Users\\82109\\Anaconda3\\lib\\site-packages\\matplotlib\\backends\\_backend_tk.py\", line 270, in idle_draw\n",
      "    self.draw()\n",
      "  File \"C:\\Users\\82109\\Anaconda3\\lib\\site-packages\\matplotlib\\backends\\backend_tkagg.py\", line 9, in draw\n",
      "    super(FigureCanvasTkAgg, self).draw()\n",
      "  File \"C:\\Users\\82109\\Anaconda3\\lib\\site-packages\\matplotlib\\backends\\backend_agg.py\", line 393, in draw\n",
      "    self.figure.draw(self.renderer)\n",
      "  File \"C:\\Users\\82109\\Anaconda3\\lib\\site-packages\\matplotlib\\backend_bases.py\", line 1535, in _draw\n",
      "    def _draw(renderer): raise Done(renderer)\n",
      "matplotlib.backend_bases._get_renderer.<locals>.Done: <matplotlib.backends.backend_agg.RendererAgg object at 0x0000013387350B08>\n",
      "Exception in Tkinter callback\n",
      "Traceback (most recent call last):\n",
      "  File \"C:\\Users\\82109\\Anaconda3\\lib\\tkinter\\__init__.py\", line 1705, in __call__\n",
      "    return self.func(*args)\n",
      "  File \"C:\\Users\\82109\\Anaconda3\\lib\\site-packages\\matplotlib\\backends\\_backend_tk.py\", line 259, in resize\n",
      "    self.draw()\n",
      "  File \"C:\\Users\\82109\\Anaconda3\\lib\\site-packages\\matplotlib\\backends\\backend_tkagg.py\", line 9, in draw\n",
      "    super(FigureCanvasTkAgg, self).draw()\n",
      "  File \"C:\\Users\\82109\\Anaconda3\\lib\\site-packages\\matplotlib\\backends\\backend_agg.py\", line 393, in draw\n",
      "    self.figure.draw(self.renderer)\n",
      "  File \"C:\\Users\\82109\\Anaconda3\\lib\\site-packages\\matplotlib\\backend_bases.py\", line 1535, in _draw\n",
      "    def _draw(renderer): raise Done(renderer)\n",
      "matplotlib.backend_bases._get_renderer.<locals>.Done: <matplotlib.backends.backend_agg.RendererAgg object at 0x0000013387350B08>\n",
      "Exception in Tkinter callback\n",
      "Traceback (most recent call last):\n",
      "  File \"C:\\Users\\82109\\Anaconda3\\lib\\tkinter\\__init__.py\", line 1705, in __call__\n",
      "    return self.func(*args)\n",
      "  File \"C:\\Users\\82109\\Anaconda3\\lib\\tkinter\\__init__.py\", line 749, in callit\n",
      "    func(*args)\n",
      "  File \"C:\\Users\\82109\\Anaconda3\\lib\\site-packages\\matplotlib\\backends\\_backend_tk.py\", line 270, in idle_draw\n",
      "    self.draw()\n",
      "  File \"C:\\Users\\82109\\Anaconda3\\lib\\site-packages\\matplotlib\\backends\\backend_tkagg.py\", line 9, in draw\n",
      "    super(FigureCanvasTkAgg, self).draw()\n",
      "  File \"C:\\Users\\82109\\Anaconda3\\lib\\site-packages\\matplotlib\\backends\\backend_agg.py\", line 393, in draw\n",
      "    self.figure.draw(self.renderer)\n",
      "  File \"C:\\Users\\82109\\Anaconda3\\lib\\site-packages\\matplotlib\\backend_bases.py\", line 1535, in _draw\n",
      "    def _draw(renderer): raise Done(renderer)\n",
      "matplotlib.backend_bases._get_renderer.<locals>.Done: <matplotlib.backends.backend_agg.RendererAgg object at 0x0000013387350B08>\n"
     ]
    },
    {
     "data": {
      "image/png": "[encoded data removed]",
      "text/plain": [
       "<Figure size 432x288 with 1 Axes>"
      ]
     },
     "metadata": {
      "needs_background": "light"
     },
     "output_type": "display_data"
    }
   ],
   "source": [
    "rooms = np.arange(3, 10)\n",
    "labels = [str(r) for r in rooms[:-1]]\n",
    "df_boston[\"CAT_RM\"] = np.round(df_boston.RM)\n",
    "\n",
    "sns.barplot(x=\"CAT_RM\", y=\"MEDV\", data=df_boston)\n",
    "plt.show()"
   ]
  },
  {
   "cell_type": "code",
   "execution_count": 100,
   "metadata": {},
   "outputs": [
    {
     "name": "stdout",
     "output_type": "stream",
     "text": [
      "                            OLS Regression Results                            \n",
      "==============================================================================\n",
      "Dep. Variable:                   MEDV   R-squared:                       0.537\n",
      "Model:                            OLS   Adj. R-squared:                  0.532\n",
      "Method:                 Least Squares   F-statistic:                     115.8\n",
      "Date:                Tue, 19 May 2020   Prob (F-statistic):           3.57e-81\n",
      "Time:                        16:06:49   Log-Likelihood:                -1645.6\n",
      "No. Observations:                 506   AIC:                             3303.\n",
      "Df Residuals:                     500   BIC:                             3329.\n",
      "Df Model:                           5                                         \n",
      "Covariance Type:            nonrobust                                         \n",
      "==========================================================================================\n",
      "                             coef    std err          t      P>|t|      [0.025      0.975]\n",
      "------------------------------------------------------------------------------------------\n",
      "Intercept                 17.0200      2.814      6.049      0.000      11.492      22.548\n",
      "C(np.round(RM))[T.5.0]    -2.0741      2.998     -0.692      0.489      -7.964       3.816\n",
      "C(np.round(RM))[T.6.0]     2.3460      2.836      0.827      0.409      -3.226       7.918\n",
      "C(np.round(RM))[T.7.0]    11.0272      2.869      3.843      0.000       5.389      16.665\n",
      "C(np.round(RM))[T.8.0]    28.5425      3.093      9.228      0.000      22.466      34.619\n",
      "C(np.round(RM))[T.9.0]    23.6133      4.595      5.139      0.000      14.586      32.641\n",
      "==============================================================================\n",
      "Omnibus:                       81.744   Durbin-Watson:                   0.799\n",
      "Prob(Omnibus):                  0.000   Jarque-Bera (JB):              467.887\n",
      "Skew:                           0.542   Prob(JB):                    2.51e-102\n",
      "Kurtosis:                       7.584   Cond. No.                         31.1\n",
      "==============================================================================\n",
      "\n",
      "Warnings:\n",
      "[1] Standard Errors assume that the covariance matrix of the errors is correctly specified.\n"
     ]
    }
   ],
   "source": [
    "model4 = sm.OLS.from_formula(\"MEDV ~ C(np.round(RM))\", data=df_boston)\n",
    "result4 = model4.fit()\n",
    "print(result4.summary())"
   ]
  },
  {
   "cell_type": "code",
   "execution_count": 101,
   "metadata": {},
   "outputs": [
    {
     "name": "stderr",
     "output_type": "stream",
     "text": [
      "C:\\Users\\82109\\Anaconda3\\lib\\site-packages\\statsmodels\\datasets\\utils.py:192: FutureWarning: `item` has been deprecated and will be removed in a future version\n",
      "  return dataset_meta[\"Title\"].item()\n"
     ]
    },
    {
     "data": {
      "text/html": [
       "<div>\n",
       "<style scoped>\n",
       "    .dataframe tbody tr th:only-of-type {\n",
       "        vertical-align: middle;\n",
       "    }\n",
       "\n",
       "    .dataframe tbody tr th {\n",
       "        vertical-align: top;\n",
       "    }\n",
       "\n",
       "    .dataframe thead th {\n",
       "        text-align: right;\n",
       "    }\n",
       "</style>\n",
       "<table border=\"1\" class=\"dataframe\">\n",
       "  <thead>\n",
       "    <tr style=\"text-align: right;\">\n",
       "      <th></th>\n",
       "      <th>Demand</th>\n",
       "      <th>Date</th>\n",
       "    </tr>\n",
       "  </thead>\n",
       "  <tbody>\n",
       "    <tr>\n",
       "      <td>360</td>\n",
       "      <td>173.727990</td>\n",
       "      <td>2014-12-27</td>\n",
       "    </tr>\n",
       "    <tr>\n",
       "      <td>361</td>\n",
       "      <td>188.512817</td>\n",
       "      <td>2014-12-28</td>\n",
       "    </tr>\n",
       "    <tr>\n",
       "      <td>362</td>\n",
       "      <td>191.273009</td>\n",
       "      <td>2014-12-29</td>\n",
       "    </tr>\n",
       "    <tr>\n",
       "      <td>363</td>\n",
       "      <td>186.240144</td>\n",
       "      <td>2014-12-30</td>\n",
       "    </tr>\n",
       "    <tr>\n",
       "      <td>364</td>\n",
       "      <td>186.370181</td>\n",
       "      <td>2014-12-31</td>\n",
       "    </tr>\n",
       "  </tbody>\n",
       "</table>\n",
       "</div>"
      ],
      "text/plain": [
       "         Demand       Date\n",
       "360  173.727990 2014-12-27\n",
       "361  188.512817 2014-12-28\n",
       "362  191.273009 2014-12-29\n",
       "363  186.240144 2014-12-30\n",
       "364  186.370181 2014-12-31"
      ]
     },
     "execution_count": 101,
     "metadata": {},
     "output_type": "execute_result"
    }
   ],
   "source": [
    "data = sm.datasets.get_rdataset(\"elecdaily\", package=\"fpp2\")\n",
    "\n",
    "df_elec = data.data.drop(columns=[\"WorkDay\", \"Temperature\"])\n",
    "df_elec[\"Date\"] = pd.date_range(\"2014-1-1\", \"2014-12-31\")\n",
    "df_elec.tail()"
   ]
  },
  {
   "cell_type": "code",
   "execution_count": 102,
   "metadata": {},
   "outputs": [
    {
     "name": "stdout",
     "output_type": "stream",
     "text": [
      "                            OLS Regression Results                            \n",
      "==============================================================================\n",
      "Dep. Variable:                 Demand   R-squared:                       0.031\n",
      "Model:                            OLS   Adj. R-squared:                  0.028\n",
      "Method:                 Least Squares   F-statistic:                     11.58\n",
      "Date:                Tue, 19 May 2020   Prob (F-statistic):           0.000739\n",
      "Time:                        16:06:54   Log-Likelihood:                -1709.7\n",
      "No. Observations:                 365   AIC:                             3423.\n",
      "Df Residuals:                     363   BIC:                             3431.\n",
      "Df Model:                           1                                         \n",
      "Covariance Type:            nonrobust                                         \n",
      "==================================================================================\n",
      "                     coef    std err          t      P>|t|      [0.025      0.975]\n",
      "----------------------------------------------------------------------------------\n",
      "Intercept        221.2775      1.374    160.997      0.000     218.575     223.980\n",
      "scale(Ordinal)    -4.6779      1.374     -3.404      0.001      -7.381      -1.975\n",
      "==============================================================================\n",
      "Omnibus:                       43.105   Durbin-Watson:                   0.677\n",
      "Prob(Omnibus):                  0.000   Jarque-Bera (JB):               96.485\n",
      "Skew:                           0.614   Prob(JB):                     1.12e-21\n",
      "Kurtosis:                       5.199   Cond. No.                         1.00\n",
      "==============================================================================\n",
      "\n",
      "Warnings:\n",
      "[1] Standard Errors assume that the covariance matrix of the errors is correctly specified.\n"
     ]
    }
   ],
   "source": [
    "import datetime as dt\n",
    "\n",
    "df_elec[\"Ordinal\"] = df_elec.Date.map(dt.datetime.toordinal)\n",
    "df_elec[\"Timestamp\"] = df_elec.Date.map(dt.datetime.timestamp)\n",
    "df_elec.tail()\n",
    "\n",
    "model5 = sm.OLS.from_formula(\"Demand ~ scale(Ordinal)\", data=df_elec)\n",
    "result5 = model5.fit()\n",
    "print(result5.summary())"
   ]
  },
  {
   "cell_type": "code",
   "execution_count": 103,
   "metadata": {},
   "outputs": [
    {
     "name": "stdout",
     "output_type": "stream",
     "text": [
      "                            OLS Regression Results                            \n",
      "==============================================================================\n",
      "Dep. Variable:                 Demand   R-squared:                       0.031\n",
      "Model:                            OLS   Adj. R-squared:                  0.028\n",
      "Method:                 Least Squares   F-statistic:                     11.58\n",
      "Date:                Tue, 19 May 2020   Prob (F-statistic):           0.000739\n",
      "Time:                        16:06:54   Log-Likelihood:                -1709.7\n",
      "No. Observations:                 365   AIC:                             3423.\n",
      "Df Residuals:                     363   BIC:                             3431.\n",
      "Df Model:                           1                                         \n",
      "Covariance Type:            nonrobust                                         \n",
      "==================================================================================\n",
      "                     coef    std err          t      P>|t|      [0.025      0.975]\n",
      "----------------------------------------------------------------------------------\n",
      "Intercept        221.2775      1.374    160.997      0.000     218.575     223.980\n",
      "scale(Ordinal)    -4.6779      1.374     -3.404      0.001      -7.381      -1.975\n",
      "==============================================================================\n",
      "Omnibus:                       43.105   Durbin-Watson:                   0.677\n",
      "Prob(Omnibus):                  0.000   Jarque-Bera (JB):               96.485\n",
      "Skew:                           0.614   Prob(JB):                     1.12e-21\n",
      "Kurtosis:                       5.199   Cond. No.                         1.00\n",
      "==============================================================================\n",
      "\n",
      "Warnings:\n",
      "[1] Standard Errors assume that the covariance matrix of the errors is correctly specified.\n"
     ]
    }
   ],
   "source": [
    "model5 = sm.OLS.from_formula(\"Demand ~ scale(Ordinal)\", data=df_elec)\n",
    "result5 = model5.fit()\n",
    "print(result5.summary())"
   ]
  },
  {
   "cell_type": "code",
   "execution_count": 104,
   "metadata": {},
   "outputs": [
    {
     "data": {
      "text/html": [
       "<div>\n",
       "<style scoped>\n",
       "    .dataframe tbody tr th:only-of-type {\n",
       "        vertical-align: middle;\n",
       "    }\n",
       "\n",
       "    .dataframe tbody tr th {\n",
       "        vertical-align: top;\n",
       "    }\n",
       "\n",
       "    .dataframe thead th {\n",
       "        text-align: right;\n",
       "    }\n",
       "</style>\n",
       "<table border=\"1\" class=\"dataframe\">\n",
       "  <thead>\n",
       "    <tr style=\"text-align: right;\">\n",
       "      <th></th>\n",
       "      <th>Demand</th>\n",
       "      <th>Date</th>\n",
       "      <th>Ordinal</th>\n",
       "      <th>Timestamp</th>\n",
       "      <th>Year</th>\n",
       "      <th>Month</th>\n",
       "      <th>DayOfYear</th>\n",
       "      <th>DayOfMonth</th>\n",
       "      <th>DayOfWeek</th>\n",
       "      <th>WeekOfYear</th>\n",
       "      <th>Weekday</th>\n",
       "      <th>IsMonthStart</th>\n",
       "      <th>IsMonthEnd</th>\n",
       "    </tr>\n",
       "  </thead>\n",
       "  <tbody>\n",
       "    <tr>\n",
       "      <td>360</td>\n",
       "      <td>173.727990</td>\n",
       "      <td>2014-12-27</td>\n",
       "      <td>735594</td>\n",
       "      <td>1.419606e+09</td>\n",
       "      <td>2014</td>\n",
       "      <td>12</td>\n",
       "      <td>361</td>\n",
       "      <td>31</td>\n",
       "      <td>5</td>\n",
       "      <td>52</td>\n",
       "      <td>5</td>\n",
       "      <td>False</td>\n",
       "      <td>False</td>\n",
       "    </tr>\n",
       "    <tr>\n",
       "      <td>361</td>\n",
       "      <td>188.512817</td>\n",
       "      <td>2014-12-28</td>\n",
       "      <td>735595</td>\n",
       "      <td>1.419692e+09</td>\n",
       "      <td>2014</td>\n",
       "      <td>12</td>\n",
       "      <td>362</td>\n",
       "      <td>31</td>\n",
       "      <td>6</td>\n",
       "      <td>52</td>\n",
       "      <td>6</td>\n",
       "      <td>False</td>\n",
       "      <td>False</td>\n",
       "    </tr>\n",
       "    <tr>\n",
       "      <td>362</td>\n",
       "      <td>191.273009</td>\n",
       "      <td>2014-12-29</td>\n",
       "      <td>735596</td>\n",
       "      <td>1.419779e+09</td>\n",
       "      <td>2014</td>\n",
       "      <td>12</td>\n",
       "      <td>363</td>\n",
       "      <td>31</td>\n",
       "      <td>0</td>\n",
       "      <td>1</td>\n",
       "      <td>0</td>\n",
       "      <td>False</td>\n",
       "      <td>False</td>\n",
       "    </tr>\n",
       "    <tr>\n",
       "      <td>363</td>\n",
       "      <td>186.240144</td>\n",
       "      <td>2014-12-30</td>\n",
       "      <td>735597</td>\n",
       "      <td>1.419865e+09</td>\n",
       "      <td>2014</td>\n",
       "      <td>12</td>\n",
       "      <td>364</td>\n",
       "      <td>31</td>\n",
       "      <td>1</td>\n",
       "      <td>1</td>\n",
       "      <td>1</td>\n",
       "      <td>False</td>\n",
       "      <td>False</td>\n",
       "    </tr>\n",
       "    <tr>\n",
       "      <td>364</td>\n",
       "      <td>186.370181</td>\n",
       "      <td>2014-12-31</td>\n",
       "      <td>735598</td>\n",
       "      <td>1.419952e+09</td>\n",
       "      <td>2014</td>\n",
       "      <td>12</td>\n",
       "      <td>365</td>\n",
       "      <td>31</td>\n",
       "      <td>2</td>\n",
       "      <td>1</td>\n",
       "      <td>2</td>\n",
       "      <td>False</td>\n",
       "      <td>True</td>\n",
       "    </tr>\n",
       "  </tbody>\n",
       "</table>\n",
       "</div>"
      ],
      "text/plain": [
       "         Demand       Date  Ordinal     Timestamp  Year  Month  DayOfYear  \\\n",
       "360  173.727990 2014-12-27   735594  1.419606e+09  2014     12        361   \n",
       "361  188.512817 2014-12-28   735595  1.419692e+09  2014     12        362   \n",
       "362  191.273009 2014-12-29   735596  1.419779e+09  2014     12        363   \n",
       "363  186.240144 2014-12-30   735597  1.419865e+09  2014     12        364   \n",
       "364  186.370181 2014-12-31   735598  1.419952e+09  2014     12        365   \n",
       "\n",
       "     DayOfMonth  DayOfWeek  WeekOfYear  Weekday  IsMonthStart  IsMonthEnd  \n",
       "360          31          5          52        5         False       False  \n",
       "361          31          6          52        6         False       False  \n",
       "362          31          0           1        0         False       False  \n",
       "363          31          1           1        1         False       False  \n",
       "364          31          2           1        2         False        True  "
      ]
     },
     "execution_count": 104,
     "metadata": {},
     "output_type": "execute_result"
    }
   ],
   "source": [
    "df_elec[\"Year\"] = df_elec.Date.dt.year\n",
    "df_elec[\"Month\"] = df_elec.Date.dt.month\n",
    "df_elec[\"DayOfYear\"] = df_elec.Date.dt.dayofyear\n",
    "df_elec[\"DayOfMonth\"] = df_elec.Date.dt.daysinmonth\n",
    "df_elec[\"DayOfWeek\"] = df_elec.Date.dt.dayofweek\n",
    "df_elec[\"WeekOfYear\"] = df_elec.Date.dt.weekofyear\n",
    "df_elec[\"Weekday\"] = df_elec.Date.dt.weekday\n",
    "df_elec[\"IsMonthStart\"] = df_elec.Date.dt.is_month_start\n",
    "df_elec[\"IsMonthEnd\"] = df_elec.Date.dt.is_month_end\n",
    "df_elec.tail()"
   ]
  },
  {
   "cell_type": "code",
   "execution_count": 105,
   "metadata": {},
   "outputs": [
    {
     "name": "stdout",
     "output_type": "stream",
     "text": [
      "                            OLS Regression Results                            \n",
      "==============================================================================\n",
      "Dep. Variable:                 Demand   R-squared:                       0.537\n",
      "Model:                            OLS   Adj. R-squared:                  0.511\n",
      "Method:                 Least Squares   F-statistic:                     19.98\n",
      "Date:                Tue, 19 May 2020   Prob (F-statistic):           4.74e-46\n",
      "Time:                        16:06:54   Log-Likelihood:                -1574.8\n",
      "No. Observations:                 365   AIC:                             3192.\n",
      "Df Residuals:                     344   BIC:                             3273.\n",
      "Df Model:                          20                                         \n",
      "Covariance Type:            nonrobust                                         \n",
      "===========================================================================================\n",
      "                              coef    std err          t      P>|t|      [0.025      0.975]\n",
      "-------------------------------------------------------------------------------------------\n",
      "Intercept                  58.6105      2.423     24.188      0.000      53.844      63.377\n",
      "C(Month)[T.2]              14.5730      4.587      3.177      0.002       5.551      23.595\n",
      "C(Month)[T.3]              -1.2369      8.663     -0.143      0.887     -18.276      15.802\n",
      "C(Month)[T.4]             -29.1875     10.239     -2.851      0.005     -49.326      -9.049\n",
      "C(Month)[T.5]              23.4037     15.493      1.511      0.132      -7.069      53.876\n",
      "C(Month)[T.6]              11.3667      3.758      3.024      0.003       3.974      18.759\n",
      "C(Month)[T.7]              64.8095     22.750      2.849      0.005      20.063     109.556\n",
      "C(Month)[T.8]              66.5692     26.490      2.513      0.012      14.467     118.671\n",
      "C(Month)[T.9]              22.7687      9.491      2.399      0.017       4.100      41.437\n",
      "C(Month)[T.10]             59.0491     33.895      1.742      0.082      -7.619     125.717\n",
      "C(Month)[T.11]             33.4276     16.778      1.992      0.047       0.427      66.429\n",
      "C(Month)[T.12]             72.2523     41.334      1.748      0.081      -9.047     153.552\n",
      "C(DayOfMonth)[T.30]        38.3755     13.530      2.836      0.005      11.763      64.988\n",
      "C(DayOfMonth)[T.31]         5.6620      7.806      0.725      0.469      -9.691      21.015\n",
      "C(DayOfWeek)[T.1]           3.4766      1.829      1.900      0.058      -0.121       7.075\n",
      "C(DayOfWeek)[T.2]           1.5756      1.821      0.865      0.387      -2.006       5.157\n",
      "C(DayOfWeek)[T.3]           2.8568      1.831      1.560      0.120      -0.745       6.459\n",
      "C(DayOfWeek)[T.4]           0.8832      1.831      0.482      0.630      -2.719       4.485\n",
      "C(DayOfWeek)[T.5]         -12.8982      1.831     -7.045      0.000     -16.499      -9.297\n",
      "C(DayOfWeek)[T.6]         -16.4623      1.829     -8.999      0.000     -20.060     -12.864\n",
      "C(Weekday)[T.1]             3.4766      1.829      1.900      0.058      -0.121       7.075\n",
      "C(Weekday)[T.2]             1.5756      1.821      0.865      0.387      -2.006       5.157\n",
      "C(Weekday)[T.3]             2.8568      1.831      1.560      0.120      -0.745       6.459\n",
      "C(Weekday)[T.4]             0.8832      1.831      0.482      0.630      -2.719       4.485\n",
      "C(Weekday)[T.5]           -12.8982      1.831     -7.045      0.000     -16.499      -9.297\n",
      "C(Weekday)[T.6]           -16.4623      1.829     -8.999      0.000     -20.060     -12.864\n",
      "C(IsMonthStart)[T.True]     1.2012      5.781      0.208      0.836     -10.169      12.571\n",
      "C(IsMonthEnd)[T.True]       4.7608      5.781      0.824      0.411      -6.609      16.131\n",
      "scale(Ordinal)           -101.7884      4.209    -24.182      0.000    -110.068     -93.509\n",
      "DayOfYear                   0.6769      0.085      7.926      0.000       0.509       0.845\n",
      "==============================================================================\n",
      "Omnibus:                      150.460   Durbin-Watson:                   0.577\n",
      "Prob(Omnibus):                  0.000   Jarque-Bera (JB):             1586.415\n",
      "Skew:                           1.422   Prob(JB):                         0.00\n",
      "Kurtosis:                      12.809   Cond. No.                     1.05e+18\n",
      "==============================================================================\n",
      "\n",
      "Warnings:\n",
      "[1] Standard Errors assume that the covariance matrix of the errors is correctly specified.\n",
      "[2] The smallest eigenvalue is 1.49e-29. This might indicate that there are\n",
      "strong multicollinearity problems or that the design matrix is singular.\n"
     ]
    }
   ],
   "source": [
    "feature_names = df_elec.columns.tolist()\n",
    "feature_names.remove(\"Demand\")\n",
    "feature_names.remove(\"Date\")\n",
    "\n",
    "formula = \"\"\"\n",
    "Demand ~ scale(Ordinal) + C(Month) + DayOfYear + \n",
    "         C(DayOfMonth) + C(DayOfWeek) + C(Weekday) + C(IsMonthStart) + C(IsMonthEnd)\n",
    "\"\"\"\n",
    "model6 = sm.OLS.from_formula(formula, data=df_elec)\n",
    "result6 = model6.fit()\n",
    "print(result6.summary())"
   ]
  },
  {
   "cell_type": "code",
   "execution_count": 106,
   "metadata": {
    "scrolled": true
   },
   "outputs": [
    {
     "ename": "ValueError",
     "evalue": "EOF: reading array data, expected 262144 bytes got 32941",
     "output_type": "error",
     "traceback": [
      "\u001b[1;31m---------------------------------------------------------------------------\u001b[0m",
      "\u001b[1;31mUnboundLocalError\u001b[0m                         Traceback (most recent call last)",
      "\u001b[1;32m~\\Anaconda3\\lib\\site-packages\\sklearn\\datasets\\_covtype.py\u001b[0m in \u001b[0;36mfetch_covtype\u001b[1;34m(data_home, download_if_missing, random_state, shuffle, return_X_y)\u001b[0m\n\u001b[0;32m    126\u001b[0m     \u001b[1;32mtry\u001b[0m\u001b[1;33m:\u001b[0m\u001b[1;33m\u001b[0m\u001b[1;33m\u001b[0m\u001b[0m\n\u001b[1;32m--> 127\u001b[1;33m         \u001b[0mX\u001b[0m\u001b[1;33m,\u001b[0m \u001b[0my\u001b[0m\u001b[1;33m\u001b[0m\u001b[1;33m\u001b[0m\u001b[0m\n\u001b[0m\u001b[0;32m    128\u001b[0m     \u001b[1;32mexcept\u001b[0m \u001b[0mNameError\u001b[0m\u001b[1;33m:\u001b[0m\u001b[1;33m\u001b[0m\u001b[1;33m\u001b[0m\u001b[0m\n",
      "\u001b[1;31mUnboundLocalError\u001b[0m: local variable 'X' referenced before assignment",
      "\nDuring handling of the above exception, another exception occurred:\n",
      "\u001b[1;31mValueError\u001b[0m                                Traceback (most recent call last)",
      "\u001b[1;32m<timed exec>\u001b[0m in \u001b[0;36m<module>\u001b[1;34m\u001b[0m\n",
      "\u001b[1;32m~\\Anaconda3\\lib\\site-packages\\sklearn\\datasets\\_covtype.py\u001b[0m in \u001b[0;36mfetch_covtype\u001b[1;34m(data_home, download_if_missing, random_state, shuffle, return_X_y)\u001b[0m\n\u001b[0;32m    127\u001b[0m         \u001b[0mX\u001b[0m\u001b[1;33m,\u001b[0m \u001b[0my\u001b[0m\u001b[1;33m\u001b[0m\u001b[1;33m\u001b[0m\u001b[0m\n\u001b[0;32m    128\u001b[0m     \u001b[1;32mexcept\u001b[0m \u001b[0mNameError\u001b[0m\u001b[1;33m:\u001b[0m\u001b[1;33m\u001b[0m\u001b[1;33m\u001b[0m\u001b[0m\n\u001b[1;32m--> 129\u001b[1;33m         \u001b[0mX\u001b[0m\u001b[1;33m,\u001b[0m \u001b[0my\u001b[0m \u001b[1;33m=\u001b[0m \u001b[0m_refresh_cache\u001b[0m\u001b[1;33m(\u001b[0m\u001b[1;33m[\u001b[0m\u001b[0msamples_path\u001b[0m\u001b[1;33m,\u001b[0m \u001b[0mtargets_path\u001b[0m\u001b[1;33m]\u001b[0m\u001b[1;33m,\u001b[0m \u001b[1;36m9\u001b[0m\u001b[1;33m)\u001b[0m\u001b[1;33m\u001b[0m\u001b[1;33m\u001b[0m\u001b[0m\n\u001b[0m\u001b[0;32m    130\u001b[0m         \u001b[1;31m# TODO: Revert to the following two lines in v0.23\u001b[0m\u001b[1;33m\u001b[0m\u001b[1;33m\u001b[0m\u001b[1;33m\u001b[0m\u001b[0m\n\u001b[0;32m    131\u001b[0m         \u001b[1;31m# X = joblib.load(samples_path)\u001b[0m\u001b[1;33m\u001b[0m\u001b[1;33m\u001b[0m\u001b[1;33m\u001b[0m\u001b[0m\n",
      "\u001b[1;32m~\\Anaconda3\\lib\\site-packages\\sklearn\\datasets\\_base.py\u001b[0m in \u001b[0;36m_refresh_cache\u001b[1;34m(files, compress)\u001b[0m\n\u001b[0;32m    915\u001b[0m     \u001b[0mmsg\u001b[0m \u001b[1;33m=\u001b[0m \u001b[1;34m\"sklearn.externals.joblib is deprecated in 0.21\"\u001b[0m\u001b[1;33m\u001b[0m\u001b[1;33m\u001b[0m\u001b[0m\n\u001b[0;32m    916\u001b[0m     \u001b[1;32mwith\u001b[0m \u001b[0mwarnings\u001b[0m\u001b[1;33m.\u001b[0m\u001b[0mcatch_warnings\u001b[0m\u001b[1;33m(\u001b[0m\u001b[0mrecord\u001b[0m\u001b[1;33m=\u001b[0m\u001b[1;32mTrue\u001b[0m\u001b[1;33m)\u001b[0m \u001b[1;32mas\u001b[0m \u001b[0mwarns\u001b[0m\u001b[1;33m:\u001b[0m\u001b[1;33m\u001b[0m\u001b[1;33m\u001b[0m\u001b[0m\n\u001b[1;32m--> 917\u001b[1;33m         \u001b[0mdata\u001b[0m \u001b[1;33m=\u001b[0m \u001b[0mtuple\u001b[0m\u001b[1;33m(\u001b[0m\u001b[1;33m[\u001b[0m\u001b[0mjoblib\u001b[0m\u001b[1;33m.\u001b[0m\u001b[0mload\u001b[0m\u001b[1;33m(\u001b[0m\u001b[0mf\u001b[0m\u001b[1;33m)\u001b[0m \u001b[1;32mfor\u001b[0m \u001b[0mf\u001b[0m \u001b[1;32min\u001b[0m \u001b[0mfiles\u001b[0m\u001b[1;33m]\u001b[0m\u001b[1;33m)\u001b[0m\u001b[1;33m\u001b[0m\u001b[1;33m\u001b[0m\u001b[0m\n\u001b[0m\u001b[0;32m    918\u001b[0m \u001b[1;33m\u001b[0m\u001b[0m\n\u001b[0;32m    919\u001b[0m     \u001b[0mrefresh_needed\u001b[0m \u001b[1;33m=\u001b[0m \u001b[0many\u001b[0m\u001b[1;33m(\u001b[0m\u001b[1;33m[\u001b[0m\u001b[0mstr\u001b[0m\u001b[1;33m(\u001b[0m\u001b[0mx\u001b[0m\u001b[1;33m.\u001b[0m\u001b[0mmessage\u001b[0m\u001b[1;33m)\u001b[0m\u001b[1;33m.\u001b[0m\u001b[0mstartswith\u001b[0m\u001b[1;33m(\u001b[0m\u001b[0mmsg\u001b[0m\u001b[1;33m)\u001b[0m \u001b[1;32mfor\u001b[0m \u001b[0mx\u001b[0m \u001b[1;32min\u001b[0m \u001b[0mwarns\u001b[0m\u001b[1;33m]\u001b[0m\u001b[1;33m)\u001b[0m\u001b[1;33m\u001b[0m\u001b[1;33m\u001b[0m\u001b[0m\n",
      "\u001b[1;32m~\\Anaconda3\\lib\\site-packages\\sklearn\\datasets\\_base.py\u001b[0m in \u001b[0;36m<listcomp>\u001b[1;34m(.0)\u001b[0m\n\u001b[0;32m    915\u001b[0m     \u001b[0mmsg\u001b[0m \u001b[1;33m=\u001b[0m \u001b[1;34m\"sklearn.externals.joblib is deprecated in 0.21\"\u001b[0m\u001b[1;33m\u001b[0m\u001b[1;33m\u001b[0m\u001b[0m\n\u001b[0;32m    916\u001b[0m     \u001b[1;32mwith\u001b[0m \u001b[0mwarnings\u001b[0m\u001b[1;33m.\u001b[0m\u001b[0mcatch_warnings\u001b[0m\u001b[1;33m(\u001b[0m\u001b[0mrecord\u001b[0m\u001b[1;33m=\u001b[0m\u001b[1;32mTrue\u001b[0m\u001b[1;33m)\u001b[0m \u001b[1;32mas\u001b[0m \u001b[0mwarns\u001b[0m\u001b[1;33m:\u001b[0m\u001b[1;33m\u001b[0m\u001b[1;33m\u001b[0m\u001b[0m\n\u001b[1;32m--> 917\u001b[1;33m         \u001b[0mdata\u001b[0m \u001b[1;33m=\u001b[0m \u001b[0mtuple\u001b[0m\u001b[1;33m(\u001b[0m\u001b[1;33m[\u001b[0m\u001b[0mjoblib\u001b[0m\u001b[1;33m.\u001b[0m\u001b[0mload\u001b[0m\u001b[1;33m(\u001b[0m\u001b[0mf\u001b[0m\u001b[1;33m)\u001b[0m \u001b[1;32mfor\u001b[0m \u001b[0mf\u001b[0m \u001b[1;32min\u001b[0m \u001b[0mfiles\u001b[0m\u001b[1;33m]\u001b[0m\u001b[1;33m)\u001b[0m\u001b[1;33m\u001b[0m\u001b[1;33m\u001b[0m\u001b[0m\n\u001b[0m\u001b[0;32m    918\u001b[0m \u001b[1;33m\u001b[0m\u001b[0m\n\u001b[0;32m    919\u001b[0m     \u001b[0mrefresh_needed\u001b[0m \u001b[1;33m=\u001b[0m \u001b[0many\u001b[0m\u001b[1;33m(\u001b[0m\u001b[1;33m[\u001b[0m\u001b[0mstr\u001b[0m\u001b[1;33m(\u001b[0m\u001b[0mx\u001b[0m\u001b[1;33m.\u001b[0m\u001b[0mmessage\u001b[0m\u001b[1;33m)\u001b[0m\u001b[1;33m.\u001b[0m\u001b[0mstartswith\u001b[0m\u001b[1;33m(\u001b[0m\u001b[0mmsg\u001b[0m\u001b[1;33m)\u001b[0m \u001b[1;32mfor\u001b[0m \u001b[0mx\u001b[0m \u001b[1;32min\u001b[0m \u001b[0mwarns\u001b[0m\u001b[1;33m]\u001b[0m\u001b[1;33m)\u001b[0m\u001b[1;33m\u001b[0m\u001b[1;33m\u001b[0m\u001b[0m\n",
      "\u001b[1;32m~\\Anaconda3\\lib\\site-packages\\joblib\\numpy_pickle.py\u001b[0m in \u001b[0;36mload\u001b[1;34m(filename, mmap_mode)\u001b[0m\n\u001b[0;32m    596\u001b[0m                     \u001b[1;32mreturn\u001b[0m \u001b[0mload_compatibility\u001b[0m\u001b[1;33m(\u001b[0m\u001b[0mfobj\u001b[0m\u001b[1;33m)\u001b[0m\u001b[1;33m\u001b[0m\u001b[1;33m\u001b[0m\u001b[0m\n\u001b[0;32m    597\u001b[0m \u001b[1;33m\u001b[0m\u001b[0m\n\u001b[1;32m--> 598\u001b[1;33m                 \u001b[0mobj\u001b[0m \u001b[1;33m=\u001b[0m \u001b[0m_unpickle\u001b[0m\u001b[1;33m(\u001b[0m\u001b[0mfobj\u001b[0m\u001b[1;33m,\u001b[0m \u001b[0mfilename\u001b[0m\u001b[1;33m,\u001b[0m \u001b[0mmmap_mode\u001b[0m\u001b[1;33m)\u001b[0m\u001b[1;33m\u001b[0m\u001b[1;33m\u001b[0m\u001b[0m\n\u001b[0m\u001b[0;32m    599\u001b[0m \u001b[1;33m\u001b[0m\u001b[0m\n\u001b[0;32m    600\u001b[0m     \u001b[1;32mreturn\u001b[0m \u001b[0mobj\u001b[0m\u001b[1;33m\u001b[0m\u001b[1;33m\u001b[0m\u001b[0m\n",
      "\u001b[1;32m~\\Anaconda3\\lib\\site-packages\\joblib\\numpy_pickle.py\u001b[0m in \u001b[0;36m_unpickle\u001b[1;34m(fobj, filename, mmap_mode)\u001b[0m\n\u001b[0;32m    524\u001b[0m     \u001b[0mobj\u001b[0m \u001b[1;33m=\u001b[0m \u001b[1;32mNone\u001b[0m\u001b[1;33m\u001b[0m\u001b[1;33m\u001b[0m\u001b[0m\n\u001b[0;32m    525\u001b[0m     \u001b[1;32mtry\u001b[0m\u001b[1;33m:\u001b[0m\u001b[1;33m\u001b[0m\u001b[1;33m\u001b[0m\u001b[0m\n\u001b[1;32m--> 526\u001b[1;33m         \u001b[0mobj\u001b[0m \u001b[1;33m=\u001b[0m \u001b[0munpickler\u001b[0m\u001b[1;33m.\u001b[0m\u001b[0mload\u001b[0m\u001b[1;33m(\u001b[0m\u001b[1;33m)\u001b[0m\u001b[1;33m\u001b[0m\u001b[1;33m\u001b[0m\u001b[0m\n\u001b[0m\u001b[0;32m    527\u001b[0m         \u001b[1;32mif\u001b[0m \u001b[0munpickler\u001b[0m\u001b[1;33m.\u001b[0m\u001b[0mcompat_mode\u001b[0m\u001b[1;33m:\u001b[0m\u001b[1;33m\u001b[0m\u001b[1;33m\u001b[0m\u001b[0m\n\u001b[0;32m    528\u001b[0m             warnings.warn(\"The file '%s' has been generated with a \"\n",
      "\u001b[1;32m~\\Anaconda3\\lib\\pickle.py\u001b[0m in \u001b[0;36mload\u001b[1;34m(self)\u001b[0m\n\u001b[0;32m   1086\u001b[0m                     \u001b[1;32mraise\u001b[0m \u001b[0mEOFError\u001b[0m\u001b[1;33m\u001b[0m\u001b[1;33m\u001b[0m\u001b[0m\n\u001b[0;32m   1087\u001b[0m                 \u001b[1;32massert\u001b[0m \u001b[0misinstance\u001b[0m\u001b[1;33m(\u001b[0m\u001b[0mkey\u001b[0m\u001b[1;33m,\u001b[0m \u001b[0mbytes_types\u001b[0m\u001b[1;33m)\u001b[0m\u001b[1;33m\u001b[0m\u001b[1;33m\u001b[0m\u001b[0m\n\u001b[1;32m-> 1088\u001b[1;33m                 \u001b[0mdispatch\u001b[0m\u001b[1;33m[\u001b[0m\u001b[0mkey\u001b[0m\u001b[1;33m[\u001b[0m\u001b[1;36m0\u001b[0m\u001b[1;33m]\u001b[0m\u001b[1;33m]\u001b[0m\u001b[1;33m(\u001b[0m\u001b[0mself\u001b[0m\u001b[1;33m)\u001b[0m\u001b[1;33m\u001b[0m\u001b[1;33m\u001b[0m\u001b[0m\n\u001b[0m\u001b[0;32m   1089\u001b[0m         \u001b[1;32mexcept\u001b[0m \u001b[0m_Stop\u001b[0m \u001b[1;32mas\u001b[0m \u001b[0mstopinst\u001b[0m\u001b[1;33m:\u001b[0m\u001b[1;33m\u001b[0m\u001b[1;33m\u001b[0m\u001b[0m\n\u001b[0;32m   1090\u001b[0m             \u001b[1;32mreturn\u001b[0m \u001b[0mstopinst\u001b[0m\u001b[1;33m.\u001b[0m\u001b[0mvalue\u001b[0m\u001b[1;33m\u001b[0m\u001b[1;33m\u001b[0m\u001b[0m\n",
      "\u001b[1;32m~\\Anaconda3\\lib\\site-packages\\joblib\\numpy_pickle.py\u001b[0m in \u001b[0;36mload_build\u001b[1;34m(self)\u001b[0m\n\u001b[0;32m    350\u001b[0m             \u001b[1;32mif\u001b[0m \u001b[0misinstance\u001b[0m\u001b[1;33m(\u001b[0m\u001b[0marray_wrapper\u001b[0m\u001b[1;33m,\u001b[0m \u001b[0mNDArrayWrapper\u001b[0m\u001b[1;33m)\u001b[0m\u001b[1;33m:\u001b[0m\u001b[1;33m\u001b[0m\u001b[1;33m\u001b[0m\u001b[0m\n\u001b[0;32m    351\u001b[0m                 \u001b[0mself\u001b[0m\u001b[1;33m.\u001b[0m\u001b[0mcompat_mode\u001b[0m \u001b[1;33m=\u001b[0m \u001b[1;32mTrue\u001b[0m\u001b[1;33m\u001b[0m\u001b[1;33m\u001b[0m\u001b[0m\n\u001b[1;32m--> 352\u001b[1;33m             \u001b[0mself\u001b[0m\u001b[1;33m.\u001b[0m\u001b[0mstack\u001b[0m\u001b[1;33m.\u001b[0m\u001b[0mappend\u001b[0m\u001b[1;33m(\u001b[0m\u001b[0marray_wrapper\u001b[0m\u001b[1;33m.\u001b[0m\u001b[0mread\u001b[0m\u001b[1;33m(\u001b[0m\u001b[0mself\u001b[0m\u001b[1;33m)\u001b[0m\u001b[1;33m)\u001b[0m\u001b[1;33m\u001b[0m\u001b[1;33m\u001b[0m\u001b[0m\n\u001b[0m\u001b[0;32m    353\u001b[0m \u001b[1;33m\u001b[0m\u001b[0m\n\u001b[0;32m    354\u001b[0m     \u001b[1;31m# Be careful to register our new method.\u001b[0m\u001b[1;33m\u001b[0m\u001b[1;33m\u001b[0m\u001b[1;33m\u001b[0m\u001b[0m\n",
      "\u001b[1;32m~\\Anaconda3\\lib\\site-packages\\joblib\\numpy_pickle.py\u001b[0m in \u001b[0;36mread\u001b[1;34m(self, unpickler)\u001b[0m\n\u001b[0;32m    193\u001b[0m             \u001b[0marray\u001b[0m \u001b[1;33m=\u001b[0m \u001b[0mself\u001b[0m\u001b[1;33m.\u001b[0m\u001b[0mread_mmap\u001b[0m\u001b[1;33m(\u001b[0m\u001b[0munpickler\u001b[0m\u001b[1;33m)\u001b[0m\u001b[1;33m\u001b[0m\u001b[1;33m\u001b[0m\u001b[0m\n\u001b[0;32m    194\u001b[0m         \u001b[1;32melse\u001b[0m\u001b[1;33m:\u001b[0m\u001b[1;33m\u001b[0m\u001b[1;33m\u001b[0m\u001b[0m\n\u001b[1;32m--> 195\u001b[1;33m             \u001b[0marray\u001b[0m \u001b[1;33m=\u001b[0m \u001b[0mself\u001b[0m\u001b[1;33m.\u001b[0m\u001b[0mread_array\u001b[0m\u001b[1;33m(\u001b[0m\u001b[0munpickler\u001b[0m\u001b[1;33m)\u001b[0m\u001b[1;33m\u001b[0m\u001b[1;33m\u001b[0m\u001b[0m\n\u001b[0m\u001b[0;32m    196\u001b[0m \u001b[1;33m\u001b[0m\u001b[0m\n\u001b[0;32m    197\u001b[0m         \u001b[1;31m# Manage array subclass case\u001b[0m\u001b[1;33m\u001b[0m\u001b[1;33m\u001b[0m\u001b[1;33m\u001b[0m\u001b[0m\n",
      "\u001b[1;32m~\\Anaconda3\\lib\\site-packages\\joblib\\numpy_pickle.py\u001b[0m in \u001b[0;36mread_array\u001b[1;34m(self, unpickler)\u001b[0m\n\u001b[0;32m    144\u001b[0m                     \u001b[0mread_size\u001b[0m \u001b[1;33m=\u001b[0m \u001b[0mint\u001b[0m\u001b[1;33m(\u001b[0m\u001b[0mread_count\u001b[0m \u001b[1;33m*\u001b[0m \u001b[0mself\u001b[0m\u001b[1;33m.\u001b[0m\u001b[0mdtype\u001b[0m\u001b[1;33m.\u001b[0m\u001b[0mitemsize\u001b[0m\u001b[1;33m)\u001b[0m\u001b[1;33m\u001b[0m\u001b[1;33m\u001b[0m\u001b[0m\n\u001b[0;32m    145\u001b[0m                     data = _read_bytes(unpickler.file_handle,\n\u001b[1;32m--> 146\u001b[1;33m                                        read_size, \"array data\")\n\u001b[0m\u001b[0;32m    147\u001b[0m                     \u001b[0marray\u001b[0m\u001b[1;33m[\u001b[0m\u001b[0mi\u001b[0m\u001b[1;33m:\u001b[0m\u001b[0mi\u001b[0m \u001b[1;33m+\u001b[0m \u001b[0mread_count\u001b[0m\u001b[1;33m]\u001b[0m \u001b[1;33m=\u001b[0m\u001b[0;31m \u001b[0m\u001b[0;31m\\\u001b[0m\u001b[1;33m\u001b[0m\u001b[1;33m\u001b[0m\u001b[0m\n\u001b[0;32m    148\u001b[0m                         unpickler.np.frombuffer(data, dtype=self.dtype,\n",
      "\u001b[1;32m~\\Anaconda3\\lib\\site-packages\\joblib\\numpy_pickle_utils.py\u001b[0m in \u001b[0;36m_read_bytes\u001b[1;34m(fp, size, error_template)\u001b[0m\n\u001b[0;32m    241\u001b[0m     \u001b[1;32mif\u001b[0m \u001b[0mlen\u001b[0m\u001b[1;33m(\u001b[0m\u001b[0mdata\u001b[0m\u001b[1;33m)\u001b[0m \u001b[1;33m!=\u001b[0m \u001b[0msize\u001b[0m\u001b[1;33m:\u001b[0m\u001b[1;33m\u001b[0m\u001b[1;33m\u001b[0m\u001b[0m\n\u001b[0;32m    242\u001b[0m         \u001b[0mmsg\u001b[0m \u001b[1;33m=\u001b[0m \u001b[1;34m\"EOF: reading %s, expected %d bytes got %d\"\u001b[0m\u001b[1;33m\u001b[0m\u001b[1;33m\u001b[0m\u001b[0m\n\u001b[1;32m--> 243\u001b[1;33m         \u001b[1;32mraise\u001b[0m \u001b[0mValueError\u001b[0m\u001b[1;33m(\u001b[0m\u001b[0mmsg\u001b[0m \u001b[1;33m%\u001b[0m \u001b[1;33m(\u001b[0m\u001b[0merror_template\u001b[0m\u001b[1;33m,\u001b[0m \u001b[0msize\u001b[0m\u001b[1;33m,\u001b[0m \u001b[0mlen\u001b[0m\u001b[1;33m(\u001b[0m\u001b[0mdata\u001b[0m\u001b[1;33m)\u001b[0m\u001b[1;33m)\u001b[0m\u001b[1;33m)\u001b[0m\u001b[1;33m\u001b[0m\u001b[1;33m\u001b[0m\u001b[0m\n\u001b[0m\u001b[0;32m    244\u001b[0m     \u001b[1;32melse\u001b[0m\u001b[1;33m:\u001b[0m\u001b[1;33m\u001b[0m\u001b[1;33m\u001b[0m\u001b[0m\n\u001b[0;32m    245\u001b[0m         \u001b[1;32mreturn\u001b[0m \u001b[0mdata\u001b[0m\u001b[1;33m\u001b[0m\u001b[1;33m\u001b[0m\u001b[0m\n",
      "\u001b[1;31mValueError\u001b[0m: EOF: reading array data, expected 262144 bytes got 32941"
     ]
    }
   ],
   "source": [
    "%%time\n",
    "from sklearn.datasets import fetch_covtype\n",
    "\n",
    "covtype = fetch_covtype()\n",
    "\n",
    "feature_names = [\"Aspect\", \"Hillshade_9am\"]\n",
    "df_covtype = pd.DataFrame(covtype.data[:, [1, 6]], columns=feature_names)\n",
    "df_covtype = df_covtype.sample(10000, random_state=0)  # 편의상 10,000개 표본 추출\n",
    "df_covtype.tail()"
   ]
  },
  {
   "cell_type": "code",
   "execution_count": null,
   "metadata": {},
   "outputs": [],
   "source": []
  },
  {
   "cell_type": "code",
   "execution_count": null,
   "metadata": {},
   "outputs": [],
   "source": []
  },
  {
   "cell_type": "code",
   "execution_count": null,
   "metadata": {},
   "outputs": [],
   "source": []
  },
  {
   "cell_type": "code",
   "execution_count": null,
   "metadata": {},
   "outputs": [],
   "source": []
  }
 ],
 "metadata": {
  "kernelspec": {
   "display_name": "Python 3",
   "language": "python",
   "name": "python3"
  },
  "language_info": {
   "codemirror_mode": {
    "name": "ipython",
    "version": 3
   },
   "file_extension": ".py",
   "mimetype": "text/x-python",
   "name": "python",
   "nbconvert_exporter": "python",
   "pygments_lexer": "ipython3",
   "version": "3.7.4"
  }
 },
 "nbformat": 4,
 "nbformat_minor": 2
}
