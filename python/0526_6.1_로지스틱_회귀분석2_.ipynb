{
 "cells": [
  {
   "cell_type": "markdown",
   "metadata": {},
   "source": [
    "# 로지스틱 회귀 분석\n",
    "\n",
    "로지스틱(logistic) 회귀분석은 회귀분석이라는 명칭과 달리 회귀분석 문제와 분류문제에 이용할 수 있다. 로지스틱 회귀분석 모형에서 종속변수가 이항분포를 따르고 그 모수 $\\mu$가  독립변수  $x$ 에 의존한다고 가정한다"
   ]
  },
  {
   "cell_type": "markdown",
   "metadata": {},
   "source": [
    "$p(y \\mid x) = \\text{Bin} (y; \\mu(x), N)$"
   ]
  },
  {
   "cell_type": "markdown",
   "metadata": {},
   "source": [
    "위 식에서 보듯이 로지스틱 함수는 $ y $의 값이 특정한 구간내의 값$( 0∼N )$만 가질 수 있기 때문에 종속변수가 이러한 특성을 가진 경우에 회귀분석 방법으로 쓸 수 있다.\n",
    "\n",
    "또는 이항 분포의 특별한 경우$( N=1 )$로 $ y $가 베르누이 확률분포인 경우도 있을 수 있다. 여기에서는 베르누이 확률분포를 따르는 로지스틱 회귀분석만 고려하기로 한다."
   ]
  },
  {
   "cell_type": "markdown",
   "metadata": {},
   "source": [
    "$p(y \\mid x) = \\text{Bern} (y; \\mu(x) )$"
   ]
  },
  {
   "cell_type": "markdown",
   "metadata": {},
   "source": [
    "종속변수  y 가 0또는 1인 분류 예측 문제를 풀 때는  x  값을 이용하여  μ(x) 를 예측한 후 다음 기준에 따라  y^ 값을 출력한다."
   ]
  },
  {
   "cell_type": "markdown",
   "metadata": {},
   "source": [
    "$\\hat{y} = \\begin{cases} 1 & \\text{ if } \\mu(x) \\geq 0.5 \\\\ 0 & \\text{ if } \\mu(x) < 0.5 \\end{cases}$"
   ]
  },
  {
   "cell_type": "markdown",
   "metadata": {},
   "source": [
    "회귀분석을 할 때는  y^ 으로  y=1 이 될 확률값  μ(x) 를 직접 사용한다.\n",
    "\n"
   ]
  },
  {
   "cell_type": "markdown",
   "metadata": {},
   "source": [
    "$\\hat{y} = \\mu(x)$"
   ]
  },
  {
   "cell_type": "markdown",
   "metadata": {},
   "source": [
    "### 시그모이드 함수"
   ]
  },
  {
   "cell_type": "markdown",
   "metadata": {},
   "source": [
    "로지스틱 회귀모형에서는 베르누이 확률분포의 모수 $ μ$ 가 $ x $의 함수라고 가정한다. $ μ(x)$ 는  x 에 대한 함수를 0부터 1사이의 값만 나올 수 있도록 시그모이드함수(sigmoid function)라는 함수를 사용하여 변형한 것을 사용한다."
   ]
  },
  {
   "cell_type": "markdown",
   "metadata": {},
   "source": [
    "로지스틱 회귀모형에서는 베르누이 확률분포의 모수  μ 가  x 의 함수라고 가정한다.  μ(x) 는  x 에 대한 함수를 0부터 1사이의 값만 나올 수 있도록 시그모이드함수(sigmoid function)라는 함수를 사용하여 변형한 것을 사용한다.\n",
    "\n",
    "시그모이드함수는 종속변수의 모든 실수 값에 대해\n",
    "\n",
    "유한한 구간  (a,b)  사이의 한정된(bounded) 값을 가지고\n",
    "\n",
    "$a<f(x)<b$\n",
    " \n",
    "항상 양의 기울기를 가지는 단조증가하는\n",
    "\n",
    "\n",
    "$a>b→f(a)>f(b)$\n",
    " \n",
    "함수의 집합을 말한다. 실제로는 다음과 같은 함수들이 주로 사용된다.\n",
    "\n",
    "- 로지스틱(Logistic)함수\n",
    "\n",
    "$logitstic(z)=σ(z)=11+exp(−z)$\n",
    " \n",
    "- 하이퍼볼릭탄젠트(Hyperbolic tangent)함수\n",
    "\n",
    "$tanh(z)=sinhzcoshz=(ez−e−z)/2(ez+e−z)/2=2σ(2z)−1$\n",
    " \n",
    "\n",
    "- 오차(Error)함수\n",
    "\n",
    "$erf(z)=2π−−√∫z0e−t2dt$\n",
    " \n",
    "하이퍼볼릭탄젠트함수는 로지스틱함수를 위아래 방향으로 2배 늘리고 좌우 방향으로 1/2로 축소한 것과 같다.\n",
    "\n"
   ]
  },
  {
   "cell_type": "code",
   "execution_count": 1,
   "metadata": {},
   "outputs": [
    {
     "name": "stderr",
     "output_type": "stream",
     "text": [
      "C:\\Users\\82109\\anaconda3\\lib\\site-packages\\matplotlib\\backends\\backend_agg.py:214: RuntimeWarning: Glyph 47196 missing from current font.\n",
      "  font.set_text(s, 0.0, flags=flags)\n",
      "C:\\Users\\82109\\anaconda3\\lib\\site-packages\\matplotlib\\backends\\backend_agg.py:214: RuntimeWarning: Glyph 51648 missing from current font.\n",
      "  font.set_text(s, 0.0, flags=flags)\n",
      "C:\\Users\\82109\\anaconda3\\lib\\site-packages\\matplotlib\\backends\\backend_agg.py:214: RuntimeWarning: Glyph 49828 missing from current font.\n",
      "  font.set_text(s, 0.0, flags=flags)\n",
      "C:\\Users\\82109\\anaconda3\\lib\\site-packages\\matplotlib\\backends\\backend_agg.py:214: RuntimeWarning: Glyph 54001 missing from current font.\n",
      "  font.set_text(s, 0.0, flags=flags)\n",
      "C:\\Users\\82109\\anaconda3\\lib\\site-packages\\matplotlib\\backends\\backend_agg.py:214: RuntimeWarning: Glyph 54632 missing from current font.\n",
      "  font.set_text(s, 0.0, flags=flags)\n",
      "C:\\Users\\82109\\anaconda3\\lib\\site-packages\\matplotlib\\backends\\backend_agg.py:214: RuntimeWarning: Glyph 49688 missing from current font.\n",
      "  font.set_text(s, 0.0, flags=flags)\n",
      "C:\\Users\\82109\\anaconda3\\lib\\site-packages\\matplotlib\\backends\\backend_agg.py:214: RuntimeWarning: Glyph 50724 missing from current font.\n",
      "  font.set_text(s, 0.0, flags=flags)\n",
      "C:\\Users\\82109\\anaconda3\\lib\\site-packages\\matplotlib\\backends\\backend_agg.py:214: RuntimeWarning: Glyph 52264 missing from current font.\n",
      "  font.set_text(s, 0.0, flags=flags)\n",
      "C:\\Users\\82109\\anaconda3\\lib\\site-packages\\matplotlib\\backends\\backend_agg.py:214: RuntimeWarning: Glyph 54616 missing from current font.\n",
      "  font.set_text(s, 0.0, flags=flags)\n",
      "C:\\Users\\82109\\anaconda3\\lib\\site-packages\\matplotlib\\backends\\backend_agg.py:214: RuntimeWarning: Glyph 51060 missing from current font.\n",
      "  font.set_text(s, 0.0, flags=flags)\n",
      "C:\\Users\\82109\\anaconda3\\lib\\site-packages\\matplotlib\\backends\\backend_agg.py:214: RuntimeWarning: Glyph 54140 missing from current font.\n",
      "  font.set_text(s, 0.0, flags=flags)\n",
      "C:\\Users\\82109\\anaconda3\\lib\\site-packages\\matplotlib\\backends\\backend_agg.py:214: RuntimeWarning: Glyph 48380 missing from current font.\n",
      "  font.set_text(s, 0.0, flags=flags)\n",
      "C:\\Users\\82109\\anaconda3\\lib\\site-packages\\matplotlib\\backends\\backend_agg.py:214: RuntimeWarning: Glyph 47533 missing from current font.\n",
      "  font.set_text(s, 0.0, flags=flags)\n",
      "C:\\Users\\82109\\anaconda3\\lib\\site-packages\\matplotlib\\backends\\backend_agg.py:214: RuntimeWarning: Glyph 53444 missing from current font.\n",
      "  font.set_text(s, 0.0, flags=flags)\n",
      "C:\\Users\\82109\\anaconda3\\lib\\site-packages\\matplotlib\\backends\\backend_agg.py:214: RuntimeWarning: Glyph 51232 missing from current font.\n",
      "  font.set_text(s, 0.0, flags=flags)\n",
      "C:\\Users\\82109\\anaconda3\\lib\\site-packages\\matplotlib\\backends\\backend_agg.py:214: RuntimeWarning: Glyph 53944 missing from current font.\n",
      "  font.set_text(s, 0.0, flags=flags)\n",
      "C:\\Users\\82109\\anaconda3\\lib\\site-packages\\matplotlib\\backends\\backend_agg.py:183: RuntimeWarning: Glyph 47196 missing from current font.\n",
      "  font.set_text(s, 0, flags=flags)\n",
      "C:\\Users\\82109\\anaconda3\\lib\\site-packages\\matplotlib\\backends\\backend_agg.py:183: RuntimeWarning: Glyph 51648 missing from current font.\n",
      "  font.set_text(s, 0, flags=flags)\n",
      "C:\\Users\\82109\\anaconda3\\lib\\site-packages\\matplotlib\\backends\\backend_agg.py:183: RuntimeWarning: Glyph 49828 missing from current font.\n",
      "  font.set_text(s, 0, flags=flags)\n",
      "C:\\Users\\82109\\anaconda3\\lib\\site-packages\\matplotlib\\backends\\backend_agg.py:183: RuntimeWarning: Glyph 54001 missing from current font.\n",
      "  font.set_text(s, 0, flags=flags)\n",
      "C:\\Users\\82109\\anaconda3\\lib\\site-packages\\matplotlib\\backends\\backend_agg.py:183: RuntimeWarning: Glyph 54632 missing from current font.\n",
      "  font.set_text(s, 0, flags=flags)\n",
      "C:\\Users\\82109\\anaconda3\\lib\\site-packages\\matplotlib\\backends\\backend_agg.py:183: RuntimeWarning: Glyph 49688 missing from current font.\n",
      "  font.set_text(s, 0, flags=flags)\n",
      "C:\\Users\\82109\\anaconda3\\lib\\site-packages\\matplotlib\\backends\\backend_agg.py:183: RuntimeWarning: Glyph 50724 missing from current font.\n",
      "  font.set_text(s, 0, flags=flags)\n",
      "C:\\Users\\82109\\anaconda3\\lib\\site-packages\\matplotlib\\backends\\backend_agg.py:183: RuntimeWarning: Glyph 52264 missing from current font.\n",
      "  font.set_text(s, 0, flags=flags)\n",
      "C:\\Users\\82109\\anaconda3\\lib\\site-packages\\matplotlib\\backends\\backend_agg.py:183: RuntimeWarning: Glyph 54616 missing from current font.\n",
      "  font.set_text(s, 0, flags=flags)\n",
      "C:\\Users\\82109\\anaconda3\\lib\\site-packages\\matplotlib\\backends\\backend_agg.py:183: RuntimeWarning: Glyph 51060 missing from current font.\n",
      "  font.set_text(s, 0, flags=flags)\n",
      "C:\\Users\\82109\\anaconda3\\lib\\site-packages\\matplotlib\\backends\\backend_agg.py:183: RuntimeWarning: Glyph 54140 missing from current font.\n",
      "  font.set_text(s, 0, flags=flags)\n",
      "C:\\Users\\82109\\anaconda3\\lib\\site-packages\\matplotlib\\backends\\backend_agg.py:183: RuntimeWarning: Glyph 48380 missing from current font.\n",
      "  font.set_text(s, 0, flags=flags)\n",
      "C:\\Users\\82109\\anaconda3\\lib\\site-packages\\matplotlib\\backends\\backend_agg.py:183: RuntimeWarning: Glyph 47533 missing from current font.\n",
      "  font.set_text(s, 0, flags=flags)\n",
      "C:\\Users\\82109\\anaconda3\\lib\\site-packages\\matplotlib\\backends\\backend_agg.py:183: RuntimeWarning: Glyph 53444 missing from current font.\n",
      "  font.set_text(s, 0, flags=flags)\n",
      "C:\\Users\\82109\\anaconda3\\lib\\site-packages\\matplotlib\\backends\\backend_agg.py:183: RuntimeWarning: Glyph 51232 missing from current font.\n",
      "  font.set_text(s, 0, flags=flags)\n",
      "C:\\Users\\82109\\anaconda3\\lib\\site-packages\\matplotlib\\backends\\backend_agg.py:183: RuntimeWarning: Glyph 53944 missing from current font.\n",
      "  font.set_text(s, 0, flags=flags)\n"
     ]
    },
    {
     "data": {
      "image/png": "[encoded data removed]",
      "text/plain": [
       "<Figure size 432x288 with 1 Axes>"
      ]
     },
     "metadata": {
      "needs_background": "light"
     },
     "output_type": "display_data"
    }
   ],
   "source": [
    "import numpy as np\n",
    "import pandas as pd\n",
    "import matplotlib.pyplot as plt\n",
    "import scipy as sp\n",
    "import scipy.special\n",
    "xx = np.linspace(-5, 5, 1000)\n",
    "plt.plot(xx, 1/(1+np.exp(-xx)), 'r-', label=\"로지스틱함수\")\n",
    "plt.plot(xx, sp.special.erf(0.5*np.sqrt(np.pi)*xx), 'g:', label=\"오차함수\")\n",
    "plt.plot(xx, np.tanh(xx), 'b--', label=\"하이퍼볼릭탄젠트함수\")\n",
    "plt.ylim([-1.1, 1.1])\n",
    "plt.legend(loc=2)\n",
    "plt.xlabel(\"x\")\n",
    "plt.show()"
   ]
  },
  {
   "cell_type": "markdown",
   "metadata": {},
   "source": [
    "### 로지스틱 함수\n",
    "\n",
    "로지싁함수는 음의 무한대부터 양의 무한대까지의 실수 값을 0부터 1사이의 실수값으로 1대1 대응시키는 시그모이드함수다. 보통 시그모이드함수라고 하면 로지스틱함수를 가리킨다. 로지스틱함수는 다음 과정을 통해 정의되었다.\n",
    "\n",
    "베르누이 시도에서 1이 나올 확률은 $ \\mu $ 와 0이 나올 확률 $1-\\mu$ 의 비율을 승산비(odds ratio)라고 한다.\n",
    "\n",
    "$\\text{odds ratio} = \\dfrac{\\mu}{1-\\mu}$"
   ]
  },
  {
   "cell_type": "markdown",
   "metadata": {},
   "source": [
    "0부터 1사이의 값만 가지는 $ \\mu $를 승산비로 변환하면 0부터 양의 무한대까지의 값을 가질 수 있다.\n",
    "\n",
    "승산비를 로그 변환한 것이 로지트(Logit function)다.\n",
    "\n",
    "$z = \\text{logit}(\\text{odds ratio}) = \\log \\left(\\dfrac{\\mu}{1-\\mu}\\right)$"
   ]
  },
  {
   "cell_type": "markdown",
   "metadata": {},
   "source": [
    "로지트함수의 값은 로그 변환에 의해 음의 무한대부터 양의 무한대까지의 값을 가질 수 있다.\n",
    "\n",
    "로지스틱함수(Logistic function)은 로지트함수의 역함수이다. 즉 __음의무한대부터 양의무한대 까지의 값을 가지는 입력변수를 0부터 1사이의 값을 가지는 출력변수로 변환__ 한 것이다.\n",
    "\n",
    "$\\text{logitstic}(z) = \\mu(z) = \\dfrac{1}{1+\\exp{(-z)}}$"
   ]
  },
  {
   "cell_type": "markdown",
   "metadata": {},
   "source": [
    "#### 선형 판별함수\n",
    "\n",
    "로지스틱함수 $\\sigma(z)$ 를 사용하는 경우에는 $z$값과 $\\mu$ 값은 다음과 같은 관계가 있다.\n",
    "\n",
    "- $z=0$ 일때 $\\mu = 0.5$\n",
    "\n",
    "- $z>0$ 일때 $\\mu > 0.5 -> \\hat y=1$\n",
    "\n",
    "- $z<0$ 일때 $\\mu < 0.5 -> \\hat y=0$"
   ]
  },
  {
   "cell_type": "markdown",
   "metadata": {},
   "source": [
    "즉 $z$가 분류 모형의 판별함수(decision function)의 역할을 한다. 로지스틱 회귀분석에서는 판별함수 수식으로 선형함수를 사용한다.\n",
    "\n",
    "$z = w^Tx$\n",
    "\n",
    "따라서 판별 경계면도 선형이 된다."
   ]
  },
  {
   "cell_type": "markdown",
   "metadata": {},
   "source": [
    "####  로지스틱 회귀분석 모형의 모수 추정\n",
    "\n",
    "로지스틱 회귀분석 모형의 모수 $w$ 는 최대가능도(Maximum Likelihood Estimation, MLE)방법으로 추정할 수 있다.\n",
    "\n",
    "우선 베르누이분포의 확률밀도함수는 다음과 같다.\n",
    "\n",
    "$p(y \\mid x) = \\text{Bern} (y;\\mu(x;w) ) = \\mu(x;w)^y ( 1 - \\mu(x;w) )^{1-y}$"
   ]
  },
  {
   "cell_type": "markdown",
   "metadata": {},
   "source": [
    "$\\mu$ 는 $w^Tx$ 에 로지스틱함수를 적용한 값이다."
   ]
  },
  {
   "cell_type": "markdown",
   "metadata": {},
   "source": [
    "$\\mu(x;w) = \\dfrac{1}{1 + \\exp{(-w^Tx)}}$"
   ]
  },
  {
   "cell_type": "markdown",
   "metadata": {},
   "source": [
    "이 식을 대입하면 조건부 확률은 다음과 같다.\n",
    "\n",
    "$\\begin{eqnarray}\n",
    "p(y \\mid x) \n",
    "&=& \\left(  \\dfrac{1}{1 + \\exp{(-w^Tx)}} \\right) ^y \\left(  1 - \\dfrac{1}{1 + \\exp{(-w^Tx)}} \\right) ^{1-y} \\\\\n",
    "&=& \\left(  \\dfrac{1}{1 + \\exp{(-w^Tx)}} \\right) ^y \\left( \\dfrac{\\exp{(-w^Tx)}}{1 + \\exp{(-w^Tx)}} \\right) ^{1-y} \\\\\n",
    "\\end{eqnarray}$"
   ]
  },
  {
   "cell_type": "markdown",
   "metadata": {},
   "source": [
    "데이터 표본이 $\\{ x_i, y_i \\}_{1:N}$ 로 여러개 있는 경우 전체 데이터의 $LL$를 구하면 다음과 같다.\n",
    "\n",
    "베르누이 확률분포의 정의에서\n",
    "\n",
    "$\\begin{eqnarray}\n",
    "{LL} \n",
    "&=& \\log \\prod_{i=1}^N \\mu(x_i;w)^{y_i} (1-\\mu(x_i;w))^{1-y_i} \\\\\n",
    "&=& \\sum_{i=1}^N \\left( y_i \\log\\mu(x_i;w) +  (1-y_i)\\log(1-\\mu(x_i;w)) \\right) \\\\\n",
    "&=& \\sum_{i=1}^N \\left( y_i \\log\\left(\\dfrac{1}{1 + \\exp{(-w^Tx_i)}}\\right) + (1-y_i)\\log\\left(\\dfrac{\\exp{(-w^Tx_i)}}{1 + \\exp{(-w^Tx_i)}}\\right) \\right) \\\\\n",
    "\\end{eqnarray}$"
   ]
  },
  {
   "cell_type": "markdown",
   "metadata": {},
   "source": [
    "가 된다.\n",
    "\n",
    "\n",
    "로그 가능도를 최대화하는 $w$ 값을 구하기 위해 모수로 미분한다.\n",
    "\n",
    "$\\dfrac{\\partial{LL}}{\\partial w}  = \\sum_{i=1}^N \\dfrac{\\partial{LL}}{\\partial \\mu(x_i;w)} \\dfrac{\\partial\\mu(x_i;w)}{\\partial w}$"
   ]
  },
  {
   "cell_type": "markdown",
   "metadata": {},
   "source": [
    "$\\mu$ 를 $w$ 로 미분하면\n",
    "\n",
    "$\\dfrac{\\partial \\mu(x_i;w)}{\\partial w} \n",
    "= \\dfrac{\\partial}{\\partial w} \\dfrac{1}{1 + \\exp{(-w^Tx_i)}} \\ \n",
    "= \\dfrac{\\exp{(-w^Tx_i)}}{(1 + \\exp{(-w^Tx_i)})^2} x_i \\ \n",
    "= \\mu(x_i;w)(1-\\mu(x_i;w)) x_i$"
   ]
  },
  {
   "cell_type": "markdown",
   "metadata": {},
   "source": [
    "두 식을 곱하면 그레디언트 벡터의 수식을 구할 수 있다.\n",
    "\n",
    "$\\begin{eqnarray}\n",
    "\\dfrac{\\partial {LL}}{\\partial w} \n",
    "&=& \\sum_{i=1}^N \\left( y_i \\dfrac{1}{\\mu(x_i;w)} - (1-y_i)\\dfrac{1}{1-\\mu(x_i;w)} \\right) \\mu(x_i;w)(1-\\mu(x_i;w)) x_i   \\\\\n",
    "&=& \\sum_{i=1}^N \\big( y_i (1-\\mu(x_i;w)) - (1-y_i)\\mu(x_i;w)  \\big)  x_i \\\\\n",
    "&=& \\sum_{i=1}^N \\big( y_i  - \\mu(x_i;w) \\big) x_i \\\\\n",
    "\\end{eqnarray}$"
   ]
  },
  {
   "cell_type": "markdown",
   "metadata": {},
   "source": [
    "그레디언트 벡터가 영벡터가 되는 모수의 값이 로그가능도를 최대화하는 값이다. 하지만 그레디언트 벡터 수식이 $w$에 대한 비선형 함수이므로 선형 모형과 같이 간단하게 그레디언트가 0이 되는 모수 $w$ 값에 대한 수식을 구할 수 없으며 수치적인 최적화 방법(numerical optimization)을 통해 반복적으로 최적 모수 $w$의 값을 구해야 한다."
   ]
  },
  {
   "cell_type": "markdown",
   "metadata": {},
   "source": [
    "### 수치적 최적화\n",
    "\n",
    "로그가능도 함수 $LL$ 을 최대화하는 것은 다음 목적함수를 최소화하는 것과 같다.\n",
    "\n",
    "$J = -LL$"
   ]
  },
  {
   "cell_type": "markdown",
   "metadata": {},
   "source": [
    "최대경사도(steepest Gradient Descent) 방법을 사용하자.\n",
    "\n",
    "그레디언트 벡터는 \n",
    "\n",
    "$g_k = \\dfrac{d}{dw}(-LL)$\n",
    "\n",
    "이고, 이 방향으로 스텝사이즈 $\\eta_k 만큼 이동한다.\n",
    "\n",
    "$\\begin{eqnarray}\n",
    "w_{k+1} \n",
    "&=& w_{k} - \\eta_k g_k \\\\\n",
    "&=& w_{k} + \\eta_k \\sum_{i=1}^N \\big( y_i  - \\mu(x_i; w_k) \\big) x_i\\\\\n",
    "\\end{eqnarray}$"
   ]
  },
  {
   "cell_type": "code",
   "execution_count": 2,
   "metadata": {},
   "outputs": [
    {
     "data": {
      "image/png": "[encoded data removed]",
      "text/plain": [
       "<Figure size 432x288 with 1 Axes>"
      ]
     },
     "metadata": {
      "needs_background": "light"
     },
     "output_type": "display_data"
    }
   ],
   "source": [
    "import sklearn\n",
    "import matplotlib.pyplot as plt\n",
    "import seaborn as sns\n",
    "from sklearn.datasets import make_classification\n",
    "\n",
    "X0, y = make_classification(n_features=1, n_redundant=0, n_informative=1,\n",
    "                          n_clusters_per_class=1, random_state=4)\n",
    "\n",
    "\n",
    "plt.scatter(X0, y, c=y, s=100, edgecolor='k', linewidth=2)\n",
    "sns.distplot(X0[y == 0, :], label='y = 0', hist=False)\n",
    "sns.distplot(X0[y == 1, :], label='y = 1', hist=False)\n",
    "plt.ylim(-0.2,1.2)\n",
    "plt.show()"
   ]
  },
  {
   "cell_type": "code",
   "execution_count": 3,
   "metadata": {},
   "outputs": [
    {
     "name": "stdout",
     "output_type": "stream",
     "text": [
      "                           Logit Regression Results                           \n",
      "==============================================================================\n",
      "Dep. Variable:                      y   No. Observations:                  100\n",
      "Model:                          Logit   Df Residuals:                       98\n",
      "Method:                           MLE   Df Model:                            1\n",
      "Date:                Wed, 27 May 2020   Pseudo R-squ.:                  0.7679\n",
      "Time:                        09:49:10   Log-Likelihood:                -16.084\n",
      "converged:                       True   LL-Null:                       -69.295\n",
      "Covariance Type:            nonrobust   LLR p-value:                 5.963e-25\n",
      "==============================================================================\n",
      "                 coef    std err          z      P>|z|      [0.025      0.975]\n",
      "------------------------------------------------------------------------------\n",
      "const          0.2515      0.477      0.527      0.598      -0.683       1.186\n",
      "x1             4.2382      0.902      4.699      0.000       2.470       6.006\n",
      "==============================================================================\n"
     ]
    }
   ],
   "source": [
    "from statsmodels.api import add_constant\n",
    "import statsmodels.api as sm\n",
    "X = sm.add_constant(X0)\n",
    "logit_mod = sm.Logit(y, X)\n",
    "logit_res = logit_mod.fit(disp=0)\n",
    "print(logit_res.summary())"
   ]
  },
  {
   "cell_type": "markdown",
   "metadata": {},
   "source": [
    "\n",
    "결과 객체에서 summary 메서드를 사용하여 리포트를 출력할 수 있다. 결과 리포트에서 판별함수의 수식이 다음과 같다는 것을 알 수 있다.\n",
    "\n",
    "$μ(x)=σ(4.2382x+0.2515)$\n",
    " \n",
    "따라서  z 값의 부호를 나누는 기준값은  −0.2515/4.2382 다.\n",
    "\n",
    "predict 메서드를 사용하면  μ(x) 값을 출력한다.\n",
    "\n",
    "유의확률을 감안하면  μ(x) 가 다음과 같다고 볼 수도 있다.\n",
    "\n",
    "$μ(x)=σ(4.2382x)$\n",
    " \n",
    "이렇게 생각하면  z 값의 부호를 나누는 기준값은 실질적으로는 0이다."
   ]
  },
  {
   "cell_type": "code",
   "execution_count": 4,
   "metadata": {},
   "outputs": [
    {
     "data": {
      "image/png": "[encoded data removed]",
      "text/plain": [
       "<Figure size 432x288 with 1 Axes>"
      ]
     },
     "metadata": {
      "needs_background": "light"
     },
     "output_type": "display_data"
    }
   ],
   "source": [
    "import numpy as np\n",
    "xx = np.linspace(-3,3,100)\n",
    "\n",
    "mu = logit_res.predict(sm.add_constant(xx))\n",
    "plt.plot(xx, mu, lw=3)\n",
    "plt.scatter(X0, y, c=y, s=100, edgecolor='k', lw=2)\n",
    "plt.scatter(X0,logit_res.predict(X), label=r'$\\hat{y}$', marker='s',c=y,\n",
    "           s=100,edgecolor='k',lw=1)\n",
    "plt.xlim(-3,3)\n",
    "plt.xlabel('x')\n",
    "plt.ylabel(r'$\\mu$')\n",
    "plt.title(r'$\\hat{y}=\\mu(x)$')\n",
    "plt.legend()\n",
    "plt.show()"
   ]
  },
  {
   "cell_type": "markdown",
   "metadata": {},
   "source": [
    "#### 판별함수\n",
    "\n",
    "Logit 모형의 결과 객체에는 fittedvalues 라는 속성으로 판별함수 $z=w^Tx$값이 들어가있다. 이 값을 이용하여 분류문제를 풀 수도 있다."
   ]
  },
  {
   "cell_type": "code",
   "execution_count": 5,
   "metadata": {},
   "outputs": [
    {
     "data": {
      "image/png": "[encoded data removed]",
      "text/plain": [
       "<Figure size 432x288 with 1 Axes>"
      ]
     },
     "metadata": {
      "needs_background": "light"
     },
     "output_type": "display_data"
    }
   ],
   "source": [
    "import warnings\n",
    " \n",
    "warnings.filterwarnings(\"ignore\")\n",
    "\n",
    "plt.scatter(X0,y,c=y,s=100, edgecolor='k',lw=2,label='data')\n",
    "plt.plot(X0, logit_res.fittedvalues * 0.1, label='Discriminant function')\n",
    "plt.legend()\n",
    "plt.show()"
   ]
  },
  {
   "cell_type": "markdown",
   "metadata": {},
   "source": [
    "#### 로지스틱 회귀 성능 측정\n",
    "\n",
    "로지스틱 회귀 성능은 맥파든 의사결정계수(McFadden pseudo R square) 값으로 측정한다.\n",
    "\n",
    "$R^2_{\\text{pseudo}} = 1 - \\dfrac{G^2}{G^2_0}$\n",
    "\n",
    "$G^2$ 는 이탈도(deviance)라고 하는 양으로 다음과 같이 정의된다.\n",
    "\n",
    "$G^2 = 2\\sum_{i=1}^N \\left( y_i\\log\\dfrac{y_i}{\\hat{y}_i} + (1-y_i)\\log\\dfrac{1-y_i}{1-\\hat{y}_i} \\right)$\n",
    "\n",
    "여기에서 $\\hat{y}$는 $y=1$일 확률 $\\mu$를 뜻한다.\n",
    "\n",
    "$\\hat{y}_i = \\mu(x_i)$\n",
    "\n",
    "이탈도는 모형이 100% 정확한 경우에는 0이 되고 모형의 성능이 나빠질수록 값이 커진다.\n",
    "또한 이탈도는 로그 가능도에 음수를 취한값과 같다.\n",
    "\n",
    "$G^2 = -LL$"
   ]
  },
  {
   "cell_type": "markdown",
   "metadata": {},
   "source": [
    "$G^2$는 현재 이탈도이고 $G^2_0$은 귀무모형(null model)으로 측정한 이탈도다.\n",
    "\n",
    "귀무모형이란 모든 x가 y를 예측하는데 전혀 영향을 미치지 않는 모형을 말한다. 즉 무조건부 확률 $p(y)$에 따라 $x$에 상관없이 동일하게 $y$를 예측하는 모형을 말한다. 결국 우리가 만들 수 있는 가장 성능이 나쁜 모형이 된다.\n",
    "\n",
    "$\\mu_{\\text{null}} = \\dfrac{\\text{number of $Y=1$ data}}{\\text{number of all data}}$"
   ]
  },
  {
   "cell_type": "markdown",
   "metadata": {},
   "source": [
    "따라서 맥파든 의사결정계수는 가장 성능이 좋을 때는 1이 되고 가장 성능이 나쁠떄는 0이 된다."
   ]
  },
  {
   "cell_type": "code",
   "execution_count": 6,
   "metadata": {},
   "outputs": [
    {
     "data": {
      "text/plain": [
       "16.084355200413036"
      ]
     },
     "execution_count": 6,
     "metadata": {},
     "output_type": "execute_result"
    }
   ],
   "source": [
    "from sklearn.metrics import log_loss\n",
    "\n",
    "y_hat = logit_res.predict(X)\n",
    "log_loss(y,y_hat,normalize=False)"
   ]
  },
  {
   "cell_type": "markdown",
   "metadata": {},
   "source": [
    "귀무 모형의 모수값을 구하면 0.51이고 이 값으로 로그 손실을 계산하면 약 69이다."
   ]
  },
  {
   "cell_type": "code",
   "execution_count": 7,
   "metadata": {},
   "outputs": [
    {
     "data": {
      "text/plain": [
       "0.51"
      ]
     },
     "execution_count": 7,
     "metadata": {},
     "output_type": "execute_result"
    }
   ],
   "source": [
    "mu_null = np.sum(y) / len(y)\n",
    "mu_null"
   ]
  },
  {
   "cell_type": "code",
   "execution_count": 8,
   "metadata": {},
   "outputs": [
    {
     "data": {
      "text/plain": [
       "69.29471672244784"
      ]
     },
     "execution_count": 8,
     "metadata": {},
     "output_type": "execute_result"
    }
   ],
   "source": [
    "y_null = np.ones_like(y) * mu_null\n",
    "log_loss(y,y_null, normalize=False)"
   ]
  },
  {
   "cell_type": "markdown",
   "metadata": {},
   "source": [
    "두 값을 이용하여 맥파든 의사 결정계수 값을 계산하 수 있다.\n"
   ]
  },
  {
   "cell_type": "code",
   "execution_count": 9,
   "metadata": {},
   "outputs": [
    {
     "data": {
      "text/plain": [
       "0.7678848264170398"
      ]
     },
     "execution_count": 9,
     "metadata": {},
     "output_type": "execute_result"
    }
   ],
   "source": [
    "1 - (log_loss(y,y_hat) / log_loss(y,y_null))"
   ]
  },
  {
   "cell_type": "markdown",
   "metadata": {},
   "source": [
    "#### Scikit-Learn 패키지의 로지스틱 회귀\n",
    "\n",
    "Scikit-Learn 패키지는 로지스틱 회귀모형 LogisticRegression 를 제공한다."
   ]
  },
  {
   "cell_type": "code",
   "execution_count": 10,
   "metadata": {},
   "outputs": [
    {
     "data": {
      "image/png": "[encoded data removed]",
      "text/plain": [
       "<Figure size 432x288 with 1 Axes>"
      ]
     },
     "metadata": {
      "needs_background": "light"
     },
     "output_type": "display_data"
    }
   ],
   "source": [
    "from sklearn.linear_model import LogisticRegression\n",
    "\n",
    "model_sk = LogisticRegression().fit(X0,y)\n",
    "\n",
    "xx = np.linspace(-3,3,100)\n",
    "mu = 1.0/(1 + np.exp(-model_sk.coef_[0][0]*xx - model_sk.intercept_[0]))\n",
    "plt.plot(xx,mu)\n",
    "plt.scatter(X0, y, c=y, s=100, edgecolor='k', lw=2)\n",
    "plt.scatter(X0, model_sk.predict(X0), label=r'$\\hat{y}$',marker='s',c=y,\n",
    "           s=100, edgecolor='k', lw=1, alpha=0.5)\n",
    "plt.xlim(-3,3)\n",
    "plt.xlabel('x')\n",
    "plt.ylabel(r'$\\mu$')\n",
    "plt.title(r'$\\hat{y}$ = sign $\\mu(x)$')\n",
    "plt.legend()\n",
    "plt.show()"
   ]
  },
  {
   "cell_type": "code",
   "execution_count": null,
   "metadata": {},
   "outputs": [],
   "source": []
  },
  {
   "cell_type": "code",
   "execution_count": 11,
   "metadata": {},
   "outputs": [],
   "source": [
    "from sklearn.datasets import load_iris\n",
    "\n",
    "iris = load_iris()\n",
    "\n",
    "idx = np.in1d(iris.target, [0,1])\n",
    "\n",
    "X0 = iris.data[idx, :1]\n",
    "X = sm.add_constant(X0)\n",
    "y = iris.target[idx]\n",
    "\n",
    "logit_mod = sm.Logit(y, X)\n",
    "logit_res = logit_mod.fit(disp=0)\n",
    "print(logit_res.summary())"
   ]
  },
  {
   "cell_type": "code",
   "execution_count": 13,
   "metadata": {},
   "outputs": [
    {
     "data": {
      "text/plain": [
       "array([-27.83145099,   5.14033614])"
      ]
     },
     "execution_count": 13,
     "metadata": {},
     "output_type": "execute_result"
    }
   ],
   "source": [
    "logit_res.params\n",
    "\n",
    "-logit_res.params[0]/logit_res.params[1]\n",
    "\n",
    "y_pred = logit_res.predict(X) >= 0.5\n",
    "\n",
    "from sklearn.metrics import confusion_matrix\n",
    "\n",
    "confusion_matrix(y, y_pred)\n",
    "\n",
    "from sklearn.metrics import classification_report\n",
    "\n",
    "print(classification_report(y, y_pred))"
   ]
  },
  {
   "cell_type": "code",
   "execution_count": 26,
   "metadata": {},
   "outputs": [
    {
     "data": {
      "text/plain": [
       "[<matplotlib.lines.Line2D at 0x20f4e045908>]"
      ]
     },
     "execution_count": 26,
     "metadata": {},
     "output_type": "execute_result"
    },
    {
     "data": {
      "image/png": "[encoded data removed]",
      "text/plain": [
       "<Figure size 1440x720 with 1 Axes>"
      ]
     },
     "metadata": {
      "needs_background": "light"
     },
     "output_type": "display_data"
    }
   ],
   "source": [
    "plt.figure(figsize=(20,10))\n",
    "plt.plot(logit_res.fittedvalues, 'ro-')\n",
    "\n",
    "plt.plot(y_pred, 'bs-')"
   ]
  },
  {
   "cell_type": "code",
   "execution_count": 28,
   "metadata": {},
   "outputs": [
    {
     "data": {
      "image/png": "[encoded data removed]",
      "text/plain": [
       "<Figure size 432x288 with 1 Axes>"
      ]
     },
     "metadata": {
      "needs_background": "light"
     },
     "output_type": "display_data"
    }
   ],
   "source": [
    "# 실수\n",
    "# 전형적인 잘못된 케이스\n",
    "from sklearn.metrics import roc_curve\n",
    "\n",
    "fpr, tpr, thresholds = roc_curve(y, logit_res.fittedvalues)\n",
    "plt.plot(fpr, tpr, 'c-')\n",
    "plt.show()"
   ]
  },
  {
   "cell_type": "code",
   "execution_count": 29,
   "metadata": {},
   "outputs": [
    {
     "data": {
      "text/html": [
       "<div>\n",
       "<style scoped>\n",
       "    .dataframe tbody tr th:only-of-type {\n",
       "        vertical-align: middle;\n",
       "    }\n",
       "\n",
       "    .dataframe tbody tr th {\n",
       "        vertical-align: top;\n",
       "    }\n",
       "\n",
       "    .dataframe thead th {\n",
       "        text-align: right;\n",
       "    }\n",
       "</style>\n",
       "<table border=\"1\" class=\"dataframe\">\n",
       "  <thead>\n",
       "    <tr style=\"text-align: right;\">\n",
       "      <th></th>\n",
       "      <th>Accept</th>\n",
       "      <th>Acceptance</th>\n",
       "      <th>Sex</th>\n",
       "      <th>BCPM</th>\n",
       "      <th>GPA</th>\n",
       "      <th>VR</th>\n",
       "      <th>PS</th>\n",
       "      <th>WS</th>\n",
       "      <th>BS</th>\n",
       "      <th>MCAT</th>\n",
       "      <th>Apps</th>\n",
       "    </tr>\n",
       "  </thead>\n",
       "  <tbody>\n",
       "    <tr>\n",
       "      <th>50</th>\n",
       "      <td>D</td>\n",
       "      <td>0</td>\n",
       "      <td>M</td>\n",
       "      <td>2.41</td>\n",
       "      <td>2.72</td>\n",
       "      <td>8</td>\n",
       "      <td>8</td>\n",
       "      <td>8.0</td>\n",
       "      <td>8</td>\n",
       "      <td>32</td>\n",
       "      <td>7</td>\n",
       "    </tr>\n",
       "    <tr>\n",
       "      <th>51</th>\n",
       "      <td>D</td>\n",
       "      <td>0</td>\n",
       "      <td>M</td>\n",
       "      <td>3.51</td>\n",
       "      <td>3.56</td>\n",
       "      <td>11</td>\n",
       "      <td>8</td>\n",
       "      <td>6.0</td>\n",
       "      <td>9</td>\n",
       "      <td>34</td>\n",
       "      <td>6</td>\n",
       "    </tr>\n",
       "    <tr>\n",
       "      <th>52</th>\n",
       "      <td>A</td>\n",
       "      <td>1</td>\n",
       "      <td>F</td>\n",
       "      <td>3.43</td>\n",
       "      <td>3.48</td>\n",
       "      <td>7</td>\n",
       "      <td>10</td>\n",
       "      <td>7.0</td>\n",
       "      <td>10</td>\n",
       "      <td>34</td>\n",
       "      <td>14</td>\n",
       "    </tr>\n",
       "    <tr>\n",
       "      <th>53</th>\n",
       "      <td>D</td>\n",
       "      <td>0</td>\n",
       "      <td>M</td>\n",
       "      <td>2.61</td>\n",
       "      <td>2.80</td>\n",
       "      <td>7</td>\n",
       "      <td>5</td>\n",
       "      <td>NaN</td>\n",
       "      <td>6</td>\n",
       "      <td>18</td>\n",
       "      <td>6</td>\n",
       "    </tr>\n",
       "    <tr>\n",
       "      <th>54</th>\n",
       "      <td>D</td>\n",
       "      <td>0</td>\n",
       "      <td>M</td>\n",
       "      <td>3.36</td>\n",
       "      <td>3.44</td>\n",
       "      <td>11</td>\n",
       "      <td>11</td>\n",
       "      <td>8.0</td>\n",
       "      <td>9</td>\n",
       "      <td>39</td>\n",
       "      <td>1</td>\n",
       "    </tr>\n",
       "  </tbody>\n",
       "</table>\n",
       "</div>"
      ],
      "text/plain": [
       "   Accept  Acceptance Sex  BCPM   GPA  VR  PS   WS  BS  MCAT  Apps\n",
       "50      D           0   M  2.41  2.72   8   8  8.0   8    32     7\n",
       "51      D           0   M  3.51  3.56  11   8  6.0   9    34     6\n",
       "52      A           1   F  3.43  3.48   7  10  7.0  10    34    14\n",
       "53      D           0   M  2.61  2.80   7   5  NaN   6    18     6\n",
       "54      D           0   M  3.36  3.44  11  11  8.0   9    39     1"
      ]
     },
     "execution_count": 29,
     "metadata": {},
     "output_type": "execute_result"
    }
   ],
   "source": [
    "data_med = sm.datasets.get_rdataset('MedGPA', package='Stat2Data')\n",
    "data_med = data_med.data\n",
    "data_med.tail()"
   ]
  },
  {
   "cell_type": "code",
   "execution_count": 32,
   "metadata": {},
   "outputs": [
    {
     "data": {
      "image/png": "[encoded data removed]",
      "text/plain": [
       "<Figure size 432x288 with 1 Axes>"
      ]
     },
     "metadata": {
      "needs_background": "light"
     },
     "output_type": "display_data"
    }
   ],
   "source": [
    "import seaborn as sns\n",
    "sns.stripplot(x='GPA', y='Acceptance', data=data_med,\n",
    "            jitter=True, orient='h', order=[1,0])\n",
    "plt.grid(True)\n",
    "plt.show()"
   ]
  },
  {
   "cell_type": "code",
   "execution_count": 33,
   "metadata": {},
   "outputs": [
    {
     "data": {
      "text/plain": [
       "Index(['Accept', 'Acceptance', 'Sex', 'BCPM', 'GPA', 'VR', 'PS', 'WS', 'BS',\n",
       "       'MCAT', 'Apps'],\n",
       "      dtype='object')"
      ]
     },
     "execution_count": 33,
     "metadata": {},
     "output_type": "execute_result"
    }
   ],
   "source": [
    "data_med.columns"
   ]
  },
  {
   "cell_type": "code",
   "execution_count": 37,
   "metadata": {},
   "outputs": [
    {
     "name": "stdout",
     "output_type": "stream",
     "text": [
      "Warning: Maximum number of iterations has been exceeded.\n",
      "         Current function value: 0.280736\n",
      "         Iterations: 35\n",
      "                           Logit Regression Results                           \n",
      "==============================================================================\n",
      "Dep. Variable:             Acceptance   No. Observations:                   54\n",
      "Model:                          Logit   Df Residuals:                       45\n",
      "Method:                           MLE   Df Model:                            8\n",
      "Date:                Wed, 27 May 2020   Pseudo R-squ.:                  0.5913\n",
      "Time:                        10:05:11   Log-Likelihood:                -15.160\n",
      "converged:                      False   LL-Null:                       -37.096\n",
      "Covariance Type:            nonrobust   LLR p-value:                 6.014e-07\n",
      "==============================================================================\n",
      "                 coef    std err          z      P>|z|      [0.025      0.975]\n",
      "------------------------------------------------------------------------------\n",
      "Intercept    -46.6414     15.600     -2.990      0.003     -77.216     -16.067\n",
      "Sex[T.M]      -2.2835      1.429     -1.597      0.110      -5.085       0.518\n",
      "BCPM          -6.1633      6.963     -0.885      0.376     -19.811       7.484\n",
      "GPA           12.3973      8.611      1.440      0.150      -4.479      29.274\n",
      "VR            -0.3981   4.45e+06  -8.95e-08      1.000   -8.72e+06    8.72e+06\n",
      "PS             0.6901   4.45e+06   1.55e-07      1.000   -8.72e+06    8.72e+06\n",
      "WS            -1.2556   4.45e+06  -2.82e-07      1.000   -8.72e+06    8.72e+06\n",
      "BS             1.4413   4.45e+06   3.24e-07      1.000   -8.72e+06    8.72e+06\n",
      "MCAT           0.4771   4.45e+06   1.07e-07      1.000   -8.72e+06    8.72e+06\n",
      "Apps           0.0512      0.147      0.348      0.728      -0.237       0.340\n",
      "==============================================================================\n"
     ]
    }
   ],
   "source": [
    "model_med = sm.Logit.from_formula('Acceptance ~ Sex + BCPM + GPA + VR + PS+ WS+ BS+ MCAT+ Apps',data=data_med )\n",
    "result_med = model_med.fit()\n",
    "\n",
    "print(result_med.summary())"
   ]
  },
  {
   "cell_type": "code",
   "execution_count": 43,
   "metadata": {},
   "outputs": [
    {
     "data": {
      "image/png": "[encoded data removed]",
      "text/plain": [
       "<Figure size 432x288 with 1 Axes>"
      ]
     },
     "metadata": {
      "needs_background": "light"
     },
     "output_type": "display_data"
    }
   ],
   "source": [
    "data_med[\"Prediction\"] = result_med.predict(data_med)\n",
    "sns.boxplot(x=\"Acceptance\", y=\"Prediction\", data=data_med)\n",
    "plt.show()"
   ]
  },
  {
   "cell_type": "code",
   "execution_count": 45,
   "metadata": {},
   "outputs": [
    {
     "name": "stdout",
     "output_type": "stream",
     "text": [
      "Optimization terminated successfully.\n",
      "         Current function value: 0.460609\n",
      "         Iterations 7\n",
      "                           Logit Regression Results                           \n",
      "==============================================================================\n",
      "Dep. Variable:             Acceptance   No. Observations:                   55\n",
      "Model:                          Logit   Df Residuals:                       52\n",
      "Method:                           MLE   Df Model:                            2\n",
      "Date:                Wed, 27 May 2020   Pseudo R-squ.:                  0.3315\n",
      "Time:                        10:08:14   Log-Likelihood:                -25.333\n",
      "converged:                       True   LL-Null:                       -37.896\n",
      "Covariance Type:            nonrobust   LLR p-value:                 3.503e-06\n",
      "==============================================================================\n",
      "                 coef    std err          z      P>|z|      [0.025      0.975]\n",
      "------------------------------------------------------------------------------\n",
      "Intercept    -15.5427      4.684     -3.318      0.001     -24.723      -6.362\n",
      "PS             0.4798      0.316      1.518      0.129      -0.140       1.099\n",
      "BS             1.1464      0.387      2.959      0.003       0.387       1.906\n",
      "==============================================================================\n"
     ]
    }
   ],
   "source": [
    "model_med = sm.Logit.from_formula(\"Acceptance ~ PS + BS\", data_med)\n",
    "result_med = model_med.fit()\n",
    "print(result_med.summary())"
   ]
  },
  {
   "cell_type": "code",
   "execution_count": 46,
   "metadata": {},
   "outputs": [
    {
     "data": {
      "text/plain": [
       "{'data': array([[5.1, 3.5, 1.4, 0.2],\n",
       "        [4.9, 3. , 1.4, 0.2],\n",
       "        [4.7, 3.2, 1.3, 0.2],\n",
       "        [4.6, 3.1, 1.5, 0.2],\n",
       "        [5. , 3.6, 1.4, 0.2],\n",
       "        [5.4, 3.9, 1.7, 0.4],\n",
       "        [4.6, 3.4, 1.4, 0.3],\n",
       "        [5. , 3.4, 1.5, 0.2],\n",
       "        [4.4, 2.9, 1.4, 0.2],\n",
       "        [4.9, 3.1, 1.5, 0.1],\n",
       "        [5.4, 3.7, 1.5, 0.2],\n",
       "        [4.8, 3.4, 1.6, 0.2],\n",
       "        [4.8, 3. , 1.4, 0.1],\n",
       "        [4.3, 3. , 1.1, 0.1],\n",
       "        [5.8, 4. , 1.2, 0.2],\n",
       "        [5.7, 4.4, 1.5, 0.4],\n",
       "        [5.4, 3.9, 1.3, 0.4],\n",
       "        [5.1, 3.5, 1.4, 0.3],\n",
       "        [5.7, 3.8, 1.7, 0.3],\n",
       "        [5.1, 3.8, 1.5, 0.3],\n",
       "        [5.4, 3.4, 1.7, 0.2],\n",
       "        [5.1, 3.7, 1.5, 0.4],\n",
       "        [4.6, 3.6, 1. , 0.2],\n",
       "        [5.1, 3.3, 1.7, 0.5],\n",
       "        [4.8, 3.4, 1.9, 0.2],\n",
       "        [5. , 3. , 1.6, 0.2],\n",
       "        [5. , 3.4, 1.6, 0.4],\n",
       "        [5.2, 3.5, 1.5, 0.2],\n",
       "        [5.2, 3.4, 1.4, 0.2],\n",
       "        [4.7, 3.2, 1.6, 0.2],\n",
       "        [4.8, 3.1, 1.6, 0.2],\n",
       "        [5.4, 3.4, 1.5, 0.4],\n",
       "        [5.2, 4.1, 1.5, 0.1],\n",
       "        [5.5, 4.2, 1.4, 0.2],\n",
       "        [4.9, 3.1, 1.5, 0.2],\n",
       "        [5. , 3.2, 1.2, 0.2],\n",
       "        [5.5, 3.5, 1.3, 0.2],\n",
       "        [4.9, 3.6, 1.4, 0.1],\n",
       "        [4.4, 3. , 1.3, 0.2],\n",
       "        [5.1, 3.4, 1.5, 0.2],\n",
       "        [5. , 3.5, 1.3, 0.3],\n",
       "        [4.5, 2.3, 1.3, 0.3],\n",
       "        [4.4, 3.2, 1.3, 0.2],\n",
       "        [5. , 3.5, 1.6, 0.6],\n",
       "        [5.1, 3.8, 1.9, 0.4],\n",
       "        [4.8, 3. , 1.4, 0.3],\n",
       "        [5.1, 3.8, 1.6, 0.2],\n",
       "        [4.6, 3.2, 1.4, 0.2],\n",
       "        [5.3, 3.7, 1.5, 0.2],\n",
       "        [5. , 3.3, 1.4, 0.2],\n",
       "        [7. , 3.2, 4.7, 1.4],\n",
       "        [6.4, 3.2, 4.5, 1.5],\n",
       "        [6.9, 3.1, 4.9, 1.5],\n",
       "        [5.5, 2.3, 4. , 1.3],\n",
       "        [6.5, 2.8, 4.6, 1.5],\n",
       "        [5.7, 2.8, 4.5, 1.3],\n",
       "        [6.3, 3.3, 4.7, 1.6],\n",
       "        [4.9, 2.4, 3.3, 1. ],\n",
       "        [6.6, 2.9, 4.6, 1.3],\n",
       "        [5.2, 2.7, 3.9, 1.4],\n",
       "        [5. , 2. , 3.5, 1. ],\n",
       "        [5.9, 3. , 4.2, 1.5],\n",
       "        [6. , 2.2, 4. , 1. ],\n",
       "        [6.1, 2.9, 4.7, 1.4],\n",
       "        [5.6, 2.9, 3.6, 1.3],\n",
       "        [6.7, 3.1, 4.4, 1.4],\n",
       "        [5.6, 3. , 4.5, 1.5],\n",
       "        [5.8, 2.7, 4.1, 1. ],\n",
       "        [6.2, 2.2, 4.5, 1.5],\n",
       "        [5.6, 2.5, 3.9, 1.1],\n",
       "        [5.9, 3.2, 4.8, 1.8],\n",
       "        [6.1, 2.8, 4. , 1.3],\n",
       "        [6.3, 2.5, 4.9, 1.5],\n",
       "        [6.1, 2.8, 4.7, 1.2],\n",
       "        [6.4, 2.9, 4.3, 1.3],\n",
       "        [6.6, 3. , 4.4, 1.4],\n",
       "        [6.8, 2.8, 4.8, 1.4],\n",
       "        [6.7, 3. , 5. , 1.7],\n",
       "        [6. , 2.9, 4.5, 1.5],\n",
       "        [5.7, 2.6, 3.5, 1. ],\n",
       "        [5.5, 2.4, 3.8, 1.1],\n",
       "        [5.5, 2.4, 3.7, 1. ],\n",
       "        [5.8, 2.7, 3.9, 1.2],\n",
       "        [6. , 2.7, 5.1, 1.6],\n",
       "        [5.4, 3. , 4.5, 1.5],\n",
       "        [6. , 3.4, 4.5, 1.6],\n",
       "        [6.7, 3.1, 4.7, 1.5],\n",
       "        [6.3, 2.3, 4.4, 1.3],\n",
       "        [5.6, 3. , 4.1, 1.3],\n",
       "        [5.5, 2.5, 4. , 1.3],\n",
       "        [5.5, 2.6, 4.4, 1.2],\n",
       "        [6.1, 3. , 4.6, 1.4],\n",
       "        [5.8, 2.6, 4. , 1.2],\n",
       "        [5. , 2.3, 3.3, 1. ],\n",
       "        [5.6, 2.7, 4.2, 1.3],\n",
       "        [5.7, 3. , 4.2, 1.2],\n",
       "        [5.7, 2.9, 4.2, 1.3],\n",
       "        [6.2, 2.9, 4.3, 1.3],\n",
       "        [5.1, 2.5, 3. , 1.1],\n",
       "        [5.7, 2.8, 4.1, 1.3],\n",
       "        [6.3, 3.3, 6. , 2.5],\n",
       "        [5.8, 2.7, 5.1, 1.9],\n",
       "        [7.1, 3. , 5.9, 2.1],\n",
       "        [6.3, 2.9, 5.6, 1.8],\n",
       "        [6.5, 3. , 5.8, 2.2],\n",
       "        [7.6, 3. , 6.6, 2.1],\n",
       "        [4.9, 2.5, 4.5, 1.7],\n",
       "        [7.3, 2.9, 6.3, 1.8],\n",
       "        [6.7, 2.5, 5.8, 1.8],\n",
       "        [7.2, 3.6, 6.1, 2.5],\n",
       "        [6.5, 3.2, 5.1, 2. ],\n",
       "        [6.4, 2.7, 5.3, 1.9],\n",
       "        [6.8, 3. , 5.5, 2.1],\n",
       "        [5.7, 2.5, 5. , 2. ],\n",
       "        [5.8, 2.8, 5.1, 2.4],\n",
       "        [6.4, 3.2, 5.3, 2.3],\n",
       "        [6.5, 3. , 5.5, 1.8],\n",
       "        [7.7, 3.8, 6.7, 2.2],\n",
       "        [7.7, 2.6, 6.9, 2.3],\n",
       "        [6. , 2.2, 5. , 1.5],\n",
       "        [6.9, 3.2, 5.7, 2.3],\n",
       "        [5.6, 2.8, 4.9, 2. ],\n",
       "        [7.7, 2.8, 6.7, 2. ],\n",
       "        [6.3, 2.7, 4.9, 1.8],\n",
       "        [6.7, 3.3, 5.7, 2.1],\n",
       "        [7.2, 3.2, 6. , 1.8],\n",
       "        [6.2, 2.8, 4.8, 1.8],\n",
       "        [6.1, 3. , 4.9, 1.8],\n",
       "        [6.4, 2.8, 5.6, 2.1],\n",
       "        [7.2, 3. , 5.8, 1.6],\n",
       "        [7.4, 2.8, 6.1, 1.9],\n",
       "        [7.9, 3.8, 6.4, 2. ],\n",
       "        [6.4, 2.8, 5.6, 2.2],\n",
       "        [6.3, 2.8, 5.1, 1.5],\n",
       "        [6.1, 2.6, 5.6, 1.4],\n",
       "        [7.7, 3. , 6.1, 2.3],\n",
       "        [6.3, 3.4, 5.6, 2.4],\n",
       "        [6.4, 3.1, 5.5, 1.8],\n",
       "        [6. , 3. , 4.8, 1.8],\n",
       "        [6.9, 3.1, 5.4, 2.1],\n",
       "        [6.7, 3.1, 5.6, 2.4],\n",
       "        [6.9, 3.1, 5.1, 2.3],\n",
       "        [5.8, 2.7, 5.1, 1.9],\n",
       "        [6.8, 3.2, 5.9, 2.3],\n",
       "        [6.7, 3.3, 5.7, 2.5],\n",
       "        [6.7, 3. , 5.2, 2.3],\n",
       "        [6.3, 2.5, 5. , 1.9],\n",
       "        [6.5, 3. , 5.2, 2. ],\n",
       "        [6.2, 3.4, 5.4, 2.3],\n",
       "        [5.9, 3. , 5.1, 1.8]]),\n",
       " 'target': array([0, 0, 0, 0, 0, 0, 0, 0, 0, 0, 0, 0, 0, 0, 0, 0, 0, 0, 0, 0, 0, 0,\n",
       "        0, 0, 0, 0, 0, 0, 0, 0, 0, 0, 0, 0, 0, 0, 0, 0, 0, 0, 0, 0, 0, 0,\n",
       "        0, 0, 0, 0, 0, 0, 1, 1, 1, 1, 1, 1, 1, 1, 1, 1, 1, 1, 1, 1, 1, 1,\n",
       "        1, 1, 1, 1, 1, 1, 1, 1, 1, 1, 1, 1, 1, 1, 1, 1, 1, 1, 1, 1, 1, 1,\n",
       "        1, 1, 1, 1, 1, 1, 1, 1, 1, 1, 1, 1, 2, 2, 2, 2, 2, 2, 2, 2, 2, 2,\n",
       "        2, 2, 2, 2, 2, 2, 2, 2, 2, 2, 2, 2, 2, 2, 2, 2, 2, 2, 2, 2, 2, 2,\n",
       "        2, 2, 2, 2, 2, 2, 2, 2, 2, 2, 2, 2, 2, 2, 2, 2, 2, 2]),\n",
       " 'target_names': array(['setosa', 'versicolor', 'virginica'], dtype='<U10'),\n",
       " 'DESCR': '.. _iris_dataset:\\n\\nIris plants dataset\\n--------------------\\n\\n**Data Set Characteristics:**\\n\\n    :Number of Instances: 150 (50 in each of three classes)\\n    :Number of Attributes: 4 numeric, predictive attributes and the class\\n    :Attribute Information:\\n        - sepal length in cm\\n        - sepal width in cm\\n        - petal length in cm\\n        - petal width in cm\\n        - class:\\n                - Iris-Setosa\\n                - Iris-Versicolour\\n                - Iris-Virginica\\n                \\n    :Summary Statistics:\\n\\n    ============== ==== ==== ======= ===== ====================\\n                    Min  Max   Mean    SD   Class Correlation\\n    ============== ==== ==== ======= ===== ====================\\n    sepal length:   4.3  7.9   5.84   0.83    0.7826\\n    sepal width:    2.0  4.4   3.05   0.43   -0.4194\\n    petal length:   1.0  6.9   3.76   1.76    0.9490  (high!)\\n    petal width:    0.1  2.5   1.20   0.76    0.9565  (high!)\\n    ============== ==== ==== ======= ===== ====================\\n\\n    :Missing Attribute Values: None\\n    :Class Distribution: 33.3% for each of 3 classes.\\n    :Creator: R.A. Fisher\\n    :Donor: Michael Marshall (MARSHALL%PLU@io.arc.nasa.gov)\\n    :Date: July, 1988\\n\\nThe famous Iris database, first used by Sir R.A. Fisher. The dataset is taken\\nfrom Fisher\\'s paper. Note that it\\'s the same as in R, but not as in the UCI\\nMachine Learning Repository, which has two wrong data points.\\n\\nThis is perhaps the best known database to be found in the\\npattern recognition literature.  Fisher\\'s paper is a classic in the field and\\nis referenced frequently to this day.  (See Duda & Hart, for example.)  The\\ndata set contains 3 classes of 50 instances each, where each class refers to a\\ntype of iris plant.  One class is linearly separable from the other 2; the\\nlatter are NOT linearly separable from each other.\\n\\n.. topic:: References\\n\\n   - Fisher, R.A. \"The use of multiple measurements in taxonomic problems\"\\n     Annual Eugenics, 7, Part II, 179-188 (1936); also in \"Contributions to\\n     Mathematical Statistics\" (John Wiley, NY, 1950).\\n   - Duda, R.O., & Hart, P.E. (1973) Pattern Classification and Scene Analysis.\\n     (Q327.D83) John Wiley & Sons.  ISBN 0-471-22361-1.  See page 218.\\n   - Dasarathy, B.V. (1980) \"Nosing Around the Neighborhood: A New System\\n     Structure and Classification Rule for Recognition in Partially Exposed\\n     Environments\".  IEEE Transactions on Pattern Analysis and Machine\\n     Intelligence, Vol. PAMI-2, No. 1, 67-71.\\n   - Gates, G.W. (1972) \"The Reduced Nearest Neighbor Rule\".  IEEE Transactions\\n     on Information Theory, May 1972, 431-433.\\n   - See also: 1988 MLC Proceedings, 54-64.  Cheeseman et al\"s AUTOCLASS II\\n     conceptual clustering system finds 3 classes in the data.\\n   - Many, many more ...',\n",
       " 'feature_names': ['sepal length (cm)',\n",
       "  'sepal width (cm)',\n",
       "  'petal length (cm)',\n",
       "  'petal width (cm)'],\n",
       " 'filename': 'C:\\\\Users\\\\82109\\\\anaconda3\\\\lib\\\\site-packages\\\\sklearn\\\\datasets\\\\data\\\\iris.csv'}"
      ]
     },
     "execution_count": 46,
     "metadata": {},
     "output_type": "execute_result"
    }
   ],
   "source": []
  },
  {
   "cell_type": "code",
   "execution_count": 51,
   "metadata": {},
   "outputs": [
    {
     "name": "stdout",
     "output_type": "stream",
     "text": [
      "                           Logit Regression Results                           \n",
      "==============================================================================\n",
      "Dep. Variable:                      y   No. Observations:                  100\n",
      "Model:                          Logit   Df Residuals:                       95\n",
      "Method:                           MLE   Df Model:                            4\n",
      "Date:                Wed, 27 May 2020   Pseudo R-squ.:                  0.9142\n",
      "Time:                        10:14:35   Log-Likelihood:                -5.9493\n",
      "converged:                       True   LL-Null:                       -69.315\n",
      "Covariance Type:            nonrobust   LLR p-value:                 1.947e-26\n",
      "=====================================================================================\n",
      "                        coef    std err          z      P>|z|      [0.025      0.975]\n",
      "-------------------------------------------------------------------------------------\n",
      "const               -42.6378     25.708     -1.659      0.097     -93.024       7.748\n",
      "sepal length (cm)    -2.4652      2.394     -1.030      0.303      -7.158       2.228\n",
      "sepal width (cm)     -6.6809      4.480     -1.491      0.136     -15.461       2.099\n",
      "petal length (cm)     9.4294      4.737      1.990      0.047       0.145      18.714\n",
      "petal width (cm)     18.2861      9.743      1.877      0.061      -0.809      37.381\n",
      "=====================================================================================\n",
      "\n",
      "Possibly complete quasi-separation: A fraction 0.60 of observations can be\n",
      "perfectly predicted. This might indicate that there is complete\n",
      "quasi-separation. In this case some parameters will not be identified.\n"
     ]
    }
   ],
   "source": [
    "from sklearn.datasets import load_iris\n",
    "\n",
    "iris = load_iris()\n",
    "\n",
    "idx = np.in1d(iris.target, [1,2])\n",
    "\n",
    "X0 = pd.DataFrame(iris.data[idx, :], columns = iris.feature_names)\n",
    "X = sm.add_constant(X0)\n",
    "y = iris.target[idx] - 1\n",
    "\n",
    "logit_mod = sm.Logit(y, X)\n",
    "logit_res = logit_mod.fit(disp=0)\n",
    "print(logit_res.summary())"
   ]
  },
  {
   "cell_type": "code",
   "execution_count": 52,
   "metadata": {},
   "outputs": [
    {
     "name": "stdout",
     "output_type": "stream",
     "text": [
      "              precision    recall  f1-score   support\n",
      "\n",
      "           0       0.98      0.98      0.98        50\n",
      "           1       0.98      0.98      0.98        50\n",
      "\n",
      "    accuracy                           0.98       100\n",
      "   macro avg       0.98      0.98      0.98       100\n",
      "weighted avg       0.98      0.98      0.98       100\n",
      "\n"
     ]
    }
   ],
   "source": [
    "logit_res.params\n",
    "\n",
    "-logit_res.params[0]/logit_res.params[1]\n",
    "\n",
    "y_pred = logit_res.predict(X) >= 0.5\n",
    "\n",
    "from sklearn.metrics import confusion_matrix\n",
    "\n",
    "confusion_matrix(y, y_pred)\n",
    "\n",
    "from sklearn.metrics import classification_report\n",
    "\n",
    "print(classification_report(y, y_pred))"
   ]
  },
  {
   "cell_type": "code",
   "execution_count": 53,
   "metadata": {},
   "outputs": [
    {
     "data": {
      "text/plain": [
       "[<matplotlib.lines.Line2D at 0x20f4f878a08>]"
      ]
     },
     "execution_count": 53,
     "metadata": {},
     "output_type": "execute_result"
    },
    {
     "data": {
      "image/png": "[encoded data removed]",
      "text/plain": [
       "<Figure size 1440x720 with 1 Axes>"
      ]
     },
     "metadata": {
      "needs_background": "light"
     },
     "output_type": "display_data"
    }
   ],
   "source": [
    "plt.figure(figsize=(20,10))\n",
    "plt.plot(logit_res.fittedvalues, 'ro-')\n",
    "\n",
    "plt.plot(y_pred, 'bs-')"
   ]
  },
  {
   "cell_type": "code",
   "execution_count": 56,
   "metadata": {},
   "outputs": [],
   "source": [
    "data_wrole = sm.datasets.get_rdataset('womensrole', package='HSAUR')\n",
    "df_wrole = data_wrole.data"
   ]
  },
  {
   "cell_type": "code",
   "execution_count": 59,
   "metadata": {},
   "outputs": [
    {
     "data": {
      "text/html": [
       "<div>\n",
       "<style scoped>\n",
       "    .dataframe tbody tr th:only-of-type {\n",
       "        vertical-align: middle;\n",
       "    }\n",
       "\n",
       "    .dataframe tbody tr th {\n",
       "        vertical-align: top;\n",
       "    }\n",
       "\n",
       "    .dataframe thead th {\n",
       "        text-align: right;\n",
       "    }\n",
       "</style>\n",
       "<table border=\"1\" class=\"dataframe\">\n",
       "  <thead>\n",
       "    <tr style=\"text-align: right;\">\n",
       "      <th></th>\n",
       "      <th>education</th>\n",
       "      <th>sex</th>\n",
       "      <th>agree</th>\n",
       "      <th>disagree</th>\n",
       "      <th>ratio</th>\n",
       "    </tr>\n",
       "  </thead>\n",
       "  <tbody>\n",
       "    <tr>\n",
       "      <th>37</th>\n",
       "      <td>16</td>\n",
       "      <td>Female</td>\n",
       "      <td>13</td>\n",
       "      <td>115</td>\n",
       "      <td>0.101562</td>\n",
       "    </tr>\n",
       "    <tr>\n",
       "      <th>38</th>\n",
       "      <td>17</td>\n",
       "      <td>Female</td>\n",
       "      <td>3</td>\n",
       "      <td>28</td>\n",
       "      <td>0.096774</td>\n",
       "    </tr>\n",
       "    <tr>\n",
       "      <th>39</th>\n",
       "      <td>18</td>\n",
       "      <td>Female</td>\n",
       "      <td>0</td>\n",
       "      <td>21</td>\n",
       "      <td>0.000000</td>\n",
       "    </tr>\n",
       "    <tr>\n",
       "      <th>40</th>\n",
       "      <td>19</td>\n",
       "      <td>Female</td>\n",
       "      <td>1</td>\n",
       "      <td>2</td>\n",
       "      <td>0.333333</td>\n",
       "    </tr>\n",
       "    <tr>\n",
       "      <th>41</th>\n",
       "      <td>20</td>\n",
       "      <td>Female</td>\n",
       "      <td>2</td>\n",
       "      <td>4</td>\n",
       "      <td>0.333333</td>\n",
       "    </tr>\n",
       "  </tbody>\n",
       "</table>\n",
       "</div>"
      ],
      "text/plain": [
       "    education     sex  agree  disagree     ratio\n",
       "37         16  Female     13       115  0.101562\n",
       "38         17  Female      3        28  0.096774\n",
       "39         18  Female      0        21  0.000000\n",
       "40         19  Female      1         2  0.333333\n",
       "41         20  Female      2         4  0.333333"
      ]
     },
     "execution_count": 59,
     "metadata": {},
     "output_type": "execute_result"
    }
   ],
   "source": [
    "data_wrole = sm.datasets.get_rdataset(\"womensrole\", package=\"HSAUR\")\n",
    "df_wrole = data_wrole.data\n",
    "df_wrole[\"ratio\"] = df_wrole.agree / (df_wrole.agree + df_wrole.disagree)\n",
    "df_wrole.tail()"
   ]
  },
  {
   "cell_type": "code",
   "execution_count": 66,
   "metadata": {},
   "outputs": [
    {
     "data": {
      "image/png": "[encoded data removed]",
      "text/plain": [
       "<Figure size 1080x720 with 1 Axes>"
      ]
     },
     "metadata": {
      "needs_background": "light"
     },
     "output_type": "display_data"
    }
   ],
   "source": [
    "plt.figure(figsize=(15,10))\n",
    "sns.scatterplot(x='education', y='ratio',style='sex',data=df_wrole)\n",
    "plt.grid()\n",
    "plt.show()"
   ]
  },
  {
   "cell_type": "code",
   "execution_count": 68,
   "metadata": {},
   "outputs": [
    {
     "name": "stdout",
     "output_type": "stream",
     "text": [
      "Optimization terminated successfully.\n",
      "         Current function value: 0.448292\n",
      "         Iterations 6\n",
      "                           Logit Regression Results                           \n",
      "==============================================================================\n",
      "Dep. Variable:                  ratio   No. Observations:                   41\n",
      "Model:                          Logit   Df Residuals:                       38\n",
      "Method:                           MLE   Df Model:                            2\n",
      "Date:                Wed, 27 May 2020   Pseudo R-squ.:                  0.3435\n",
      "Time:                        10:36:45   Log-Likelihood:                -18.380\n",
      "converged:                       True   LL-Null:                       -27.997\n",
      "Covariance Type:            nonrobust   LLR p-value:                 6.660e-05\n",
      "===============================================================================\n",
      "                  coef    std err          z      P>|z|      [0.025      0.975]\n",
      "-------------------------------------------------------------------------------\n",
      "Intercept       2.0442      0.889      2.299      0.022       0.302       3.787\n",
      "sex[T.Male]    -0.1968      0.736     -0.267      0.789      -1.640       1.247\n",
      "education      -0.2127      0.071     -2.987      0.003      -0.352      -0.073\n",
      "===============================================================================\n"
     ]
    }
   ],
   "source": [
    "model_wrole = sm.Logit.from_formula('ratio ~ education + sex', df_wrole)\n",
    "result_wrole = model_wrole.fit()\n",
    "\n",
    "print(result_wrole.summary())"
   ]
  },
  {
   "cell_type": "code",
   "execution_count": 69,
   "metadata": {},
   "outputs": [
    {
     "name": "stdout",
     "output_type": "stream",
     "text": [
      "Optimization terminated successfully.\n",
      "         Current function value: 0.449186\n",
      "         Iterations 6\n",
      "                           Logit Regression Results                           \n",
      "==============================================================================\n",
      "Dep. Variable:                  ratio   No. Observations:                   41\n",
      "Model:                          Logit   Df Residuals:                       38\n",
      "Method:                           MLE   Df Model:                            2\n",
      "Date:                Wed, 27 May 2020   Pseudo R-squ.:                  0.3435\n",
      "Time:                        10:38:32   Log-Likelihood:                -18.380\n",
      "converged:                       True   LL-Null:                       -27.997\n",
      "Covariance Type:            nonrobust   LLR p-value:                 6.660e-05\n",
      "===============================================================================\n",
      "                  coef    std err          z      P>|z|      [0.025      0.975]\n",
      "-------------------------------------------------------------------------------\n",
      "Intercept       2.0442      0.889      2.299      0.022       0.302       3.787\n",
      "sex[T.Male]    -0.1968      0.736     -0.267      0.789      -1.640       1.247\n",
      "education      -0.2127      0.071     -2.987      0.003      -0.352      -0.073\n",
      "===============================================================================\n"
     ]
    }
   ],
   "source": [
    "model_wrole2 = sm.Logit.from_formula('ratio ~ education', df_wrole)\n",
    "result_wrole2 = model_wrole2.fit()\n",
    "\n",
    "print(result_wrole.summary())"
   ]
  },
  {
   "cell_type": "code",
   "execution_count": 74,
   "metadata": {},
   "outputs": [
    {
     "data": {
      "image/png": "[encoded data removed]",
      "text/plain": [
       "<Figure size 504x288 with 1 Axes>"
      ]
     },
     "metadata": {
      "needs_background": "light"
     },
     "output_type": "display_data"
    }
   ],
   "source": [
    "plt.figure(figsize=(7,4))\n",
    "sns.scatterplot(x='education', y='ratio', data=df_wrole)\n",
    "xx = np.linspace(0,20,100)\n",
    "df_wrole_p = pd.DataFrame({'education': xx})\n",
    "plt.plot(xx, result_wrole2.predict(df_wrole_p), 'r-', lw=4, label='예측')\n",
    "plt.legend()\n",
    "plt.show()"
   ]
  },
  {
   "cell_type": "code",
   "execution_count": null,
   "metadata": {},
   "outputs": [],
   "source": []
  },
  {
   "cell_type": "code",
   "execution_count": null,
   "metadata": {},
   "outputs": [],
   "source": []
  },
  {
   "cell_type": "code",
   "execution_count": null,
   "metadata": {},
   "outputs": [],
   "source": []
  },
  {
   "cell_type": "code",
   "execution_count": null,
   "metadata": {},
   "outputs": [],
   "source": []
  },
  {
   "cell_type": "code",
   "execution_count": null,
   "metadata": {},
   "outputs": [],
   "source": []
  },
  {
   "cell_type": "code",
   "execution_count": null,
   "metadata": {},
   "outputs": [],
   "source": []
  },
  {
   "cell_type": "code",
   "execution_count": null,
   "metadata": {},
   "outputs": [],
   "source": []
  },
  {
   "cell_type": "code",
   "execution_count": null,
   "metadata": {},
   "outputs": [],
   "source": []
  },
  {
   "cell_type": "code",
   "execution_count": null,
   "metadata": {},
   "outputs": [],
   "source": []
  },
  {
   "cell_type": "code",
   "execution_count": null,
   "metadata": {},
   "outputs": [],
   "source": []
  },
  {
   "cell_type": "code",
   "execution_count": null,
   "metadata": {},
   "outputs": [],
   "source": []
  },
  {
   "cell_type": "code",
   "execution_count": null,
   "metadata": {},
   "outputs": [],
   "source": []
  },
  {
   "cell_type": "code",
   "execution_count": null,
   "metadata": {},
   "outputs": [],
   "source": []
  },
  {
   "cell_type": "code",
   "execution_count": null,
   "metadata": {},
   "outputs": [],
   "source": []
  },
  {
   "cell_type": "code",
   "execution_count": null,
   "metadata": {},
   "outputs": [],
   "source": []
  },
  {
   "cell_type": "code",
   "execution_count": null,
   "metadata": {},
   "outputs": [],
   "source": []
  },
  {
   "cell_type": "code",
   "execution_count": null,
   "metadata": {},
   "outputs": [],
   "source": []
  },
  {
   "cell_type": "code",
   "execution_count": null,
   "metadata": {},
   "outputs": [],
   "source": []
  },
  {
   "cell_type": "code",
   "execution_count": null,
   "metadata": {},
   "outputs": [],
   "source": []
  },
  {
   "cell_type": "code",
   "execution_count": null,
   "metadata": {},
   "outputs": [],
   "source": []
  },
  {
   "cell_type": "code",
   "execution_count": null,
   "metadata": {},
   "outputs": [],
   "source": []
  },
  {
   "cell_type": "code",
   "execution_count": null,
   "metadata": {},
   "outputs": [],
   "source": []
  },
  {
   "cell_type": "code",
   "execution_count": null,
   "metadata": {},
   "outputs": [],
   "source": []
  },
  {
   "cell_type": "code",
   "execution_count": null,
   "metadata": {},
   "outputs": [],
   "source": []
  },
  {
   "cell_type": "code",
   "execution_count": null,
   "metadata": {},
   "outputs": [],
   "source": []
  },
  {
   "cell_type": "code",
   "execution_count": null,
   "metadata": {},
   "outputs": [],
   "source": []
  },
  {
   "cell_type": "code",
   "execution_count": null,
   "metadata": {},
   "outputs": [],
   "source": []
  },
  {
   "cell_type": "code",
   "execution_count": null,
   "metadata": {},
   "outputs": [],
   "source": []
  },
  {
   "cell_type": "code",
   "execution_count": 15,
   "metadata": {},
   "outputs": [
    {
     "ename": "SyntaxError",
     "evalue": "invalid syntax (<ipython-input-15-f892751e63b7>, line 1)",
     "output_type": "error",
     "traceback": [
      "\u001b[1;36m  File \u001b[1;32m\"<ipython-input-15-f892751e63b7>\"\u001b[1;36m, line \u001b[1;32m1\u001b[0m\n\u001b[1;33m    uqlOOXXu3JweI/FWiyLC+lGR6nvzOCh8gL2gWAfYzKtbS7j6jtz1SUVwHJGfRn62vWxrPyDfjlcMCmO88ogCvQ==\u001b[0m\n\u001b[1;37m                                                                                            ^\u001b[0m\n\u001b[1;31mSyntaxError\u001b[0m\u001b[1;31m:\u001b[0m invalid syntax\n"
     ]
    }
   ],
   "source": [
    "uqlOOXXu3JweI/FWiyLC+lGR6nvzOCh8gL2gWAfYzKtbS7j6jtz1SUVwHJGfRn62vWxrPyDfjlcMCmO88ogCvQ=="
   ]
  },
  {
   "cell_type": "code",
   "execution_count": null,
   "metadata": {
    "scrolled": true
   },
   "outputs": [],
   "source": [
    "from urllib import request\n",
    "from urllib.request import urlopen\n",
    "from urllib.parse import urlencode, quote_plus\n",
    "url = 'http://apis.data.go.kr/1400000/forestStusService/getfirestatsservice'\n",
    "queryParams = '?' + urlencode({ quote_plus('ServiceKey') : 'uqlOOXXu3JweI%2FFWiyLC%2BlGR6nvzOCh8gL2gWAfYzKtbS7j6jtz1SUVwHJGfRn62vWxrPyDfjlcMCmO88ogCvQ%3D%3D', quote_plus('ServiceKey') : '', quote_plus('numOfRows') : '10', quote_plus('pageNo') : '1', quote_plus('searchStDt') : '20160101', quote_plus('searchEdDt') : '20160825' })\n",
    "\n",
    "request = request(url + queryParams)\n",
    "request.get_method = lambda: 'GET'\n",
    "response_body = urlopen(request).read()\n",
    "print(response_body)"
   ]
  },
  {
   "cell_type": "code",
   "execution_count": null,
   "metadata": {},
   "outputs": [],
   "source": [
    "import urllib3\n",
    "import urllib"
   ]
  },
  {
   "cell_type": "code",
   "execution_count": null,
   "metadata": {},
   "outputs": [],
   "source": [
    "urllib.request()"
   ]
  },
  {
   "cell_type": "code",
   "execution_count": null,
   "metadata": {},
   "outputs": [],
   "source": [
    "from urllib import request\n",
    "from urllib.request import urlopen\n",
    "from urllib.parse import urlencode, quote_plus\n",
    "url = 'http://apis.data.go.kr/1400000/forestStusService'\n",
    "queryParams = '?' + urlencode({ quote_plus('ServiceKey') : 'uqlOOXXu3JweI/FWiyLC+lGR6nvzOCh8gL2gWAfYzKtbS7j6jtz1SUVwHJGfRn62vWxrPyDfjlcMCmO88ogCvQ==', quote_plus('ServiceKey') : '', quote_plus('numOfRows') : '10', quote_plus('pageNo') : '1', quote_plus('searchStDt') : '20160101', quote_plus('searchEdDt') : '20160825' })\n",
    "\n",
    "http = urllib3.PoolManager()\n",
    "aa = http.request('GET', url + queryParams, )\n",
    "\n",
    "# request.get_method = lambda: 'GET'\n",
    "# response_body = urlopen(request).read()\n",
    "# print(response_body)"
   ]
  },
  {
   "cell_type": "code",
   "execution_count": null,
   "metadata": {
    "scrolled": true
   },
   "outputs": [],
   "source": [
    "from bs4 import BeautifulSoup\n",
    "# decode_key = unquote('uqlOOXXu3JweI%252FFWiyLC%252BlGR6nvzOCh8gL2gWAfYzKtbS7j6jtz1SUVwHJGfRn62vWxrPyDfjlcMCmO88ogCvQ%253D%253D')\n",
    "queryParams = urlencode({quote_plus('ServiceKey') : 'uqlOOXXu3JweI/FWiyLC+lGR6nvzOCh8gL2gWAfYzKtbS7j6jtz1SUVwHJGfRn62vWxrPyDfjlcMCmO88ogCvQ==', quote_plus('numOfRows') : '10', quote_plus('pageNo') : '1', quote_plus('searchStDt') : '20160101', quote_plus('searchEdDt') : '20160825' })\n",
    "\n",
    "open_url='http://apis.data.go.kr/1400000/forestStusService/getfirestatsservice?'+queryParams\n",
    "res=requests.get(open_url)\n",
    "soup=BeautifulSoup(res.content,'xml')\n",
    "soup"
   ]
  },
  {
   "cell_type": "code",
   "execution_count": null,
   "metadata": {},
   "outputs": [],
   "source": [
    "from bs4 import BeautifulSoup\n",
    "# decode_key = unquote('uqlOOXXu3JweI%252FFWiyLC%252BlGR6nvzOCh8gL2gWAfYzKtbS7j6jtz1SUVwHJGfRn62vWxrPyDfjlcMCmO88ogCvQ%253D%253D')\n",
    "queryParams = urlencode({quote_plus('ServiceKey') : 'uqlOOXXu3JweI/FWiyLC+lGR6nvzOCh8gL2gWAfYzKtbS7j6jtz1SUVwHJGfRn62vWxrPyDfjlcMCmO88ogCvQ==', quote_plus('numOfRows') : '1000', quote_plus('pageNo') : '1', quote_plus('searchStDt') : '20180101', quote_plus('searchEdDt') : '20200430' })\n",
    "\n",
    "open_url='http://apis.data.go.kr/1400000/forestStusService/getfirestatsservice?'+queryParams\n",
    "\n",
    "res=requests.get(open_url)\n",
    "soup=BeautifulSoup(res.content,'html.parser')\n",
    "\n",
    "damageareal=[]\n",
    "enddayl=[]\n",
    "endmonthl=[]\n",
    "endtimel=[]\n",
    "endyearl=[]\n",
    "firecausel=[]\n",
    "# locbunjil=[]\n",
    "# locdongl=[]\n",
    "locgungul=[]\n",
    "# locmenul=[]\n",
    "locsil=[]\n",
    "startdayl=[]\n",
    "startmonthl=[]\n",
    "starttimel=[]\n",
    "startyearl=[]\n",
    "\n",
    "data=soup.find_all('item')\n",
    "\n",
    "for item in data:\n",
    "    damageareal.append(item.find('damagearea').text)\n",
    "    enddayl.append(item.find('endday').text)\n",
    "    endmonthl.append(item.find('endmonth').text)\n",
    "    endtimel.append(item.find('endtime').text)\n",
    "    endyearl.append(item.find('endyear').text)\n",
    "    firecausel.append(item.find('firecause').text)\n",
    "#     locbunjil.append(item.find('locbunji').text)\n",
    "#     locdongl.append(item.find('locdong').text)\n",
    "    locgungul.append(item.find('locgungu').text)\n",
    "#     locmenul.append(item.find('locmenu').text)\n",
    "    locsil.append(item.find('locsi').text)\n",
    "    startdayl.append(item.find('startday').text)\n",
    "    startmonthl.append(item.find('startmonth').text)\n",
    "    starttimel.append(item.find('starttime').text)\n",
    "    startyearl.append(item.find('startyear').text)\n",
    "forestfire=pd.DataFrame()\n",
    "forestfire['damagearea']=damageareal\n",
    "forestfire['endday']=enddayl\n",
    "forestfire['endmonth']=endmonthl\n",
    "forestfire['endtime']=endtimel\n",
    "forestfire['endyear']=endyearl\n",
    "forestfire['firecause']=firecausel\n",
    "# forestfire['locbunji']=locbunjil\n",
    "# forestfire['locdong']=locdongl\n",
    "forestfire['locgungu']=locgungul\n",
    "# forestfire['locmenu']=locmenul\n",
    "forestfire['locsi']=locsil\n",
    "forestfire['startday']=startdayl\n",
    "forestfire['startmonth']=startmonthl\n",
    "forestfire['starttime']=starttimel\n",
    "forestfire['startyear']=startyearl\n",
    "\n",
    "forestfire"
   ]
  },
  {
   "cell_type": "code",
   "execution_count": null,
   "metadata": {},
   "outputs": [],
   "source": [
    "from bs4 import BeautifulSoup\n",
    "queryParams = urlencode({quote_plus('ServiceKey') : 'uqlOOXXu3JweI/FWiyLC+lGR6nvzOCh8gL2gWAfYzKtbS7j6jtz1SUVwHJGfRn62vWxrPyDfjlcMCmO88ogCvQ==', quote_plus('numOfRows') : '1500', quote_plus('pageNo') : '1', quote_plus('searchStDt') : '20180101', quote_plus('searchEdDt') : '20200430' })\n",
    "\n",
    "open_url='http://apis.data.go.kr/1400000/forestStusService/getfirestatsservice?'+queryParams\n",
    "\n",
    "res=requests.get(open_url)\n",
    "soup=BeautifulSoup(res.content,'html.parser')\n",
    "c\n",
    "damageareal=[]\n",
    "enddayl=[]\n",
    "endmonthl=[]\n",
    "endtimel=[]\n",
    "endyearl=[]\n",
    "firecausel=[]\n",
    "# locbunjil=[]\n",
    "# locdongl=[]\n",
    "locgungul=[]\n",
    "# locmenul=[]\n",
    "locsil=[]\n",
    "startdayl=[]\n",
    "startmonthl=[]\n",
    "starttimel=[]\n",
    "startyearl=[]\n",
    "\n",
    "data=soup.find_all('item')\n",
    "\n",
    "for item in data:\n",
    "    damageareal.append(item.find('damagearea').text)\n",
    "    enddayl.append(item.find('endday').text)\n",
    "    endmonthl.append(item.find('endmonth').text)\n",
    "    endtimel.append(item.find('endtime').text)\n",
    "    endyearl.append(item.find('endyear').text)\n",
    "    firecausel.append(item.find('firecause').text)\n",
    "#     locbunjil.append(item.find('locbunji').text)\n",
    "#     locdongl.append(item.find('locdong').text)\n",
    "    locgungul.append(item.find('locgungu').text)\n",
    "#     locmenul.append(item.find('locmenu').text)\n",
    "    locsil.append(item.find('locsi').text)\n",
    "    startdayl.append(item.find('startday').text)\n",
    "    startmonthl.append(item.find('startmonth').text)\n",
    "    starttimel.append(item.find('starttime').text)\n",
    "    startyearl.append(item.find('startyear').text)\n",
    "    forestfire=pd.DataFrame()\n",
    "forestfire['damagearea']=damageareal\n",
    "forestfire['endday']=enddayl\n",
    "forestfire['endmonth']=endmonthl\n",
    "forestfire['endtime']=endtimel\n",
    "forestfire['endyear']=endyearl\n",
    "forestfire['firecause']=firecausel\n",
    "# forestfire['locbunji']=locbunjil\n",
    "# forestfire['locdong']=locdongl\n",
    "forestfire['locgungu']=locgungul\n",
    "# forestfire['locmenu']=locmenul\n",
    "forestfire['locsi']=locsil\n",
    "forestfire['startday']=startdayl\n",
    "forestfire['startmonth']=startmonthl\n",
    "forestfire['starttime']=starttimel\n",
    "forestfire['startyear']=startyearl\n",
    "forestfire.sort_values(['startyear','startmonth','startday'],ascending=False)\n",
    "forestfire.sort_values(['startyear','startmonth','startday'])\n",
    "\n"
   ]
  },
  {
   "cell_type": "code",
   "execution_count": null,
   "metadata": {},
   "outputs": [],
   "source": [
    "forestfire['damagearea'].value_counts()"
   ]
  },
  {
   "cell_type": "code",
   "execution_count": null,
   "metadata": {},
   "outputs": [],
   "source": [
    "###################################################################"
   ]
  },
  {
   "cell_type": "code",
   "execution_count": null,
   "metadata": {},
   "outputs": [],
   "source": [
    "from urllib import request\n",
    "from urllib.request import urlopen\n",
    "from urllib.parse import urlencode, quote_plus\n",
    "from bs4 import BeautifulSoup\n",
    "queryParams = urlencode({quote_plus('ServiceKey') : 'uqlOOXXu3JweI%2FFWiyLC%2BlGR6nvzOCh8gL2gWAfYzKtbS7j6jtz1SUVwHJGfRn62vWxrPyDfjlcMCmO88ogCvQ%3D%3D', quote_plus('numOfRows') : '1500', quote_plus('pageNo') : '1', quote_plus('searchStDt') : '20180101', quote_plus('searchEdDt') : '20200430' })\n",
    "\n",
    "open_url='http://openapi.forest.go.kr/openapi/service/forestDisasterService/frstFireOpenAPI'+queryParams\n",
    "\n",
    "res=requests.get(open_url)\n",
    "soup=BeautifulSoup(res.content,'html.parser')\n",
    "\n",
    "soup"
   ]
  },
  {
   "cell_type": "code",
   "execution_count": null,
   "metadata": {},
   "outputs": [],
   "source": [
    "import matplotlib.pyplot as plt\n",
    "import pandas as pd\n",
    "ocurjibun=[]\n",
    "ownersec=[]\n",
    "ocurcause=[]\n",
    "dmgarea=[]\n",
    "dmgmoney=[]\n",
    "riskavg=[]\n",
    "riskmax=[]\n",
    "diravg=[]\n",
    "tempavg=[]\n",
    "humidcurr=[]\n",
    "humidrel=[]\n",
    "humidmin=[]\n",
    "windmax=[]\n",
    "windavg=[]\n",
    "dirmax=[]\n",
    "diravg=[]\n",
    "raindays=[]\n",
    "rainamount=[]\n",
    "resultCode=[]\n",
    "totalCount=[]\n",
    "resultMsg=[]\n",
    "ocurdt=[]\n",
    "ocuryoil=[]\n",
    "extingdt=[]\n",
    "exintgtm=[]\n",
    "ocurGm=[]\n",
    "ocurdo=[]\n",
    "ocursgg=[]\n",
    "ocuremd=[]\n",
    "ocurri=[]\n",
    "\n",
    "data=soup.find_all('item')\n",
    "\n",
    "for item in data:\n",
    "    diravg.append(item.find('diravg').text)\n",
    "    ocurjibun.append(item.find('ocurjibun').text)\n",
    "    ownersec.append(item.find('ownersec').text)\n",
    "    ocurcause.append(item.find('ocurcause').text)\n",
    "    dmgarea.append(item.find('dmgarea').text)\n",
    "    dmgmoney.append(item.find('dmgmoney').text)\n",
    "    riskavg.append(item.find('riskavg').text)\n",
    "    riskmax.append(item.find('riskmax').text)\n",
    "    tempavg.append(item.find('tempavg').text)\n",
    "    humidcurr.append(item.find('humidcurr').text)\n",
    "    humidrel.append(item.find('humidrel').text)\n",
    "    humidmin.append(item.find('humidmin').text)\n",
    "    windmax.append(item.find('windmax').text)\n",
    "    windavg.append(item.find('windavg').text)\n",
    "    dirmax.append(item.find('dirmax').text)\n",
    "    diravg.append(item.find('diravg').text)\n",
    "    raindays.append(item.find('raindays').text)\n",
    "    rainamount.append(item.find('rainamount').text)\n",
    "    resultCode.append(item.find('resultCode').text)\n",
    "    totalCount.append(item.find('totalCount').text)\n",
    "    resultMsg.append(item.find('resultMsg').text)\n",
    "    ocurdt.append(item.find('ocurdt').text)\n",
    "    extingdt.append(item.find('extingdt').text)\n",
    "    exintgtm.append(item.find('exintgtm').text)\n",
    "    ocurGm.append(item.find('ocurGm').text)\n",
    "    ocurdo.append(item.find('ocurdo').text)\n",
    "    ocursgg.append(item.find('ocursgg').text)\n",
    "    ocuremd.append(item.find('ocuremd').text)\n",
    "    ocurri.append(item.find('ocurri').text)\n",
    "    \n",
    "forestfire=pd.DataFrame()\n",
    "\n",
    "\n",
    "forestfire['diravg']=diravg\n",
    "forestfire['dirmax']=dirmax\n",
    "forestfire['dmgarea']=dmgarea\n",
    "forestfire['dmgmoney']=dmgmoney\n",
    "forestfire['exintgtm']=exintgtm\n",
    "forestfire['extingdt']=extingdt\n",
    "forestfire['humidcurr']=humidcurr\n",
    "forestfire['humidmin']=humidmin\n",
    "forestfire['humidrel']=humidrel\n",
    "# forestfire['numOfRows']=numOfRows\n",
    "forestfire['ocurcause']=ocurcause\n",
    "forestfire['ocurdo']=ocurdo\n",
    "forestfire['ocurdt']=ocurdt\n",
    "forestfire['ocuremd']=ocuremd\n",
    "forestfire['ocurGm']=ocurGm\n",
    "forestfire['ocurjibun']=ocurjibun\n",
    "forestfire['ocurri']=ocurri\n",
    "forestfire['ocursgg']=ocursgg\n",
    "forestfire['ocuryoil']=ocuryoil\n",
    "forestfire['ownersec']=ownersec\n",
    "# forestfire['pageNo']=pageNol\n",
    "forestfire['rainamount']=rainamount\n",
    "forestfire['raindays']=raindays\n",
    "forestfire['resultCode']=resultCode\n",
    "forestfire['resultMsg']=resultMsg\n",
    "forestfire['riskavg']=riskavg\n",
    "forestfire['riskmax']=riskmax\n",
    "forestfire['tempavg']=tempavg\n",
    "forestfire['totalCount']=totalCount\n",
    "forestfire['windavg']=windavg\n",
    "forestfire['windmax']=windmax\n",
    "\n",
    "# forestfire.sort_values(['startyear','startmonth','startday'],ascending=False)\n",
    "# forestfire.sort_values(['startyear','startmonth','startday'])\n",
    "forestfire"
   ]
  },
  {
   "cell_type": "code",
   "execution_count": null,
   "metadata": {},
   "outputs": [],
   "source": []
  }
 ],
 "metadata": {
  "kernelspec": {
   "display_name": "Python 3",
   "language": "python",
   "name": "python3"
  },
  "language_info": {
   "codemirror_mode": {
    "name": "ipython",
    "version": 3
   },
   "file_extension": ".py",
   "mimetype": "text/x-python",
   "name": "python",
   "nbconvert_exporter": "python",
   "pygments_lexer": "ipython3",
   "version": "3.7.6"
  }
 },
 "nbformat": 4,
 "nbformat_minor": 4
}
