{
 "cells": [
  {
   "cell_type": "markdown",
   "metadata": {},
   "source": [
    "## 나이브베이즈 분류모형\n",
    "\n",
    "\n",
    "    QDA + 조건부 독립"
   ]
  },
  {
   "cell_type": "markdown",
   "metadata": {},
   "source": [
    "### 조건부 독립\n",
    "\n",
    "확률변수 A,B가 독립이면 A,B의 결합확률은 주변확률의 곱과 같다\n",
    "\n",
    "$P(A,B) = P(A)P(B)$\n",
    "\n",
    "조건부독립은 일반적인 독립과 달리 조건이 되는 별개의 확률변수 C가 존재해야 한다. 조건이 되는 확률변수 C에 대한 A,B의 결합조건부확률이 C에 대한 A,B의 조건부확률의 곱과 같으면 A와 B가 C에대한 조건부 독립이라고 한다.\n",
    "\n",
    "$P(A,B|C) = P(A|C)P(B|C)$\n",
    "\n",
    "기호로는 다음과 같이 표기한다.\n",
    "\n",
    "$A \\text{⫫} B \\;\\vert\\; C$\n",
    "\n",
    "무조건부독립은 공집합을 쓴다\n",
    "\n",
    "\n",
    "$A \\text{⫫} B \\;\\vert\\; 0(공집합)$"
   ]
  },
  {
   "cell_type": "markdown",
   "metadata": {},
   "source": [
    "A,B 가 C에 대해 조건부 독립이면 다음도 만족한다.\n",
    "\n",
    "$P(A|B,C) = P(A|C)$\n",
    "\n",
    "$P(B|A,C) = P(B|C)$"
   ]
  },
  {
   "cell_type": "code",
   "execution_count": null,
   "metadata": {},
   "outputs": [],
   "source": []
  },
  {
   "cell_type": "markdown",
   "metadata": {},
   "source": [
    "예를 들어 어떤 동물의 어미의 몸무게가  x kg일 때 새끼의 몸무게는  x 를 기댓값으로 하고 5kg 표준편차를 가지는 정규분포라고 가정하자. 이 동물의 새끼 중 2마리의 몸무게를 각각 A, B라고 하고 어미의 몸무게를 C라고 한다. 시물레이션을 통해 어미 표본과 각각의 어미에 대해 2마리의 새끼 표본을 만들자."
   ]
  },
  {
   "cell_type": "code",
   "execution_count": 11,
   "metadata": {},
   "outputs": [],
   "source": [
    "import warnings\n",
    " \n",
    "warnings.filterwarnings(\"ignore\")\n",
    "import matplotlib as mpl\n",
    "import seaborn as sns\n",
    "import scipy as sp\n",
    "import scipy.stats\n",
    "import numpy as np\n",
    "import matplotlib.pyplot as plt\n",
    "np.random.seed(0)\n",
    "C = np.random.normal(100, 15, 2000)\n",
    "A = C + np.random.normal(0, 5, 2000)\n",
    "B = C + np.random.normal(0, 5, 2000)\n"
   ]
  },
  {
   "cell_type": "code",
   "execution_count": 12,
   "metadata": {},
   "outputs": [
    {
     "data": {
      "image/png": "[encoded data removed]",
      "text/plain": [
       "<Figure size 576x288 with 2 Axes>"
      ]
     },
     "metadata": {
      "needs_background": "light"
     },
     "output_type": "display_data"
    }
   ],
   "source": [
    "plt.figure(figsize=(8,4))\n",
    "\n",
    "plt.subplot(121)\n",
    "plt.scatter(A,B)\n",
    "plt.xlabel('A')\n",
    "plt.ylabel('B')\n",
    "plt.xlim(30,180)\n",
    "plt.ylim(30,180)\n",
    "plt.title('A와 C의 무조건부 상관관계')\n",
    "\n",
    "plt.subplot(122)\n",
    "idx1 = (118<C) & (C< 122)\n",
    "idx2 = (78<C) & (C< 82)\n",
    "plt.scatter(A[idx1],B[idx1],label='C=120')\n",
    "plt.scatter(A[idx2],B[idx2],label='C=80')\n",
    "plt.xlabel('A')\n",
    "plt.ylabel('B')\n",
    "plt.xlim(30,180)\n",
    "plt.ylim(30,180)\n",
    "plt.legend()\n",
    "plt.title('B와 C의 상관관계')\n",
    "\n",
    "plt.tight_layout()\n",
    "plt.show()"
   ]
  },
  {
   "cell_type": "markdown",
   "metadata": {},
   "source": [
    "### 나이브 가정\n",
    "\n",
    "독립변수 x 가 D차원이라고 가정하자.\n",
    "\n",
    "$x = (x_1, \\ldots, x_D)$"
   ]
  },
  {
   "cell_type": "markdown",
   "metadata": {},
   "source": [
    "가능도 함수는 $x_1, \\ldots, x_D$ 의 결합확률이 된다.\n",
    "\n",
    "$P(x \\mid y = k) = P(x_1, \\ldots, x_D \\mid y = k)$\n",
    "\n",
    "원리상으로는 y = k 인 데이터만 모아서 이 가능도함수의 모양을 추정할 수 있다. 하지만 차원 D가 커지면 가능도 함수의 추정이 현실적으로 어려워진다. 따라서 나이브베이즈 분류모형 에서는 모든 차원의 개별 독립변수가 서로 조건부 독립 이라는 가정을 사용한다 이러한 가정을 __나이브 가정__ 이라고 한다. 나이브 가정으로 사용하면 벡터 x의 결합확률분포함수는 개별 스칼라 원소 $x_d$의 확률분포함수의 곱이 된다.\n",
    "\n",
    "$P(x_1, \\ldots, x_D \\mid y = k) = \\prod_{d=1}^D P(x_d \\mid y = k)$\n",
    "\n",
    "스칼라 원소 $x_d$의 확률분포함수는 결합확률분포함수보다 추정하기가 훨씬 쉽다.\n",
    "\n",
    "가능도함수를 추정한 후에는 베이즈 정리를 사용하여 조건부확률을 계산할 수 있다.\n",
    "\n",
    "$\\begin{align}\n",
    "P(y = k \\mid x) \n",
    "&= \\dfrac{ P(x_1, \\ldots, x_D \\mid y = k) P(y = k) }{P(x)} \\\\\n",
    "&= \\dfrac{ \\left( \\prod_{d=1}^D P(x_{d} \\mid y = k) \\right) P(y = k) }{P(x)}\n",
    "\\end{align}$"
   ]
  },
  {
   "cell_type": "markdown",
   "metadata": {},
   "source": [
    "### 정규분포 가능도 모형\n",
    "\n",
    "x 벡터의 원소가 모두 실수이고 클래스마다 특정한 값 주변에서 발생한다고 하면 가능도 분포로 정규분포를 사용한다. 각 독립변수 $x_d$마다, 그리고 클래스 k마다 정규 분포의 기대값 $\\mu_{d,k}$, 표준편차 $\\sigma_{d,k}^2$가 달라진다. QDA 모형과는 달리 모든 독립변수들이 서로 조건부독립이라고 가정한다. \n",
    "\n",
    "$P(x_d \\mid y = k) = \\dfrac{1}{\\sqrt{2\\pi\\sigma_{d,k}^2}} \\exp \\left(-\\dfrac{(x_d-\\mu_{d,k})^2}{2\\sigma_{d,k}^2}\\right)$\n",
    "\n",
    "-> 단변수 정규분포를 곱해놓은것"
   ]
  },
  {
   "cell_type": "markdown",
   "metadata": {},
   "source": [
    "### 베르누이분포 가능도 모형\n",
    "\n",
    "베르누이분포 가능도 모형에서는 각각의 $x = (x_1,\\ldots, x_D)$의 각 원소 $x_d$가 0 또는 1이라는 값만을 가질 수 있다. 즉 독립변수는 D개의 독립적인 베르누이 확률변수, 즉 동전으로 구성된 동전 세트로 표현할 수 있다. 이 동전들의 모수 $ \\mu_d $는 동전 d마다 다르다."
   ]
  },
  {
   "cell_type": "markdown",
   "metadata": {},
   "source": [
    "$P(x_d \\mid y = k) = \\mu_{d,k}^{x_d} (1-\\mu_{d,k})^{(1-x_d)}$\n",
    "\n",
    "$P(x_1, \\ldots, x_D \\mid y = k) \n",
    "= \\prod_{d=1}^D \\mu_{d,k}^{x_d} (1-\\mu_{d,k})^{(1-x_d)}$"
   ]
  },
  {
   "cell_type": "markdown",
   "metadata": {},
   "source": [
    "\n",
    "### 다항분포 가능도 모형\n",
    "\n",
    "다항분포 모형에서는 x 벡터가 다항분포의 표본이라고 가정한다. 즉 D개의 면을 가지는 주사위를 $\\sum_{d=1}^D x_d$번 던져서 나온 결과로 본다"
   ]
  },
  {
   "cell_type": "markdown",
   "metadata": {},
   "source": [
    "#### 예제"
   ]
  },
  {
   "cell_type": "code",
   "execution_count": null,
   "metadata": {},
   "outputs": [],
   "source": []
  },
  {
   "cell_type": "code",
   "execution_count": null,
   "metadata": {},
   "outputs": [],
   "source": []
  },
  {
   "cell_type": "code",
   "execution_count": null,
   "metadata": {},
   "outputs": [],
   "source": []
  },
  {
   "cell_type": "code",
   "execution_count": null,
   "metadata": {},
   "outputs": [],
   "source": []
  },
  {
   "cell_type": "code",
   "execution_count": null,
   "metadata": {},
   "outputs": [],
   "source": []
  },
  {
   "cell_type": "code",
   "execution_count": null,
   "metadata": {},
   "outputs": [],
   "source": []
  },
  {
   "cell_type": "code",
   "execution_count": null,
   "metadata": {},
   "outputs": [],
   "source": []
  },
  {
   "cell_type": "code",
   "execution_count": 5,
   "metadata": {},
   "outputs": [
    {
     "data": {
      "image/png": "[encoded data removed]",
      "text/plain": [
       "<Figure size 432x288 with 1 Axes>"
      ]
     },
     "metadata": {
      "needs_background": "light"
     },
     "output_type": "display_data"
    }
   ],
   "source": [
    "np.random.seed(0)\n",
    "rv0 = sp.stats.multivariate_normal([-2,-2],[[1,0.9],[0.9,2]])\n",
    "rv1 = sp.stats.multivariate_normal([2,2],[[1.2,0.8],[-0.8,2]])\n",
    "X0 = rv0.rvs(40)\n",
    "X1 = rv1.rvs(60)\n",
    "X = np.vstack([X0,X1])\n",
    "y = np.hstack([np.zeros(40),np.ones(60)])\n",
    "\n",
    "xx1 = np.linspace(-5,5,100)\n",
    "xx2 = np.linspace(-5,5,100)\n",
    "\n",
    "XX1, XX2 = np.meshgrid(xx1,xx2)\n",
    "plt.grid(False)\n",
    "plt.contour(XX1,XX2, rv0.pdf(np.dstack([XX1,XX2])),cmap=mpl.cm.cool)\n",
    "plt.contour(XX1,XX2, rv1.pdf(np.dstack([XX1,XX2])),cmap=mpl.cm.hot)\n",
    "plt.scatter(X0[:,0],X0[:,1], marker='o',c='b',label='y=0')\n",
    "plt.scatter(X1[:,0],X1[:,1], marker='s',c='r',label='y=1')\n",
    "plt.legend()\n",
    "plt.title('데이터의 확률 분포')\n",
    "plt.axis('equal')\n",
    "plt.show()"
   ]
  },
  {
   "cell_type": "code",
   "execution_count": 6,
   "metadata": {},
   "outputs": [],
   "source": [
    "from sklearn.naive_bayes import GaussianNB\n",
    "model_norm = GaussianNB().fit(X,y)"
   ]
  },
  {
   "cell_type": "code",
   "execution_count": 7,
   "metadata": {},
   "outputs": [
    {
     "data": {
      "text/plain": [
       "array([0., 1.])"
      ]
     },
     "execution_count": 7,
     "metadata": {},
     "output_type": "execute_result"
    }
   ],
   "source": [
    "model_norm.classes_"
   ]
  },
  {
   "cell_type": "code",
   "execution_count": 9,
   "metadata": {},
   "outputs": [
    {
     "data": {
      "text/plain": [
       "array([40., 60.])"
      ]
     },
     "execution_count": 9,
     "metadata": {},
     "output_type": "execute_result"
    }
   ],
   "source": [
    "model_norm.class_count_"
   ]
  },
  {
   "cell_type": "code",
   "execution_count": 10,
   "metadata": {},
   "outputs": [
    {
     "data": {
      "text/plain": [
       "array([0.4, 0.6])"
      ]
     },
     "execution_count": 10,
     "metadata": {},
     "output_type": "execute_result"
    }
   ],
   "source": [
    "model_norm.class_prior_"
   ]
  },
  {
   "cell_type": "code",
   "execution_count": null,
   "metadata": {},
   "outputs": [],
   "source": [
    "from sklearn.matrics import classification_report\n",
    "\n",
    "\n",
    "classification_report(y, model_nirm.predict(X), target_names=[\n",
    "    'sedosa', 'vsrsicolor', 'virginia'])\n",
    "\n",
    "fromk  "
   ]
  },
  {
   "cell_type": "markdown",
   "metadata": {},
   "source": [
    "### 스케일링은 트레이닝데이터에만 하는것 -> 모델을 만든후 테스트에 적용시킬땐 테스트데이터엔 스케일링을 하지않는다."
   ]
  },
  {
   "cell_type": "markdown",
   "metadata": {},
   "source": [
    "### 베르누이분포 나이브베이즈 모형"
   ]
  },
  {
   "cell_type": "markdown",
   "metadata": {},
   "source": [
    "$\\log \\mu_k = (\\log \\mu_{1,k}, \\ldots, \\log \\mu_{D, k}) = \\left( \\log \\dfrac{N_{1,k}}{N_k}, \\ldots, \\log \\dfrac{N_{D,k}}{N_k} \\right)$"
   ]
  },
  {
   "cell_type": "markdown",
   "metadata": {},
   "source": [
    "#########################################"
   ]
  },
  {
   "cell_type": "markdown",
   "metadata": {},
   "source": [
    "### 스무딩\n",
    "\n",
    "표본데이터의 수가 적은 경우에는 베르누이 모수가 0 또는 1 이라는 극단적인 모수 추정값이 나올 수도 있다. 하지만 현실적으로는 실제 모수값이 이런 극단적인 값이 나올 가능성이 적다. 따라서 베르누이 모수가 0.5인 가장 일반적인 경우를 가정하여 0이 나오는 경우와 1이 나오는 경우, 두 개의 가상 표본 데이터를 추가한다. 그러면 0 이나 1 과 같은 극단적인 추정값이 0.5에 가까운 다음과 값으로 변한다. 이를 __라플라스 스무딩 또는 애드원 스무딩__ 이라고 한다."
   ]
  },
  {
   "cell_type": "markdown",
   "metadata": {},
   "source": [
    "$\\hat{\\mu}_{d,k} = \\frac{ N_{d,k} + \\alpha}{N_k + 2 \\alpha}$"
   ]
  },
  {
   "cell_type": "markdown",
   "metadata": {},
   "source": [
    "가중치  α 를 사용하여 스무딩의 정도를 조절할 수도 있다. 가중치  α 는 정수가 아니라도 괜찮다. 가중치가 1인 경우는 무정보 사전확률을 사용한 베이즈 모수추정의 결과와 같다."
   ]
  },
  {
   "cell_type": "code",
   "execution_count": 14,
   "metadata": {},
   "outputs": [],
   "source": [
    "X = np.array([\n",
    "    [0, 1, 1, 0],\n",
    "    [1, 1, 1, 1],\n",
    "    [1, 1, 1, 0],\n",
    "    [0, 1, 0, 0],\n",
    "    [0, 0, 0, 1],\n",
    "    [0, 1, 1, 0],\n",
    "    [0, 1, 1, 1],\n",
    "    [1, 0, 1, 0],\n",
    "    [1, 0, 1, 1],\n",
    "    [0, 1, 1, 0]])\n",
    "y = np.array([0, 0, 0, 0, 1, 1, 1, 1, 1, 1])"
   ]
  },
  {
   "cell_type": "code",
   "execution_count": 15,
   "metadata": {},
   "outputs": [],
   "source": [
    "from sklearn.naive_bayes import BernoulliNB\n",
    "\n",
    "model_bern = BernoulliNB().fit(X,y)"
   ]
  },
  {
   "cell_type": "code",
   "execution_count": 17,
   "metadata": {},
   "outputs": [
    {
     "data": {
      "text/plain": [
       "array([0, 1])"
      ]
     },
     "execution_count": 17,
     "metadata": {},
     "output_type": "execute_result"
    }
   ],
   "source": [
    "model_bern.classes_"
   ]
  },
  {
   "cell_type": "code",
   "execution_count": 19,
   "metadata": {},
   "outputs": [
    {
     "data": {
      "text/plain": [
       "array([4., 6.])"
      ]
     },
     "execution_count": 19,
     "metadata": {},
     "output_type": "execute_result"
    }
   ],
   "source": [
    "model_bern.class_count_"
   ]
  },
  {
   "cell_type": "code",
   "execution_count": 20,
   "metadata": {},
   "outputs": [
    {
     "data": {
      "text/plain": [
       "array([0.4, 0.6])"
      ]
     },
     "execution_count": 20,
     "metadata": {},
     "output_type": "execute_result"
    }
   ],
   "source": [
    "np.exp(model_bern.class_log_prior_)"
   ]
  },
  {
   "cell_type": "code",
   "execution_count": 21,
   "metadata": {},
   "outputs": [
    {
     "data": {
      "text/plain": [
       "array([[2., 4., 3., 1.],\n",
       "       [2., 3., 5., 3.]])"
      ]
     },
     "execution_count": 21,
     "metadata": {},
     "output_type": "execute_result"
    }
   ],
   "source": [
    "fc = model_bern.feature_count_\n",
    "fc"
   ]
  },
  {
   "cell_type": "code",
   "execution_count": 22,
   "metadata": {},
   "outputs": [
    {
     "data": {
      "text/plain": [
       "array([[0.5       , 1.        , 0.75      , 0.25      ],\n",
       "       [0.33333333, 0.5       , 0.83333333, 0.5       ]])"
      ]
     },
     "execution_count": 22,
     "metadata": {},
     "output_type": "execute_result"
    }
   ],
   "source": [
    "fc / np.repeat(model_bern.class_count_[:, np.newaxis], 4, axis=1)"
   ]
  },
  {
   "cell_type": "code",
   "execution_count": 23,
   "metadata": {},
   "outputs": [
    {
     "data": {
      "text/plain": [
       "1.0"
      ]
     },
     "execution_count": 23,
     "metadata": {},
     "output_type": "execute_result"
    }
   ],
   "source": [
    "model_bern.alpha"
   ]
  },
  {
   "cell_type": "code",
   "execution_count": 24,
   "metadata": {},
   "outputs": [
    {
     "data": {
      "text/plain": [
       "array([[0.5       , 0.83333333, 0.66666667, 0.33333333],\n",
       "       [0.375     , 0.5       , 0.75      , 0.5       ]])"
      ]
     },
     "execution_count": 24,
     "metadata": {},
     "output_type": "execute_result"
    }
   ],
   "source": [
    "theta = np.exp(model_bern.feature_log_prob_)\n",
    "theta"
   ]
  },
  {
   "cell_type": "code",
   "execution_count": 49,
   "metadata": {},
   "outputs": [],
   "source": [
    "x_new = np.array([0, 1, 1, 1])"
   ]
  },
  {
   "cell_type": "code",
   "execution_count": 50,
   "metadata": {},
   "outputs": [
    {
     "data": {
      "text/plain": [
       "array([[0.34501348, 0.65498652]])"
      ]
     },
     "execution_count": 50,
     "metadata": {},
     "output_type": "execute_result"
    }
   ],
   "source": [
    "model_bern.predict_proba([x_new])"
   ]
  },
  {
   "cell_type": "code",
   "execution_count": 51,
   "metadata": {},
   "outputs": [],
   "source": [
    "from sklearn.datasets import load_digits\n",
    "\n",
    "digits = load_digits()"
   ]
  },
  {
   "cell_type": "code",
   "execution_count": 52,
   "metadata": {},
   "outputs": [],
   "source": [
    "X = digits.data"
   ]
  },
  {
   "cell_type": "code",
   "execution_count": 53,
   "metadata": {},
   "outputs": [
    {
     "data": {
      "text/plain": [
       "(1797, 64)"
      ]
     },
     "execution_count": 53,
     "metadata": {},
     "output_type": "execute_result"
    }
   ],
   "source": [
    "X.shape"
   ]
  },
  {
   "cell_type": "code",
   "execution_count": 54,
   "metadata": {},
   "outputs": [
    {
     "data": {
      "text/plain": [
       "array([ 0.,  0.,  5., 13.,  9.,  1.,  0.,  0.,  0.,  0., 13., 15., 10.,\n",
       "       15.,  5.,  0.,  0.,  3., 15.,  2.,  0., 11.,  8.,  0.,  0.,  4.,\n",
       "       12.,  0.,  0.,  8.,  8.,  0.,  0.,  5.,  8.,  0.,  0.,  9.,  8.,\n",
       "        0.,  0.,  4., 11.,  0.,  1., 12.,  7.,  0.,  0.,  2., 14.,  5.,\n",
       "       10., 12.,  0.,  0.,  0.,  0.,  6., 13., 10.,  0.,  0.,  0.])"
      ]
     },
     "execution_count": 54,
     "metadata": {},
     "output_type": "execute_result"
    }
   ],
   "source": [
    "X[0,:]"
   ]
  },
  {
   "cell_type": "code",
   "execution_count": 55,
   "metadata": {},
   "outputs": [],
   "source": [
    "from sklearn.preprocessing import Binarizer\n",
    "\n",
    "X2 = Binarizer(7).fit_transform(X)"
   ]
  },
  {
   "cell_type": "code",
   "execution_count": 56,
   "metadata": {},
   "outputs": [
    {
     "data": {
      "text/plain": [
       "array([0., 0., 0., 1., 1., 0., 0., 0., 0., 0., 1., 1., 1., 1., 0., 0., 0.,\n",
       "       0., 1., 0., 0., 1., 1., 0., 0., 0., 1., 0., 0., 1., 1., 0., 0., 0.,\n",
       "       1., 0., 0., 1., 1., 0., 0., 0., 1., 0., 0., 1., 0., 0., 0., 0., 1.,\n",
       "       0., 1., 1., 0., 0., 0., 0., 0., 1., 1., 0., 0., 0.])"
      ]
     },
     "execution_count": 56,
     "metadata": {},
     "output_type": "execute_result"
    }
   ],
   "source": [
    "X2[0,:]"
   ]
  },
  {
   "cell_type": "code",
   "execution_count": 58,
   "metadata": {},
   "outputs": [
    {
     "data": {
      "text/plain": [
       "(-0.5, 7.5, 7.5, -0.5)"
      ]
     },
     "execution_count": 58,
     "metadata": {},
     "output_type": "execute_result"
    },
    {
     "data": {
      "image/png": "[encoded data removed]",
      "text/plain": [
       "<Figure size 432x288 with 1 Axes>"
      ]
     },
     "metadata": {
      "needs_background": "light"
     },
     "output_type": "display_data"
    }
   ],
   "source": [
    "plt.imshow(digits.images[0,:,:],cmap=plt.cm.binary)\n",
    "plt.axis('off')"
   ]
  },
  {
   "cell_type": "code",
   "execution_count": 59,
   "metadata": {},
   "outputs": [],
   "source": [
    "X = digits.data\n",
    "y = digits.target"
   ]
  },
  {
   "cell_type": "code",
   "execution_count": 60,
   "metadata": {},
   "outputs": [],
   "source": [
    "model_bern2 = BernoulliNB().fit(X,y)"
   ]
  },
  {
   "cell_type": "code",
   "execution_count": 64,
   "metadata": {},
   "outputs": [
    {
     "data": {
      "text/plain": [
       "array([0, 1, 2, 3, 4, 5, 6, 7, 8, 9])"
      ]
     },
     "execution_count": 64,
     "metadata": {},
     "output_type": "execute_result"
    }
   ],
   "source": [
    "model_bern2.classes_"
   ]
  },
  {
   "cell_type": "code",
   "execution_count": 65,
   "metadata": {},
   "outputs": [
    {
     "data": {
      "text/plain": [
       "array([178., 182., 177., 183., 181., 182., 181., 179., 174., 180.])"
      ]
     },
     "execution_count": 65,
     "metadata": {},
     "output_type": "execute_result"
    }
   ],
   "source": [
    "model_bern2.class_count_"
   ]
  },
  {
   "cell_type": "code",
   "execution_count": 66,
   "metadata": {},
   "outputs": [
    {
     "data": {
      "text/plain": [
       "array([[  0.,   2., 159., 178., 177., 136.,   6.,   0.,   0.,  62., 177.,\n",
       "        178., 177., 178.,  58.,   0.,   0., 152., 178., 144.,  94., 177.,\n",
       "        143.,   0.,   0., 171., 178.,  69.,  13., 177., 175.,   0.,   0.,\n",
       "        175., 178.,  38.,   4., 178., 173.,   0.,   0., 160., 178.,  75.,\n",
       "         71., 178., 161.,   0.,   0.,  65., 178., 178., 174., 178., 109.,\n",
       "          0.,   0.,   1., 164., 178., 178., 161.,  23.,   0.],\n",
       "       [  0.,   2.,  93., 152., 171., 126.,  50.,   0.,   0.,  11., 115.,\n",
       "        175., 175., 146.,  48.,   0.,   1.,  44., 144., 181., 182., 139.,\n",
       "         29.,   0.,   1.,  75., 157., 177., 181., 133.,  18.,   0.,   0.,\n",
       "         55., 137., 164., 182., 123.,  15.,   0.,   0.,  31.,  97., 150.,\n",
       "        181., 125.,  19.,   0.,   0.,  10., 114., 157., 182., 136.,  58.,\n",
       "         25.,   0.,   1.,  94., 150., 182., 150.,  68.,  27.],\n",
       "       [  0.,  73., 168., 175., 173.,  80.,   8.,   0.,   1., 138., 171.,\n",
       "        177., 176., 116.,  17.,   0.,   1., 115., 152., 131., 172., 128.,\n",
       "         18.,   0.,   0.,  40.,  68., 125., 174., 110.,  11.,   0.,   0.,\n",
       "          6.,  60., 149., 173.,  66.,   4.,   0.,   0.,  27., 121., 173.,\n",
       "        146.,  68.,  42.,   3.,   1.,  66., 173., 177., 176., 177., 166.,\n",
       "         47.,   1.,  63., 167., 175., 175., 174., 154.,  62.],\n",
       "       [  0.,  69., 179., 183., 183., 169.,  42.,   1.,   2., 137., 183.,\n",
       "        183., 182., 176.,  71.,   2.,   1.,  77., 102., 121., 182., 168.,\n",
       "         47.,   0.,   0.,  14.,  61., 168., 181., 162.,  13.,   0.,   0.,\n",
       "          4.,  43., 138., 182., 174., 107.,   0.,   0.,  20.,  45.,  40.,\n",
       "        113., 181., 144.,   0.,   0.,  48., 163., 173., 174., 179., 153.,\n",
       "          5.,   0.,  46., 178., 183., 183., 172.,  73.,   3.],\n",
       "       [  0.,   0.,  30., 169., 177.,  80.,   7.,   3.,   0.,   5., 120.,\n",
       "        180., 173.,  76.,  36.,  12.,   0.,  53., 175., 180., 129., 143.,\n",
       "         90.,  20.,   1., 155., 181., 166., 150., 174., 138.,   4.,   0.,\n",
       "        175., 180., 165., 175., 177., 160.,   0.,   9., 141., 166., 174.,\n",
       "        181., 173.,  97.,   0.,   3.,  47.,  76., 152., 179., 113.,   4.,\n",
       "          0.,   0.,   2.,  24., 162., 175.,  76.,   0.,   0.],\n",
       "       [  0.,  69., 181., 182., 180., 178., 126.,   5.,   1., 134., 182.,\n",
       "        182., 178., 166.,  98.,   4.,   0., 156., 182., 149.,  71.,  26.,\n",
       "          4.,   0.,   0., 157., 181., 177., 156.,  99.,  25.,   0.,   0.,\n",
       "         94., 153., 150., 157., 129.,  61.,   0.,   0.,  19.,  44.,  83.,\n",
       "        137., 142.,  64.,   0.,   0.,  56., 155., 172., 175., 139.,  49.,\n",
       "          0.,   0.,  66., 180., 182., 169.,  90.,  13.,   0.],\n",
       "       [  0.,   0.,  87., 180., 170.,  72.,   2.,   0.,   0.,   6., 171.,\n",
       "        181., 149.,  43.,   2.,   0.,   0.,  60., 180., 175.,  58.,   5.,\n",
       "          1.,   0.,   0., 108., 179., 152., 101.,  75.,  13.,   0.,   0.,\n",
       "        134., 181., 179., 176., 170., 121.,   0.,   0., 119., 181., 177.,\n",
       "        134., 174., 169.,  18.,   0.,  25., 181., 181., 162., 181., 173.,\n",
       "         29.,   0.,   0., 118., 180., 181., 180., 151.,  10.],\n",
       "       [  0.,  14., 166., 179., 179., 168., 104.,  33.,   0.,  51., 177.,\n",
       "        178., 178., 174., 112.,  25.,   0.,  44., 111.,  81., 143., 173.,\n",
       "         92.,   9.,   0.,  38., 131., 150., 175., 178., 135.,   0.,   0.,\n",
       "         68., 161., 169., 179., 174., 149.,   0.,   0.,  45., 135., 177.,\n",
       "        173.,  99.,  50.,   0.,   0.,   8., 103., 177., 144.,  11.,   0.,\n",
       "          0.,   0.,   6., 150., 177.,  89.,   2.,   0.,   0.],\n",
       "       [  0.,  16., 150., 174., 171., 150.,  44.,   0.,   3.,  87., 171.,\n",
       "        172., 169., 167.,  94.,   0.,   1.,  90., 169., 150., 151., 171.,\n",
       "         99.,   0.,   0.,  64., 159., 173., 174., 153.,  37.,   0.,   0.,\n",
       "         32., 158., 173., 171., 111.,  11.,   0.,   0.,  64., 160., 162.,\n",
       "        166., 140.,  57.,   0.,   0.,  54., 163., 163., 160., 153.,  74.,\n",
       "          1.,   0.,  20., 143., 174., 174., 146.,  46.,   1.],\n",
       "       [  0.,  21., 154., 175., 179., 145.,  39.,   6.,   0., 107., 175.,\n",
       "        179., 178., 178.,  73.,   6.,   0., 119., 179., 132., 170., 179.,\n",
       "        116.,   4.,   0., 101., 175., 180., 179., 178., 145.,   0.,   0.,\n",
       "         17.,  91., 115., 123., 176., 145.,   0.,   0.,  10.,  28.,  28.,\n",
       "         67., 174., 140.,   1.,   0.,  42., 130., 139., 147., 163., 122.,\n",
       "          9.,   0.,  14., 152., 167., 177., 159.,  78.,   7.]])"
      ]
     },
     "execution_count": 66,
     "metadata": {},
     "output_type": "execute_result"
    }
   ],
   "source": [
    "fc = model_bern2.feature_count_\n",
    "fc"
   ]
  },
  {
   "cell_type": "code",
   "execution_count": 68,
   "metadata": {},
   "outputs": [
    {
     "ename": "ValueError",
     "evalue": "operands could not be broadcast together with shapes (10,64) (10,4) ",
     "output_type": "error",
     "traceback": [
      "\u001b[1;31m---------------------------------------------------------------------------\u001b[0m",
      "\u001b[1;31mValueError\u001b[0m                                Traceback (most recent call last)",
      "\u001b[1;32m<ipython-input-68-99f58b6ab8b3>\u001b[0m in \u001b[0;36m<module>\u001b[1;34m\u001b[0m\n\u001b[1;32m----> 1\u001b[1;33m \u001b[0mfc\u001b[0m \u001b[1;33m/\u001b[0m \u001b[0mnp\u001b[0m\u001b[1;33m.\u001b[0m\u001b[0mrepeat\u001b[0m\u001b[1;33m(\u001b[0m\u001b[0mmodel_bern2\u001b[0m\u001b[1;33m.\u001b[0m\u001b[0mclass_count_\u001b[0m\u001b[1;33m[\u001b[0m\u001b[1;33m:\u001b[0m\u001b[1;33m,\u001b[0m \u001b[0mnp\u001b[0m\u001b[1;33m.\u001b[0m\u001b[0mnewaxis\u001b[0m\u001b[1;33m]\u001b[0m\u001b[1;33m,\u001b[0m \u001b[1;36m4\u001b[0m\u001b[1;33m,\u001b[0m \u001b[0maxis\u001b[0m\u001b[1;33m=\u001b[0m\u001b[1;36m1\u001b[0m\u001b[1;33m)\u001b[0m\u001b[1;33m\u001b[0m\u001b[1;33m\u001b[0m\u001b[0m\n\u001b[0m",
      "\u001b[1;31mValueError\u001b[0m: operands could not be broadcast together with shapes (10,64) (10,4) "
     ]
    }
   ],
   "source": [
    "fc / np.repeat(model_bern2.class_count_[:, np.newaxis], 4, axis=1)"
   ]
  },
  {
   "cell_type": "code",
   "execution_count": 72,
   "metadata": {},
   "outputs": [
    {
     "data": {
      "text/plain": [
       "array([[0.00555556, 0.01666667, 0.88888889, 0.99444444, 0.98888889,\n",
       "        0.76111111, 0.03888889, 0.00555556, 0.00555556, 0.35      ,\n",
       "        0.98888889, 0.99444444, 0.98888889, 0.99444444, 0.32777778,\n",
       "        0.00555556, 0.00555556, 0.85      , 0.99444444, 0.80555556,\n",
       "        0.52777778, 0.98888889, 0.8       , 0.00555556, 0.00555556,\n",
       "        0.95555556, 0.99444444, 0.38888889, 0.07777778, 0.98888889,\n",
       "        0.97777778, 0.00555556, 0.00555556, 0.97777778, 0.99444444,\n",
       "        0.21666667, 0.02777778, 0.99444444, 0.96666667, 0.00555556,\n",
       "        0.00555556, 0.89444444, 0.99444444, 0.42222222, 0.4       ,\n",
       "        0.99444444, 0.9       , 0.00555556, 0.00555556, 0.36666667,\n",
       "        0.99444444, 0.99444444, 0.97222222, 0.99444444, 0.61111111,\n",
       "        0.00555556, 0.00555556, 0.01111111, 0.91666667, 0.99444444,\n",
       "        0.99444444, 0.9       , 0.13333333, 0.00555556],\n",
       "       [0.00543478, 0.01630435, 0.51086957, 0.83152174, 0.93478261,\n",
       "        0.69021739, 0.27717391, 0.00543478, 0.00543478, 0.06521739,\n",
       "        0.63043478, 0.95652174, 0.95652174, 0.79891304, 0.26630435,\n",
       "        0.00543478, 0.01086957, 0.24456522, 0.78804348, 0.98913043,\n",
       "        0.99456522, 0.76086957, 0.16304348, 0.00543478, 0.01086957,\n",
       "        0.41304348, 0.85869565, 0.9673913 , 0.98913043, 0.72826087,\n",
       "        0.10326087, 0.00543478, 0.00543478, 0.30434783, 0.75      ,\n",
       "        0.89673913, 0.99456522, 0.67391304, 0.08695652, 0.00543478,\n",
       "        0.00543478, 0.17391304, 0.5326087 , 0.82065217, 0.98913043,\n",
       "        0.68478261, 0.10869565, 0.00543478, 0.00543478, 0.05978261,\n",
       "        0.625     , 0.85869565, 0.99456522, 0.74456522, 0.32065217,\n",
       "        0.14130435, 0.00543478, 0.01086957, 0.51630435, 0.82065217,\n",
       "        0.99456522, 0.82065217, 0.375     , 0.15217391],\n",
       "       [0.00558659, 0.41340782, 0.94413408, 0.98324022, 0.97206704,\n",
       "        0.45251397, 0.05027933, 0.00558659, 0.01117318, 0.77653631,\n",
       "        0.96089385, 0.99441341, 0.98882682, 0.65363128, 0.10055866,\n",
       "        0.00558659, 0.01117318, 0.64804469, 0.8547486 , 0.73743017,\n",
       "        0.96648045, 0.72067039, 0.10614525, 0.00558659, 0.00558659,\n",
       "        0.22905028, 0.38547486, 0.70391061, 0.97765363, 0.62011173,\n",
       "        0.06703911, 0.00558659, 0.00558659, 0.03910615, 0.34078212,\n",
       "        0.83798883, 0.97206704, 0.37430168, 0.02793296, 0.00558659,\n",
       "        0.00558659, 0.15642458, 0.68156425, 0.97206704, 0.82122905,\n",
       "        0.38547486, 0.24022346, 0.02234637, 0.01117318, 0.37430168,\n",
       "        0.97206704, 0.99441341, 0.98882682, 0.99441341, 0.93296089,\n",
       "        0.26815642, 0.01117318, 0.3575419 , 0.93854749, 0.98324022,\n",
       "        0.98324022, 0.97765363, 0.86592179, 0.35195531],\n",
       "       [0.00540541, 0.37837838, 0.97297297, 0.99459459, 0.99459459,\n",
       "        0.91891892, 0.23243243, 0.01081081, 0.01621622, 0.74594595,\n",
       "        0.99459459, 0.99459459, 0.98918919, 0.95675676, 0.38918919,\n",
       "        0.01621622, 0.01081081, 0.42162162, 0.55675676, 0.65945946,\n",
       "        0.98918919, 0.91351351, 0.25945946, 0.00540541, 0.00540541,\n",
       "        0.08108108, 0.33513514, 0.91351351, 0.98378378, 0.88108108,\n",
       "        0.07567568, 0.00540541, 0.00540541, 0.02702703, 0.23783784,\n",
       "        0.75135135, 0.98918919, 0.94594595, 0.58378378, 0.00540541,\n",
       "        0.00540541, 0.11351351, 0.24864865, 0.22162162, 0.61621622,\n",
       "        0.98378378, 0.78378378, 0.00540541, 0.00540541, 0.26486486,\n",
       "        0.88648649, 0.94054054, 0.94594595, 0.97297297, 0.83243243,\n",
       "        0.03243243, 0.00540541, 0.25405405, 0.96756757, 0.99459459,\n",
       "        0.99459459, 0.93513514, 0.4       , 0.02162162],\n",
       "       [0.00546448, 0.00546448, 0.16939891, 0.92896175, 0.9726776 ,\n",
       "        0.44262295, 0.04371585, 0.02185792, 0.00546448, 0.03278689,\n",
       "        0.66120219, 0.98907104, 0.95081967, 0.42076503, 0.20218579,\n",
       "        0.07103825, 0.00546448, 0.29508197, 0.96174863, 0.98907104,\n",
       "        0.71038251, 0.78688525, 0.49726776, 0.1147541 , 0.01092896,\n",
       "        0.85245902, 0.99453552, 0.91256831, 0.82513661, 0.95628415,\n",
       "        0.75956284, 0.0273224 , 0.00546448, 0.96174863, 0.98907104,\n",
       "        0.90710383, 0.96174863, 0.9726776 , 0.87978142, 0.00546448,\n",
       "        0.05464481, 0.77595628, 0.91256831, 0.95628415, 0.99453552,\n",
       "        0.95081967, 0.53551913, 0.00546448, 0.02185792, 0.26229508,\n",
       "        0.42076503, 0.83606557, 0.98360656, 0.62295082, 0.0273224 ,\n",
       "        0.00546448, 0.00546448, 0.01639344, 0.13661202, 0.89071038,\n",
       "        0.96174863, 0.42076503, 0.00546448, 0.00546448],\n",
       "       [0.00543478, 0.38043478, 0.98913043, 0.99456522, 0.98369565,\n",
       "        0.97282609, 0.69021739, 0.0326087 , 0.01086957, 0.73369565,\n",
       "        0.99456522, 0.99456522, 0.97282609, 0.9076087 , 0.53804348,\n",
       "        0.02717391, 0.00543478, 0.85326087, 0.99456522, 0.81521739,\n",
       "        0.39130435, 0.14673913, 0.02717391, 0.00543478, 0.00543478,\n",
       "        0.85869565, 0.98913043, 0.9673913 , 0.85326087, 0.54347826,\n",
       "        0.14130435, 0.00543478, 0.00543478, 0.51630435, 0.83695652,\n",
       "        0.82065217, 0.85869565, 0.70652174, 0.33695652, 0.00543478,\n",
       "        0.00543478, 0.10869565, 0.24456522, 0.45652174, 0.75      ,\n",
       "        0.77717391, 0.35326087, 0.00543478, 0.00543478, 0.30978261,\n",
       "        0.84782609, 0.94021739, 0.95652174, 0.76086957, 0.27173913,\n",
       "        0.00543478, 0.00543478, 0.36413043, 0.98369565, 0.99456522,\n",
       "        0.92391304, 0.49456522, 0.07608696, 0.00543478],\n",
       "       [0.00546448, 0.00546448, 0.48087432, 0.98907104, 0.93442623,\n",
       "        0.3989071 , 0.01639344, 0.00546448, 0.00546448, 0.03825137,\n",
       "        0.93989071, 0.99453552, 0.81967213, 0.24043716, 0.01639344,\n",
       "        0.00546448, 0.00546448, 0.33333333, 0.98907104, 0.96174863,\n",
       "        0.32240437, 0.03278689, 0.01092896, 0.00546448, 0.00546448,\n",
       "        0.59562842, 0.98360656, 0.83606557, 0.55737705, 0.41530055,\n",
       "        0.07650273, 0.00546448, 0.00546448, 0.73770492, 0.99453552,\n",
       "        0.98360656, 0.96721311, 0.93442623, 0.66666667, 0.00546448,\n",
       "        0.00546448, 0.6557377 , 0.99453552, 0.9726776 , 0.73770492,\n",
       "        0.95628415, 0.92896175, 0.10382514, 0.00546448, 0.1420765 ,\n",
       "        0.99453552, 0.99453552, 0.89071038, 0.99453552, 0.95081967,\n",
       "        0.16393443, 0.00546448, 0.00546448, 0.65027322, 0.98907104,\n",
       "        0.99453552, 0.98907104, 0.83060109, 0.06010929],\n",
       "       [0.00552486, 0.08287293, 0.92265193, 0.99447514, 0.99447514,\n",
       "        0.93370166, 0.5801105 , 0.1878453 , 0.00552486, 0.28729282,\n",
       "        0.98342541, 0.98895028, 0.98895028, 0.96685083, 0.62430939,\n",
       "        0.14364641, 0.00552486, 0.24861878, 0.61878453, 0.45303867,\n",
       "        0.79558011, 0.96132597, 0.51381215, 0.05524862, 0.00552486,\n",
       "        0.21546961, 0.72928177, 0.83425414, 0.97237569, 0.98895028,\n",
       "        0.75138122, 0.00552486, 0.00552486, 0.38121547, 0.89502762,\n",
       "        0.93922652, 0.99447514, 0.96685083, 0.82872928, 0.00552486,\n",
       "        0.00552486, 0.25414365, 0.75138122, 0.98342541, 0.96132597,\n",
       "        0.55248619, 0.28176796, 0.00552486, 0.00552486, 0.04972376,\n",
       "        0.57458564, 0.98342541, 0.80110497, 0.06629834, 0.00552486,\n",
       "        0.00552486, 0.00552486, 0.03867403, 0.83425414, 0.98342541,\n",
       "        0.49723757, 0.01657459, 0.00552486, 0.00552486],\n",
       "       [0.00568182, 0.09659091, 0.85795455, 0.99431818, 0.97727273,\n",
       "        0.85795455, 0.25568182, 0.00568182, 0.02272727, 0.5       ,\n",
       "        0.97727273, 0.98295455, 0.96590909, 0.95454545, 0.53977273,\n",
       "        0.00568182, 0.01136364, 0.51704545, 0.96590909, 0.85795455,\n",
       "        0.86363636, 0.97727273, 0.56818182, 0.00568182, 0.00568182,\n",
       "        0.36931818, 0.90909091, 0.98863636, 0.99431818, 0.875     ,\n",
       "        0.21590909, 0.00568182, 0.00568182, 0.1875    , 0.90340909,\n",
       "        0.98863636, 0.97727273, 0.63636364, 0.06818182, 0.00568182,\n",
       "        0.00568182, 0.36931818, 0.91477273, 0.92613636, 0.94886364,\n",
       "        0.80113636, 0.32954545, 0.00568182, 0.00568182, 0.3125    ,\n",
       "        0.93181818, 0.93181818, 0.91477273, 0.875     , 0.42613636,\n",
       "        0.01136364, 0.00568182, 0.11931818, 0.81818182, 0.99431818,\n",
       "        0.99431818, 0.83522727, 0.26704545, 0.01136364],\n",
       "       [0.00549451, 0.12087912, 0.85164835, 0.96703297, 0.98901099,\n",
       "        0.8021978 , 0.21978022, 0.03846154, 0.00549451, 0.59340659,\n",
       "        0.96703297, 0.98901099, 0.98351648, 0.98351648, 0.40659341,\n",
       "        0.03846154, 0.00549451, 0.65934066, 0.98901099, 0.73076923,\n",
       "        0.93956044, 0.98901099, 0.64285714, 0.02747253, 0.00549451,\n",
       "        0.56043956, 0.96703297, 0.99450549, 0.98901099, 0.98351648,\n",
       "        0.8021978 , 0.00549451, 0.00549451, 0.0989011 , 0.50549451,\n",
       "        0.63736264, 0.68131868, 0.97252747, 0.8021978 , 0.00549451,\n",
       "        0.00549451, 0.06043956, 0.15934066, 0.15934066, 0.37362637,\n",
       "        0.96153846, 0.77472527, 0.01098901, 0.00549451, 0.23626374,\n",
       "        0.71978022, 0.76923077, 0.81318681, 0.9010989 , 0.67582418,\n",
       "        0.05494505, 0.00549451, 0.08241758, 0.84065934, 0.92307692,\n",
       "        0.97802198, 0.87912088, 0.43406593, 0.04395604]])"
      ]
     },
     "execution_count": 72,
     "metadata": {},
     "output_type": "execute_result"
    }
   ],
   "source": [
    "y_pred = np.exp(model_bern2.feature_log_prob_)\n",
    "y_pred"
   ]
  },
  {
   "cell_type": "code",
   "execution_count": null,
   "metadata": {},
   "outputs": [],
   "source": []
  }
 ],
 "metadata": {
  "kernelspec": {
   "display_name": "Python 3",
   "language": "python",
   "name": "python3"
  },
  "language_info": {
   "codemirror_mode": {
    "name": "ipython",
    "version": 3
   },
   "file_extension": ".py",
   "mimetype": "text/x-python",
   "name": "python",
   "nbconvert_exporter": "python",
   "pygments_lexer": "ipython3",
   "version": "3.7.6"
  }
 },
 "nbformat": 4,
 "nbformat_minor": 4
}
