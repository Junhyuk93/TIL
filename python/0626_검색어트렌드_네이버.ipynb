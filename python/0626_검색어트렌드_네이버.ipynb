{
 "cells": [
  {
   "cell_type": "markdown",
   "metadata": {},
   "source": [
    "Oauth\n",
    "\n",
    "- Oauth\n",
    "\n",
    "    - 비밀번호 없이 사이트의 정보를 제 3자에게 제공해주는 인증하는 표준 프로토콜\n",
    "    \n",
    "- History\n",
    "    - OpenID 아이디, 패스워드 없이 인증하는 방법 (피싱 공격에 취약)\n",
    "    - 2007년 10월 트위터에 OpenID 작업을 위해 Oauth 1.0 표준 초안 작성\n",
    "    - 2008년 11월 IEFT 에서 Oauth 워킹 그룹 생성\n",
    "    - 2012년 10월 Oauth 2.0 표준 초안 작성\n",
    "    \n",
    "   \n",
    "   \n",
    "   \n",
    "   \n",
    " \n",
    "   \n",
    "   \n",
    "   \n",
    "   \n",
    "   \n",
    "   \n",
    "   \n",
    "   \n",
    "  "
   ]
  },
  {
   "cell_type": "code",
   "execution_count": null,
   "metadata": {},
   "outputs": [],
   "source": [
    "### Naver Rest API\n",
    "- 통합 검색어 트렌드\n",
    "- 파파고 번역 ㅁi\n",
    "https://feee\n",
    "4444 통합 검색어 트렌드\n",
    "- 1. Request Token 얻기 = > app_key 획득\n",
    "\n",
    "- 2. app_key 이용해서 데이터 가져오기"
   ]
  },
  {
   "cell_type": "code",
   "execution_count": 5,
   "metadata": {},
   "outputs": [],
   "source": [
    "client_id='UCtQjYM49brBOvzfVxPZ'\n",
    "client_secret='##########'"
   ]
  },
  {
   "cell_type": "code",
   "execution_count": 6,
   "metadata": {},
   "outputs": [],
   "source": [
    "import json"
   ]
  },
  {
   "cell_type": "code",
   "execution_count": 7,
   "metadata": {},
   "outputs": [],
   "source": [
    "url = 'https://openapi.naver.com/v1/datalab/search'"
   ]
  },
  {
   "cell_type": "code",
   "execution_count": 11,
   "metadata": {},
   "outputs": [],
   "source": [
    "params = {\n",
    "    'startDate':'2018-01-01',\n",
    "    'endDate':'2020-06-26',\n",
    "    'timeUnit':'month',\n",
    "    'keywordGroups':[\n",
    "        {'groupName':'트위터','keywords':['트위터','트윗']},\n",
    "        {'groupName':'페이스북','keywords':['페이스북','페북']},\n",
    "        {'groupName':'인스타그램','keywords':['인스타그램','인스타']},\n",
    "    ]\n",
    "}"
   ]
  },
  {
   "cell_type": "code",
   "execution_count": 12,
   "metadata": {},
   "outputs": [],
   "source": [
    "headers = {\n",
    "    \"X-Naver-Client-Id\": client_id,\n",
    "    \"X-Naver-Client-Secret\": client_secret,\n",
    "    \"Content-Type\": \"application/json\",\n",
    "    \n",
    "}"
   ]
  },
  {
   "cell_type": "code",
   "execution_count": 15,
   "metadata": {},
   "outputs": [
    {
     "data": {
      "text/plain": [
       "<Response [200]>"
      ]
     },
     "execution_count": 15,
     "metadata": {},
     "output_type": "execute_result"
    }
   ],
   "source": [
    "# API 요청\n",
    "\n",
    "response = requests.post(url,data=json.dumps(params),headers=headers)\n",
    "response"
   ]
  },
  {
   "cell_type": "code",
   "execution_count": 13,
   "metadata": {},
   "outputs": [
    {
     "data": {
      "text/plain": [
       "'{\"startDate\": \"2018-01-01\", \"endDate\": \"2020-06-26\", \"timeUnit\": \"month\", \"keywordGroups\": [{\"groupName\": \"\\\\ud2b8\\\\uc704\\\\ud130\", \"keywords\": [\"\\\\ud2b8\\\\uc704\\\\ud130\", \"\\\\ud2b8\\\\uc717\"]}, {\"groupName\": \"\\\\ud398\\\\uc774\\\\uc2a4\\\\ubd81\", \"keywords\": [\"\\\\ud398\\\\uc774\\\\uc2a4\\\\ubd81\", \"\\\\ud398\\\\ubd81\"]}, {\"groupName\": \"\\\\uc778\\\\uc2a4\\\\ud0c0\\\\uadf8\\\\ub7a8\", \"keywords\": [\"\\\\uc778\\\\uc2a4\\\\ud0c0\\\\uadf8\\\\ub7a8\", \"\\\\uc778\\\\uc2a4\\\\ud0c0\"]}]}'"
      ]
     },
     "execution_count": 13,
     "metadata": {},
     "output_type": "execute_result"
    }
   ],
   "source": [
    "json.dumps(params)"
   ]
  },
  {
   "cell_type": "code",
   "execution_count": 19,
   "metadata": {},
   "outputs": [],
   "source": [
    "datas = response.json()['results']"
   ]
  },
  {
   "cell_type": "code",
   "execution_count": 21,
   "metadata": {},
   "outputs": [],
   "source": [
    "dfs = []2\n",
    "import pandas as pd\n",
    "for data in datas:\n",
    "    df= pd.DataFrame(data['data'])\n",
    "    df['title'] = data['title'] # 트위터 , 페이스북 , 인스타그램\n",
    "    dfs.append(df)"
   ]
  },
  {
   "cell_type": "code",
   "execution_count": 25,
   "metadata": {},
   "outputs": [],
   "source": [
    "result_df =pd.concat(dfs,ignore_index=True)"
   ]
  },
  {
   "cell_type": "code",
   "execution_count": 26,
   "metadata": {},
   "outputs": [
    {
     "data": {
      "text/html": [
       "<div>\n",
       "<style scoped>\n",
       "    .dataframe tbody tr th:only-of-type {\n",
       "        vertical-align: middle;\n",
       "    }\n",
       "\n",
       "    .dataframe tbody tr th {\n",
       "        vertical-align: top;\n",
       "    }\n",
       "\n",
       "    .dataframe thead th {\n",
       "        text-align: right;\n",
       "    }\n",
       "</style>\n",
       "<table border=\"1\" class=\"dataframe\">\n",
       "  <thead>\n",
       "    <tr style=\"text-align: right;\">\n",
       "      <th></th>\n",
       "      <th>period</th>\n",
       "      <th>ratio</th>\n",
       "      <th>title</th>\n",
       "    </tr>\n",
       "  </thead>\n",
       "  <tbody>\n",
       "    <tr>\n",
       "      <th>0</th>\n",
       "      <td>2018-01-01</td>\n",
       "      <td>14.59502</td>\n",
       "      <td>트위터</td>\n",
       "    </tr>\n",
       "    <tr>\n",
       "      <th>1</th>\n",
       "      <td>2018-02-01</td>\n",
       "      <td>13.02380</td>\n",
       "      <td>트위터</td>\n",
       "    </tr>\n",
       "    <tr>\n",
       "      <th>2</th>\n",
       "      <td>2018-03-01</td>\n",
       "      <td>12.97953</td>\n",
       "      <td>트위터</td>\n",
       "    </tr>\n",
       "    <tr>\n",
       "      <th>3</th>\n",
       "      <td>2018-04-01</td>\n",
       "      <td>12.82991</td>\n",
       "      <td>트위터</td>\n",
       "    </tr>\n",
       "    <tr>\n",
       "      <th>4</th>\n",
       "      <td>2018-05-01</td>\n",
       "      <td>13.05391</td>\n",
       "      <td>트위터</td>\n",
       "    </tr>\n",
       "    <tr>\n",
       "      <th>...</th>\n",
       "      <td>...</td>\n",
       "      <td>...</td>\n",
       "      <td>...</td>\n",
       "    </tr>\n",
       "    <tr>\n",
       "      <th>85</th>\n",
       "      <td>2020-02-01</td>\n",
       "      <td>21.53446</td>\n",
       "      <td>인스타그램</td>\n",
       "    </tr>\n",
       "    <tr>\n",
       "      <th>86</th>\n",
       "      <td>2020-03-01</td>\n",
       "      <td>25.01454</td>\n",
       "      <td>인스타그램</td>\n",
       "    </tr>\n",
       "    <tr>\n",
       "      <th>87</th>\n",
       "      <td>2020-04-01</td>\n",
       "      <td>24.12708</td>\n",
       "      <td>인스타그램</td>\n",
       "    </tr>\n",
       "    <tr>\n",
       "      <th>88</th>\n",
       "      <td>2020-05-01</td>\n",
       "      <td>25.68412</td>\n",
       "      <td>인스타그램</td>\n",
       "    </tr>\n",
       "    <tr>\n",
       "      <th>89</th>\n",
       "      <td>2020-06-01</td>\n",
       "      <td>21.36119</td>\n",
       "      <td>인스타그램</td>\n",
       "    </tr>\n",
       "  </tbody>\n",
       "</table>\n",
       "<p>90 rows × 3 columns</p>\n",
       "</div>"
      ],
      "text/plain": [
       "        period     ratio  title\n",
       "0   2018-01-01  14.59502    트위터\n",
       "1   2018-02-01  13.02380    트위터\n",
       "2   2018-03-01  12.97953    트위터\n",
       "3   2018-04-01  12.82991    트위터\n",
       "4   2018-05-01  13.05391    트위터\n",
       "..         ...       ...    ...\n",
       "85  2020-02-01  21.53446  인스타그램\n",
       "86  2020-03-01  25.01454  인스타그램\n",
       "87  2020-04-01  24.12708  인스타그램\n",
       "88  2020-05-01  25.68412  인스타그램\n",
       "89  2020-06-01  21.36119  인스타그램\n",
       "\n",
       "[90 rows x 3 columns]"
      ]
     },
     "execution_count": 26,
     "metadata": {},
     "output_type": "execute_result"
    }
   ],
   "source": [
    "result_df"
   ]
  },
  {
   "cell_type": "code",
   "execution_count": 27,
   "metadata": {},
   "outputs": [
    {
     "data": {
      "text/html": [
       "<div>\n",
       "<style scoped>\n",
       "    .dataframe tbody tr th:only-of-type {\n",
       "        vertical-align: middle;\n",
       "    }\n",
       "\n",
       "    .dataframe tbody tr th {\n",
       "        vertical-align: top;\n",
       "    }\n",
       "\n",
       "    .dataframe thead th {\n",
       "        text-align: right;\n",
       "    }\n",
       "</style>\n",
       "<table border=\"1\" class=\"dataframe\">\n",
       "  <thead>\n",
       "    <tr style=\"text-align: right;\">\n",
       "      <th>title</th>\n",
       "      <th>인스타그램</th>\n",
       "      <th>트위터</th>\n",
       "      <th>페이스북</th>\n",
       "    </tr>\n",
       "    <tr>\n",
       "      <th>period</th>\n",
       "      <th></th>\n",
       "      <th></th>\n",
       "      <th></th>\n",
       "    </tr>\n",
       "  </thead>\n",
       "  <tbody>\n",
       "    <tr>\n",
       "      <th>2018-01-01</th>\n",
       "      <td>23.41982</td>\n",
       "      <td>14.59502</td>\n",
       "      <td>97.80481</td>\n",
       "    </tr>\n",
       "    <tr>\n",
       "      <th>2018-02-01</th>\n",
       "      <td>22.53544</td>\n",
       "      <td>13.02380</td>\n",
       "      <td>89.05814</td>\n",
       "    </tr>\n",
       "    <tr>\n",
       "      <th>2018-03-01</th>\n",
       "      <td>25.39880</td>\n",
       "      <td>12.97953</td>\n",
       "      <td>98.84292</td>\n",
       "    </tr>\n",
       "    <tr>\n",
       "      <th>2018-04-01</th>\n",
       "      <td>26.55983</td>\n",
       "      <td>12.82991</td>\n",
       "      <td>100.00000</td>\n",
       "    </tr>\n",
       "    <tr>\n",
       "      <th>2018-05-01</th>\n",
       "      <td>28.60035</td>\n",
       "      <td>13.05391</td>\n",
       "      <td>92.23588</td>\n",
       "    </tr>\n",
       "    <tr>\n",
       "      <th>2018-06-01</th>\n",
       "      <td>28.40753</td>\n",
       "      <td>13.34512</td>\n",
       "      <td>91.70143</td>\n",
       "    </tr>\n",
       "    <tr>\n",
       "      <th>2018-07-01</th>\n",
       "      <td>27.84405</td>\n",
       "      <td>13.02773</td>\n",
       "      <td>87.91600</td>\n",
       "    </tr>\n",
       "    <tr>\n",
       "      <th>2018-08-01</th>\n",
       "      <td>29.84383</td>\n",
       "      <td>13.45399</td>\n",
       "      <td>83.56488</td>\n",
       "    </tr>\n",
       "    <tr>\n",
       "      <th>2018-09-01</th>\n",
       "      <td>25.05096</td>\n",
       "      <td>12.83755</td>\n",
       "      <td>82.66018</td>\n",
       "    </tr>\n",
       "    <tr>\n",
       "      <th>2018-10-01</th>\n",
       "      <td>27.20480</td>\n",
       "      <td>13.05677</td>\n",
       "      <td>81.30381</td>\n",
       "    </tr>\n",
       "    <tr>\n",
       "      <th>2018-11-01</th>\n",
       "      <td>21.97864</td>\n",
       "      <td>12.77338</td>\n",
       "      <td>76.80167</td>\n",
       "    </tr>\n",
       "    <tr>\n",
       "      <th>2018-12-01</th>\n",
       "      <td>20.87390</td>\n",
       "      <td>12.86931</td>\n",
       "      <td>75.43269</td>\n",
       "    </tr>\n",
       "    <tr>\n",
       "      <th>2019-01-01</th>\n",
       "      <td>22.51379</td>\n",
       "      <td>13.31172</td>\n",
       "      <td>70.21709</td>\n",
       "    </tr>\n",
       "    <tr>\n",
       "      <th>2019-02-01</th>\n",
       "      <td>19.33788</td>\n",
       "      <td>11.74776</td>\n",
       "      <td>62.57096</td>\n",
       "    </tr>\n",
       "    <tr>\n",
       "      <th>2019-03-01</th>\n",
       "      <td>21.67678</td>\n",
       "      <td>11.82313</td>\n",
       "      <td>70.02431</td>\n",
       "    </tr>\n",
       "    <tr>\n",
       "      <th>2019-04-01</th>\n",
       "      <td>21.16257</td>\n",
       "      <td>12.32991</td>\n",
       "      <td>71.67271</td>\n",
       "    </tr>\n",
       "    <tr>\n",
       "      <th>2019-05-01</th>\n",
       "      <td>20.94850</td>\n",
       "      <td>12.43771</td>\n",
       "      <td>67.79872</td>\n",
       "    </tr>\n",
       "    <tr>\n",
       "      <th>2019-06-01</th>\n",
       "      <td>21.76954</td>\n",
       "      <td>13.29913</td>\n",
       "      <td>69.23259</td>\n",
       "    </tr>\n",
       "    <tr>\n",
       "      <th>2019-07-01</th>\n",
       "      <td>22.58600</td>\n",
       "      <td>14.00593</td>\n",
       "      <td>64.22088</td>\n",
       "    </tr>\n",
       "    <tr>\n",
       "      <th>2019-08-01</th>\n",
       "      <td>21.43535</td>\n",
       "      <td>14.20800</td>\n",
       "      <td>61.74662</td>\n",
       "    </tr>\n",
       "    <tr>\n",
       "      <th>2019-09-01</th>\n",
       "      <td>19.83802</td>\n",
       "      <td>14.00856</td>\n",
       "      <td>62.30318</td>\n",
       "    </tr>\n",
       "    <tr>\n",
       "      <th>2019-10-01</th>\n",
       "      <td>22.24957</td>\n",
       "      <td>14.88466</td>\n",
       "      <td>62.46025</td>\n",
       "    </tr>\n",
       "    <tr>\n",
       "      <th>2019-11-01</th>\n",
       "      <td>21.55812</td>\n",
       "      <td>14.35200</td>\n",
       "      <td>59.88514</td>\n",
       "    </tr>\n",
       "    <tr>\n",
       "      <th>2019-12-01</th>\n",
       "      <td>21.52333</td>\n",
       "      <td>14.36689</td>\n",
       "      <td>57.80639</td>\n",
       "    </tr>\n",
       "    <tr>\n",
       "      <th>2020-01-01</th>\n",
       "      <td>22.03810</td>\n",
       "      <td>16.05722</td>\n",
       "      <td>55.94828</td>\n",
       "    </tr>\n",
       "    <tr>\n",
       "      <th>2020-02-01</th>\n",
       "      <td>21.53446</td>\n",
       "      <td>15.71465</td>\n",
       "      <td>56.90092</td>\n",
       "    </tr>\n",
       "    <tr>\n",
       "      <th>2020-03-01</th>\n",
       "      <td>25.01454</td>\n",
       "      <td>18.56690</td>\n",
       "      <td>63.03497</td>\n",
       "    </tr>\n",
       "    <tr>\n",
       "      <th>2020-04-01</th>\n",
       "      <td>24.12708</td>\n",
       "      <td>18.29928</td>\n",
       "      <td>57.31923</td>\n",
       "    </tr>\n",
       "    <tr>\n",
       "      <th>2020-05-01</th>\n",
       "      <td>25.68412</td>\n",
       "      <td>21.05230</td>\n",
       "      <td>56.65968</td>\n",
       "    </tr>\n",
       "    <tr>\n",
       "      <th>2020-06-01</th>\n",
       "      <td>21.36119</td>\n",
       "      <td>16.20296</td>\n",
       "      <td>45.45014</td>\n",
       "    </tr>\n",
       "  </tbody>\n",
       "</table>\n",
       "</div>"
      ],
      "text/plain": [
       "title          인스타그램       트위터       페이스북\n",
       "period                                   \n",
       "2018-01-01  23.41982  14.59502   97.80481\n",
       "2018-02-01  22.53544  13.02380   89.05814\n",
       "2018-03-01  25.39880  12.97953   98.84292\n",
       "2018-04-01  26.55983  12.82991  100.00000\n",
       "2018-05-01  28.60035  13.05391   92.23588\n",
       "2018-06-01  28.40753  13.34512   91.70143\n",
       "2018-07-01  27.84405  13.02773   87.91600\n",
       "2018-08-01  29.84383  13.45399   83.56488\n",
       "2018-09-01  25.05096  12.83755   82.66018\n",
       "2018-10-01  27.20480  13.05677   81.30381\n",
       "2018-11-01  21.97864  12.77338   76.80167\n",
       "2018-12-01  20.87390  12.86931   75.43269\n",
       "2019-01-01  22.51379  13.31172   70.21709\n",
       "2019-02-01  19.33788  11.74776   62.57096\n",
       "2019-03-01  21.67678  11.82313   70.02431\n",
       "2019-04-01  21.16257  12.32991   71.67271\n",
       "2019-05-01  20.94850  12.43771   67.79872\n",
       "2019-06-01  21.76954  13.29913   69.23259\n",
       "2019-07-01  22.58600  14.00593   64.22088\n",
       "2019-08-01  21.43535  14.20800   61.74662\n",
       "2019-09-01  19.83802  14.00856   62.30318\n",
       "2019-10-01  22.24957  14.88466   62.46025\n",
       "2019-11-01  21.55812  14.35200   59.88514\n",
       "2019-12-01  21.52333  14.36689   57.80639\n",
       "2020-01-01  22.03810  16.05722   55.94828\n",
       "2020-02-01  21.53446  15.71465   56.90092\n",
       "2020-03-01  25.01454  18.56690   63.03497\n",
       "2020-04-01  24.12708  18.29928   57.31923\n",
       "2020-05-01  25.68412  21.05230   56.65968\n",
       "2020-06-01  21.36119  16.20296   45.45014"
      ]
     },
     "execution_count": 27,
     "metadata": {},
     "output_type": "execute_result"
    }
   ],
   "source": [
    "result_df.pivot('period','title','ratio')"
   ]
  },
  {
   "cell_type": "markdown",
   "metadata": {},
   "source": [
    "#### 파파고 API\n",
    "\n",
    "- 내 어플리케이션에 파파고 추가"
   ]
  },
  {
   "cell_type": "code",
   "execution_count": 28,
   "metadata": {},
   "outputs": [],
   "source": [
    "url='https://openapi.naver.com/v1/papago/n2mt'"
   ]
  },
  {
   "cell_type": "code",
   "execution_count": 39,
   "metadata": {},
   "outputs": [],
   "source": [
    "params ={\n",
    "    'source':'ko',\n",
    "    'target':'en',\n",
    "    'text':'파이썬 웹 크롤링 및 자동화, 저는 바보멍청이입니다 헤헤헤헤헤 엄청 졸리다',\n",
    "    \n",
    "}"
   ]
  },
  {
   "cell_type": "code",
   "execution_count": 40,
   "metadata": {},
   "outputs": [
    {
     "data": {
      "text/plain": [
       "<Response [200]>"
      ]
     },
     "execution_count": 40,
     "metadata": {},
     "output_type": "execute_result"
    }
   ],
   "source": [
    "response = requests.post(url,json.dumps(params),headers=headers)\n",
    "response"
   ]
  },
  {
   "cell_type": "code",
   "execution_count": 41,
   "metadata": {},
   "outputs": [
    {
     "data": {
      "text/plain": [
       "\"Python Web crawling and automation, I'm an idiot. Hehehehehehe I'm so sleepy\""
      ]
     },
     "execution_count": 41,
     "metadata": {},
     "output_type": "execute_result"
    }
   ],
   "source": [
    "response.json()['message']['result']['translatedText']"
   ]
  },
  {
   "cell_type": "code",
   "execution_count": null,
   "metadata": {},
   "outputs": [],
   "source": []
  }
 ],
 "metadata": {
  "kernelspec": {
   "display_name": "Python 3",
   "language": "python",
   "name": "python3"
  },
  "language_info": {
   "codemirror_mode": {
    "name": "ipython",
    "version": 3
   },
   "file_extension": ".py",
   "mimetype": "text/x-python",
   "name": "python",
   "nbconvert_exporter": "python",
   "pygments_lexer": "ipython3",
   "version": "3.7.6"
  }
 },
 "nbformat": 4,
 "nbformat_minor": 4
}
