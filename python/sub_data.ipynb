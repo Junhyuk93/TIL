{
 "cells": [
  {
   "cell_type": "markdown",
   "metadata": {},
   "source": [
    "### 전체 지하철역 데이터 전처리(9호선은 없는듯 함)"
   ]
  },
  {
   "cell_type": "code",
   "execution_count": 4,
   "metadata": {},
   "outputs": [],
   "source": [
    "import warnings\n",
    "warnings.filterwarnings(action='ignore')\n",
    "import scipy as sp\n",
    "import scipy.stats\n",
    "import statsmodels.api as sm\n",
    "import sklearn as sk\n",
    "import seaborn as sns\n",
    "import matplotlib as mpl\n",
    "import matplotlib.pylab as plt\n",
    "import glob\n",
    "import pandas as pd\n",
    "set(sorted([f.name for f in mpl.font_manager.fontManager.ttflist]))\n",
    "mpl.rc('font', family='NanumGothic')\n",
    "mpl.rc('axes', unicode_minus=False)"
   ]
  },
  {
   "cell_type": "code",
   "execution_count": 5,
   "metadata": {},
   "outputs": [],
   "source": [
    "path ='C:/Code/regression'\n",
    "filenames = glob.glob(path + \"/*.csv\")"
   ]
  },
  {
   "cell_type": "code",
   "execution_count": 6,
   "metadata": {
    "scrolled": true
   },
   "outputs": [
    {
     "ename": "IndexError",
     "evalue": "list index out of range",
     "output_type": "error",
     "traceback": [
      "\u001b[1;31m---------------------------------------------------------------------------\u001b[0m",
      "\u001b[1;31mIndexError\u001b[0m                                Traceback (most recent call last)",
      "\u001b[1;32m<ipython-input-6-064b2fcfe426>\u001b[0m in \u001b[0;36m<module>\u001b[1;34m\u001b[0m\n\u001b[1;32m----> 1\u001b[1;33m \u001b[0msub_2015\u001b[0m\u001b[1;33m=\u001b[0m\u001b[0mpd\u001b[0m\u001b[1;33m.\u001b[0m\u001b[0mDataFrame\u001b[0m\u001b[1;33m(\u001b[0m\u001b[0mpd\u001b[0m\u001b[1;33m.\u001b[0m\u001b[0mread_csv\u001b[0m\u001b[1;33m(\u001b[0m\u001b[0mfilenames\u001b[0m\u001b[1;33m[\u001b[0m\u001b[1;36m0\u001b[0m\u001b[1;33m]\u001b[0m\u001b[1;33m,\u001b[0m\u001b[0mencoding\u001b[0m\u001b[1;33m=\u001b[0m\u001b[1;34m'euc-kr'\u001b[0m\u001b[1;33m,\u001b[0m\u001b[0mthousands\u001b[0m \u001b[1;33m=\u001b[0m \u001b[1;34m','\u001b[0m\u001b[1;33m)\u001b[0m\u001b[1;33m)\u001b[0m\u001b[1;33m\u001b[0m\u001b[1;33m\u001b[0m\u001b[0m\n\u001b[0m\u001b[0;32m      2\u001b[0m \u001b[0msub_2016\u001b[0m\u001b[1;33m=\u001b[0m\u001b[0mpd\u001b[0m\u001b[1;33m.\u001b[0m\u001b[0mDataFrame\u001b[0m\u001b[1;33m(\u001b[0m\u001b[0mpd\u001b[0m\u001b[1;33m.\u001b[0m\u001b[0mread_csv\u001b[0m\u001b[1;33m(\u001b[0m\u001b[0mfilenames\u001b[0m\u001b[1;33m[\u001b[0m\u001b[1;36m1\u001b[0m\u001b[1;33m]\u001b[0m\u001b[1;33m,\u001b[0m\u001b[0mencoding\u001b[0m\u001b[1;33m=\u001b[0m\u001b[1;34m'euc-kr'\u001b[0m\u001b[1;33m,\u001b[0m\u001b[0mthousands\u001b[0m \u001b[1;33m=\u001b[0m \u001b[1;34m','\u001b[0m\u001b[1;33m)\u001b[0m\u001b[1;33m)\u001b[0m\u001b[1;33m\u001b[0m\u001b[1;33m\u001b[0m\u001b[0m\n\u001b[0;32m      3\u001b[0m \u001b[0msub_2017\u001b[0m\u001b[1;33m=\u001b[0m\u001b[0mpd\u001b[0m\u001b[1;33m.\u001b[0m\u001b[0mDataFrame\u001b[0m\u001b[1;33m(\u001b[0m\u001b[0mpd\u001b[0m\u001b[1;33m.\u001b[0m\u001b[0mread_csv\u001b[0m\u001b[1;33m(\u001b[0m\u001b[0mfilenames\u001b[0m\u001b[1;33m[\u001b[0m\u001b[1;36m2\u001b[0m\u001b[1;33m]\u001b[0m\u001b[1;33m,\u001b[0m\u001b[0mencoding\u001b[0m\u001b[1;33m=\u001b[0m\u001b[1;34m'euc-kr'\u001b[0m\u001b[1;33m,\u001b[0m\u001b[0mthousands\u001b[0m \u001b[1;33m=\u001b[0m \u001b[1;34m','\u001b[0m\u001b[1;33m)\u001b[0m\u001b[1;33m)\u001b[0m\u001b[1;33m\u001b[0m\u001b[1;33m\u001b[0m\u001b[0m\n\u001b[0;32m      4\u001b[0m \u001b[0msub_2018\u001b[0m\u001b[1;33m=\u001b[0m\u001b[0mpd\u001b[0m\u001b[1;33m.\u001b[0m\u001b[0mDataFrame\u001b[0m\u001b[1;33m(\u001b[0m\u001b[0mpd\u001b[0m\u001b[1;33m.\u001b[0m\u001b[0mread_csv\u001b[0m\u001b[1;33m(\u001b[0m\u001b[0mfilenames\u001b[0m\u001b[1;33m[\u001b[0m\u001b[1;36m3\u001b[0m\u001b[1;33m]\u001b[0m\u001b[1;33m,\u001b[0m\u001b[0mencoding\u001b[0m\u001b[1;33m=\u001b[0m\u001b[1;34m'euc-kr'\u001b[0m\u001b[1;33m,\u001b[0m\u001b[0mthousands\u001b[0m \u001b[1;33m=\u001b[0m \u001b[1;34m','\u001b[0m\u001b[1;33m)\u001b[0m\u001b[1;33m)\u001b[0m\u001b[1;33m\u001b[0m\u001b[1;33m\u001b[0m\u001b[0m\n\u001b[0;32m      5\u001b[0m \u001b[0msub_2019\u001b[0m\u001b[1;33m=\u001b[0m\u001b[0mpd\u001b[0m\u001b[1;33m.\u001b[0m\u001b[0mDataFrame\u001b[0m\u001b[1;33m(\u001b[0m\u001b[0mpd\u001b[0m\u001b[1;33m.\u001b[0m\u001b[0mread_csv\u001b[0m\u001b[1;33m(\u001b[0m\u001b[0mfilenames\u001b[0m\u001b[1;33m[\u001b[0m\u001b[1;36m4\u001b[0m\u001b[1;33m]\u001b[0m\u001b[1;33m,\u001b[0m\u001b[0mencoding\u001b[0m\u001b[1;33m=\u001b[0m\u001b[1;34m'euc-kr'\u001b[0m\u001b[1;33m,\u001b[0m\u001b[0mthousands\u001b[0m \u001b[1;33m=\u001b[0m \u001b[1;34m','\u001b[0m\u001b[1;33m)\u001b[0m\u001b[1;33m)\u001b[0m\u001b[1;33m\u001b[0m\u001b[1;33m\u001b[0m\u001b[0m\n",
      "\u001b[1;31mIndexError\u001b[0m: list index out of range"
     ]
    }
   ],
   "source": [
    "sub_2015=pd.DataFrame(pd.read_csv(filenames[0],encoding='euc-kr',thousands = ','))\n",
    "sub_2016=pd.DataFrame(pd.read_csv(filenames[1],encoding='euc-kr',thousands = ','))\n",
    "sub_2017=pd.DataFrame(pd.read_csv(filenames[2],encoding='euc-kr',thousands = ','))\n",
    "sub_2018=pd.DataFrame(pd.read_csv(filenames[3],encoding='euc-kr',thousands = ','))\n",
    "sub_2019=pd.DataFrame(pd.read_csv(filenames[4],encoding='euc-kr',thousands = ','))"
   ]
  },
  {
   "cell_type": "code",
   "execution_count": 7,
   "metadata": {
    "scrolled": true
   },
   "outputs": [
    {
     "name": "stdout",
     "output_type": "stream",
     "text": [
      " C 드라이브의 볼륨에는 이름이 없습니다.\n",
      " 볼륨 일련 번호: 6850-4FA4\n",
      "\n",
      " C:\\dss13\\회귀분석 프로젝트 디렉터리\n",
      "\n",
      "2020-06-11  오후 08:16    <DIR>          .\n",
      "2020-06-11  오후 08:16    <DIR>          ..\n",
      "2020-06-11  오후 08:14    <DIR>          .ipynb_checkpoints\n",
      "2020-06-11  오후 08:13        13,017,253 2015sub.csv\n",
      "2020-06-11  오후 08:13        13,055,897 2016sub.csv\n",
      "2020-06-11  오후 08:13        12,684,562 2017sub.csv\n",
      "2020-06-11  오후 08:13        11,462,196 2018sub.csv\n",
      "2020-06-11  오후 08:13        11,470,440 2019sub.csv\n",
      "2020-06-11  오후 08:14             2,725 holi.csv\n",
      "2020-06-11  오후 08:16            14,635 sub_data.ipynb\n",
      "               7개 파일          61,707,708 바이트\n",
      "               3개 디렉터리  13,686,947,840 바이트 남음\n"
     ]
    }
   ],
   "source": [
    "ls"
   ]
  },
  {
   "cell_type": "code",
   "execution_count": 8,
   "metadata": {},
   "outputs": [],
   "source": [
    "sub_2015 = pd.read_csv('2015sub.csv',encoding='euc-kr',thousands=',')\n",
    "sub_2016 = pd.read_csv('2015sub.csv',encoding='euc-kr',thousands=',')\n",
    "sub_2016 = pd.read_csv('2015sub.csv',encoding='euc-kr',thousands=',')\n",
    "sub_2016 = pd.read_csv('2015sub.csv',encoding='euc-kr',thousands=',')\n",
    "sub_2015 = pd.read_csv('2015sub.csv',encoding='euc-kr',thousands=',')\n"
   ]
  },
  {
   "cell_type": "code",
   "execution_count": null,
   "metadata": {},
   "outputs": [],
   "source": [
    "sub_2015.columns=['날짜', '역번호', '역명', '구분', '7to8', '8to9', '9to10', '17to18', '18to19','19to20']\n",
    "sub_2016.columns=['날짜', '역번호', '역명', '구분', '7to8', '8to9', '9to10', '17to18', '18to19','19to20']\n",
    "sub_2017.columns=['날짜', '역번호', '역명', '구분', '7to8', '8to9', '9to10', '17to18', '18to19','19to20']\n",
    "sub_2018.columns=['날짜', '역번호', '역명', '구분', '7to8', '8to9', '9to10', '17to18', '18to19','19to20']\n",
    "sub_2019.columns=['날짜', '역번호', '역명', '구분', '7to8', '8to9', '9to10', '17to18', '18to19','19to20']"
   ]
  },
  {
   "cell_type": "code",
   "execution_count": null,
   "metadata": {},
   "outputs": [],
   "source": [
    "sub=pd.concat([sub_2015,sub_2016,sub_2017,sub_2018,sub_2019])"
   ]
  },
  {
   "cell_type": "code",
   "execution_count": null,
   "metadata": {
    "scrolled": false
   },
   "outputs": [],
   "source": [
    "sub"
   ]
  },
  {
   "cell_type": "code",
   "execution_count": null,
   "metadata": {},
   "outputs": [],
   "source": [
    "# 행 개수 확인\n",
    "len(sub_2015)+len(sub_2016)+len(sub_2017)+len(sub_2018)+len(sub_2019)"
   ]
  },
  {
   "cell_type": "code",
   "execution_count": null,
   "metadata": {},
   "outputs": [],
   "source": [
    "# index 재할당\n",
    "sub.reset_index(inplace=True,drop=True)"
   ]
  },
  {
   "cell_type": "code",
   "execution_count": null,
   "metadata": {},
   "outputs": [],
   "source": [
    "# to_numeric\n",
    "sub[['역번호', '7to8', '8to9', '9to10', '17to18', '18to19','19to20']]=sub[['역번호', '7to8', '8to9', '9to10', '17to18', '18to19','19to20']].apply(pd.to_numeric)"
   ]
  },
  {
   "cell_type": "code",
   "execution_count": null,
   "metadata": {},
   "outputs": [],
   "source": [
    "sub.날짜=pd.to_datetime(sub['날짜'])"
   ]
  },
  {
   "cell_type": "code",
   "execution_count": null,
   "metadata": {},
   "outputs": [],
   "source": [
    "sub['year']=sub.날짜.apply(lambda x: x.year)\n",
    "sub['month']=sub.날짜.apply(lambda x: x.month)"
   ]
  },
  {
   "cell_type": "code",
   "execution_count": null,
   "metadata": {},
   "outputs": [],
   "source": [
    "# 요일 찾기\n",
    "import datetime\n",
    "from datetime import date\n",
    "\n",
    "t=['월','화','수','목','금','토','일']\n",
    "sub[\"요일\"]=sub['날짜'].apply(lambda x: t[x.weekday()])"
   ]
  },
  {
   "cell_type": "code",
   "execution_count": null,
   "metadata": {},
   "outputs": [],
   "source": [
    "sub"
   ]
  },
  {
   "cell_type": "markdown",
   "metadata": {},
   "source": [
    "```\n",
    "\n",
    "\n",
    "\n",
    "\n",
    "```"
   ]
  },
  {
   "cell_type": "markdown",
   "metadata": {},
   "source": [
    "### 2호선 퇴근시간만"
   ]
  },
  {
   "cell_type": "code",
   "execution_count": null,
   "metadata": {},
   "outputs": [],
   "source": [
    "# 2호선 퇴근시간만\n",
    "sub2=sub[(200<sub[\"역번호\"]) & (sub[\"역번호\"]<300)].reset_index(drop=True)\n",
    "sub2.drop(['7to8', '8to9', '9to10'],1,inplace=True)"
   ]
  },
  {
   "cell_type": "code",
   "execution_count": null,
   "metadata": {},
   "outputs": [],
   "source": [
    "sub2"
   ]
  },
  {
   "cell_type": "code",
   "execution_count": null,
   "metadata": {
    "scrolled": true
   },
   "outputs": [],
   "source": [
    "# 17~20시간대의 탑승객\n",
    "sub2[\"17to20\"]=sub2[\"17to18\"]+sub2[\"18to19\"]+sub2[\"19to20\"]"
   ]
  },
  {
   "cell_type": "code",
   "execution_count": null,
   "metadata": {
    "scrolled": false
   },
   "outputs": [],
   "source": [
    "# 역명에서 역번호 제외\n",
    "sub2[\"역명\"]=sub2.역명.str.split(\"(\",expand=True)[0]"
   ]
  },
  {
   "cell_type": "code",
   "execution_count": null,
   "metadata": {
    "scrolled": false
   },
   "outputs": [],
   "source": [
    "# 왜 위에꺼는 [0]하면 나오는데 이건 안나옴?????????????????????\n",
    "# 둘다 똑같이 dataframe인데..\n",
    "sub2[0]"
   ]
  },
  {
   "cell_type": "code",
   "execution_count": null,
   "metadata": {
    "scrolled": false
   },
   "outputs": [],
   "source": [
    "sub2.drop([\"역번호\",\"17to18\",\"18to19\",\"19to20\"],1,inplace=True)"
   ]
  },
  {
   "cell_type": "code",
   "execution_count": null,
   "metadata": {
    "scrolled": true
   },
   "outputs": [],
   "source": [
    "sub2"
   ]
  },
  {
   "cell_type": "code",
   "execution_count": null,
   "metadata": {
    "scrolled": false
   },
   "outputs": [],
   "source": [
    "len(sub2.역명.unique()),sub2.역명.unique()"
   ]
  },
  {
   "cell_type": "code",
   "execution_count": null,
   "metadata": {},
   "outputs": [],
   "source": [
    "# 신천이 잠실새내로 변경되어 두개의 이름 존재\n",
    "sub2.loc[sub2['역명']==\"신천\",'역명']=\"잠실새내\""
   ]
  },
  {
   "cell_type": "code",
   "execution_count": null,
   "metadata": {},
   "outputs": [],
   "source": [
    "sub2"
   ]
  },
  {
   "cell_type": "code",
   "execution_count": null,
   "metadata": {
    "scrolled": true
   },
   "outputs": [],
   "source": [
    "len(sub2.역명.unique()),sub2.역명.unique()"
   ]
  },
  {
   "cell_type": "code",
   "execution_count": null,
   "metadata": {
    "scrolled": true
   },
   "outputs": [],
   "source": [
    "np.sum(sub2.isnull())"
   ]
  },
  {
   "cell_type": "markdown",
   "metadata": {},
   "source": [
    "### 2호선 데이터 공휴일 여부 표시"
   ]
  },
  {
   "cell_type": "code",
   "execution_count": null,
   "metadata": {},
   "outputs": [],
   "source": [
    "holi=pd.read_csv(\"holi.csv\",encoding=\"euc-kr\")"
   ]
  },
  {
   "cell_type": "code",
   "execution_count": null,
   "metadata": {},
   "outputs": [],
   "source": [
    "holi"
   ]
  },
  {
   "cell_type": "code",
   "execution_count": null,
   "metadata": {
    "scrolled": true
   },
   "outputs": [],
   "source": [
    "# seq 공휴일이 겹친경우 카운트 됨\n",
    "holi[holi.seq==2].locdate"
   ]
  },
  {
   "cell_type": "code",
   "execution_count": null,
   "metadata": {
    "scrolled": true
   },
   "outputs": [],
   "source": [
    "# 띠용 20171002는 seq 2 인데 한개 밖에 없눈데..\n",
    "holi[(holi.locdate==20171002) | (holi.locdate==20171003)]"
   ]
  },
  {
   "cell_type": "code",
   "execution_count": null,
   "metadata": {},
   "outputs": [],
   "source": [
    "# isHoliday가 N인경우는 쉬는날이 아니었으므로 제거\n",
    "holi=holi[holi.isHoliday!=\"N\"]"
   ]
  },
  {
   "cell_type": "code",
   "execution_count": null,
   "metadata": {
    "scrolled": false
   },
   "outputs": [],
   "source": [
    "holi.groupby(\"year\").size()"
   ]
  },
  {
   "cell_type": "code",
   "execution_count": null,
   "metadata": {},
   "outputs": [],
   "source": [
    "holi.locdate=pd.to_datetime(holi.locdate,format=\"%Y%m%d\")"
   ]
  },
  {
   "cell_type": "code",
   "execution_count": null,
   "metadata": {},
   "outputs": [],
   "source": [
    "# sub2.holi는 공휴일 -> 주말은 아님\n",
    "sub2[\"holi\"]=sub2[\"날짜\"].isin(holi.locdate)"
   ]
  },
  {
   "cell_type": "code",
   "execution_count": null,
   "metadata": {
    "scrolled": false
   },
   "outputs": [],
   "source": [
    "sub2[sub2[\"year\"]==2017][sub2.holi==True]\n",
    "# 1900개행이 아닌 1800개 --> 20171003이 개천절과 추석이 겹쳐있기 때문에 중복!"
   ]
  },
  {
   "cell_type": "code",
   "execution_count": null,
   "metadata": {},
   "outputs": [],
   "source": [
    "# 주말이거나 공휴일이면 holi가 True가 되도록 변경\n",
    "sub2[\"holi\"]=np.where((sub2[\"요일\"].isin([\"토\",\"일\"]))|(sub2[\"holi\"]==True),True,False)"
   ]
  },
  {
   "cell_type": "code",
   "execution_count": null,
   "metadata": {},
   "outputs": [],
   "source": [
    "sub2[sub2.holi==True].head(60)"
   ]
  },
  {
   "cell_type": "markdown",
   "metadata": {},
   "source": [
    "```\n",
    "csv파일 생성 완료라 markdown으로 바꿔놓음\n",
    "sub2.to_csv(\"sub2.csv\",index=False,encoding=\"euc-kr\")\n",
    "```"
   ]
  },
  {
   "cell_type": "markdown",
   "metadata": {},
   "source": [
    "## 신설동라인같은 역 제거 필요!!!"
   ]
  },
  {
   "cell_type": "markdown",
   "metadata": {},
   "source": [
    "```\n",
    "\n",
    "\n",
    "\n",
    "\n",
    "\n",
    "```"
   ]
  },
  {
   "cell_type": "markdown",
   "metadata": {},
   "source": [
    "### 기상 데이터 전처리"
   ]
  },
  {
   "cell_type": "code",
   "execution_count": null,
   "metadata": {},
   "outputs": [],
   "source": []
  }
 ],
 "metadata": {
  "kernelspec": {
   "display_name": "Python 3",
   "language": "python",
   "name": "python3"
  },
  "language_info": {
   "codemirror_mode": {
    "name": "ipython",
    "version": 3
   },
   "file_extension": ".py",
   "mimetype": "text/x-python",
   "name": "python",
   "nbconvert_exporter": "python",
   "pygments_lexer": "ipython3",
   "version": "3.7.6"
  }
 },
 "nbformat": 4,
 "nbformat_minor": 4
}
