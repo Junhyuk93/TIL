{
 "cells": [
  {
   "cell_type": "code",
   "execution_count": 103,
   "metadata": {},
   "outputs": [],
   "source": [
    "import numpy as np\n",
    "# import scipy as sp\n",
    "from scipy import stats\n",
    "import matplotlib.pyplot as plt\n",
    "import seaborn as sns\n",
    "import pandas as pd"
   ]
  },
  {
   "cell_type": "code",
   "execution_count": 23,
   "metadata": {},
   "outputs": [],
   "source": [
    "rv = sp.stats.norm(loc=0, scale=0.1)"
   ]
  },
  {
   "cell_type": "code",
   "execution_count": 40,
   "metadata": {},
   "outputs": [
    {
     "data": {
      "image/png": "[encoded data removed]",
      "text/plain": [
       "<Figure size 432x288 with 1 Axes>"
      ]
     },
     "metadata": {
      "needs_background": "light"
     },
     "output_type": "display_data"
    }
   ],
   "source": [
    "rv = sp.stats.norm(loc=0, scale=0.1)\n",
    "xx = np.linspace(-1, 1, 100)\n",
    "pdf = rv.pdf(xx)\n",
    "plt.plot(xx, pdf)\n",
    "plt.title(\"확률밀도함수 \")\n",
    "plt.xlabel(\"$x$\")\n",
    "plt.ylabel(\"$p(x)$\")\n",
    "plt.show()\n"
   ]
  },
  {
   "cell_type": "code",
   "execution_count": 58,
   "metadata": {},
   "outputs": [
    {
     "data": {
      "text/plain": [
       "array([[ 0.17640523,  0.04001572,  0.0978738 ,  0.22408932,  0.1867558 ,\n",
       "        -0.09772779,  0.09500884, -0.01513572, -0.01032189,  0.04105985],\n",
       "       [ 0.01440436,  0.14542735,  0.07610377,  0.0121675 ,  0.04438632,\n",
       "         0.03336743,  0.14940791, -0.02051583,  0.03130677, -0.08540957],\n",
       "       [-0.25529898,  0.06536186,  0.08644362, -0.0742165 ,  0.22697546,\n",
       "        -0.14543657,  0.00457585, -0.01871839,  0.15327792,  0.14693588],\n",
       "       [ 0.01549474,  0.03781625, -0.08877857, -0.19807965, -0.03479121,\n",
       "         0.0156349 ,  0.12302907,  0.12023798, -0.03873268, -0.03023028],\n",
       "       [-0.1048553 , -0.14200179, -0.17062702,  0.19507754, -0.05096522,\n",
       "        -0.04380743, -0.12527954,  0.07774904, -0.16138978, -0.02127403],\n",
       "       [-0.08954666,  0.03869025, -0.05108051, -0.11806322, -0.00281822,\n",
       "         0.04283319,  0.00665172,  0.03024719, -0.06343221, -0.03627412],\n",
       "       [-0.06724604, -0.03595532, -0.08131463, -0.17262826,  0.01774261,\n",
       "        -0.04017809, -0.16301983,  0.04627823, -0.09072984,  0.00519454],\n",
       "       [ 0.07290906,  0.01289829,  0.11394007, -0.12348258,  0.04023416,\n",
       "        -0.06848101, -0.08707971, -0.05788497, -0.03115525,  0.00561653],\n",
       "       [-0.11651498,  0.09008265,  0.04656624, -0.15362437,  0.14882522,\n",
       "         0.18958892,  0.11787796, -0.01799248, -0.10707526,  0.10544517],\n",
       "       [-0.04031769,  0.12224451,  0.0208275 ,  0.0976639 ,  0.03563664,\n",
       "         0.07065732,  0.00105   ,  0.17858705,  0.01269121,  0.04019894]])"
      ]
     },
     "execution_count": 58,
     "metadata": {},
     "output_type": "execute_result"
    }
   ],
   "source": [
    "rv.rvs(size=(10, 10), random_state=0)"
   ]
  },
  {
   "cell_type": "code",
   "execution_count": 59,
   "metadata": {},
   "outputs": [
    {
     "name": "stdout",
     "output_type": "stream",
     "text": [
      "표본평균 : 3.9547432925098045\n",
      "비편향 표본분산 : 0.9875270456945128\n"
     ]
    }
   ],
   "source": [
    "np.random.seed(0)\n",
    "x = sp.stats.norm(4).rvs(1000)\n",
    "print(\"표본평균 :\", x.mean())\n",
    "print(\"비편향 표본분산 :\", x.std(ddof=1))\n"
   ]
  },
  {
   "cell_type": "code",
   "execution_count": 62,
   "metadata": {},
   "outputs": [
    {
     "data": {
      "image/png": "[encoded data removed]",
      "text/plain": [
       "<Figure size 864x360 with 9 Axes>"
      ]
     },
     "metadata": {
      "needs_background": "light"
     },
     "output_type": "display_data"
    }
   ],
   "source": [
    "rv1 = sp.stats.uniform()\n",
    "rv2 = sp.stats.uniform()\n",
    "\n",
    "np.random.seed(0)\n",
    "N = 50000\n",
    "x_1 = rv1.rvs(N)\n",
    "x_2 = rv2.rvs(N)\n",
    "x_3 = x_1 + x_2\n",
    "x_4 = x_1 + x_2 + x_1\n",
    "x_5 = x_1 + x_2 + x_1 + x_2\n",
    "x_6 = x_1 + x_2 + x_1 + x_2 + x_1\n",
    "x_7 = x_1 + x_2 + x_1 + x_2 + x_1 + x_2\n",
    "x_8 = x_1 + x_2 + x_1 + x_2 + x_1 + x_2 + x_1\n",
    "x_9 = x_1 + x_2 + x_1 + x_2 + x_1 + x_2 + x_1 + x_2\n",
    "plt.figure(figsize=(12, 5))\n",
    "\n",
    "plt.subplot(331)\n",
    "sns.distplot(x_1, kde=False)\n",
    "plt.title(\"균일분포\")\n",
    "plt.xlabel(\"표본값\")\n",
    "plt.xlim(-0.2, 2.2)\n",
    "\n",
    "plt.subplot(332)\n",
    "sns.distplot(x_2, kde=False)\n",
    "plt.title(\"균일분포\")\n",
    "plt.xlabel(\"표본값\")\n",
    "plt.xlim(-0.2, 2.2)\n",
    "\n",
    "plt.subplot(333)\n",
    "sns.distplot(x_3, kde=False)\n",
    "plt.title(\"균일분포 표본의 합의 분포\")\n",
    "plt.xlabel(\"표본값\")\n",
    "plt.xlim(-0.2, 2.2)\n",
    "plt.subplot(334)\n",
    "sns.distplot(x_3, kde=False)\n",
    "plt.title(\"균일분포 표본의 합의 분포\")\n",
    "plt.xlabel(\"표본값\")\n",
    "plt.xlim(-0.2, 2.2)\n",
    "plt.subplot(335)\n",
    "sns.distplot(x_3, kde=False)\n",
    "plt.title(\"균일분포 표본의 합의 분포\")\n",
    "plt.xlabel(\"표본값\")\n",
    "plt.xlim(-0.2, 2.2)\n",
    "plt.subplot(336)\n",
    "sns.distplot(x_3, kde=False)\n",
    "plt.title(\"균일분포 표본의 합의 분포\")\n",
    "plt.xlabel(\"표본값\")\n",
    "plt.xlim(-0.2, 2.2)\n",
    "plt.subplot(337)\n",
    "sns.distplot(x_3, kde=False)\n",
    "plt.title(\"균일분포 표본의 합의 분포\")\n",
    "plt.xlabel(\"표본값\")\n",
    "plt.xlim(-0.2, 2.2)\n",
    "plt.subplot(338)\n",
    "sns.distplot(x_3, kde=False)\n",
    "plt.title(\"균일분포 표본의 합의 분포\")\n",
    "plt.xlabel(\"표본값\")\n",
    "plt.xlim(-0.2, 2.2)\n",
    "plt.subplot(339)\n",
    "sns.distplot(x_3, kde=False)\n",
    "plt.title(\"균일분포 표본의 합의 분포\")\n",
    "plt.xlabel(\"표본값\")\n",
    "plt.xlim(-0.2, 2.2)\n",
    "\n",
    "plt.show()"
   ]
  },
  {
   "cell_type": "code",
   "execution_count": 82,
   "metadata": {},
   "outputs": [
    {
     "data": {
      "text/plain": [
       "(10, 1000)"
      ]
     },
     "execution_count": 82,
     "metadata": {},
     "output_type": "execute_result"
    }
   ],
   "source": [
    "f = sp.stats.uniform().rvs((10, 1000))\n",
    "f.shape"
   ]
  },
  {
   "cell_type": "code",
   "execution_count": 94,
   "metadata": {},
   "outputs": [],
   "source": [
    "g = f.sum(axis=0)"
   ]
  },
  {
   "cell_type": "code",
   "execution_count": 95,
   "metadata": {
    "scrolled": true
   },
   "outputs": [
    {
     "data": {
      "text/plain": [
       "array([4.82595237, 6.31401805, 4.50268827, 5.20385402, 4.90106739,\n",
       "       5.5452511 , 5.01757755, 6.35658121, 4.06099163, 4.7508381 ,\n",
       "       4.08227943, 5.18510515, 5.16856802, 5.10996678, 3.86366698,\n",
       "       3.98796861, 6.78697769, 5.89018319, 5.17669394, 6.70519408,\n",
       "       3.54240605, 4.8545153 , 7.49451778, 5.25043237, 5.20120434,\n",
       "       4.04506367, 6.49853463, 4.33888426, 6.37783807, 5.61004558,\n",
       "       4.46588684, 4.36138624, 5.68927431, 5.38128487, 5.22187777,\n",
       "       5.81819817, 5.1671398 , 4.34572705, 3.98566959, 4.59312677,\n",
       "       5.53884587, 4.49813836, 6.79225662, 5.01643867, 6.74918966,\n",
       "       5.54102593, 4.19346127, 3.36928793, 4.09904622, 5.45995283,\n",
       "       4.32014635, 4.70046516, 4.03006967, 6.09775182, 4.3325097 ,\n",
       "       6.02367688, 4.43995375, 6.2269171 , 4.37420828, 7.17791862,\n",
       "       4.98408293, 4.06120263, 5.85481734, 3.7293445 , 5.35733136,\n",
       "       5.52093476, 6.23776474, 6.41175905, 4.87572237, 5.3289181 ,\n",
       "       4.8139803 , 3.33185649, 5.28442424, 4.69433319, 4.94639833,\n",
       "       4.99117474, 4.86489601, 4.24066291, 5.10695938, 6.18469047,\n",
       "       4.95105024, 6.45864423, 6.43198504, 5.61157688, 4.24063171,\n",
       "       4.29124671, 5.80466335, 4.74748999, 4.20515669, 5.21132356,\n",
       "       5.89097966, 5.64457274, 4.21795704, 6.13024852, 3.78638034,\n",
       "       3.84437087, 4.89682391, 5.48054846, 3.91864757, 3.95327747,\n",
       "       4.2408108 , 3.78985169, 6.71970097, 6.07746588, 5.9009735 ,\n",
       "       4.9639474 , 4.94238223, 4.56855416, 6.02575363, 5.46569515,\n",
       "       5.03127073, 6.08333271, 5.2253285 , 6.48642484, 4.97270524,\n",
       "       5.6228524 , 4.92385605, 3.73501708, 4.33031738, 4.16024136,\n",
       "       5.34390661, 5.43137351, 5.0122391 , 5.78327745, 6.48994009,\n",
       "       4.91547477, 3.99798872, 4.69219302, 4.20620917, 5.42030015,\n",
       "       6.04891079, 5.77261455, 4.91837582, 4.20875239, 4.65591063,\n",
       "       5.99276087, 5.1058098 , 3.69871412, 5.30494866, 4.89018711,\n",
       "       4.86521684, 5.86533368, 5.35352826, 6.00604146, 6.2457106 ,\n",
       "       5.08313817, 6.30397389, 5.16466358, 3.24495184, 2.83702556,\n",
       "       5.90240721, 3.98880244, 5.80061643, 5.63722556, 5.19066399,\n",
       "       5.97985325, 3.64664028, 5.3073444 , 6.35110876, 5.78013157,\n",
       "       5.7909694 , 4.24872475, 6.40734441, 3.85501569, 5.62878177,\n",
       "       5.36322281, 5.95853782, 4.88902773, 5.56100338, 4.62570599,\n",
       "       5.78879254, 5.27344823, 4.1189192 , 3.73939992, 4.30359533,\n",
       "       5.57718383, 6.63358698, 5.19026425, 3.63690064, 3.64960012,\n",
       "       5.97290279, 5.26507876, 4.04582499, 3.3636237 , 5.25122355,\n",
       "       5.02330134, 6.15176797, 6.0846469 , 3.69249924, 4.50832674,\n",
       "       4.58471863, 4.48215274, 5.19598916, 5.10783742, 4.87664425,\n",
       "       5.69302622, 3.18545751, 6.34513811, 4.3243179 , 5.10060149,\n",
       "       5.96658501, 5.05684636, 5.89847041, 4.213272  , 4.81064186,\n",
       "       4.72795782, 5.19574651, 4.76438016, 6.81275634, 4.712568  ,\n",
       "       5.65285561, 4.09605637, 5.42221295, 3.62546808, 3.80098827,\n",
       "       6.38704454, 3.29129553, 5.76080736, 4.76304918, 4.30362803,\n",
       "       5.21306455, 4.36332429, 6.4010847 , 4.93812458, 5.01650718,\n",
       "       4.30344725, 4.24542063, 6.43639767, 6.0469312 , 6.10005497,\n",
       "       4.27751639, 4.4069228 , 3.42091784, 4.19826814, 4.87401137,\n",
       "       4.31322407, 5.75178834, 4.76344235, 4.71556879, 4.0792959 ,\n",
       "       5.39036465, 5.52301952, 4.75626237, 4.01389015, 6.50422629,\n",
       "       5.14089095, 3.99505158, 5.4841249 , 3.66221108, 3.95224118,\n",
       "       4.47653959, 5.74547667, 4.97556693, 5.51936174, 4.05523659,\n",
       "       5.86709176, 6.38571084, 4.8040931 , 4.66105776, 5.1100768 ,\n",
       "       5.3057855 , 4.42373934, 6.42092231, 5.24978686, 5.36543656,\n",
       "       5.49044686, 3.85898011, 6.56765282, 4.84325488, 5.7855544 ,\n",
       "       4.31850222, 7.03920801, 3.94612801, 5.2688038 , 4.80861664,\n",
       "       4.28658283, 5.60639093, 4.97775725, 4.52936714, 4.46536969,\n",
       "       4.58453339, 4.58072005, 6.71413305, 6.59564201, 5.18859056,\n",
       "       6.44985803, 4.88039377, 3.53217999, 3.63510366, 5.96450393,\n",
       "       4.82455892, 5.77835206, 5.33752402, 4.35937445, 5.81127107,\n",
       "       4.10647588, 6.92383352, 4.37117377, 6.32319395, 4.22610691,\n",
       "       6.59952904, 5.52267918, 4.51745444, 5.64681111, 4.87847458,\n",
       "       3.85263617, 5.96819971, 4.40025137, 4.56421232, 5.3901268 ,\n",
       "       6.48480633, 6.13165834, 3.75837808, 4.07949003, 6.05675155,\n",
       "       3.98892188, 4.18188937, 3.88928989, 5.21973485, 4.46142652,\n",
       "       5.06931379, 4.78122412, 4.21024791, 4.61051861, 5.49477311,\n",
       "       4.94182946, 5.35592369, 5.9945481 , 4.89089525, 4.71216782,\n",
       "       5.32773765, 4.61086414, 5.45858719, 4.03333599, 3.16200556,\n",
       "       5.77284312, 4.45515583, 7.7939767 , 5.03239885, 5.91625456,\n",
       "       5.69776543, 3.71986619, 6.84963559, 3.5429658 , 4.82549447,\n",
       "       6.13488566, 4.33448249, 4.26736133, 4.79332153, 5.22389974,\n",
       "       5.70543824, 6.27143686, 4.73092017, 4.69200857, 5.36662581,\n",
       "       4.85987479, 4.56130831, 4.23789138, 6.69978306, 5.03088407,\n",
       "       5.30858882, 3.40474925, 5.42380049, 5.13504162, 5.25116317,\n",
       "       4.41944378, 4.00528836, 5.55010281, 4.38939403, 4.20676158,\n",
       "       4.39879326, 5.73273906, 5.97151159, 4.48658097, 5.47880219,\n",
       "       4.12913995, 3.31909896, 3.74959347, 4.03713571, 4.6697535 ,\n",
       "       5.17215688, 4.52847925, 5.30295859, 5.36904137, 4.14153668,\n",
       "       5.44266972, 5.70097789, 5.86168081, 3.51420476, 3.94959127,\n",
       "       5.13748152, 4.38683389, 4.96281796, 5.19814944, 4.14179397,\n",
       "       3.64736911, 4.34547933, 6.28149018, 4.93838934, 4.23204974,\n",
       "       4.99311815, 5.00867812, 4.45463712, 4.09490564, 4.04254576,\n",
       "       4.03022561, 4.9347047 , 4.5773257 , 6.61796683, 3.83211633,\n",
       "       4.76610372, 5.19144244, 4.70885944, 3.85712565, 5.28236574,\n",
       "       5.69096763, 5.20246934, 3.97495739, 5.96559034, 4.23163233,\n",
       "       4.03893706, 5.25440454, 4.9497032 , 5.58497   , 3.18441817,\n",
       "       4.30066866, 5.75463904, 7.23076587, 3.62361235, 5.46042689,\n",
       "       5.35161482, 4.17287788, 4.74570659, 4.60251603, 4.9251494 ,\n",
       "       5.43457539, 4.32268298, 5.50078892, 5.80687064, 4.74728992,\n",
       "       4.04044241, 3.66551541, 4.22497355, 5.72867347, 4.43115273,\n",
       "       3.50202104, 5.50596623, 5.35314944, 4.92273073, 5.84242163,\n",
       "       5.80883251, 4.66453691, 6.14689991, 5.44594524, 5.88843845,\n",
       "       5.32604381, 6.39649087, 6.43124838, 5.74706251, 3.66656339,\n",
       "       5.77175591, 5.19675825, 3.03579188, 3.80963613, 4.00160931,\n",
       "       5.27175545, 3.68556306, 3.36352465, 3.74488101, 5.09138872,\n",
       "       3.98726752, 5.60509722, 5.50424633, 4.11898145, 5.70563059,\n",
       "       5.85759297, 4.52637993, 3.97322943, 4.63944595, 3.67137723,\n",
       "       4.46434444, 5.35671196, 3.61656383, 6.0281201 , 5.16037711,\n",
       "       5.80278737, 4.8518888 , 5.0462219 , 5.57036951, 4.29066355,\n",
       "       6.47068032, 3.57340962, 4.57110707, 5.23621719, 4.88481325,\n",
       "       4.94101417, 4.31033981, 4.71461094, 5.86405826, 5.11140764,\n",
       "       5.19896082, 5.88548544, 5.49669995, 3.82311016, 5.9276108 ,\n",
       "       6.11283396, 4.81024683, 5.30293628, 3.45499789, 5.64213995,\n",
       "       6.42470004, 3.75155385, 3.08255613, 3.83589026, 3.5499487 ,\n",
       "       6.6085017 , 4.17823025, 5.45015372, 4.22486913, 3.28213751,\n",
       "       4.52997998, 5.26656737, 4.22177889, 5.04216563, 6.19900186,\n",
       "       3.87191602, 5.48161764, 5.37801757, 5.78454732, 5.10234689,\n",
       "       3.69880102, 3.9753273 , 3.57702121, 5.80097293, 6.23455483,\n",
       "       5.64974903, 6.15527428, 6.15368892, 4.79412249, 4.90292373,\n",
       "       5.26579587, 5.7998019 , 4.86965624, 4.43035674, 5.85936169,\n",
       "       4.32903035, 4.55322317, 4.35256832, 4.28921777, 4.55959872,\n",
       "       4.10319578, 4.85408154, 6.57609788, 5.46093774, 5.33696375,\n",
       "       5.43863614, 2.88178931, 3.62399169, 7.58092113, 5.40112787,\n",
       "       2.94017529, 2.95390697, 6.1666276 , 5.47425431, 5.32465783,\n",
       "       5.4702624 , 7.06665943, 3.86642476, 4.7199464 , 5.40461749,\n",
       "       5.97062162, 3.61717343, 5.3536191 , 5.56939175, 3.62969238,\n",
       "       3.74111058, 5.47831479, 4.6587814 , 2.93324063, 5.70647161,\n",
       "       6.46563075, 4.84677411, 5.79714913, 5.13439767, 5.59112614,\n",
       "       3.80616645, 4.37683331, 4.82800093, 4.37642782, 4.68431939,\n",
       "       5.31607727, 4.57084851, 5.90151087, 4.43881226, 4.62043763,\n",
       "       4.59451669, 5.83769737, 5.3214638 , 6.14354484, 4.62316072,\n",
       "       5.81550921, 4.27070308, 5.10180362, 5.75111279, 5.77952696,\n",
       "       5.28042683, 5.75532296, 5.33627524, 4.13929726, 3.83899571,\n",
       "       6.28117821, 4.67301991, 4.16828954, 6.27997181, 3.71101466,\n",
       "       4.66395737, 5.46643942, 5.85917031, 4.33459678, 5.28018997,\n",
       "       5.69095781, 4.03239789, 4.51888301, 2.56511562, 4.72443123,\n",
       "       5.24993239, 6.26684204, 3.75477464, 4.26581584, 3.19428956,\n",
       "       5.5634016 , 3.57278585, 5.29269905, 5.40417842, 6.10551975,\n",
       "       4.93507018, 4.90845042, 4.3577942 , 4.94091479, 4.3203391 ,\n",
       "       5.48682986, 6.20458387, 5.62863362, 4.4295205 , 4.37624133,\n",
       "       5.62779424, 5.4454779 , 5.62281513, 5.95397371, 6.2476586 ,\n",
       "       6.02487976, 5.4110653 , 6.3260382 , 7.22177663, 5.57650541,\n",
       "       4.34156138, 4.47875093, 4.7168705 , 4.50355971, 4.86302769,\n",
       "       5.39448912, 5.65477688, 5.10602303, 5.98263417, 6.82516319,\n",
       "       3.87915835, 5.7092776 , 5.31318246, 6.53121817, 5.98938954,\n",
       "       4.79660326, 4.31985952, 5.3892754 , 5.15049111, 3.88815686,\n",
       "       5.13802472, 4.52813396, 5.00145076, 5.22250474, 5.87303235,\n",
       "       5.88359311, 3.97300487, 4.58447039, 4.05936127, 3.712594  ,\n",
       "       5.17546766, 5.88774556, 5.07540145, 5.62794201, 5.3244896 ,\n",
       "       4.51566802, 6.40519619, 6.61253048, 5.05893504, 5.89760236,\n",
       "       5.31763819, 4.04477441, 5.02448174, 6.01853244, 4.63789992,\n",
       "       3.57700783, 5.26196041, 3.31285461, 5.80612844, 6.28687745,\n",
       "       6.40916367, 4.36058621, 5.11766649, 5.85606906, 5.1820577 ,\n",
       "       3.8971716 , 5.83605884, 4.31620612, 5.34974073, 3.85257798,\n",
       "       4.79636098, 6.02050078, 4.06270853, 6.47805261, 5.97439135,\n",
       "       3.9023237 , 5.06370212, 5.45779117, 4.67996909, 6.26649216,\n",
       "       6.55522476, 4.98827415, 5.47731469, 5.73863355, 4.13560741,\n",
       "       4.17216418, 4.85439103, 5.44481884, 4.77894066, 3.32484761,\n",
       "       5.85339843, 3.89189021, 5.85399339, 4.93603854, 6.48965031,\n",
       "       4.12677938, 5.21206324, 4.04499681, 5.48427644, 5.44303691,\n",
       "       4.86102607, 4.69457073, 3.84528222, 3.47234646, 5.61293695,\n",
       "       5.02157424, 6.1909377 , 4.92594549, 5.59479692, 5.96358941,\n",
       "       4.99970851, 5.327268  , 4.80588987, 4.43125893, 4.78643454,\n",
       "       3.60825881, 3.73122511, 4.1283822 , 5.26876596, 6.4392435 ,\n",
       "       5.28104562, 4.52978825, 4.50680983, 2.80566027, 5.63527053,\n",
       "       5.21779002, 4.20171639, 5.10358769, 4.34915447, 5.9369262 ,\n",
       "       4.06729441, 5.82160535, 5.01238244, 3.8775223 , 6.33111338,\n",
       "       4.98209489, 5.42995003, 6.15219408, 6.31756358, 5.75548497,\n",
       "       5.40876275, 5.74260814, 4.72907187, 5.47346667, 5.5616181 ,\n",
       "       4.85505243, 3.73986366, 5.23215688, 4.23847969, 5.21225237,\n",
       "       5.16303735, 4.86425105, 3.57777799, 5.08581813, 5.42024011,\n",
       "       5.75555878, 5.34066034, 4.86894707, 3.93046349, 5.23810496,\n",
       "       4.97324427, 3.18267598, 4.10764195, 5.81297987, 5.54305118,\n",
       "       4.52813973, 3.68826805, 5.36618735, 4.16468915, 5.10926617,\n",
       "       5.21419992, 5.86306153, 6.21053593, 5.40381347, 6.71197226,\n",
       "       2.98173189, 4.82634012, 4.75984655, 5.95671201, 6.10317131,\n",
       "       5.16935864, 5.75750303, 5.59800455, 4.32268381, 4.27289908,\n",
       "       6.3348031 , 4.47211552, 4.33694348, 5.40137637, 2.73115741,\n",
       "       5.21551526, 4.58202025, 3.89944437, 4.47450376, 4.53646751,\n",
       "       5.00703229, 4.58547606, 5.69443216, 5.75292345, 6.12812018,\n",
       "       5.26931993, 5.92609899, 4.682791  , 5.0807741 , 4.37891762,\n",
       "       7.29169711, 5.44737549, 3.96619137, 4.50115651, 4.31576279,\n",
       "       4.45820357, 4.5724033 , 6.11492818, 4.02350644, 5.1661001 ,\n",
       "       4.7189606 , 4.01705255, 6.5409857 , 4.6499649 , 3.26801267,\n",
       "       6.15279226, 3.89101152, 5.33245628, 5.14298265, 5.68648641,\n",
       "       4.75413583, 7.13256734, 4.08891433, 5.72726594, 3.61553585,\n",
       "       5.69681283, 4.71890581, 5.91447048, 5.38514236, 4.21089071,\n",
       "       4.74368793, 5.74402686, 5.4070084 , 4.98116796, 2.76356676,\n",
       "       5.58448424, 4.14384363, 5.17957735, 5.66408157, 3.06045125,\n",
       "       5.24036873, 3.530167  , 5.2737692 , 4.85583195, 5.90175538,\n",
       "       4.21934639, 5.62644812, 5.15009078, 5.69594678, 5.5245764 ,\n",
       "       4.81950841, 4.47441284, 4.77753578, 5.22834232, 4.8745574 ,\n",
       "       5.49011954, 5.1667018 , 6.46737667, 4.67457456, 4.54674171,\n",
       "       4.77506667, 7.92668913, 5.10654436, 4.98160464, 6.49570283,\n",
       "       5.48831989, 4.99151441, 5.98524184, 4.66367945, 4.668612  ,\n",
       "       5.77267183, 4.80448125, 2.67244762, 5.33753078, 6.61719859,\n",
       "       4.32823091, 5.4122208 , 5.53152893, 4.99777517, 4.76553243,\n",
       "       4.54497375, 5.24704193, 6.24764546, 4.93249511, 5.99566939,\n",
       "       4.51372445, 6.13313467, 4.84391669, 5.39462782, 5.6701832 ,\n",
       "       5.42591891, 4.4811817 , 5.6364187 , 4.84386802, 3.85746263,\n",
       "       6.23193321, 5.12323327, 4.86539512, 5.43071209, 5.15712193,\n",
       "       6.60232466, 4.96679182, 4.33544518, 2.80857109, 5.07430283,\n",
       "       4.066332  , 4.96582864, 4.8662227 , 5.18811282, 1.94613978,\n",
       "       4.64964521, 5.35499958, 4.88815988, 3.01742452, 5.42899497,\n",
       "       3.94866274, 5.48204341, 4.40127595, 4.69424869, 5.76294272,\n",
       "       4.69791708, 5.76728991, 4.84783608, 5.31823333, 6.16366482,\n",
       "       4.23360646, 5.50466831, 6.50069395, 5.47280735, 6.10099448,\n",
       "       6.69117136, 5.19641308, 5.383578  , 3.00845558, 3.49324645,\n",
       "       4.81423103, 5.40337786, 5.96168782, 4.88773146, 4.94346116,\n",
       "       4.13007361, 4.86499893, 3.97828144, 5.74699866, 4.52550225,\n",
       "       6.6142369 , 5.98380051, 4.56019648, 4.01300315, 7.62244634])"
      ]
     },
     "execution_count": 95,
     "metadata": {},
     "output_type": "execute_result"
    }
   ],
   "source": [
    "g"
   ]
  },
  {
   "cell_type": "code",
   "execution_count": 97,
   "metadata": {},
   "outputs": [
    {
     "data": {
      "text/plain": [
       "<matplotlib.axes._subplots.AxesSubplot at 0x27ac9a43c88>"
      ]
     },
     "execution_count": 97,
     "metadata": {},
     "output_type": "execute_result"
    },
    {
     "data": {
      "image/png": "[encoded data removed]",
      "text/plain": [
       "<Figure size 432x288 with 1 Axes>"
      ]
     },
     "metadata": {
      "needs_background": "light"
     },
     "output_type": "display_data"
    }
   ],
   "source": [
    "sns.distplot(g)"
   ]
  },
  {
   "cell_type": "code",
   "execution_count": 135,
   "metadata": {},
   "outputs": [
    {
     "data": {
      "image/png": "[encoded data removed]",
      "text/plain": [
       "<Figure size 432x288 with 1 Axes>"
      ]
     },
     "metadata": {
      "needs_background": "light"
     },
     "output_type": "display_data"
    }
   ],
   "source": [
    "N = 5\n",
    "mu = 0.5\n",
    "rv = sp.stats.binom(N, mu)\n",
    "xx = np.arange(N + 1)\n",
    "np.random.seed(0)\n",
    "x = rv.rvs(1000)\n",
    "\n",
    "y = np.bincount(x, minlength=N+1)/float(len(x))\n",
    "df = pd.DataFrame({\"이론\": rv.pmf(xx), \"시뮬레이션\": y}).stack()\n",
    "df = df.reset_index()\n",
    "df.columns = [\"표본값\", \"유형\", \"비율\"]\n",
    "df.pivot(\"표본값\", \"유형\", \"비율\")\n",
    "df\n",
    "sns.barplot(x=\"표본값\", y=\"비율\", hue=\"유형\", data=df)\n",
    "plt.show()"
   ]
  },
  {
   "cell_type": "code",
   "execution_count": 133,
   "metadata": {},
   "outputs": [
    {
     "data": {
      "image/png": "[encoded data removed]",
      "text/plain": [
       "<Figure size 432x288 with 1 Axes>"
      ]
     },
     "metadata": {
      "needs_background": "light"
     },
     "output_type": "display_data"
    }
   ],
   "source": [
    "N = 20\n",
    "mu = 0.9\n",
    "rv = sp.stats.binom(N, mu)\n",
    "xx = np.arange(N + 1)\n",
    "np.random.seed(0)\n",
    "x = rv.rvs(1000)\n",
    "\n",
    "y = np.bincount(x, minlength=N+1)/float(len(x))\n",
    "df = pd.DataFrame({\"이론\": rv.pmf(xx), \"시뮬레이션\": y}).stack()\n",
    "df = df.reset_index()\n",
    "df.columns = [\"표본값\", \"유형\", \"비율\"]\n",
    "df.pivot(\"표본값\", \"유형\", \"비율\")\n",
    "df\n",
    "sns.barplot(x=\"표본값\", y=\"비율\", hue=\"유형\", data=df)\n",
    "plt.show()"
   ]
  },
  {
   "cell_type": "code",
   "execution_count": 142,
   "metadata": {},
   "outputs": [
    {
     "data": {
      "image/png": "[encoded data removed]",
      "text/plain": [
       "<Figure size 432x288 with 1 Axes>"
      ]
     },
     "metadata": {
      "needs_background": "light"
     },
     "output_type": "display_data"
    }
   ],
   "source": [
    "mu = [1,2]\n",
    "cov = [[4, -3], [-3, 4]]\n",
    "\n",
    "rv = sp.stats.multivariate_normal(mu, cov)\n",
    "X = rv.rvs(20000)\n",
    "\n",
    "xx = np.linspace(-6, 6, 120)\n",
    "yy = np.linspace(-6, 6, 150)\n",
    "XX, YY = np.meshgrid(xx, yy)\n",
    "\n",
    "# plt.scatter(X[:, 0], X[:, 1], s=1)\n",
    "plt.contour(XX, YY, rv.pdf(np.dstack([XX, YY])))\n",
    "plt.axis(\"equal\")\n",
    "plt.xlim(-4, 8)\n",
    "plt.ylim(-4, 8)\n",
    "plt.xlabel(\"$x_1$\")\n",
    "plt.ylabel(\"$x_2$\")\n",
    "plt.title(\"이차원 다변수정규분포의 예\")\n",
    "plt.show()"
   ]
  },
  {
   "cell_type": "code",
   "execution_count": 143,
   "metadata": {},
   "outputs": [
    {
     "data": {
      "text/html": [
       "<div>\n",
       "<style scoped>\n",
       "    .dataframe tbody tr th:only-of-type {\n",
       "        vertical-align: middle;\n",
       "    }\n",
       "\n",
       "    .dataframe tbody tr th {\n",
       "        vertical-align: top;\n",
       "    }\n",
       "\n",
       "    .dataframe thead th {\n",
       "        text-align: right;\n",
       "    }\n",
       "</style>\n",
       "<table border=\"1\" class=\"dataframe\">\n",
       "  <thead>\n",
       "    <tr style=\"text-align: right;\">\n",
       "      <th></th>\n",
       "      <th>produce</th>\n",
       "      <th>days</th>\n",
       "    </tr>\n",
       "  </thead>\n",
       "  <tbody>\n",
       "    <tr>\n",
       "      <td>0</td>\n",
       "      <td>7</td>\n",
       "      <td>10</td>\n",
       "    </tr>\n",
       "    <tr>\n",
       "      <td>1</td>\n",
       "      <td>8</td>\n",
       "      <td>10</td>\n",
       "    </tr>\n",
       "    <tr>\n",
       "      <td>2</td>\n",
       "      <td>10</td>\n",
       "      <td>20</td>\n",
       "    </tr>\n",
       "    <tr>\n",
       "      <td>3</td>\n",
       "      <td>11</td>\n",
       "      <td>30</td>\n",
       "    </tr>\n",
       "    <tr>\n",
       "      <td>4</td>\n",
       "      <td>12</td>\n",
       "      <td>20</td>\n",
       "    </tr>\n",
       "    <tr>\n",
       "      <td>5</td>\n",
       "      <td>14</td>\n",
       "      <td>10</td>\n",
       "    </tr>\n",
       "  </tbody>\n",
       "</table>\n",
       "</div>"
      ],
      "text/plain": [
       "   produce  days\n",
       "0        7    10\n",
       "1        8    10\n",
       "2       10    20\n",
       "3       11    30\n",
       "4       12    20\n",
       "5       14    10"
      ]
     },
     "execution_count": 143,
     "metadata": {},
     "output_type": "execute_result"
    }
   ],
   "source": [
    "df = pd.DataFrame({'produce': [7,8,10,11,12,14],\n",
    "                  'days':[10,10,20,30,20,10]},\n",
    "                 columns = ['produce','days'])\n",
    "\n",
    "df"
   ]
  },
  {
   "cell_type": "code",
   "execution_count": 181,
   "metadata": {},
   "outputs": [
    {
     "data": {
      "text/plain": [
       "<matplotlib.axes._subplots.AxesSubplot at 0x27ad184a548>"
      ]
     },
     "execution_count": 181,
     "metadata": {},
     "output_type": "execute_result"
    },
    {
     "data": {
      "image/png": "[encoded data removed]",
      "text/plain": [
       "<Figure size 432x288 with 1 Axes>"
      ]
     },
     "metadata": {
      "needs_background": "light"
     },
     "output_type": "display_data"
    }
   ],
   "source": [
    "sns.distplot(df['produce'],bins=300)"
   ]
  },
  {
   "cell_type": "code",
   "execution_count": 172,
   "metadata": {},
   "outputs": [],
   "source": [
    "df['prob'] = df['days'] / df['days'].sum(axis=0)"
   ]
  },
  {
   "cell_type": "code",
   "execution_count": 174,
   "metadata": {},
   "outputs": [
    {
     "data": {
      "text/html": [
       "<div>\n",
       "<style scoped>\n",
       "    .dataframe tbody tr th:only-of-type {\n",
       "        vertical-align: middle;\n",
       "    }\n",
       "\n",
       "    .dataframe tbody tr th {\n",
       "        vertical-align: top;\n",
       "    }\n",
       "\n",
       "    .dataframe thead th {\n",
       "        text-align: right;\n",
       "    }\n",
       "</style>\n",
       "<table border=\"1\" class=\"dataframe\">\n",
       "  <thead>\n",
       "    <tr style=\"text-align: right;\">\n",
       "      <th></th>\n",
       "      <th>produce</th>\n",
       "      <th>days</th>\n",
       "      <th>prob</th>\n",
       "    </tr>\n",
       "  </thead>\n",
       "  <tbody>\n",
       "    <tr>\n",
       "      <td>0</td>\n",
       "      <td>7</td>\n",
       "      <td>10</td>\n",
       "      <td>0.1</td>\n",
       "    </tr>\n",
       "    <tr>\n",
       "      <td>1</td>\n",
       "      <td>8</td>\n",
       "      <td>10</td>\n",
       "      <td>0.1</td>\n",
       "    </tr>\n",
       "    <tr>\n",
       "      <td>2</td>\n",
       "      <td>10</td>\n",
       "      <td>20</td>\n",
       "      <td>0.2</td>\n",
       "    </tr>\n",
       "    <tr>\n",
       "      <td>3</td>\n",
       "      <td>11</td>\n",
       "      <td>30</td>\n",
       "      <td>0.3</td>\n",
       "    </tr>\n",
       "    <tr>\n",
       "      <td>4</td>\n",
       "      <td>12</td>\n",
       "      <td>20</td>\n",
       "      <td>0.2</td>\n",
       "    </tr>\n",
       "    <tr>\n",
       "      <td>5</td>\n",
       "      <td>14</td>\n",
       "      <td>10</td>\n",
       "      <td>0.1</td>\n",
       "    </tr>\n",
       "  </tbody>\n",
       "</table>\n",
       "</div>"
      ],
      "text/plain": [
       "   produce  days  prob\n",
       "0        7    10   0.1\n",
       "1        8    10   0.1\n",
       "2       10    20   0.2\n",
       "3       11    30   0.3\n",
       "4       12    20   0.2\n",
       "5       14    10   0.1"
      ]
     },
     "execution_count": 174,
     "metadata": {},
     "output_type": "execute_result"
    }
   ],
   "source": [
    "df"
   ]
  },
  {
   "cell_type": "code",
   "execution_count": 168,
   "metadata": {},
   "outputs": [],
   "source": [
    "mean = (df.produce * df.prob).sum()"
   ]
  },
  {
   "cell_type": "code",
   "execution_count": 171,
   "metadata": {},
   "outputs": [
    {
     "data": {
      "text/plain": [
       "10.6"
      ]
     },
     "execution_count": 171,
     "metadata": {},
     "output_type": "execute_result"
    }
   ],
   "source": [
    "mean"
   ]
  },
  {
   "cell_type": "code",
   "execution_count": 175,
   "metadata": {},
   "outputs": [],
   "source": [
    "var = ((df.produce - mean)**2*df.prob).sum()"
   ]
  },
  {
   "cell_type": "code",
   "execution_count": 176,
   "metadata": {},
   "outputs": [
    {
     "data": {
      "text/plain": [
       "3.6400000000000006"
      ]
     },
     "execution_count": 176,
     "metadata": {},
     "output_type": "execute_result"
    }
   ],
   "source": [
    "var"
   ]
  },
  {
   "cell_type": "code",
   "execution_count": 188,
   "metadata": {},
   "outputs": [
    {
     "data": {
      "image/png": "[encoded data removed]",
      "text/plain": [
       "<Figure size 432x288 with 1 Axes>"
      ]
     },
     "metadata": {
      "needs_background": "light"
     },
     "output_type": "display_data"
    }
   ],
   "source": [
    "xx = np.linspace(0, 1, 1000)\n",
    "a0, b0 = 1, 1\n",
    "plt.plot(xx, sp.stats.beta(a0, b0).pdf(xx), c=\"r\", ls=\"--\", label=\"사전분포\")\n",
    "a1, b1 = 1 + 3 , 1 + 2\n",
    "plt.plot(xx, sp.stats.beta(a1, b1).pdf(xx), c=\"g\", ls=\"-\", label=\"사후분포\")\n",
    "plt.legend()\n",
    "plt.title(\"베이즈 추정법으로 계산한 베르누이분포 모수의 분포\")\n",
    "plt.show()"
   ]
  },
  {
   "cell_type": "code",
   "execution_count": 190,
   "metadata": {},
   "outputs": [
    {
     "data": {
      "image/png": "[encoded data removed]",
      "text/plain": [
       "<Figure size 432x288 with 1 Axes>"
      ]
     },
     "metadata": {
      "needs_background": "light"
     },
     "output_type": "display_data"
    }
   ],
   "source": [
    "xx = np.linspace(0, 1, 1000)\n",
    "a1, b1 = 1+3+3, 1 + 2+2\n",
    "plt.plot(xx, sp.stats.beta(a1, b1).pdf(xx), c=\"r\", ls=\"--\", label=\"사전분포\")\n",
    "a2, b2 = 55 + 1+55, 45 + 1+45\n",
    "plt.plot(xx, sp.stats.beta(a2, b2).pdf(xx), c=\"g\", ls=\"-\", label=\"사후분포\")\n",
    "plt.legend()\n",
    "plt.title(\"베이즈 추정법으로 계산한 베르누이분포 모수의 분포\")\n",
    "plt.show()\n"
   ]
  },
  {
   "cell_type": "code",
   "execution_count": null,
   "metadata": {},
   "outputs": [],
   "source": [
    "sp.stats.beta(a2, b2)"
   ]
  },
  {
   "cell_type": "markdown",
   "metadata": {},
   "source": [
    "상품평이 품질을 정확히 반영한다는 가정(상품평이 더 좋으면 품질이 더 좋다)하에 A의 품질이 B보다 좋을 확률은?"
   ]
  },
  {
   "cell_type": "code",
   "execution_count": null,
   "metadata": {},
   "outputs": [],
   "source": [
    "상품 A는 전체의견 3개 좋아요 2 개 싫어요 1개\n",
    "상품 B는 전체의견 100개 좋아요 65개 싫어요 35개\n"
   ]
  },
  {
   "cell_type": "code",
   "execution_count": 195,
   "metadata": {},
   "outputs": [
    {
     "name": "stderr",
     "output_type": "stream",
     "text": [
      "Font 'default' does not have a glyph for '\\uc2e4' [U+c2e4], substituting with a dummy symbol.\n",
      "Font 'default' does not have a glyph for '\\uc81c' [U+c81c], substituting with a dummy symbol.\n",
      "Font 'default' does not have a glyph for '\\uac80' [U+ac80], substituting with a dummy symbol.\n",
      "Font 'default' does not have a glyph for '\\uc815' [U+c815], substituting with a dummy symbol.\n",
      "Font 'default' does not have a glyph for '\\ud1b5' [U+d1b5], substituting with a dummy symbol.\n",
      "Font 'default' does not have a glyph for '\\uacc4' [U+acc4], substituting with a dummy symbol.\n",
      "Font 'default' does not have a glyph for '\\ub7c9' [U+b7c9], substituting with a dummy symbol.\n",
      "Font 'default' does not have a glyph for '\\uc2e4' [U+c2e4], substituting with a dummy symbol.\n",
      "Font 'default' does not have a glyph for '\\uc81c' [U+c81c], substituting with a dummy symbol.\n",
      "Font 'default' does not have a glyph for '\\uac80' [U+ac80], substituting with a dummy symbol.\n",
      "Font 'default' does not have a glyph for '\\uc815' [U+c815], substituting with a dummy symbol.\n",
      "Font 'default' does not have a glyph for '\\ud1b5' [U+d1b5], substituting with a dummy symbol.\n",
      "Font 'default' does not have a glyph for '\\uacc4' [U+acc4], substituting with a dummy symbol.\n",
      "Font 'default' does not have a glyph for '\\ub7c9' [U+b7c9], substituting with a dummy symbol.\n"
     ]
    },
    {
     "data": {
      "image/png": "[encoded data removed]",
      "text/plain": [
       "<Figure size 576x288 with 2 Axes>"
      ]
     },
     "metadata": {
      "needs_background": "light"
     },
     "output_type": "display_data"
    }
   ],
   "source": [
    "xx1 = np.linspace(-4, 4, 100)\n",
    "\n",
    "black = {\"facecolor\": \"black\"}\n",
    "plt.figure(figsize=(8, 4))\n",
    "\n",
    "plt.subplot(121)\n",
    "plt.title(\"가능성이 높은 검정통계량이 나온 경우\")\n",
    "plt.plot(xx1, sp.stats.norm.pdf(xx1))\n",
    "plt.plot(0.5, 0, \"ro\")\n",
    "plt.annotate('실제 검정통계량', xy=(0.5, 0.01), xytext=(0.85, 0.1), arrowprops=black)\n",
    "\n",
    "plt.subplot(122)\n",
    "plt.title(\"가능성이 낮은 검정통계량이 나온 경우\")\n",
    "plt.plot(xx1, sp.stats.norm.pdf(xx1))\n",
    "plt.plot(2.2, 0, \"ro\")\n",
    "plt.annotate('실제 검정통계량 $t_0$', xy=(2.2, 0.01), xytext=(0.85, 0.1), arrowprops=black)\n",
    "\n",
    "plt.suptitle(\"검정통계량 분포와 실제 검정통계량의 값\", y=1.05)\n",
    "plt.tight_layout()\n",
    "plt.show()"
   ]
  },
  {
   "cell_type": "code",
   "execution_count": 196,
   "metadata": {},
   "outputs": [
    {
     "name": "stderr",
     "output_type": "stream",
     "text": [
      "C:\\Users\\82109\\Anaconda3\\lib\\site-packages\\matplotlib\\backends\\backend_agg.py:211: RuntimeWarning: Glyph 53360 missing from current font.\n",
      "  font.set_text(s, 0.0, flags=flags)\n",
      "Font 'default' does not have a glyph for '\\uc2e4' [U+c2e4], substituting with a dummy symbol.\n",
      "Font 'default' does not have a glyph for '\\uc81c' [U+c81c], substituting with a dummy symbol.\n",
      "Font 'default' does not have a glyph for '\\uac80' [U+ac80], substituting with a dummy symbol.\n",
      "Font 'default' does not have a glyph for '\\uc815' [U+c815], substituting with a dummy symbol.\n",
      "Font 'default' does not have a glyph for '\\ud1b5' [U+d1b5], substituting with a dummy symbol.\n",
      "Font 'default' does not have a glyph for '\\uacc4' [U+acc4], substituting with a dummy symbol.\n",
      "Font 'default' does not have a glyph for '\\ub7c9' [U+b7c9], substituting with a dummy symbol.\n",
      "C:\\Users\\82109\\Anaconda3\\lib\\site-packages\\matplotlib\\backends\\backend_agg.py:211: RuntimeWarning: Glyph 51089 missing from current font.\n",
      "  font.set_text(s, 0.0, flags=flags)\n",
      "C:\\Users\\82109\\Anaconda3\\lib\\site-packages\\matplotlib\\backends\\backend_agg.py:180: RuntimeWarning: Glyph 53360 missing from current font.\n",
      "  font.set_text(s, 0, flags=flags)\n",
      "C:\\Users\\82109\\Anaconda3\\lib\\site-packages\\matplotlib\\backends\\backend_agg.py:180: RuntimeWarning: Glyph 51089 missing from current font.\n",
      "  font.set_text(s, 0, flags=flags)\n",
      "Font 'default' does not have a glyph for '\\uac80' [U+ac80], substituting with a dummy symbol.\n",
      "Font 'default' does not have a glyph for '\\uc815' [U+c815], substituting with a dummy symbol.\n",
      "Font 'default' does not have a glyph for '\\ud1b5' [U+d1b5], substituting with a dummy symbol.\n",
      "Font 'default' does not have a glyph for '\\uacc4' [U+acc4], substituting with a dummy symbol.\n",
      "Font 'default' does not have a glyph for '\\ub7c9' [U+b7c9], substituting with a dummy symbol.\n",
      "Font 'default' does not have a glyph for '\\ubd84' [U+bd84], substituting with a dummy symbol.\n",
      "Font 'default' does not have a glyph for '\\ud3ec' [U+d3ec], substituting with a dummy symbol.\n",
      "Font 'default' does not have a glyph for '\\uc640' [U+c640], substituting with a dummy symbol.\n",
      "Font 'default' does not have a glyph for '\\uc2e4' [U+c2e4], substituting with a dummy symbol.\n",
      "Font 'default' does not have a glyph for '\\uc81c' [U+c81c], substituting with a dummy symbol.\n",
      "Font 'default' does not have a glyph for '\\uc758' [U+c758], substituting with a dummy symbol.\n",
      "Font 'default' does not have a glyph for '\\uac12' [U+ac12], substituting with a dummy symbol.\n",
      "Font 'default' does not have a glyph for '\\uc2e4' [U+c2e4], substituting with a dummy symbol.\n",
      "Font 'default' does not have a glyph for '\\uc81c' [U+c81c], substituting with a dummy symbol.\n",
      "Font 'default' does not have a glyph for '\\uac80' [U+ac80], substituting with a dummy symbol.\n",
      "Font 'default' does not have a glyph for '\\uc815' [U+c815], substituting with a dummy symbol.\n",
      "Font 'default' does not have a glyph for '\\ud1b5' [U+d1b5], substituting with a dummy symbol.\n",
      "Font 'default' does not have a glyph for '\\uacc4' [U+acc4], substituting with a dummy symbol.\n",
      "Font 'default' does not have a glyph for '\\ub7c9' [U+b7c9], substituting with a dummy symbol.\n",
      "Font 'default' does not have a glyph for '\\uac80' [U+ac80], substituting with a dummy symbol.\n",
      "Font 'default' does not have a glyph for '\\uc815' [U+c815], substituting with a dummy symbol.\n",
      "Font 'default' does not have a glyph for '\\ud1b5' [U+d1b5], substituting with a dummy symbol.\n",
      "Font 'default' does not have a glyph for '\\uacc4' [U+acc4], substituting with a dummy symbol.\n",
      "Font 'default' does not have a glyph for '\\ub7c9' [U+b7c9], substituting with a dummy symbol.\n",
      "Font 'default' does not have a glyph for '\\ubd84' [U+bd84], substituting with a dummy symbol.\n",
      "Font 'default' does not have a glyph for '\\ud3ec' [U+d3ec], substituting with a dummy symbol.\n",
      "Font 'default' does not have a glyph for '\\uc640' [U+c640], substituting with a dummy symbol.\n",
      "Font 'default' does not have a glyph for '\\uc2e4' [U+c2e4], substituting with a dummy symbol.\n",
      "Font 'default' does not have a glyph for '\\uc81c' [U+c81c], substituting with a dummy symbol.\n",
      "Font 'default' does not have a glyph for '\\uc758' [U+c758], substituting with a dummy symbol.\n",
      "Font 'default' does not have a glyph for '\\uac12' [U+ac12], substituting with a dummy symbol.\n"
     ]
    },
    {
     "data": {
      "image/png": "[encoded data removed]",
      "text/plain": [
       "<Figure size 576x288 with 2 Axes>"
      ]
     },
     "metadata": {
      "needs_background": "light"
     },
     "output_type": "display_data"
    }
   ],
   "source": [
    "xx1 = np.linspace(-4, 4, 100)\n",
    "\n",
    "black = {\"facecolor\": \"black\"}\n",
    "plt.figure(figsize=(8, 4))\n",
    "\n",
    "plt.subplot(121)\n",
    "plt.title(\"유의확률이 큰 경우\")\n",
    "plt.plot(xx1, sp.stats.norm.pdf(xx1))\n",
    "plt.plot(0.5, 0, \"ro\")\n",
    "plt.annotate('실제 검정통계량 $t_0$', xy=(0.5, 0.01), xytext=(0.85, 0.1), arrowprops=black)\n",
    "xx2 = np.linspace(-4, -0.5, 100)\n",
    "xx3 = np.linspace(0.5, 4, 100)\n",
    "plt.fill_between(xx2, sp.stats.norm.pdf(xx2), facecolor='blue', alpha=0.35)\n",
    "plt.fill_between(xx3, sp.stats.norm.pdf(xx3), facecolor='blue', alpha=0.35)\n",
    "plt.annotate('유의확률', xy=(-1.5, 0.05), xytext=(-3.5, 0.1), arrowprops=black)\n",
    "\n",
    "plt.subplot(122)\n",
    "plt.title(\"유의확률이 작은 경우\")\n",
    "plt.plot(xx1, sp.stats.norm.pdf(xx1))\n",
    "plt.plot(2.2, 0, \"ro\")\n",
    "plt.annotate('실제 검정통계량 $t_0$', xy=(2.2, 0.01), xytext=(0.85, 0.1), arrowprops=black)\n",
    "xx2 = np.linspace(-4, -2.2, 100)\n",
    "xx3 = np.linspace(2.2, 4, 100)\n",
    "plt.fill_between(xx2, sp.stats.norm.pdf(xx2), facecolor='blue', alpha=0.35)\n",
    "plt.fill_between(xx3, sp.stats.norm.pdf(xx3), facecolor='blue', alpha=0.35)\n",
    "plt.annotate('유의확률', xy=(-2.5, 0.01), xytext=(-3.5, 0.1), arrowprops=black)\n",
    "\n",
    "plt.suptitle(\"검정통계량 분포와 실제 검정통계량 $t_0$의 값\", y=1.05)\n",
    "plt.tight_layout()\n",
    "plt.show()"
   ]
  },
  {
   "cell_type": "code",
   "execution_count": 197,
   "metadata": {},
   "outputs": [
    {
     "name": "stderr",
     "output_type": "stream",
     "text": [
      "C:\\Users\\82109\\Anaconda3\\lib\\site-packages\\ipykernel_launcher.py:10: UserWarning: In Matplotlib 3.3 individual lines on a stem plot will be added as a LineCollection instead of individual lines. This significantly improves the performance of a stem plot. To remove this warning and switch to the new behaviour, set the \"use_line_collection\" keyword argument to True.\n",
      "  # Remove the CWD from sys.path while we load stuff.\n",
      "C:\\Users\\82109\\Anaconda3\\lib\\site-packages\\ipykernel_launcher.py:17: UserWarning: In Matplotlib 3.3 individual lines on a stem plot will be added as a LineCollection instead of individual lines. This significantly improves the performance of a stem plot. To remove this warning and switch to the new behaviour, set the \"use_line_collection\" keyword argument to True.\n",
      "C:\\Users\\82109\\Anaconda3\\lib\\site-packages\\matplotlib\\backends\\backend_agg.py:211: RuntimeWarning: Glyph 51064 missing from current font.\n",
      "  font.set_text(s, 0.0, flags=flags)\n",
      "C:\\Users\\82109\\Anaconda3\\lib\\site-packages\\matplotlib\\backends\\backend_agg.py:180: RuntimeWarning: Glyph 51064 missing from current font.\n",
      "  font.set_text(s, 0, flags=flags)\n"
     ]
    },
    {
     "data": {
      "image/png": "[encoded data removed]",
      "text/plain": [
       "<Figure size 432x288 with 2 Axes>"
      ]
     },
     "metadata": {
      "needs_background": "light"
     },
     "output_type": "display_data"
    }
   ],
   "source": [
    "N = 15\n",
    "\n",
    "mu = 0.5\n",
    "\n",
    "rv = sp.stats.binom(N,mu)\n",
    "\n",
    "xx = np.arange(N+1)\n",
    "\n",
    "plt.subplot(211)\n",
    "plt.stem(xx,rv.pmf(xx))\n",
    "plt.ylabel('pmf')\n",
    "plt.title('검정통계량 분포(N=15인 이항분포)의 확률질량함수')\n",
    "black = {'facecolor':'black'}\n",
    "plt.annotate('검정통계량 t=12', xy=(12,0.02), xytext=(12,0.1), arrowprops=black)\n",
    "\n",
    "plt.subplot(212)\n",
    "plt.stem(xx,rv.cdf(xx))\n",
    "plt.ylabel('cdf')\n",
    "plt.title('검정통계량 분포 (n=15인 이항분포)의 누적분포함수')\n",
    "\n",
    "\n",
    "plt.tight_layout()\n",
    "plt.show()"
   ]
  },
  {
   "cell_type": "code",
   "execution_count": 199,
   "metadata": {},
   "outputs": [],
   "source": [
    "import scipy"
   ]
  },
  {
   "cell_type": "code",
   "execution_count": 201,
   "metadata": {},
   "outputs": [
    {
     "data": {
      "text/plain": [
       "7"
      ]
     },
     "execution_count": 201,
     "metadata": {},
     "output_type": "execute_result"
    }
   ],
   "source": [
    "N = 10\n",
    "\n",
    "mu_0 = 0.5\n",
    "\n",
    "np.random.seed(0)\n",
    "x = sp.stats.bernoulli(mu_0).rvs(N)\n",
    "n = np.count_nonzero(x)\n",
    "n"
   ]
  },
  {
   "cell_type": "code",
   "execution_count": 203,
   "metadata": {},
   "outputs": [
    {
     "data": {
      "text/plain": [
       "0.3437499999999999"
      ]
     },
     "execution_count": 203,
     "metadata": {},
     "output_type": "execute_result"
    }
   ],
   "source": [
    "sp.stats.binom_test(n,N)"
   ]
  },
  {
   "cell_type": "code",
   "execution_count": 208,
   "metadata": {},
   "outputs": [
    {
     "data": {
      "text/plain": [
       "49"
      ]
     },
     "execution_count": 208,
     "metadata": {},
     "output_type": "execute_result"
    }
   ],
   "source": [
    "N = 100\n",
    "\n",
    "mu_0 = 0.5\n",
    "\n",
    "np.random.seed(0)\n",
    "\n",
    "x = sp.stats.bernoulli(mu_0).rvs(N)\n",
    "n = np.count_nonzero(x)\n",
    "\n",
    "n"
   ]
  },
  {
   "cell_type": "code",
   "execution_count": 209,
   "metadata": {},
   "outputs": [
    {
     "data": {
      "text/plain": [
       "0.9204107626128206"
      ]
     },
     "execution_count": 209,
     "metadata": {},
     "output_type": "execute_result"
    }
   ],
   "source": [
    "sp.stats.binom_test(n,N)"
   ]
  },
  {
   "cell_type": "code",
   "execution_count": 210,
   "metadata": {},
   "outputs": [
    {
     "data": {
      "text/plain": [
       "31"
      ]
     },
     "execution_count": 210,
     "metadata": {},
     "output_type": "execute_result"
    }
   ],
   "source": [
    "N = 100\n",
    "\n",
    "mu_0 = 0.35\n",
    "\n",
    "np.random.seed(0)\n",
    "\n",
    "x = sp.stats.bernoulli(mu_0).rvs(N)\n",
    "n = np.count_nonzero(x)\n",
    "\n",
    "n"
   ]
  },
  {
   "cell_type": "code",
   "execution_count": 211,
   "metadata": {},
   "outputs": [
    {
     "data": {
      "text/plain": [
       "0.00018314322488235352"
      ]
     },
     "execution_count": 211,
     "metadata": {},
     "output_type": "execute_result"
    }
   ],
   "source": [
    "sp.stats.binom_test(n,N)"
   ]
  },
  {
   "cell_type": "code",
   "execution_count": 277,
   "metadata": {},
   "outputs": [
    {
     "data": {
      "text/plain": [
       "2"
      ]
     },
     "execution_count": 277,
     "metadata": {},
     "output_type": "execute_result"
    }
   ],
   "source": [
    "# 연습문제 9.5.1\n",
    "N = 10\n",
    "\n",
    "mu_0 = 0.2\n",
    "\n",
    "np.random.seed(0)\n",
    "\n",
    "x = sp.stats.bernoulli(mu_0).rvs(N)\n",
    "n = np.count_nonzero(x)\n",
    "\n",
    "n"
   ]
  },
  {
   "cell_type": "code",
   "execution_count": 278,
   "metadata": {},
   "outputs": [
    {
     "data": {
      "text/plain": [
       "0.10937500000000003"
      ]
     },
     "execution_count": 278,
     "metadata": {},
     "output_type": "execute_result"
    }
   ],
   "source": [
    "sp.stats.binom_test(n,N)\n",
    "\n",
    "# 2번"
   ]
  },
  {
   "cell_type": "code",
   "execution_count": 249,
   "metadata": {},
   "outputs": [
    {
     "data": {
      "text/plain": [
       "1"
      ]
     },
     "execution_count": 249,
     "metadata": {},
     "output_type": "execute_result"
    }
   ],
   "source": [
    "#연습문제 9.5.1 2번\n",
    "\n",
    "N = 1000\n",
    "\n",
    "mu_0 = 0.0004\n",
    "\n",
    "np.random.seed(0)\n",
    "\n",
    "x = sp.stats.bernoulli(mu_0).rvs(N)\n",
    "n = np.count_nonzero(x)\n",
    "\n",
    "n"
   ]
  },
  {
   "cell_type": "code",
   "execution_count": 250,
   "metadata": {},
   "outputs": [
    {
     "data": {
      "text/plain": [
       "1.8683937642427688e-298"
      ]
     },
     "execution_count": 250,
     "metadata": {},
     "output_type": "execute_result"
    }
   ],
   "source": [
    "sp.stats.binom_test(n,N)"
   ]
  },
  {
   "cell_type": "code",
   "execution_count": 287,
   "metadata": {
    "scrolled": true
   },
   "outputs": [
    {
     "data": {
      "text/html": [
       "<div>\n",
       "<style scoped>\n",
       "    .dataframe tbody tr th:only-of-type {\n",
       "        vertical-align: middle;\n",
       "    }\n",
       "\n",
       "    .dataframe tbody tr th {\n",
       "        vertical-align: top;\n",
       "    }\n",
       "\n",
       "    .dataframe thead th {\n",
       "        text-align: right;\n",
       "    }\n",
       "</style>\n",
       "<table border=\"1\" class=\"dataframe\">\n",
       "  <thead>\n",
       "    <tr style=\"text-align: right;\">\n",
       "      <th></th>\n",
       "      <th>total_bill</th>\n",
       "      <th>tip</th>\n",
       "      <th>sex</th>\n",
       "      <th>smoker</th>\n",
       "      <th>day</th>\n",
       "      <th>time</th>\n",
       "      <th>size</th>\n",
       "    </tr>\n",
       "  </thead>\n",
       "  <tbody>\n",
       "    <tr>\n",
       "      <td>0</td>\n",
       "      <td>16.99</td>\n",
       "      <td>1.01</td>\n",
       "      <td>Female</td>\n",
       "      <td>No</td>\n",
       "      <td>Sun</td>\n",
       "      <td>Dinner</td>\n",
       "      <td>2</td>\n",
       "    </tr>\n",
       "    <tr>\n",
       "      <td>1</td>\n",
       "      <td>10.34</td>\n",
       "      <td>1.66</td>\n",
       "      <td>Male</td>\n",
       "      <td>No</td>\n",
       "      <td>Sun</td>\n",
       "      <td>Dinner</td>\n",
       "      <td>3</td>\n",
       "    </tr>\n",
       "    <tr>\n",
       "      <td>2</td>\n",
       "      <td>21.01</td>\n",
       "      <td>3.50</td>\n",
       "      <td>Male</td>\n",
       "      <td>No</td>\n",
       "      <td>Sun</td>\n",
       "      <td>Dinner</td>\n",
       "      <td>3</td>\n",
       "    </tr>\n",
       "    <tr>\n",
       "      <td>3</td>\n",
       "      <td>23.68</td>\n",
       "      <td>3.31</td>\n",
       "      <td>Male</td>\n",
       "      <td>No</td>\n",
       "      <td>Sun</td>\n",
       "      <td>Dinner</td>\n",
       "      <td>2</td>\n",
       "    </tr>\n",
       "    <tr>\n",
       "      <td>4</td>\n",
       "      <td>24.59</td>\n",
       "      <td>3.61</td>\n",
       "      <td>Female</td>\n",
       "      <td>No</td>\n",
       "      <td>Sun</td>\n",
       "      <td>Dinner</td>\n",
       "      <td>4</td>\n",
       "    </tr>\n",
       "    <tr>\n",
       "      <td>...</td>\n",
       "      <td>...</td>\n",
       "      <td>...</td>\n",
       "      <td>...</td>\n",
       "      <td>...</td>\n",
       "      <td>...</td>\n",
       "      <td>...</td>\n",
       "      <td>...</td>\n",
       "    </tr>\n",
       "    <tr>\n",
       "      <td>239</td>\n",
       "      <td>29.03</td>\n",
       "      <td>5.92</td>\n",
       "      <td>Male</td>\n",
       "      <td>No</td>\n",
       "      <td>Sat</td>\n",
       "      <td>Dinner</td>\n",
       "      <td>3</td>\n",
       "    </tr>\n",
       "    <tr>\n",
       "      <td>240</td>\n",
       "      <td>27.18</td>\n",
       "      <td>2.00</td>\n",
       "      <td>Female</td>\n",
       "      <td>Yes</td>\n",
       "      <td>Sat</td>\n",
       "      <td>Dinner</td>\n",
       "      <td>2</td>\n",
       "    </tr>\n",
       "    <tr>\n",
       "      <td>241</td>\n",
       "      <td>22.67</td>\n",
       "      <td>2.00</td>\n",
       "      <td>Male</td>\n",
       "      <td>Yes</td>\n",
       "      <td>Sat</td>\n",
       "      <td>Dinner</td>\n",
       "      <td>2</td>\n",
       "    </tr>\n",
       "    <tr>\n",
       "      <td>242</td>\n",
       "      <td>17.82</td>\n",
       "      <td>1.75</td>\n",
       "      <td>Male</td>\n",
       "      <td>No</td>\n",
       "      <td>Sat</td>\n",
       "      <td>Dinner</td>\n",
       "      <td>2</td>\n",
       "    </tr>\n",
       "    <tr>\n",
       "      <td>243</td>\n",
       "      <td>18.78</td>\n",
       "      <td>3.00</td>\n",
       "      <td>Female</td>\n",
       "      <td>No</td>\n",
       "      <td>Thur</td>\n",
       "      <td>Dinner</td>\n",
       "      <td>2</td>\n",
       "    </tr>\n",
       "  </tbody>\n",
       "</table>\n",
       "<p>244 rows × 7 columns</p>\n",
       "</div>"
      ],
      "text/plain": [
       "     total_bill   tip     sex smoker   day    time  size\n",
       "0         16.99  1.01  Female     No   Sun  Dinner     2\n",
       "1         10.34  1.66    Male     No   Sun  Dinner     3\n",
       "2         21.01  3.50    Male     No   Sun  Dinner     3\n",
       "3         23.68  3.31    Male     No   Sun  Dinner     2\n",
       "4         24.59  3.61  Female     No   Sun  Dinner     4\n",
       "..          ...   ...     ...    ...   ...     ...   ...\n",
       "239       29.03  5.92    Male     No   Sat  Dinner     3\n",
       "240       27.18  2.00  Female    Yes   Sat  Dinner     2\n",
       "241       22.67  2.00    Male    Yes   Sat  Dinner     2\n",
       "242       17.82  1.75    Male     No   Sat  Dinner     2\n",
       "243       18.78  3.00  Female     No  Thur  Dinner     2\n",
       "\n",
       "[244 rows x 7 columns]"
      ]
     },
     "execution_count": 287,
     "metadata": {},
     "output_type": "execute_result"
    }
   ],
   "source": [
    "import seaborn as sns\n",
    "tips = sns.load_dataset(\"tips\")\n",
    "tips"
   ]
  },
  {
   "cell_type": "code",
   "execution_count": 286,
   "metadata": {},
   "outputs": [
    {
     "data": {
      "text/plain": [
       "No     54\n",
       "Yes    33\n",
       "Name: smoker, dtype: int64"
      ]
     },
     "execution_count": 286,
     "metadata": {},
     "output_type": "execute_result"
    }
   ],
   "source": [
    "tips[tips.sex=='Female'].smoker.value_counts()"
   ]
  },
  {
   "cell_type": "code",
   "execution_count": 283,
   "metadata": {},
   "outputs": [
    {
     "data": {
      "text/plain": [
       "0.015709055116923068"
      ]
     },
     "execution_count": 283,
     "metadata": {},
     "output_type": "execute_result"
    }
   ],
   "source": [
    "sp.stats.binom_test(54, 54+33, alternative='greater')"
   ]
  },
  {
   "cell_type": "code",
   "execution_count": 292,
   "metadata": {},
   "outputs": [
    {
     "data": {
      "text/plain": [
       "No     29\n",
       "Yes    23\n",
       "Name: smoker, dtype: int64"
      ]
     },
     "execution_count": 292,
     "metadata": {},
     "output_type": "execute_result"
    }
   ],
   "source": [
    "tips[(tips.time=='Dinner')&(tips.sex=='Female')].smoker.value_counts()"
   ]
  },
  {
   "cell_type": "code",
   "execution_count": 294,
   "metadata": {},
   "outputs": [
    {
     "data": {
      "text/plain": [
       "0.2442278346899461"
      ]
     },
     "execution_count": 294,
     "metadata": {},
     "output_type": "execute_result"
    }
   ],
   "source": [
    "sp.stats.binom_test(29,29+23,alternative='greater')"
   ]
  },
  {
   "cell_type": "code",
   "execution_count": 296,
   "metadata": {},
   "outputs": [
    {
     "data": {
      "text/plain": [
       "array([0, 3, 5, 2], dtype=int64)"
      ]
     },
     "execution_count": 296,
     "metadata": {},
     "output_type": "execute_result"
    }
   ],
   "source": [
    "N = 10\n",
    "\n",
    "K = 4\n",
    "\n",
    "mu_0 = np.ones(K)/K\n",
    "np.random.seed(0)\n",
    "\n",
    "x = np.random.choice(K,N,p=mu_0)\n",
    "n = np.bincount(x, minlength = K)\n",
    "n"
   ]
  },
  {
   "cell_type": "code",
   "execution_count": 297,
   "metadata": {},
   "outputs": [
    {
     "data": {
      "text/plain": [
       "Power_divergenceResult(statistic=5.199999999999999, pvalue=0.157724450396663)"
      ]
     },
     "execution_count": 297,
     "metadata": {},
     "output_type": "execute_result"
    }
   ],
   "source": [
    "sp.stats.chisquare(n)"
   ]
  },
  {
   "cell_type": "code",
   "execution_count": 299,
   "metadata": {},
   "outputs": [
    {
     "data": {
      "text/plain": [
       "array([37, 32, 20, 11], dtype=int64)"
      ]
     },
     "execution_count": 299,
     "metadata": {},
     "output_type": "execute_result"
    }
   ],
   "source": [
    "N = 100\n",
    "\n",
    "K  = 4\n",
    "\n",
    "mu_0 = np.array([0.35, 0.30, 0.2, 0.15])\n",
    "np.random.seed(0)\n",
    "\n",
    "x= np.random.choice(K,N,p=mu_0)\n",
    "n = np.bincount(x,minlength=K)\n",
    "\n",
    "n"
   ]
  },
  {
   "cell_type": "code",
   "execution_count": 300,
   "metadata": {},
   "outputs": [
    {
     "data": {
      "text/plain": [
       "Power_divergenceResult(statistic=16.56, pvalue=0.0008703471978912127)"
      ]
     },
     "execution_count": 300,
     "metadata": {},
     "output_type": "execute_result"
    }
   ],
   "source": [
    "sp.stats.chisquare(n)"
   ]
  },
  {
   "cell_type": "code",
   "execution_count": 304,
   "metadata": {},
   "outputs": [
    {
     "data": {
      "text/plain": [
       "Power_divergenceResult(statistic=25.000000000000004, pvalue=0.00013933379118562602)"
      ]
     },
     "execution_count": 304,
     "metadata": {},
     "output_type": "execute_result"
    }
   ],
   "source": [
    "sp.stats.chisquare([0,0,0,0,0,5])"
   ]
  },
  {
   "cell_type": "code",
   "execution_count": null,
   "metadata": {},
   "outputs": [],
   "source": []
  }
 ],
 "metadata": {
  "kernelspec": {
   "display_name": "Python 3",
   "language": "python",
   "name": "python3"
  },
  "language_info": {
   "codemirror_mode": {
    "name": "ipython",
    "version": 3
   },
   "file_extension": ".py",
   "mimetype": "text/x-python",
   "name": "python",
   "nbconvert_exporter": "python",
   "pygments_lexer": "ipython3",
   "version": "3.7.4"
  }
 },
 "nbformat": 4,
 "nbformat_minor": 2
}
